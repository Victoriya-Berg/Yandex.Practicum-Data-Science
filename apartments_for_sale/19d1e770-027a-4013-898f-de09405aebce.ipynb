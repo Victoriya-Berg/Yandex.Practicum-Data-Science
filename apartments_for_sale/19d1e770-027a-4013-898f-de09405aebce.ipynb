{
 "cells": [
  {
   "cell_type": "markdown",
   "metadata": {},
   "source": [
    "<div style=\"border:solid green 2px; padding: 20px\">\n",
    "<b>Привет, Виктория!</b>\n",
    "\n",
    "Меня зовут Марина К, и я буду проверять твой проект. Предлагаю общаться на «ты» :) Но если это не удобно - дай мне знать, и мы перейдем на «вы». \n",
    "\n",
    "Ты проделала большую работу над проектом, но давай сделаем его еще лучше! Ниже ты найдешь мои комментарии - пожалуйста, не перемещай, не изменяй и не удаляй их. Я буду использовать цветовую разметку:\n",
    "\n",
    "<div class=\"alert alert-danger\">\n",
    "<b>Комментарии ревьюера:</b>🛑 Так выделены самые важные замечания. Без их отработки проект не будет принят. </div>\n",
    "\n",
    "<div class=\"alert alert-warning\">\n",
    "<b>Комментарии ревьюера:</b>😐 Так выделены небольшие замечания. Одно-два таких замечания в проекте допустимы, но если их будет больше - тебе будет необходимо внести исправления.  </div>\n",
    "\n",
    "<div class=\"alert alert-success\">\n",
    "<b>Комментарии ревьюера:</b>💚 Так я выделяю все остальные комментарии, твои удачные решения, комментарии по твоим промежуточным выводам и даю подсказки, как можно улучшить твоё решение.</div>\n",
    "\n",
    "Давай работать над проектом в диалоге: если ты что-то меняешь в проекте или отвечаешь на мои комментарии — пиши об этом. Мне будет легче отследить изменения, если ты выделишь свои комментарии:\n",
    "<div class=\"alert alert-info\"> <b>Комментарии студента:</b> Например, вот так.</div>\n",
    "\n",
    "Всё это поможет выполнить повторную проверку твоего проекта оперативнее. Если будут какие-нибудь вопросы по моим комментариям, пиши, будем разбираться вместе :)"
   ]
  },
  {
   "cell_type": "markdown",
   "metadata": {},
   "source": [
    "<div class=\"alert alert-success\">\n",
    "<b>Комментарии ревьюера V2:</b>💚  Мои новые комментарии будут с пометкой V2.</div>"
   ]
  },
  {
   "cell_type": "markdown",
   "metadata": {
    "id": "E0vqbgi9ay0H"
   },
   "source": [
    "# Яндекс.Музыка"
   ]
  },
  {
   "cell_type": "markdown",
   "metadata": {
    "id": "VUC88oWjTJw2"
   },
   "source": [
    "Сравнение Москвы и Петербурга окружено мифами. Например:\n",
    " * Москва — мегаполис, подчинённый жёсткому ритму рабочей недели;\n",
    " * Петербург — культурная столица, со своими вкусами.\n",
    "\n",
    "На данных Яндекс.Музыки вы сравните поведение пользователей двух столиц.\n",
    "\n",
    "**Цель исследования** — проверьте три гипотезы:\n",
    "1. Активность пользователей зависит от дня недели. Причём в Москве и Петербурге это проявляется по-разному.\n",
    "2. В понедельник утром в Москве преобладают одни жанры, а в Петербурге — другие. Так же и вечером пятницы преобладают разные жанры — в зависимости от города. \n",
    "3. Москва и Петербург предпочитают разные жанры музыки. В Москве чаще слушают поп-музыку, в Петербурге — русский рэп.\n",
    "\n",
    "**Ход исследования**\n",
    "\n",
    "Данные о поведении пользователей вы получите из файла `yandex_music_project.csv`. О качестве данных ничего не известно. Поэтому перед проверкой гипотез понадобится обзор данных. \n",
    "\n",
    "Вы проверите данные на ошибки и оцените их влияние на исследование. Затем, на этапе предобработки вы поищете возможность исправить самые критичные ошибки данных.\n",
    " \n",
    "Таким образом, исследование пройдёт в три этапа:\n",
    " 1. Обзор данных.\n",
    " 2. Предобработка данных.\n",
    " 3. Проверка гипотез.\n",
    "\n"
   ]
  },
  {
   "cell_type": "markdown",
   "metadata": {},
   "source": [
    "<div class=\"alert alert-success\">\n",
    "<b>Комментарии ревьюера:</b>💚 Очень хорошее начало проекта. Кратко описана задача, отдельно выделена цель исследования, сделан план. </div>"
   ]
  },
  {
   "cell_type": "markdown",
   "metadata": {
    "id": "Ml1hmfXC_Zcs"
   },
   "source": [
    "## Обзор данных\n",
    "\n",
    "Составьте первое представление о данных Яндекс.Музыки.\n",
    "\n",
    "\n"
   ]
  },
  {
   "cell_type": "markdown",
   "metadata": {
    "id": "57eAOGIz_Zcs"
   },
   "source": [
    "Основной инструмент аналитика — `pandas`. Импортируйте эту библиотеку."
   ]
  },
  {
   "cell_type": "code",
   "execution_count": 2,
   "metadata": {
    "id": "AXN7PHPN_Zcs"
   },
   "outputs": [],
   "source": [
    "import pandas as pd"
   ]
  },
  {
   "cell_type": "markdown",
   "metadata": {},
   "source": [
    "<div class=\"alert alert-success\">\n",
    "<b>Комментарии ревьюера:</b>💚  Отлично, что ты используешь сокращение pd для Pandas, это общепринятое сокращение для этой библиотеки для удобной дальнейшей работы. </div>"
   ]
  },
  {
   "cell_type": "markdown",
   "metadata": {
    "id": "SG23P8tt_Zcs"
   },
   "source": [
    "Прочитайте файл `yandex_music_project.csv` из папки `/datasets` и сохраните его в переменной `df`:"
   ]
  },
  {
   "cell_type": "code",
   "execution_count": 3,
   "metadata": {
    "id": "fFVu7vqh_Zct"
   },
   "outputs": [],
   "source": [
    "df = pd.read_csv('/datasets/yandex_music_project.csv')"
   ]
  },
  {
   "cell_type": "markdown",
   "metadata": {},
   "source": [
    "<div class=\"alert alert-success\">\n",
    "<b>Комментарии ревьюера:</b>💚  Указан правильный путь к файлу: слэш в начале пути очень важен, так как указывает, что нужно искать файл в корневой папке. </div> "
   ]
  },
  {
   "cell_type": "markdown",
   "metadata": {
    "id": "rDoOMd3uTqnZ"
   },
   "source": [
    "Выведите на экран первые десять строк таблицы:"
   ]
  },
  {
   "cell_type": "code",
   "execution_count": 4,
   "metadata": {
    "id": "oWTVX3gW_Zct"
   },
   "outputs": [
    {
     "data": {
      "text/html": [
       "<div>\n",
       "<style scoped>\n",
       "    .dataframe tbody tr th:only-of-type {\n",
       "        vertical-align: middle;\n",
       "    }\n",
       "\n",
       "    .dataframe tbody tr th {\n",
       "        vertical-align: top;\n",
       "    }\n",
       "\n",
       "    .dataframe thead th {\n",
       "        text-align: right;\n",
       "    }\n",
       "</style>\n",
       "<table border=\"1\" class=\"dataframe\">\n",
       "  <thead>\n",
       "    <tr style=\"text-align: right;\">\n",
       "      <th></th>\n",
       "      <th>userID</th>\n",
       "      <th>Track</th>\n",
       "      <th>artist</th>\n",
       "      <th>genre</th>\n",
       "      <th>City</th>\n",
       "      <th>time</th>\n",
       "      <th>Day</th>\n",
       "    </tr>\n",
       "  </thead>\n",
       "  <tbody>\n",
       "    <tr>\n",
       "      <td>0</td>\n",
       "      <td>FFB692EC</td>\n",
       "      <td>Kamigata To Boots</td>\n",
       "      <td>The Mass Missile</td>\n",
       "      <td>rock</td>\n",
       "      <td>Saint-Petersburg</td>\n",
       "      <td>20:28:33</td>\n",
       "      <td>Wednesday</td>\n",
       "    </tr>\n",
       "    <tr>\n",
       "      <td>1</td>\n",
       "      <td>55204538</td>\n",
       "      <td>Delayed Because of Accident</td>\n",
       "      <td>Andreas Rönnberg</td>\n",
       "      <td>rock</td>\n",
       "      <td>Moscow</td>\n",
       "      <td>14:07:09</td>\n",
       "      <td>Friday</td>\n",
       "    </tr>\n",
       "    <tr>\n",
       "      <td>2</td>\n",
       "      <td>20EC38</td>\n",
       "      <td>Funiculì funiculà</td>\n",
       "      <td>Mario Lanza</td>\n",
       "      <td>pop</td>\n",
       "      <td>Saint-Petersburg</td>\n",
       "      <td>20:58:07</td>\n",
       "      <td>Wednesday</td>\n",
       "    </tr>\n",
       "    <tr>\n",
       "      <td>3</td>\n",
       "      <td>A3DD03C9</td>\n",
       "      <td>Dragons in the Sunset</td>\n",
       "      <td>Fire + Ice</td>\n",
       "      <td>folk</td>\n",
       "      <td>Saint-Petersburg</td>\n",
       "      <td>08:37:09</td>\n",
       "      <td>Monday</td>\n",
       "    </tr>\n",
       "    <tr>\n",
       "      <td>4</td>\n",
       "      <td>E2DC1FAE</td>\n",
       "      <td>Soul People</td>\n",
       "      <td>Space Echo</td>\n",
       "      <td>dance</td>\n",
       "      <td>Moscow</td>\n",
       "      <td>08:34:34</td>\n",
       "      <td>Monday</td>\n",
       "    </tr>\n",
       "    <tr>\n",
       "      <td>5</td>\n",
       "      <td>842029A1</td>\n",
       "      <td>Преданная</td>\n",
       "      <td>IMPERVTOR</td>\n",
       "      <td>rusrap</td>\n",
       "      <td>Saint-Petersburg</td>\n",
       "      <td>13:09:41</td>\n",
       "      <td>Friday</td>\n",
       "    </tr>\n",
       "    <tr>\n",
       "      <td>6</td>\n",
       "      <td>4CB90AA5</td>\n",
       "      <td>True</td>\n",
       "      <td>Roman Messer</td>\n",
       "      <td>dance</td>\n",
       "      <td>Moscow</td>\n",
       "      <td>13:00:07</td>\n",
       "      <td>Wednesday</td>\n",
       "    </tr>\n",
       "    <tr>\n",
       "      <td>7</td>\n",
       "      <td>F03E1C1F</td>\n",
       "      <td>Feeling This Way</td>\n",
       "      <td>Polina Griffith</td>\n",
       "      <td>dance</td>\n",
       "      <td>Moscow</td>\n",
       "      <td>20:47:49</td>\n",
       "      <td>Wednesday</td>\n",
       "    </tr>\n",
       "    <tr>\n",
       "      <td>8</td>\n",
       "      <td>8FA1D3BE</td>\n",
       "      <td>И вновь продолжается бой</td>\n",
       "      <td>NaN</td>\n",
       "      <td>ruspop</td>\n",
       "      <td>Moscow</td>\n",
       "      <td>09:17:40</td>\n",
       "      <td>Friday</td>\n",
       "    </tr>\n",
       "    <tr>\n",
       "      <td>9</td>\n",
       "      <td>E772D5C0</td>\n",
       "      <td>Pessimist</td>\n",
       "      <td>NaN</td>\n",
       "      <td>dance</td>\n",
       "      <td>Saint-Petersburg</td>\n",
       "      <td>21:20:49</td>\n",
       "      <td>Wednesday</td>\n",
       "    </tr>\n",
       "  </tbody>\n",
       "</table>\n",
       "</div>"
      ],
      "text/plain": [
       "     userID                        Track            artist   genre  \\\n",
       "0  FFB692EC            Kamigata To Boots  The Mass Missile    rock   \n",
       "1  55204538  Delayed Because of Accident  Andreas Rönnberg    rock   \n",
       "2    20EC38            Funiculì funiculà       Mario Lanza     pop   \n",
       "3  A3DD03C9        Dragons in the Sunset        Fire + Ice    folk   \n",
       "4  E2DC1FAE                  Soul People        Space Echo   dance   \n",
       "5  842029A1                    Преданная         IMPERVTOR  rusrap   \n",
       "6  4CB90AA5                         True      Roman Messer   dance   \n",
       "7  F03E1C1F             Feeling This Way   Polina Griffith   dance   \n",
       "8  8FA1D3BE     И вновь продолжается бой               NaN  ruspop   \n",
       "9  E772D5C0                    Pessimist               NaN   dance   \n",
       "\n",
       "             City        time        Day  \n",
       "0  Saint-Petersburg  20:28:33  Wednesday  \n",
       "1            Moscow  14:07:09     Friday  \n",
       "2  Saint-Petersburg  20:58:07  Wednesday  \n",
       "3  Saint-Petersburg  08:37:09     Monday  \n",
       "4            Moscow  08:34:34     Monday  \n",
       "5  Saint-Petersburg  13:09:41     Friday  \n",
       "6            Moscow  13:00:07  Wednesday  \n",
       "7            Moscow  20:47:49  Wednesday  \n",
       "8            Moscow  09:17:40     Friday  \n",
       "9  Saint-Petersburg  21:20:49  Wednesday  "
      ]
     },
     "metadata": {},
     "output_type": "display_data"
    }
   ],
   "source": [
    "display(df.head(10))"
   ]
  },
  {
   "cell_type": "markdown",
   "metadata": {},
   "source": [
    "<div class=\"alert alert-success\">\n",
    "<b>Комментарии ревьюера:</b>💚  Супер! Можно также в работе использовать метод tail(), который выводит последние n строк. </div>"
   ]
  },
  {
   "cell_type": "markdown",
   "metadata": {
    "id": "EO73Kwic_Zct"
   },
   "source": [
    "Одной командой получить общую информацию о таблице:"
   ]
  },
  {
   "cell_type": "code",
   "execution_count": 5,
   "metadata": {
    "id": "DSf2kIb-_Zct"
   },
   "outputs": [
    {
     "name": "stdout",
     "output_type": "stream",
     "text": [
      "<class 'pandas.core.frame.DataFrame'>\n",
      "RangeIndex: 65079 entries, 0 to 65078\n",
      "Data columns (total 7 columns):\n",
      "  userID    65079 non-null object\n",
      "Track       63848 non-null object\n",
      "artist      57876 non-null object\n",
      "genre       63881 non-null object\n",
      "  City      65079 non-null object\n",
      "time        65079 non-null object\n",
      "Day         65079 non-null object\n",
      "dtypes: object(7)\n",
      "memory usage: 3.5+ MB\n"
     ]
    }
   ],
   "source": [
    "df.info()"
   ]
  },
  {
   "cell_type": "markdown",
   "metadata": {},
   "source": [
    "<div class=\"alert alert-success\">\n",
    "<b>Комментарии ревьюера:</b>💚  Отличный выбор метода - info действительно показывает много информации о датафрейме.</div>"
   ]
  },
  {
   "cell_type": "markdown",
   "metadata": {
    "id": "TaQ2Iwbr_Zct"
   },
   "source": [
    "Итак, в таблице семь столбцов. Тип данных во всех столбцах — `object`.\n",
    "\n",
    "Согласно документации к данным:\n",
    "* `userID` — идентификатор пользователя;\n",
    "* `Track` — название трека;  \n",
    "* `artist` — имя исполнителя;\n",
    "* `genre` — название жанра;\n",
    "* `City` — город пользователя;\n",
    "* `time` — время начала прослушивания;\n",
    "* `Day` — день недели.\n",
    "\n",
    "В названиях колонок видны три нарушения стиля:\n",
    "1. Строчные буквы сочетаются с прописными.\n",
    "2. Встречаются пробелы.\n",
    "3. Найдите ещё одну проблему в названии колонок и опишите её в этом пункте.\n",
    "\n",
    "**Проблема**:\n",
    "Третья проблема заключена в несоблюдении \"змеиного\" регистра. Колонка `userID` должна быть написана в соответствии данного регистра: `user_id`\n",
    "\n",
    "Количество значений в столбцах различается. Значит, в данных есть пропущенные значения.\n"
   ]
  },
  {
   "cell_type": "markdown",
   "metadata": {},
   "source": [
    "<div class=\"alert alert-success\">\n",
    "<b>Комментарии ревьюера:</b>💚  Согласна с тобой.</div>"
   ]
  },
  {
   "cell_type": "markdown",
   "metadata": {
    "id": "MCB6-dXG_Zct"
   },
   "source": [
    "**Выводы**\n",
    "\n",
    "В каждой строке таблицы — данные о прослушанном треке. Часть колонок описывает саму композицию: название, исполнителя и жанр. Остальные данные рассказывают о пользователе: из какого он города, когда он слушал музыку. \n",
    "\n",
    "Предварительно можно утверждать, что, данных достаточно для проверки гипотез. Но встречаются пропуски в данных, а в названиях колонок — расхождения с хорошим стилем.\n",
    "\n",
    "Чтобы двигаться дальше, нужно устранить проблемы в данных."
   ]
  },
  {
   "cell_type": "markdown",
   "metadata": {
    "id": "SjYF6Ub9_Zct"
   },
   "source": [
    "## Предобработка данных\n",
    "Исправьте стиль в заголовках столбцов, исключите пропуски. Затем проверьте данные на дубликаты."
   ]
  },
  {
   "cell_type": "markdown",
   "metadata": {
    "id": "dIaKXr29_Zct"
   },
   "source": [
    "### Стиль заголовков\n",
    "Выведите на экран названия столбцов:"
   ]
  },
  {
   "cell_type": "code",
   "execution_count": 6,
   "metadata": {
    "id": "oKOTdF_Q_Zct"
   },
   "outputs": [
    {
     "data": {
      "text/plain": [
       "Index(['  userID', 'Track', 'artist', 'genre', '  City  ', 'time', 'Day'], dtype='object')"
      ]
     },
     "execution_count": 6,
     "metadata": {},
     "output_type": "execute_result"
    }
   ],
   "source": [
    "df.columns"
   ]
  },
  {
   "cell_type": "markdown",
   "metadata": {},
   "source": [
    "<div class=\"alert alert-warning\">\n",
    "<b>Комментарии ревьюера:</b>😐 \n",
    "\n",
    "<s>Для вывода столбцов на экран здесь не нужно использовать функцию print() или display(): результат и так будет выведен, так как это последняя строчка ячейки. </s></div>"
   ]
  },
  {
   "cell_type": "markdown",
   "metadata": {},
   "source": [
    "<div class=\"alert alert-info\">\n",
    "<b>Комментарии студента:</b> \n",
    "    \n",
    "Исправила, буду знать! </div>"
   ]
  },
  {
   "cell_type": "markdown",
   "metadata": {},
   "source": [
    "<div class=\"alert alert-success\">\n",
    "<b>Комментарии ревьюера V2:</b>💚  Отлично, что разобралась!</div>"
   ]
  },
  {
   "cell_type": "markdown",
   "metadata": {
    "id": "zj5534cv_Zct"
   },
   "source": [
    "Приведите названия в соответствие с хорошим стилем:\n",
    "* несколько слов в названии запишите в «змеином_регистре»,\n",
    "* все символы сделайте строчными,\n",
    "* устраните пробелы.\n",
    "\n",
    "Для этого переименуйте колонки так:\n",
    "* `'  userID'` → `'user_id'`;\n",
    "* `'Track'` → `'track'`;\n",
    "* `'  City  '` → `'city'`;\n",
    "* `'Day'` → `'day'`."
   ]
  },
  {
   "cell_type": "code",
   "execution_count": 6,
   "metadata": {
    "id": "ISlFqs5y_Zct"
   },
   "outputs": [],
   "source": [
    "df = df.rename(columns={'  userID': 'user_id', 'Track': 'track', '  City  ': 'city', 'Day': 'day'})"
   ]
  },
  {
   "cell_type": "markdown",
   "metadata": {},
   "source": [
    "<div class=\"alert alert-success\">\n",
    "<b>Комментарии ревьюера:</b>💚 Хороший выбор метода - rename сработает без ошибок, даже если изменится порядок столбцов.</div>"
   ]
  },
  {
   "cell_type": "markdown",
   "metadata": {
    "id": "1dqbh00J_Zct"
   },
   "source": [
    "Проверьте результат. Для этого ещё раз выведите на экран названия столбцов:"
   ]
  },
  {
   "cell_type": "code",
   "execution_count": 7,
   "metadata": {
    "id": "d4NOAmTW_Zct"
   },
   "outputs": [
    {
     "name": "stdout",
     "output_type": "stream",
     "text": [
      "Index(['user_id', 'track', 'artist', 'genre', 'city', 'time', 'day'], dtype='object')\n"
     ]
    }
   ],
   "source": [
    "print(df.columns)"
   ]
  },
  {
   "cell_type": "markdown",
   "metadata": {
    "id": "5ISfbcfY_Zct"
   },
   "source": [
    "### Пропуски значений\n",
    "Сначала посчитайте, сколько в таблице пропущенных значений. Для этого достаточно двух методов `pandas`:"
   ]
  },
  {
   "cell_type": "code",
   "execution_count": 8,
   "metadata": {
    "id": "RskX29qr_Zct"
   },
   "outputs": [
    {
     "name": "stdout",
     "output_type": "stream",
     "text": [
      "user_id       0\n",
      "track      1231\n",
      "artist     7203\n",
      "genre      1198\n",
      "city          0\n",
      "time          0\n",
      "day           0\n",
      "dtype: int64\n"
     ]
    }
   ],
   "source": [
    "print(df.isna().sum())"
   ]
  },
  {
   "cell_type": "markdown",
   "metadata": {},
   "source": [
    "<div class=\"alert alert-success\">\n",
    "<b>Комментарии ревьюера:</b>💚  Выбран метод isna() для нахождения пропущенных значений, это отлично! На самом деле, isnull() и isna() делают одно и то же, но использование isna() предпочтительнее.\n",
    "\n",
    "На всякий случай поясню по поводу использования функций для вывода: display используется для вывода таблиц, print переводит вывод в строку, поэтому практически не используется.\n",
    "\n",
    "В данном случае так же можно не использовать print()</div>"
   ]
  },
  {
   "cell_type": "markdown",
   "metadata": {
    "id": "qubhgnlO_Zct"
   },
   "source": [
    "Не все пропущенные значения влияют на исследование. Так в `track` и `artist` пропуски не важны для вашей работы. Достаточно заменить их явными обозначениями.\n",
    "\n",
    "Но пропуски в `genre` могут помешать сравнению музыкальных вкусов в Москве и Санкт-Петербурге. На практике было бы правильно установить причину пропусков и восстановить данные. Такой возможности нет в учебном проекте. Придётся:\n",
    "* заполнить и эти пропуски явными обозначениями,\n",
    "* оценить, насколько они повредят расчётам. "
   ]
  },
  {
   "cell_type": "markdown",
   "metadata": {
    "id": "fSv2laPA_Zct"
   },
   "source": [
    "Замените пропущенные значения в столбцах `track`, `artist` и `genre` на строку `'unknown'`. Для этого создайте список `columns_to_replace`, переберите его элементы циклом `for` и для каждого столбца выполните замену пропущенных значений:"
   ]
  },
  {
   "cell_type": "code",
   "execution_count": 9,
   "metadata": {
    "id": "KplB5qWs_Zct"
   },
   "outputs": [],
   "source": [
    "columns_to_replace = ['track', 'artist', 'genre']\n",
    "\n",
    "for column in columns_to_replace:\n",
    "    df[column] = df[column].fillna('unknown')"
   ]
  },
  {
   "cell_type": "markdown",
   "metadata": {},
   "source": [
    "<div class=\"alert alert-success\">\n",
    "<b>Комментарии ревьюера:</b>💚  Список columns_to_replace сформирован верно, цикл отработал без ошибок.</div>"
   ]
  },
  {
   "cell_type": "markdown",
   "metadata": {
    "id": "Ilsm-MZo_Zct"
   },
   "source": [
    "Убедитесь, что в таблице не осталось пропусков. Для этого ещё раз посчитайте пропущенные значения."
   ]
  },
  {
   "cell_type": "code",
   "execution_count": 10,
   "metadata": {
    "id": "Tq4nYRX4_Zct"
   },
   "outputs": [
    {
     "name": "stdout",
     "output_type": "stream",
     "text": [
      "user_id    0\n",
      "track      0\n",
      "artist     0\n",
      "genre      0\n",
      "city       0\n",
      "time       0\n",
      "day        0\n",
      "dtype: int64\n"
     ]
    }
   ],
   "source": [
    "print(df.isna().sum())"
   ]
  },
  {
   "cell_type": "markdown",
   "metadata": {
    "id": "BWKRtBJ3_Zct"
   },
   "source": [
    "### Дубликаты\n",
    "Посчитайте явные дубликаты в таблице одной командой:"
   ]
  },
  {
   "cell_type": "code",
   "execution_count": 11,
   "metadata": {
    "id": "36eES_S0_Zct"
   },
   "outputs": [
    {
     "name": "stdout",
     "output_type": "stream",
     "text": [
      "3826\n"
     ]
    }
   ],
   "source": [
    "print(df.duplicated().sum())"
   ]
  },
  {
   "cell_type": "markdown",
   "metadata": {},
   "source": [
    "<div class=\"alert alert-success\">\n",
    "<b>Комментарии ревьюера:</b>💚  Дубликаты верно найдены и посчитаны оптимальными методами.</div>"
   ]
  },
  {
   "cell_type": "markdown",
   "metadata": {
    "id": "Ot25h6XR_Zct"
   },
   "source": [
    "Вызовите специальный метод `pandas`, чтобы удалить явные дубликаты:"
   ]
  },
  {
   "cell_type": "code",
   "execution_count": 12,
   "metadata": {
    "id": "exFHq6tt_Zct"
   },
   "outputs": [],
   "source": [
    "df = df.drop_duplicates().reset_index(drop=True)"
   ]
  },
  {
   "cell_type": "markdown",
   "metadata": {},
   "source": [
    "<div class=\"alert alert-success\">\n",
    "<b>Комментарии ревьюера:</b>💚  Все отлично. Дубликаты удалены. drop_duplicates() использован верно. Молодец, что поработала с индексами </div>"
   ]
  },
  {
   "cell_type": "markdown",
   "metadata": {
    "id": "Im2YwBEG_Zct"
   },
   "source": [
    "Ещё раз посчитайте явные дубликаты в таблице — убедитесь, что полностью от них избавились:"
   ]
  },
  {
   "cell_type": "code",
   "execution_count": 13,
   "metadata": {
    "id": "-8PuNWQ0_Zct"
   },
   "outputs": [
    {
     "name": "stdout",
     "output_type": "stream",
     "text": [
      "0\n"
     ]
    }
   ],
   "source": [
    "print(df.duplicated().sum())"
   ]
  },
  {
   "cell_type": "markdown",
   "metadata": {
    "id": "QlFBsxAr_Zct"
   },
   "source": [
    "Теперь избавьтесь от неявных дубликатов в колонке `genre`. Например, название одного и того же жанра может быть записано немного по-разному. Такие ошибки тоже повлияют на результат исследования."
   ]
  },
  {
   "cell_type": "markdown",
   "metadata": {
    "id": "eSjWwsOh_Zct"
   },
   "source": [
    "Выведите на экран список уникальных названий жанров, отсортированный в алфавитном порядке. Для этого:\n",
    "* извлеките нужный столбец датафрейма, \n",
    "* примените к нему метод сортировки,\n",
    "* для отсортированного столбца вызовите метод, который вернёт уникальные значения из столбца."
   ]
  },
  {
   "cell_type": "code",
   "execution_count": 12,
   "metadata": {
    "id": "JIUcqzZN_Zct"
   },
   "outputs": [
    {
     "name": "stdout",
     "output_type": "stream",
     "text": [
      "['acid' 'acoustic' 'action' 'adult' 'africa' 'afrikaans' 'alternative'\n",
      " 'alternativepunk' 'ambient' 'americana' 'animated' 'anime' 'arabesk'\n",
      " 'arabic' 'arena' 'argentinetango' 'art' 'audiobook' 'author' 'avantgarde'\n",
      " 'axé' 'baile' 'balkan' 'beats' 'bigroom' 'black' 'bluegrass' 'blues'\n",
      " 'bollywood' 'bossa' 'brazilian' 'breakbeat' 'breaks' 'broadway'\n",
      " 'cantautori' 'cantopop' 'canzone' 'caribbean' 'caucasian' 'celtic'\n",
      " 'chamber' 'chanson' 'children' 'chill' 'chinese' 'choral' 'christian'\n",
      " 'christmas' 'classical' 'classicmetal' 'club' 'colombian' 'comedy'\n",
      " 'conjazz' 'contemporary' 'country' 'cuban' 'dance' 'dancehall' 'dancepop'\n",
      " 'dark' 'death' 'deep' 'deutschrock' 'deutschspr' 'dirty' 'disco' 'dnb'\n",
      " 'documentary' 'downbeat' 'downtempo' 'drum' 'dub' 'dubstep' 'eastern'\n",
      " 'easy' 'electronic' 'electropop' 'emo' 'entehno' 'epicmetal' 'estrada'\n",
      " 'ethnic' 'eurofolk' 'european' 'experimental' 'extrememetal' 'fado'\n",
      " 'fairytail' 'film' 'fitness' 'flamenco' 'folk' 'folklore' 'folkmetal'\n",
      " 'folkrock' 'folktronica' 'forró' 'frankreich' 'französisch' 'french'\n",
      " 'funk' 'future' 'gangsta' 'garage' 'german' 'ghazal' 'gitarre' 'glitch'\n",
      " 'gospel' 'gothic' 'grime' 'grunge' 'gypsy' 'handsup' \"hard'n'heavy\"\n",
      " 'hardcore' 'hardstyle' 'hardtechno' 'hip' 'hip-hop' 'hiphop' 'historisch'\n",
      " 'holiday' 'hop' 'horror' 'house' 'hymn' 'idm' 'independent' 'indian'\n",
      " 'indie' 'indipop' 'industrial' 'inspirational' 'instrumental'\n",
      " 'international' 'irish' 'jam' 'japanese' 'jazz' 'jewish' 'jpop' 'jungle'\n",
      " 'k-pop' 'karadeniz' 'karaoke' 'kayokyoku' 'korean' 'laiko' 'latin'\n",
      " 'latino' 'leftfield' 'local' 'lounge' 'loungeelectronic' 'lovers'\n",
      " 'malaysian' 'mandopop' 'marschmusik' 'meditative' 'mediterranean'\n",
      " 'melodic' 'metal' 'metalcore' 'mexican' 'middle' 'minimal'\n",
      " 'miscellaneous' 'modern' 'mood' 'mpb' 'muslim' 'native' 'neoklassik'\n",
      " 'neue' 'new' 'newage' 'newwave' 'nu' 'nujazz' 'numetal' 'oceania' 'old'\n",
      " 'opera' 'orchestral' 'other' 'piano' 'podcasts' 'pop' 'popdance'\n",
      " 'popelectronic' 'popeurodance' 'poprussian' 'post' 'posthardcore'\n",
      " 'postrock' 'power' 'progmetal' 'progressive' 'psychedelic' 'punjabi'\n",
      " 'punk' 'quebecois' 'ragga' 'ram' 'rancheras' 'rap' 'rave' 'reggae'\n",
      " 'reggaeton' 'regional' 'relax' 'religious' 'retro' 'rhythm' 'rnb' 'rnr'\n",
      " 'rock' 'rockabilly' 'rockalternative' 'rockindie' 'rockother' 'romance'\n",
      " 'roots' 'ruspop' 'rusrap' 'rusrock' 'russian' 'salsa' 'samba' 'scenic'\n",
      " 'schlager' 'self' 'sertanejo' 'shanson' 'shoegazing' 'showtunes' 'singer'\n",
      " 'ska' 'skarock' 'slow' 'smooth' 'soft' 'soul' 'soulful' 'sound'\n",
      " 'soundtrack' 'southern' 'specialty' 'speech' 'spiritual' 'sport'\n",
      " 'stonerrock' 'surf' 'swing' 'synthpop' 'synthrock' 'sängerportrait'\n",
      " 'tango' 'tanzorchester' 'taraftar' 'tatar' 'tech' 'techno' 'teen'\n",
      " 'thrash' 'top' 'traditional' 'tradjazz' 'trance' 'tribal' 'trip'\n",
      " 'triphop' 'tropical' 'türk' 'türkçe' 'ukrrock' 'urban' 'uzbek' 'variété'\n",
      " 'vi' 'videogame' 'vocal' 'western' 'world' 'worldbeat' 'ïîï'\n",
      " 'электроника' nan]\n"
     ]
    }
   ],
   "source": [
    "print(df['genre'].sort_values().unique())"
   ]
  },
  {
   "cell_type": "markdown",
   "metadata": {},
   "source": [
    "<div class=\"alert alert-warning\">\n",
    "<b>Комментарии ревьюера:</b>😐 <s>Молодец, что вывела список уникальных значений, только его лучше отсортировать. Так будет удобнее с ним работать.\n",
    "\n",
    "Используем .sort_values() </s></div>"
   ]
  },
  {
   "cell_type": "markdown",
   "metadata": {},
   "source": [
    "<div class=\"alert alert-info\">\n",
    "<b>Коментарии студента:</b> Совсем забыла, так действительно удобнее)\n",
    "</div>    "
   ]
  },
  {
   "cell_type": "markdown",
   "metadata": {},
   "source": [
    "<div class=\"alert alert-success\">\n",
    "<b>Комментарии ревьюера V2:</b>💚  👍</div>"
   ]
  },
  {
   "cell_type": "markdown",
   "metadata": {
    "id": "qej-Qmuo_Zct"
   },
   "source": [
    "Просмотрите список и найдите неявные дубликаты названия `hiphop`. Это могут быть названия с ошибками или альтернативные названия того же жанра.\n",
    "\n",
    "Вы увидите следующие неявные дубликаты:\n",
    "* *hip*,\n",
    "* *hop*,\n",
    "* *hip-hop*.\n",
    "\n",
    "Чтобы очистить от них таблицу, напишите функцию `replace_wrong_genres()` с двумя параметрами: \n",
    "* `wrong_genres` — список дубликатов,\n",
    "* `correct_genre` — строка с правильным значением.\n",
    "\n",
    "Функция должна исправить колонку `genre` в таблице `df`: заменить каждое значение из списка `wrong_genres` на значение из `correct_genre`."
   ]
  },
  {
   "cell_type": "code",
   "execution_count": 15,
   "metadata": {
    "id": "ErNDkmns_Zct"
   },
   "outputs": [],
   "source": [
    "def replace_wrong_genres(wrong_genres, correct_genre):\n",
    "    for wrong_genre in wrong_genres:\n",
    "        df['genre'] = df['genre'].replace(wrong_genre, correct_genre)"
   ]
  },
  {
   "cell_type": "markdown",
   "metadata": {
    "id": "aDoBJxbA_Zct"
   },
   "source": [
    "Вызовите `replace_wrong_genres()` и передайте ей такие аргументы, чтобы она устранила неявные дубликаты: вместо `hip`, `hop` и `hip-hop` в таблице должно быть значение `hiphop`:"
   ]
  },
  {
   "cell_type": "code",
   "execution_count": 16,
   "metadata": {
    "id": "YN5i2hpmSo09"
   },
   "outputs": [],
   "source": [
    "duplicates = ['hip', 'hop', 'hip-hop']\n",
    "\n",
    "replace_wrong_genres(duplicates, 'hiphop')"
   ]
  },
  {
   "cell_type": "markdown",
   "metadata": {},
   "source": [
    "<div class=\"alert alert-success\">\n",
    "<b>Комментарии ревьюера:</b>💚 Можно нашей функции передавать параметры напрямую:\n",
    "    \n",
    "replace_wrong_genres(['hip', 'hop', 'hip-hop'], 'hiphop').\n",
    "    \n",
    "Также довольно важный момент: если сами создаем переменные, то им лучше давать названия не похожие на ключевые слова.\n",
    "    \n",
    "    \n",
    "duplicates - duplicated легко перепутать. Можно, например, так: duplicates_to_remove. \n",
    "</div>"
   ]
  },
  {
   "cell_type": "markdown",
   "metadata": {},
   "source": [
    "<div class=\"alert alert-info\">\n",
    "<b>Коментарии студента:</b> Хорошее замечание, буду помнить.\n",
    "</div>    "
   ]
  },
  {
   "cell_type": "markdown",
   "metadata": {
    "id": "zQKF16_RG15m"
   },
   "source": [
    "Проверьте, что заменили неправильные названия:\n",
    "\n",
    "*   hip\n",
    "*   hop\n",
    "*   hip-hop\n",
    "\n",
    "Выведите отсортированный список уникальных значений столбца `genre`:"
   ]
  },
  {
   "cell_type": "code",
   "execution_count": 13,
   "metadata": {
    "id": "wvixALnFG15m"
   },
   "outputs": [
    {
     "name": "stdout",
     "output_type": "stream",
     "text": [
      "['acid' 'acoustic' 'action' 'adult' 'africa' 'afrikaans' 'alternative'\n",
      " 'alternativepunk' 'ambient' 'americana' 'animated' 'anime' 'arabesk'\n",
      " 'arabic' 'arena' 'argentinetango' 'art' 'audiobook' 'author' 'avantgarde'\n",
      " 'axé' 'baile' 'balkan' 'beats' 'bigroom' 'black' 'bluegrass' 'blues'\n",
      " 'bollywood' 'bossa' 'brazilian' 'breakbeat' 'breaks' 'broadway'\n",
      " 'cantautori' 'cantopop' 'canzone' 'caribbean' 'caucasian' 'celtic'\n",
      " 'chamber' 'chanson' 'children' 'chill' 'chinese' 'choral' 'christian'\n",
      " 'christmas' 'classical' 'classicmetal' 'club' 'colombian' 'comedy'\n",
      " 'conjazz' 'contemporary' 'country' 'cuban' 'dance' 'dancehall' 'dancepop'\n",
      " 'dark' 'death' 'deep' 'deutschrock' 'deutschspr' 'dirty' 'disco' 'dnb'\n",
      " 'documentary' 'downbeat' 'downtempo' 'drum' 'dub' 'dubstep' 'eastern'\n",
      " 'easy' 'electronic' 'electropop' 'emo' 'entehno' 'epicmetal' 'estrada'\n",
      " 'ethnic' 'eurofolk' 'european' 'experimental' 'extrememetal' 'fado'\n",
      " 'fairytail' 'film' 'fitness' 'flamenco' 'folk' 'folklore' 'folkmetal'\n",
      " 'folkrock' 'folktronica' 'forró' 'frankreich' 'französisch' 'french'\n",
      " 'funk' 'future' 'gangsta' 'garage' 'german' 'ghazal' 'gitarre' 'glitch'\n",
      " 'gospel' 'gothic' 'grime' 'grunge' 'gypsy' 'handsup' \"hard'n'heavy\"\n",
      " 'hardcore' 'hardstyle' 'hardtechno' 'hip' 'hip-hop' 'hiphop' 'historisch'\n",
      " 'holiday' 'hop' 'horror' 'house' 'hymn' 'idm' 'independent' 'indian'\n",
      " 'indie' 'indipop' 'industrial' 'inspirational' 'instrumental'\n",
      " 'international' 'irish' 'jam' 'japanese' 'jazz' 'jewish' 'jpop' 'jungle'\n",
      " 'k-pop' 'karadeniz' 'karaoke' 'kayokyoku' 'korean' 'laiko' 'latin'\n",
      " 'latino' 'leftfield' 'local' 'lounge' 'loungeelectronic' 'lovers'\n",
      " 'malaysian' 'mandopop' 'marschmusik' 'meditative' 'mediterranean'\n",
      " 'melodic' 'metal' 'metalcore' 'mexican' 'middle' 'minimal'\n",
      " 'miscellaneous' 'modern' 'mood' 'mpb' 'muslim' 'native' 'neoklassik'\n",
      " 'neue' 'new' 'newage' 'newwave' 'nu' 'nujazz' 'numetal' 'oceania' 'old'\n",
      " 'opera' 'orchestral' 'other' 'piano' 'podcasts' 'pop' 'popdance'\n",
      " 'popelectronic' 'popeurodance' 'poprussian' 'post' 'posthardcore'\n",
      " 'postrock' 'power' 'progmetal' 'progressive' 'psychedelic' 'punjabi'\n",
      " 'punk' 'quebecois' 'ragga' 'ram' 'rancheras' 'rap' 'rave' 'reggae'\n",
      " 'reggaeton' 'regional' 'relax' 'religious' 'retro' 'rhythm' 'rnb' 'rnr'\n",
      " 'rock' 'rockabilly' 'rockalternative' 'rockindie' 'rockother' 'romance'\n",
      " 'roots' 'ruspop' 'rusrap' 'rusrock' 'russian' 'salsa' 'samba' 'scenic'\n",
      " 'schlager' 'self' 'sertanejo' 'shanson' 'shoegazing' 'showtunes' 'singer'\n",
      " 'ska' 'skarock' 'slow' 'smooth' 'soft' 'soul' 'soulful' 'sound'\n",
      " 'soundtrack' 'southern' 'specialty' 'speech' 'spiritual' 'sport'\n",
      " 'stonerrock' 'surf' 'swing' 'synthpop' 'synthrock' 'sängerportrait'\n",
      " 'tango' 'tanzorchester' 'taraftar' 'tatar' 'tech' 'techno' 'teen'\n",
      " 'thrash' 'top' 'traditional' 'tradjazz' 'trance' 'tribal' 'trip'\n",
      " 'triphop' 'tropical' 'türk' 'türkçe' 'ukrrock' 'urban' 'uzbek' 'variété'\n",
      " 'vi' 'videogame' 'vocal' 'western' 'world' 'worldbeat' 'ïîï'\n",
      " 'электроника' nan]\n"
     ]
    }
   ],
   "source": [
    "print(df['genre'].sort_values().unique())"
   ]
  },
  {
   "cell_type": "markdown",
   "metadata": {},
   "source": [
    "<div class=\"alert alert-warning\">\n",
    "<b>Комментарии ревьюера:</b>😐 <s>Здесь нам также будет легче проверить наш результат, если список будет отсортирован  </s> </div>"
   ]
  },
  {
   "cell_type": "markdown",
   "metadata": {},
   "source": [
    "<div class=\"alert alert-info\">\n",
    "<b>Коментарии студента:</b> Отсортировала.\n",
    "</div>    "
   ]
  },
  {
   "cell_type": "markdown",
   "metadata": {
    "id": "jz6a9-7HQUDd"
   },
   "source": [
    "**Выводы**\n",
    "\n",
    "Предобработка обнаружила три проблемы в данных:\n",
    "\n",
    "- нарушения в стиле заголовков,\n",
    "- пропущенные значения,\n",
    "- дубликаты — явные и неявные.\n",
    "\n",
    "Вы исправили заголовки, чтобы упростить работу с таблицей. Без дубликатов исследование станет более точным.\n",
    "\n",
    "Пропущенные значения вы заменили на `'unknown'`. Ещё предстоит увидеть, не повредят ли исследованию пропуски в колонке `genre`.\n",
    "\n",
    "Теперь можно перейти к проверке гипотез. "
   ]
  },
  {
   "cell_type": "markdown",
   "metadata": {
    "id": "WttZHXH0SqKk"
   },
   "source": [
    "## Проверка гипотез"
   ]
  },
  {
   "cell_type": "markdown",
   "metadata": {
    "id": "Im936VVi_Zcu"
   },
   "source": [
    "### Сравнение поведения пользователей двух столиц"
   ]
  },
  {
   "cell_type": "markdown",
   "metadata": {
    "id": "nwt_MuaL_Zcu"
   },
   "source": [
    "Первая гипотеза утверждает, что пользователи по-разному слушают музыку в Москве и Санкт-Петербурге. Проверьте это предположение по данным о трёх днях недели — понедельнике, среде и пятнице. Для этого:\n",
    "\n",
    "* Разделите пользователей Москвы и Санкт-Петербурга\n",
    "* Сравните, сколько треков послушала каждая группа пользователей в понедельник, среду и пятницу.\n"
   ]
  },
  {
   "cell_type": "markdown",
   "metadata": {
    "id": "8Dw_YMmT_Zcu"
   },
   "source": [
    "Для тренировки сначала выполните каждый из расчётов по отдельности. \n",
    "\n",
    "Оцените активность пользователей в каждом городе. Сгруппируйте данные по городу и посчитайте прослушивания в каждой группе.\n",
    "\n"
   ]
  },
  {
   "cell_type": "code",
   "execution_count": 18,
   "metadata": {
    "id": "0_Qs96oh_Zcu"
   },
   "outputs": [
    {
     "name": "stdout",
     "output_type": "stream",
     "text": [
      "city\n",
      "Moscow              42741\n",
      "Saint-Petersburg    18512\n",
      "Name: user_id, dtype: int64\n"
     ]
    }
   ],
   "source": [
    "print(df.groupby('city')['user_id'].count())"
   ]
  },
  {
   "cell_type": "markdown",
   "metadata": {
    "id": "dzli3w8o_Zcu"
   },
   "source": [
    "В Москве прослушиваний больше, чем в Петербурге. Из этого не следует, что московские пользователи чаще слушают музыку. Просто самих пользователей в Москве больше.\n",
    "\n",
    "Теперь сгруппируйте данные по дню недели и подсчитайте прослушивания в понедельник, среду и пятницу. Учтите, что в данных есть информация только о прослушиваниях только за эти дни.\n"
   ]
  },
  {
   "cell_type": "code",
   "execution_count": 19,
   "metadata": {
    "id": "uZMKjiJz_Zcu"
   },
   "outputs": [
    {
     "name": "stdout",
     "output_type": "stream",
     "text": [
      "day\n",
      "Friday       21840\n",
      "Monday       21354\n",
      "Wednesday    18059\n",
      "Name: user_id, dtype: int64\n"
     ]
    }
   ],
   "source": [
    "print(df.groupby('day')['user_id'].count())"
   ]
  },
  {
   "cell_type": "markdown",
   "metadata": {},
   "source": [
    "<div class=\"alert alert-success\">\n",
    "<b>Комментарии ревьюера:</b>💚 Группировка выполнена верно!\n",
    "</div"
   ]
  },
  {
   "cell_type": "markdown",
   "metadata": {
    "id": "cC2tNrlL_Zcu"
   },
   "source": [
    "В среднем пользователи из двух городов менее активны по средам. Но картина может измениться, если рассмотреть каждый город в отдельности."
   ]
  },
  {
   "cell_type": "markdown",
   "metadata": {
    "id": "POzs8bGa_Zcu"
   },
   "source": [
    "Вы видели, как работает группировка по городу и по дням недели. Теперь напишите функцию, которая объединит два эти расчёта.\n",
    "\n",
    "Создайте функцию `number_tracks()`, которая посчитает прослушивания для заданного дня и города. Ей понадобятся два параметра:\n",
    "* день недели,\n",
    "* название города.\n",
    "\n",
    "В функции сохраните в переменную строки исходной таблицы, у которых значение:\n",
    "  * в колонке `day` равно параметру `day`,\n",
    "  * в колонке `city` равно параметру `city`.\n",
    "\n",
    "Для этого примените последовательную фильтрацию с логической индексацией.\n",
    "\n",
    "Затем посчитайте значения в столбце `user_id` получившейся таблицы. Результат сохраните в новую переменную. Верните эту переменную из функции."
   ]
  },
  {
   "cell_type": "code",
   "execution_count": 20,
   "metadata": {
    "id": "Nz3GdQB1_Zcu"
   },
   "outputs": [],
   "source": [
    "def number_tracks(day, city):\n",
    "    track_list = df[df['city'] == city]\n",
    "    track_list = track_list[track_list['day'] == day]\n",
    "    track_list_count = track_list['user_id'].count()\n",
    "    return track_list_count"
   ]
  },
  {
   "cell_type": "markdown",
   "metadata": {},
   "source": [
    "<div class=\"alert alert-success\">\n",
    "<b>Комментарии ревьюера:</b>💚 Твоя функция полностью выполняет свои задачи. \n",
    "</div>"
   ]
  },
  {
   "cell_type": "markdown",
   "metadata": {
    "id": "ytf7xFrFJQ2r"
   },
   "source": [
    "Вызовите `number_tracks()` шесть раз, меняя значение параметров — так, чтобы получить данные для каждого города в каждый из трёх дней."
   ]
  },
  {
   "cell_type": "code",
   "execution_count": 21,
   "metadata": {
    "id": "rJcRATNQ_Zcu"
   },
   "outputs": [
    {
     "name": "stdout",
     "output_type": "stream",
     "text": [
      "15740\n"
     ]
    }
   ],
   "source": [
    "# количество прослушиваний в Москве по понедельникам\n",
    "print(number_tracks('Monday', 'Moscow'))"
   ]
  },
  {
   "cell_type": "code",
   "execution_count": 22,
   "metadata": {
    "id": "hq_ncZ5T_Zcu"
   },
   "outputs": [
    {
     "name": "stdout",
     "output_type": "stream",
     "text": [
      "5614\n"
     ]
    }
   ],
   "source": [
    "# количество прослушиваний в Санкт-Петербурге по понедельникам\n",
    "print(number_tracks('Monday', 'Saint-Petersburg'))"
   ]
  },
  {
   "cell_type": "code",
   "execution_count": 23,
   "metadata": {
    "id": "_NTy2VPU_Zcu"
   },
   "outputs": [
    {
     "name": "stdout",
     "output_type": "stream",
     "text": [
      "11056\n"
     ]
    }
   ],
   "source": [
    "# количество прослушиваний в Москве по средам\n",
    "print(number_tracks('Wednesday', 'Moscow'))"
   ]
  },
  {
   "cell_type": "code",
   "execution_count": 24,
   "metadata": {
    "id": "j2y3TAwo_Zcu"
   },
   "outputs": [
    {
     "name": "stdout",
     "output_type": "stream",
     "text": [
      "7003\n"
     ]
    }
   ],
   "source": [
    "# количество прослушиваний в Санкт-Петербурге по средам\n",
    "print(number_tracks('Wednesday', 'Saint-Petersburg'))"
   ]
  },
  {
   "cell_type": "code",
   "execution_count": 25,
   "metadata": {
    "id": "vYDw5u_K_Zcu"
   },
   "outputs": [
    {
     "name": "stdout",
     "output_type": "stream",
     "text": [
      "15945\n"
     ]
    }
   ],
   "source": [
    "# количество прослушиваний в Москве по пятницам\n",
    "print(number_tracks('Friday', 'Moscow'))"
   ]
  },
  {
   "cell_type": "code",
   "execution_count": 26,
   "metadata": {
    "id": "8_yzFtW3_Zcu"
   },
   "outputs": [
    {
     "name": "stdout",
     "output_type": "stream",
     "text": [
      "5895\n"
     ]
    }
   ],
   "source": [
    "# количество прослушиваний в Санкт-Петербурге по пятницам\n",
    "print(number_tracks('Friday', 'Saint-Petersburg'))"
   ]
  },
  {
   "cell_type": "markdown",
   "metadata": {
    "id": "7QXffbO-_Zcu"
   },
   "source": [
    "Создайте c помощью конструктора `pd.DataFrame` таблицу, где\n",
    "* названия колонок — `['city', 'monday', 'wednesday', 'friday']`;\n",
    "* данные — результаты, которые вы получили с помощью `number_tracks`."
   ]
  },
  {
   "cell_type": "code",
   "execution_count": 27,
   "metadata": {
    "id": "APAcLpOr_Zcu"
   },
   "outputs": [
    {
     "data": {
      "text/html": [
       "<div>\n",
       "<style scoped>\n",
       "    .dataframe tbody tr th:only-of-type {\n",
       "        vertical-align: middle;\n",
       "    }\n",
       "\n",
       "    .dataframe tbody tr th {\n",
       "        vertical-align: top;\n",
       "    }\n",
       "\n",
       "    .dataframe thead th {\n",
       "        text-align: right;\n",
       "    }\n",
       "</style>\n",
       "<table border=\"1\" class=\"dataframe\">\n",
       "  <thead>\n",
       "    <tr style=\"text-align: right;\">\n",
       "      <th></th>\n",
       "      <th>city</th>\n",
       "      <th>monday</th>\n",
       "      <th>wednesday</th>\n",
       "      <th>friday</th>\n",
       "    </tr>\n",
       "  </thead>\n",
       "  <tbody>\n",
       "    <tr>\n",
       "      <td>0</td>\n",
       "      <td>Moscow</td>\n",
       "      <td>15740</td>\n",
       "      <td>11056</td>\n",
       "      <td>15945</td>\n",
       "    </tr>\n",
       "    <tr>\n",
       "      <td>1</td>\n",
       "      <td>Saint-Petersburg</td>\n",
       "      <td>5614</td>\n",
       "      <td>7003</td>\n",
       "      <td>5895</td>\n",
       "    </tr>\n",
       "  </tbody>\n",
       "</table>\n",
       "</div>"
      ],
      "text/plain": [
       "               city  monday  wednesday  friday\n",
       "0            Moscow   15740      11056   15945\n",
       "1  Saint-Petersburg    5614       7003    5895"
      ]
     },
     "metadata": {},
     "output_type": "display_data"
    }
   ],
   "source": [
    "data = [\n",
    "    ['Moscow', 15740, 11056, 15945],\n",
    "    ['Saint-Petersburg', 5614, 7003, 5895]\n",
    "]\n",
    "columns = ['city', 'monday', 'wednesday', 'friday']\n",
    "\n",
    "track_number_result = pd.DataFrame(data=data, columns=columns)\n",
    "\n",
    "display(track_number_result)"
   ]
  },
  {
   "cell_type": "markdown",
   "metadata": {},
   "source": [
    "<div class=\"alert alert-success\">\n",
    "<b>Комментарии ревьюера:</b>💚 Датафрейм сформирован верно!\n",
    "</div>"
   ]
  },
  {
   "cell_type": "markdown",
   "metadata": {
    "id": "-EgPIHYu_Zcu"
   },
   "source": [
    "**Выводы**\n",
    "\n",
    "Данные показывают разницу поведения пользователей:\n",
    "\n",
    "- В Москве пик прослушиваний приходится на понедельник и пятницу, а в среду заметен спад.\n",
    "- В Петербурге, наоборот, больше слушают музыку по средам. Активность в понедельник и пятницу здесь почти в равной мере уступает среде.\n",
    "\n",
    "Значит, данные говорят в пользу первой гипотезы."
   ]
  },
  {
   "cell_type": "markdown",
   "metadata": {
    "id": "atZAxtq4_Zcu"
   },
   "source": [
    "### Музыка в начале и в конце недели"
   ]
  },
  {
   "cell_type": "markdown",
   "metadata": {
    "id": "eXrQqXFH_Zcu"
   },
   "source": [
    "Согласно второй гипотезе, утром в понедельник в Москве преобладают одни жанры, а в Петербурге — другие. Так же и вечером пятницы преобладают разные жанры — в зависимости от города."
   ]
  },
  {
   "cell_type": "markdown",
   "metadata": {
    "id": "S8UcW6Hw_Zcu"
   },
   "source": [
    "Сохраните таблицы с данными в две переменные:\n",
    "* по Москве — в `moscow_general`;\n",
    "* по Санкт-Петербургу — в `spb_general`."
   ]
  },
  {
   "cell_type": "code",
   "execution_count": 28,
   "metadata": {
    "id": "qeaFfM_P_Zcu"
   },
   "outputs": [],
   "source": [
    "moscow_general = df[df['city'] == 'Moscow']"
   ]
  },
  {
   "cell_type": "code",
   "execution_count": 29,
   "metadata": {
    "id": "ORaVRKto_Zcu"
   },
   "outputs": [],
   "source": [
    "spb_general = df[df['city'] == 'Saint-Petersburg']"
   ]
  },
  {
   "cell_type": "markdown",
   "metadata": {
    "id": "MEJV-CX2_Zcu"
   },
   "source": [
    "Создайте функцию `genre_weekday()` с четырьмя параметрами:\n",
    "* таблица (датафрейм) с данными,\n",
    "* день недели,\n",
    "* начальная временная метка в формате 'hh:mm', \n",
    "* последняя временная метка в формате 'hh:mm'.\n",
    "\n",
    "Функция должна вернуть информацию о топ-10 жанров тех треков, которые прослушивали в указанный день, в промежутке между двумя отметками времени."
   ]
  },
  {
   "cell_type": "code",
   "execution_count": 30,
   "metadata": {
    "id": "laJT9BYl_Zcu"
   },
   "outputs": [],
   "source": [
    "# Объявление функции genre_weekday() с параметрами table, day, time1, time2,\n",
    "# которая возвращает информацию о самых популярных жанрах в указанный день в\n",
    "# заданное время:\n",
    "# 1) в переменную genre_df сохраняются те строки переданного датафрейма table, для\n",
    "#    которых одновременно:\n",
    "#    - значение в столбце day равно значению аргумента day\n",
    "#    - значение в столбце time больше значения аргумента time1\n",
    "#    - значение в столбце time меньше значения аргумента time2\n",
    "#    Используйте последовательную фильтрацию с помощью логической индексации.\n",
    "# 2) сгруппировать датафрейм genre_df по столбцу genre, взять один из его\n",
    "#    столбцов и посчитать методом count() количество записей для каждого из\n",
    "#    присутствующих жанров, получившийся Series записать в переменную\n",
    "#    genre_df_count\n",
    "# 3) отсортировать genre_df_count по убыванию встречаемости и сохранить\n",
    "#    в переменную genre_df_sorted\n",
    "# 4) вернуть Series из 10 первых значений genre_df_sorted, это будут топ-10\n",
    "#    популярных жанров (в указанный день, в заданное время)\n",
    "\n",
    "def genre_weekday(table, day, time1, time2):\n",
    "    genre_df = table[table['day'] == day]\n",
    "    genre_df = genre_df[genre_df['time'] > time1]\n",
    "    genre_df = genre_df[genre_df['time'] < time2]\n",
    "    genre_df_count = genre_df.groupby('genre')['user_id'].count()\n",
    "    genre_df_sorted = genre_df_count.sort_values(ascending=False)\n",
    "    return genre_df_sorted.head(10)"
   ]
  },
  {
   "cell_type": "markdown",
   "metadata": {},
   "source": [
    "<div class=\"alert alert-success\">\n",
    "<b>Комментарии ревьюера:</b>💚 Все супер. Метод head(10) для вывода выбран верно. Можно еще так: genre_df_sorted[:10]\n",
    "</div>"
   ]
  },
  {
   "cell_type": "markdown",
   "metadata": {
    "id": "la2s2_PF_Zcu"
   },
   "source": [
    "Cравните результаты функции `genre_weekday()` для Москвы и Санкт-Петербурга в понедельник утром (с 7:00 до 11:00) и в пятницу вечером (с 17:00 до 23:00):"
   ]
  },
  {
   "cell_type": "code",
   "execution_count": 31,
   "metadata": {
    "id": "yz7itPUQ_Zcu"
   },
   "outputs": [
    {
     "name": "stdout",
     "output_type": "stream",
     "text": [
      "genre\n",
      "pop            781\n",
      "dance          549\n",
      "electronic     480\n",
      "rock           474\n",
      "hiphop         286\n",
      "ruspop         186\n",
      "world          181\n",
      "rusrap         175\n",
      "alternative    164\n",
      "unknown        161\n",
      "Name: user_id, dtype: int64\n"
     ]
    }
   ],
   "source": [
    "# вызов функции для утра понедельника в Москве \n",
    "print(genre_weekday(moscow_general, 'Monday', '07:00', '11:00'))"
   ]
  },
  {
   "cell_type": "code",
   "execution_count": 32,
   "metadata": {
    "id": "kwUcHPdy_Zcu"
   },
   "outputs": [
    {
     "name": "stdout",
     "output_type": "stream",
     "text": [
      "genre\n",
      "pop            218\n",
      "dance          182\n",
      "rock           162\n",
      "electronic     147\n",
      "hiphop          80\n",
      "ruspop          64\n",
      "alternative     58\n",
      "rusrap          55\n",
      "jazz            44\n",
      "classical       40\n",
      "Name: user_id, dtype: int64\n"
     ]
    }
   ],
   "source": [
    "# вызов функции для утра понедельника в Петербурге\n",
    "print(genre_weekday(spb_general, 'Monday', '07:00', '11:00'))"
   ]
  },
  {
   "cell_type": "code",
   "execution_count": 33,
   "metadata": {
    "id": "EzXVRE1o_Zcu"
   },
   "outputs": [
    {
     "name": "stdout",
     "output_type": "stream",
     "text": [
      "genre\n",
      "pop            713\n",
      "rock           517\n",
      "dance          495\n",
      "electronic     482\n",
      "hiphop         273\n",
      "world          208\n",
      "ruspop         170\n",
      "alternative    163\n",
      "classical      163\n",
      "rusrap         142\n",
      "Name: user_id, dtype: int64\n"
     ]
    }
   ],
   "source": [
    "# вызов функции для вечера пятницы в Москве\n",
    "print(genre_weekday(moscow_general, 'Friday', '17:00', '23:00'))"
   ]
  },
  {
   "cell_type": "code",
   "execution_count": 34,
   "metadata": {
    "id": "JZaEKu5v_Zcu"
   },
   "outputs": [
    {
     "name": "stdout",
     "output_type": "stream",
     "text": [
      "genre\n",
      "pop            256\n",
      "rock           216\n",
      "electronic     216\n",
      "dance          210\n",
      "hiphop          97\n",
      "alternative     63\n",
      "jazz            61\n",
      "classical       60\n",
      "rusrap          59\n",
      "world           54\n",
      "Name: user_id, dtype: int64\n"
     ]
    }
   ],
   "source": [
    "# вызов функции для вечера пятницы в Петербурге\n",
    "print(genre_weekday(spb_general, 'Friday', '17:00', '23:00'))"
   ]
  },
  {
   "cell_type": "markdown",
   "metadata": {},
   "source": [
    "<div class=\"alert alert-success\">\n",
    "<b>Комментарии ревьюера:</b>💚 С помощью функции мы получили всю нужную информацию!\n",
    "</div>"
   ]
  },
  {
   "cell_type": "markdown",
   "metadata": {
    "id": "wrCe4MNX_Zcu"
   },
   "source": [
    "**Выводы**\n",
    "\n",
    "Если сравнить топ-10 жанров в понедельник утром, можно сделать такие выводы:\n",
    "\n",
    "1. В Москве и Петербурге слушают похожую музыку. Единственное отличие — в московский рейтинг вошёл жанр “world”, а в петербургский — джаз и классика.\n",
    "\n",
    "2. В Москве пропущенных значений оказалось так много, что значение `'unknown'` заняло десятое место среди самых популярных жанров. Значит, пропущенные значения занимают существенную долю в данных и угрожают достоверности исследования.\n",
    "\n",
    "Вечер пятницы не меняет эту картину. Некоторые жанры поднимаются немного выше, другие спускаются, но в целом топ-10 остаётся тем же самым.\n",
    "\n",
    "Таким образом, вторая гипотеза подтвердилась лишь частично:\n",
    "* Пользователи слушают похожую музыку в начале недели и в конце.\n",
    "* Разница между Москвой и Петербургом не слишком выражена. В Москве чаще слушают русскую популярную музыку, в Петербурге — джаз.\n",
    "\n",
    "Однако пропуски в данных ставят под сомнение этот результат. В Москве их так много, что рейтинг топ-10 мог бы выглядеть иначе, если бы не утерянные  данные о жанрах."
   ]
  },
  {
   "cell_type": "markdown",
   "metadata": {
    "id": "JolODAqr_Zcu"
   },
   "source": [
    "### Жанровые предпочтения в Москве и Петербурге\n",
    "\n",
    "Гипотеза: Петербург — столица рэпа, музыку этого жанра там слушают чаще, чем в Москве.  А Москва — город контрастов, в котором, тем не менее, преобладает поп-музыка."
   ]
  },
  {
   "cell_type": "markdown",
   "metadata": {
    "id": "DlegSvaT_Zcu"
   },
   "source": [
    "Сгруппируйте таблицу `moscow_general` по жанру и посчитайте прослушивания треков каждого жанра методом `count()`. Затем отсортируйте результат в порядке убывания и сохраните его в таблице `moscow_genres`."
   ]
  },
  {
   "cell_type": "code",
   "execution_count": 35,
   "metadata": {
    "id": "r19lIPke_Zcu"
   },
   "outputs": [],
   "source": [
    "# одной строкой: группировка таблицы moscow_general по столбцу 'genre', \n",
    "# подсчёт числа значений 'genre' в этой группировке методом count(), \n",
    "# сортировка получившегося Series в порядке убывания и сохранение в moscow_genres\n",
    "\n",
    "moscow_genres = moscow_general.groupby('genre')['genre'].count().sort_values(ascending=False)"
   ]
  },
  {
   "cell_type": "markdown",
   "metadata": {
    "id": "6kMuomxTiIr8"
   },
   "source": [
    "Выведите на экран первые десять строк `moscow_genres`:"
   ]
  },
  {
   "cell_type": "code",
   "execution_count": 36,
   "metadata": {
    "id": "WhCSooF8_Zcv"
   },
   "outputs": [
    {
     "name": "stdout",
     "output_type": "stream",
     "text": [
      "genre\n",
      "pop            5892\n",
      "dance          4435\n",
      "rock           3965\n",
      "electronic     3786\n",
      "hiphop         2096\n",
      "classical      1616\n",
      "world          1432\n",
      "alternative    1379\n",
      "ruspop         1372\n",
      "rusrap         1161\n",
      "Name: genre, dtype: int64\n"
     ]
    }
   ],
   "source": [
    "print(moscow_genres.head(10))"
   ]
  },
  {
   "cell_type": "markdown",
   "metadata": {
    "id": "cnPG2vnN_Zcv"
   },
   "source": [
    "Теперь повторите то же и для Петербурга.\n",
    "\n",
    "Сгруппируйте таблицу `spb_general` по жанру. Посчитайте прослушивания треков каждого жанра. Результат отсортируйте в порядке убывания и сохраните в таблице `spb_genres`:\n"
   ]
  },
  {
   "cell_type": "code",
   "execution_count": 37,
   "metadata": {
    "id": "gluLIpE7_Zcv"
   },
   "outputs": [],
   "source": [
    "# одной строкой: группировка таблицы spb_general по столбцу 'genre', \n",
    "# подсчёт числа значений 'genre' в этой группировке методом count(), \n",
    "# сортировка получившегося Series в порядке убывания и сохранение в spb_genres\n",
    "\n",
    "spb_genres = spb_general.groupby('genre')['genre'].count().sort_values(ascending=False)"
   ]
  },
  {
   "cell_type": "markdown",
   "metadata": {
    "id": "5Doha_ODgyQ8"
   },
   "source": [
    "Выведите на экран первые десять строк `spb_genres`:"
   ]
  },
  {
   "cell_type": "code",
   "execution_count": 38,
   "metadata": {
    "id": "uaGJHjVU_Zcv"
   },
   "outputs": [
    {
     "name": "stdout",
     "output_type": "stream",
     "text": [
      "genre\n",
      "pop            2431\n",
      "dance          1932\n",
      "rock           1879\n",
      "electronic     1736\n",
      "hiphop          960\n",
      "alternative     649\n",
      "classical       646\n",
      "rusrap          564\n",
      "ruspop          538\n",
      "world           515\n",
      "Name: genre, dtype: int64\n"
     ]
    }
   ],
   "source": [
    "print(spb_genres.head(10))"
   ]
  },
  {
   "cell_type": "markdown",
   "metadata": {
    "id": "RY51YJYu_Zcv"
   },
   "source": [
    "**Выводы**"
   ]
  },
  {
   "cell_type": "markdown",
   "metadata": {
    "id": "nVhnJEm__Zcv"
   },
   "source": [
    "Гипотеза частично подтвердилась:\n",
    "* Поп-музыка — самый популярный жанр в Москве, как и предполагала гипотеза. Более того, в топ-10 жанров встречается близкий жанр — русская популярная музыка.\n",
    "* Вопреки ожиданиям, рэп одинаково популярен в Москве и Петербурге. \n"
   ]
  },
  {
   "cell_type": "markdown",
   "metadata": {},
   "source": [
    "<div class=\"alert alert-success\">\n",
    "<b>Комментарии ревьюера:</b>💚 Здесь также все верно!\n",
    "</div>"
   ]
  },
  {
   "cell_type": "markdown",
   "metadata": {
    "id": "ykKQ0N65_Zcv"
   },
   "source": [
    "## Итоги исследования"
   ]
  },
  {
   "cell_type": "markdown",
   "metadata": {
    "id": "tjUwbHb3_Zcv"
   },
   "source": [
    "Вы проверили три гипотезы и установили:\n",
    "\n",
    "1. День недели по-разному влияет на активность пользователей в Москве и Петербурге. \n",
    "\n",
    "Первая гипотеза полностью подтвердилась.\n",
    "\n",
    "2. Музыкальные предпочтения не сильно меняются в течение недели — будь то Москва или Петербург. Небольшие различия заметны в начале недели, по понедельникам:\n",
    "* в Москве слушают музыку жанра “world”,\n",
    "* в Петербурге — джаз и классику.\n",
    "\n",
    "Таким образом, вторая гипотеза подтвердилась лишь отчасти. Этот результат мог оказаться иным, если бы не пропуски в данных.\n",
    "\n",
    "3. Во вкусах пользователей Москвы и Петербурга больше общего чем различий. Вопреки ожиданиям, предпочтения жанров в Петербурге напоминают московские.\n",
    "\n",
    "Третья гипотеза не подтвердилась. Если различия в предпочтениях и существуют, на основной массе пользователей они незаметны.\n",
    "\n",
    "**На практике исследования содержат проверки статистических гипотез.**\n",
    "Из данных одного сервиса не всегда можно сделать вывод о всех жителях города.\n",
    "Проверки статистических гипотез покажут, насколько они достоверны, исходя из имеющихся данных. \n",
    "С методами проверок гипотез вы ещё познакомитесь в следующих темах."
   ]
  },
  {
   "cell_type": "markdown",
   "metadata": {},
   "source": [
    "<div class=\"alert alert-success\">\n",
    "<b>Комментарии ревьюера:</b>💚 Виктория, ты выполнила все заданяи критичных замечаний нет. Возвращаю проект обратно, чтобы убедиться - все мои комментарии понятны. Если вдруг у тебя возникнут вопросы, то я с радостью отвечу на них. Также ты можешь учесть мои рекомендации и сделать свой проект еще лучше. \n",
    "</div>"
   ]
  },
  {
   "cell_type": "markdown",
   "metadata": {},
   "source": [
    "<div class=\"alert alert-info\">\n",
    "<b>Коментарии студента:</b> Спасибо большое, Марина. Все твои комментарии приняла во внимание!\n",
    "</div>    "
   ]
  },
  {
   "cell_type": "markdown",
   "metadata": {},
   "source": [
    "<div class=\"alert alert-success\">\n",
    "<b>Комментарии ревьюера V2:</b>💚  Хорошо, тогда проект принят :) Следующие проекты будут сложнее и интереснее. Я уверена, ты с ними успешно справишься :)\n",
    "\n",
    "Удачи!</div>"
   ]
  },
  {
   "cell_type": "code",
   "execution_count": null,
   "metadata": {},
   "outputs": [],
   "source": []
  }
 ],
 "metadata": {
  "ExecuteTimeLog": [
   {
    "duration": 752,
    "start_time": "2021-12-15T18:08:33.180Z"
   },
   {
    "duration": 379,
    "start_time": "2021-12-15T18:08:33.934Z"
   },
   {
    "duration": 250,
    "start_time": "2021-12-15T18:08:46.046Z"
   },
   {
    "duration": 277,
    "start_time": "2021-12-15T18:11:59.792Z"
   },
   {
    "duration": 40,
    "start_time": "2021-12-15T18:12:03.863Z"
   },
   {
    "duration": 54,
    "start_time": "2021-12-15T18:12:24.687Z"
   },
   {
    "duration": 55,
    "start_time": "2021-12-15T18:12:41.590Z"
   },
   {
    "duration": 30,
    "start_time": "2021-12-15T18:12:49.645Z"
   },
   {
    "duration": 4,
    "start_time": "2021-12-15T18:22:24.664Z"
   },
   {
    "duration": 5,
    "start_time": "2021-12-15T18:24:23.313Z"
   },
   {
    "duration": 30,
    "start_time": "2021-12-15T18:24:26.279Z"
   },
   {
    "duration": 4,
    "start_time": "2021-12-15T18:24:28.769Z"
   },
   {
    "duration": 28,
    "start_time": "2021-12-15T18:26:06.853Z"
   },
   {
    "duration": 31,
    "start_time": "2021-12-15T18:26:23.091Z"
   },
   {
    "duration": 28,
    "start_time": "2021-12-15T18:26:34.284Z"
   },
   {
    "duration": 22,
    "start_time": "2021-12-15T18:33:51.615Z"
   },
   {
    "duration": 28,
    "start_time": "2021-12-15T18:33:53.790Z"
   },
   {
    "duration": 240,
    "start_time": "2021-12-15T18:37:31.162Z"
   },
   {
    "duration": 274,
    "start_time": "2021-12-15T18:37:39.527Z"
   },
   {
    "duration": 85,
    "start_time": "2021-12-15T18:37:46.144Z"
   },
   {
    "duration": 118,
    "start_time": "2021-12-15T18:39:45.859Z"
   },
   {
    "duration": 102,
    "start_time": "2021-12-15T18:39:47.875Z"
   },
   {
    "duration": 10,
    "start_time": "2021-12-15T18:41:26.455Z"
   },
   {
    "duration": 5,
    "start_time": "2021-12-15T18:45:27.545Z"
   },
   {
    "duration": 14,
    "start_time": "2021-12-15T18:48:20.061Z"
   },
   {
    "duration": 9,
    "start_time": "2021-12-15T18:48:21.957Z"
   },
   {
    "duration": 385,
    "start_time": "2021-12-16T06:48:28.276Z"
   },
   {
    "duration": 603,
    "start_time": "2021-12-16T06:48:50.127Z"
   },
   {
    "duration": 134,
    "start_time": "2021-12-16T06:48:50.732Z"
   },
   {
    "duration": 16,
    "start_time": "2021-12-16T06:48:50.868Z"
   },
   {
    "duration": 29,
    "start_time": "2021-12-16T06:48:50.886Z"
   },
   {
    "duration": 3,
    "start_time": "2021-12-16T06:48:50.916Z"
   },
   {
    "duration": 23,
    "start_time": "2021-12-16T06:48:50.921Z"
   },
   {
    "duration": 3,
    "start_time": "2021-12-16T06:48:50.946Z"
   },
   {
    "duration": 23,
    "start_time": "2021-12-16T06:48:50.951Z"
   },
   {
    "duration": 41,
    "start_time": "2021-12-16T06:48:50.976Z"
   },
   {
    "duration": 34,
    "start_time": "2021-12-16T06:48:51.019Z"
   },
   {
    "duration": 72,
    "start_time": "2021-12-16T06:48:51.056Z"
   },
   {
    "duration": 77,
    "start_time": "2021-12-16T06:48:51.130Z"
   },
   {
    "duration": 55,
    "start_time": "2021-12-16T06:48:51.209Z"
   },
   {
    "duration": 7,
    "start_time": "2021-12-16T06:48:51.266Z"
   },
   {
    "duration": 3,
    "start_time": "2021-12-16T06:48:51.275Z"
   },
   {
    "duration": 32,
    "start_time": "2021-12-16T06:48:51.279Z"
   },
   {
    "duration": 8,
    "start_time": "2021-12-16T06:48:51.313Z"
   },
   {
    "duration": 3,
    "start_time": "2021-12-16T06:49:54.039Z"
   },
   {
    "duration": 152,
    "start_time": "2021-12-16T06:49:54.046Z"
   },
   {
    "duration": 15,
    "start_time": "2021-12-16T06:49:54.200Z"
   },
   {
    "duration": 25,
    "start_time": "2021-12-16T06:49:54.217Z"
   },
   {
    "duration": 3,
    "start_time": "2021-12-16T06:49:54.244Z"
   },
   {
    "duration": 14,
    "start_time": "2021-12-16T06:49:54.249Z"
   },
   {
    "duration": 3,
    "start_time": "2021-12-16T06:49:54.265Z"
   },
   {
    "duration": 57,
    "start_time": "2021-12-16T06:49:54.270Z"
   },
   {
    "duration": 18,
    "start_time": "2021-12-16T06:49:54.329Z"
   },
   {
    "duration": 24,
    "start_time": "2021-12-16T06:49:54.348Z"
   },
   {
    "duration": 78,
    "start_time": "2021-12-16T06:49:54.374Z"
   },
   {
    "duration": 72,
    "start_time": "2021-12-16T06:49:54.454Z"
   },
   {
    "duration": 51,
    "start_time": "2021-12-16T06:49:54.528Z"
   },
   {
    "duration": 7,
    "start_time": "2021-12-16T06:49:54.581Z"
   },
   {
    "duration": 3,
    "start_time": "2021-12-16T06:49:54.606Z"
   },
   {
    "duration": 16,
    "start_time": "2021-12-16T06:49:54.611Z"
   },
   {
    "duration": 6,
    "start_time": "2021-12-16T06:49:56.636Z"
   },
   {
    "duration": 32,
    "start_time": "2021-12-16T06:50:00.035Z"
   },
   {
    "duration": 12,
    "start_time": "2021-12-16T06:50:15.707Z"
   },
   {
    "duration": 28,
    "start_time": "2021-12-16T06:50:38.951Z"
   },
   {
    "duration": 32,
    "start_time": "2021-12-16T06:56:07.282Z"
   },
   {
    "duration": 12,
    "start_time": "2021-12-16T06:56:27.994Z"
   },
   {
    "duration": 11,
    "start_time": "2021-12-16T06:56:58.067Z"
   },
   {
    "duration": 11,
    "start_time": "2021-12-16T07:08:38.407Z"
   },
   {
    "duration": 10,
    "start_time": "2021-12-16T07:08:40.328Z"
   },
   {
    "duration": 3,
    "start_time": "2021-12-16T07:08:45.153Z"
   },
   {
    "duration": 19,
    "start_time": "2021-12-16T07:19:49.077Z"
   },
   {
    "duration": 26,
    "start_time": "2021-12-16T07:19:51.391Z"
   },
   {
    "duration": 19,
    "start_time": "2021-12-16T07:19:52.400Z"
   },
   {
    "duration": 28,
    "start_time": "2021-12-16T07:19:53.263Z"
   },
   {
    "duration": 19,
    "start_time": "2021-12-16T07:19:54.095Z"
   },
   {
    "duration": 20,
    "start_time": "2021-12-16T07:19:54.710Z"
   },
   {
    "duration": 3,
    "start_time": "2021-12-16T07:20:50.302Z"
   },
   {
    "duration": 22,
    "start_time": "2021-12-16T07:20:52.904Z"
   },
   {
    "duration": 26,
    "start_time": "2021-12-16T07:20:53.495Z"
   },
   {
    "duration": 21,
    "start_time": "2021-12-16T07:20:54.023Z"
   },
   {
    "duration": 19,
    "start_time": "2021-12-16T07:20:54.472Z"
   },
   {
    "duration": 22,
    "start_time": "2021-12-16T07:20:54.903Z"
   },
   {
    "duration": 19,
    "start_time": "2021-12-16T07:20:57.094Z"
   },
   {
    "duration": 3,
    "start_time": "2021-12-16T07:24:54.883Z"
   },
   {
    "duration": 146,
    "start_time": "2021-12-16T07:24:54.891Z"
   },
   {
    "duration": 9,
    "start_time": "2021-12-16T07:24:55.039Z"
   },
   {
    "duration": 27,
    "start_time": "2021-12-16T07:24:55.050Z"
   },
   {
    "duration": 3,
    "start_time": "2021-12-16T07:24:55.079Z"
   },
   {
    "duration": 17,
    "start_time": "2021-12-16T07:24:55.106Z"
   },
   {
    "duration": 3,
    "start_time": "2021-12-16T07:24:55.124Z"
   },
   {
    "duration": 23,
    "start_time": "2021-12-16T07:24:55.129Z"
   },
   {
    "duration": 16,
    "start_time": "2021-12-16T07:24:55.155Z"
   },
   {
    "duration": 49,
    "start_time": "2021-12-16T07:24:55.173Z"
   },
   {
    "duration": 57,
    "start_time": "2021-12-16T07:24:55.224Z"
   },
   {
    "duration": 83,
    "start_time": "2021-12-16T07:24:55.283Z"
   },
   {
    "duration": 63,
    "start_time": "2021-12-16T07:24:55.367Z"
   },
   {
    "duration": 8,
    "start_time": "2021-12-16T07:24:55.432Z"
   },
   {
    "duration": 4,
    "start_time": "2021-12-16T07:24:55.442Z"
   },
   {
    "duration": 13,
    "start_time": "2021-12-16T07:24:55.447Z"
   },
   {
    "duration": 8,
    "start_time": "2021-12-16T07:24:55.461Z"
   },
   {
    "duration": 36,
    "start_time": "2021-12-16T07:24:55.471Z"
   },
   {
    "duration": 11,
    "start_time": "2021-12-16T07:24:55.509Z"
   },
   {
    "duration": 3,
    "start_time": "2021-12-16T07:24:57.782Z"
   },
   {
    "duration": 22,
    "start_time": "2021-12-16T07:24:59.613Z"
   },
   {
    "duration": 18,
    "start_time": "2021-12-16T07:25:00.567Z"
   },
   {
    "duration": 22,
    "start_time": "2021-12-16T07:25:01.094Z"
   },
   {
    "duration": 20,
    "start_time": "2021-12-16T07:25:01.493Z"
   },
   {
    "duration": 3,
    "start_time": "2021-12-16T07:26:39.316Z"
   },
   {
    "duration": 20,
    "start_time": "2021-12-16T07:26:39.406Z"
   },
   {
    "duration": 19,
    "start_time": "2021-12-16T07:26:40.173Z"
   },
   {
    "duration": 27,
    "start_time": "2021-12-16T07:26:40.814Z"
   },
   {
    "duration": 19,
    "start_time": "2021-12-16T07:26:41.733Z"
   },
   {
    "duration": 3,
    "start_time": "2021-12-16T07:32:17.310Z"
   },
   {
    "duration": 19,
    "start_time": "2021-12-16T07:32:18.621Z"
   },
   {
    "duration": 14,
    "start_time": "2021-12-16T07:32:19.189Z"
   },
   {
    "duration": 17,
    "start_time": "2021-12-16T07:32:19.679Z"
   },
   {
    "duration": 13,
    "start_time": "2021-12-16T07:32:20.078Z"
   },
   {
    "duration": 20,
    "start_time": "2021-12-16T07:32:21.733Z"
   },
   {
    "duration": 14,
    "start_time": "2021-12-16T07:32:22.124Z"
   },
   {
    "duration": 366,
    "start_time": "2021-12-16T07:37:35.893Z"
   },
   {
    "duration": 3,
    "start_time": "2021-12-16T07:38:13.101Z"
   },
   {
    "duration": 234,
    "start_time": "2021-12-16T07:38:13.111Z"
   },
   {
    "duration": 15,
    "start_time": "2021-12-16T07:38:13.348Z"
   },
   {
    "duration": 51,
    "start_time": "2021-12-16T07:38:13.366Z"
   },
   {
    "duration": 4,
    "start_time": "2021-12-16T07:38:13.420Z"
   },
   {
    "duration": 21,
    "start_time": "2021-12-16T07:38:13.426Z"
   },
   {
    "duration": 4,
    "start_time": "2021-12-16T07:38:13.449Z"
   },
   {
    "duration": 65,
    "start_time": "2021-12-16T07:38:13.455Z"
   },
   {
    "duration": 21,
    "start_time": "2021-12-16T07:38:13.524Z"
   },
   {
    "duration": 22,
    "start_time": "2021-12-16T07:38:13.548Z"
   },
   {
    "duration": 80,
    "start_time": "2021-12-16T07:38:13.572Z"
   },
   {
    "duration": 73,
    "start_time": "2021-12-16T07:38:13.654Z"
   },
   {
    "duration": 53,
    "start_time": "2021-12-16T07:38:13.729Z"
   },
   {
    "duration": 23,
    "start_time": "2021-12-16T07:38:13.784Z"
   },
   {
    "duration": 3,
    "start_time": "2021-12-16T07:38:13.809Z"
   },
   {
    "duration": 11,
    "start_time": "2021-12-16T07:38:13.814Z"
   },
   {
    "duration": 7,
    "start_time": "2021-12-16T07:38:13.827Z"
   },
   {
    "duration": 11,
    "start_time": "2021-12-16T07:38:13.836Z"
   },
   {
    "duration": 11,
    "start_time": "2021-12-16T07:38:13.848Z"
   },
   {
    "duration": 3,
    "start_time": "2021-12-16T07:38:13.861Z"
   },
   {
    "duration": 20,
    "start_time": "2021-12-16T07:38:13.906Z"
   },
   {
    "duration": 14,
    "start_time": "2021-12-16T07:38:13.928Z"
   },
   {
    "duration": 17,
    "start_time": "2021-12-16T07:38:13.944Z"
   },
   {
    "duration": 42,
    "start_time": "2021-12-16T07:38:13.964Z"
   },
   {
    "duration": 21,
    "start_time": "2021-12-16T07:38:14.008Z"
   },
   {
    "duration": 13,
    "start_time": "2021-12-16T07:38:14.031Z"
   },
   {
    "duration": 420,
    "start_time": "2021-12-16T07:38:16.062Z"
   },
   {
    "duration": 2,
    "start_time": "2021-12-16T07:41:14.255Z"
   },
   {
    "duration": 305,
    "start_time": "2021-12-16T11:33:59.715Z"
   },
   {
    "duration": 243,
    "start_time": "2021-12-16T11:34:13.714Z"
   },
   {
    "duration": 911,
    "start_time": "2021-12-16T11:34:35.986Z"
   },
   {
    "duration": 268,
    "start_time": "2021-12-16T11:34:36.900Z"
   },
   {
    "duration": 47,
    "start_time": "2021-12-16T11:34:37.172Z"
   },
   {
    "duration": 54,
    "start_time": "2021-12-16T11:34:37.222Z"
   },
   {
    "duration": 6,
    "start_time": "2021-12-16T11:34:37.279Z"
   },
   {
    "duration": 64,
    "start_time": "2021-12-16T11:34:37.287Z"
   },
   {
    "duration": 6,
    "start_time": "2021-12-16T11:34:37.354Z"
   },
   {
    "duration": 65,
    "start_time": "2021-12-16T11:34:37.366Z"
   },
   {
    "duration": 33,
    "start_time": "2021-12-16T11:34:37.434Z"
   },
   {
    "duration": 43,
    "start_time": "2021-12-16T11:34:37.470Z"
   },
   {
    "duration": 87,
    "start_time": "2021-12-16T11:34:37.517Z"
   },
   {
    "duration": 114,
    "start_time": "2021-12-16T11:34:37.607Z"
   },
   {
    "duration": 77,
    "start_time": "2021-12-16T11:34:37.723Z"
   },
   {
    "duration": 11,
    "start_time": "2021-12-16T11:34:37.818Z"
   },
   {
    "duration": 22,
    "start_time": "2021-12-16T11:34:37.831Z"
   },
   {
    "duration": 46,
    "start_time": "2021-12-16T11:34:37.855Z"
   },
   {
    "duration": 18,
    "start_time": "2021-12-16T11:34:37.903Z"
   },
   {
    "duration": 25,
    "start_time": "2021-12-16T11:34:37.923Z"
   },
   {
    "duration": 23,
    "start_time": "2021-12-16T11:34:37.951Z"
   },
   {
    "duration": 13,
    "start_time": "2021-12-16T11:34:37.976Z"
   },
   {
    "duration": 40,
    "start_time": "2021-12-16T11:34:37.991Z"
   },
   {
    "duration": 16,
    "start_time": "2021-12-16T11:34:38.034Z"
   },
   {
    "duration": 27,
    "start_time": "2021-12-16T11:34:38.054Z"
   },
   {
    "duration": 35,
    "start_time": "2021-12-16T11:34:38.083Z"
   },
   {
    "duration": 36,
    "start_time": "2021-12-16T11:34:38.121Z"
   },
   {
    "duration": 24,
    "start_time": "2021-12-16T11:34:38.160Z"
   },
   {
    "duration": 11,
    "start_time": "2021-12-16T11:34:40.266Z"
   },
   {
    "duration": 28,
    "start_time": "2021-12-16T11:38:44.964Z"
   },
   {
    "duration": 32,
    "start_time": "2021-12-16T11:38:53.196Z"
   },
   {
    "duration": 26,
    "start_time": "2021-12-16T11:40:00.522Z"
   },
   {
    "duration": 16,
    "start_time": "2021-12-16T11:40:28.466Z"
   },
   {
    "duration": 15,
    "start_time": "2021-12-16T11:40:30.098Z"
   },
   {
    "duration": 6,
    "start_time": "2021-12-16T11:48:39.584Z"
   },
   {
    "duration": 30,
    "start_time": "2021-12-16T11:51:47.984Z"
   },
   {
    "duration": 28,
    "start_time": "2021-12-16T11:51:53.942Z"
   },
   {
    "duration": 27,
    "start_time": "2021-12-16T11:52:29.985Z"
   },
   {
    "duration": 21,
    "start_time": "2021-12-16T11:54:21.800Z"
   },
   {
    "duration": 26,
    "start_time": "2021-12-16T11:54:29.880Z"
   },
   {
    "duration": 12,
    "start_time": "2021-12-16T11:54:38.424Z"
   },
   {
    "duration": 257,
    "start_time": "2021-12-16T11:55:26.960Z"
   },
   {
    "duration": 25,
    "start_time": "2021-12-16T11:55:34.311Z"
   },
   {
    "duration": 24,
    "start_time": "2021-12-16T11:55:57.063Z"
   },
   {
    "duration": 4,
    "start_time": "2021-12-16T11:56:41.788Z"
   },
   {
    "duration": 195,
    "start_time": "2021-12-16T11:56:41.797Z"
   },
   {
    "duration": 28,
    "start_time": "2021-12-16T11:56:41.995Z"
   },
   {
    "duration": 31,
    "start_time": "2021-12-16T11:56:42.026Z"
   },
   {
    "duration": 6,
    "start_time": "2021-12-16T11:56:42.059Z"
   },
   {
    "duration": 58,
    "start_time": "2021-12-16T11:56:42.066Z"
   },
   {
    "duration": 4,
    "start_time": "2021-12-16T11:56:42.127Z"
   },
   {
    "duration": 32,
    "start_time": "2021-12-16T11:56:42.134Z"
   },
   {
    "duration": 47,
    "start_time": "2021-12-16T11:56:42.170Z"
   },
   {
    "duration": 30,
    "start_time": "2021-12-16T11:56:42.220Z"
   },
   {
    "duration": 108,
    "start_time": "2021-12-16T11:56:42.253Z"
   },
   {
    "duration": 105,
    "start_time": "2021-12-16T11:56:42.363Z"
   },
   {
    "duration": 90,
    "start_time": "2021-12-16T11:56:42.470Z"
   },
   {
    "duration": 9,
    "start_time": "2021-12-16T11:56:42.562Z"
   },
   {
    "duration": 7,
    "start_time": "2021-12-16T11:56:42.574Z"
   },
   {
    "duration": 36,
    "start_time": "2021-12-16T11:56:42.583Z"
   },
   {
    "duration": 9,
    "start_time": "2021-12-16T11:56:42.621Z"
   },
   {
    "duration": 14,
    "start_time": "2021-12-16T11:56:42.633Z"
   },
   {
    "duration": 13,
    "start_time": "2021-12-16T11:56:42.649Z"
   },
   {
    "duration": 4,
    "start_time": "2021-12-16T11:56:42.664Z"
   },
   {
    "duration": 66,
    "start_time": "2021-12-16T11:56:42.670Z"
   },
   {
    "duration": 17,
    "start_time": "2021-12-16T11:56:42.738Z"
   },
   {
    "duration": 22,
    "start_time": "2021-12-16T11:56:42.758Z"
   },
   {
    "duration": 46,
    "start_time": "2021-12-16T11:56:42.785Z"
   },
   {
    "duration": 25,
    "start_time": "2021-12-16T11:56:42.833Z"
   },
   {
    "duration": 17,
    "start_time": "2021-12-16T11:56:42.860Z"
   },
   {
    "duration": 46,
    "start_time": "2021-12-16T11:56:42.879Z"
   },
   {
    "duration": 36,
    "start_time": "2021-12-16T11:56:42.927Z"
   },
   {
    "duration": 16,
    "start_time": "2021-12-16T11:56:42.965Z"
   },
   {
    "duration": 9,
    "start_time": "2021-12-16T11:56:42.983Z"
   },
   {
    "duration": 71,
    "start_time": "2021-12-16T11:56:42.994Z"
   },
   {
    "duration": 26,
    "start_time": "2021-12-16T11:56:43.067Z"
   },
   {
    "duration": 24,
    "start_time": "2021-12-16T11:56:43.095Z"
   },
   {
    "duration": 20,
    "start_time": "2021-12-16T11:58:41.263Z"
   },
   {
    "duration": 31,
    "start_time": "2021-12-16T11:58:46.585Z"
   },
   {
    "duration": 13,
    "start_time": "2021-12-16T11:58:52.991Z"
   },
   {
    "duration": 5,
    "start_time": "2021-12-16T11:59:56.098Z"
   },
   {
    "duration": 24,
    "start_time": "2021-12-16T11:59:58.484Z"
   },
   {
    "duration": 18,
    "start_time": "2021-12-16T11:59:59.830Z"
   },
   {
    "duration": 22,
    "start_time": "2021-12-16T12:00:01.555Z"
   },
   {
    "duration": 17,
    "start_time": "2021-12-16T12:00:02.132Z"
   },
   {
    "duration": 389,
    "start_time": "2021-12-16T13:51:11.667Z"
   },
   {
    "duration": 870,
    "start_time": "2021-12-16T13:51:25.209Z"
   },
   {
    "duration": 206,
    "start_time": "2021-12-16T13:51:26.081Z"
   },
   {
    "duration": 30,
    "start_time": "2021-12-16T13:51:26.290Z"
   },
   {
    "duration": 47,
    "start_time": "2021-12-16T13:51:26.323Z"
   },
   {
    "duration": 12,
    "start_time": "2021-12-16T13:51:26.372Z"
   },
   {
    "duration": 58,
    "start_time": "2021-12-16T13:51:26.386Z"
   },
   {
    "duration": 5,
    "start_time": "2021-12-16T13:51:26.447Z"
   },
   {
    "duration": 42,
    "start_time": "2021-12-16T13:51:26.454Z"
   },
   {
    "duration": 51,
    "start_time": "2021-12-16T13:51:26.500Z"
   },
   {
    "duration": 28,
    "start_time": "2021-12-16T13:51:26.554Z"
   },
   {
    "duration": 113,
    "start_time": "2021-12-16T13:51:26.585Z"
   },
   {
    "duration": 104,
    "start_time": "2021-12-16T13:51:26.701Z"
   },
   {
    "duration": 93,
    "start_time": "2021-12-16T13:51:26.807Z"
   },
   {
    "duration": 33,
    "start_time": "2021-12-16T13:51:26.903Z"
   },
   {
    "duration": 17,
    "start_time": "2021-12-16T13:51:26.941Z"
   },
   {
    "duration": 27,
    "start_time": "2021-12-16T13:51:26.960Z"
   },
   {
    "duration": 34,
    "start_time": "2021-12-16T13:51:26.989Z"
   },
   {
    "duration": 33,
    "start_time": "2021-12-16T13:51:27.027Z"
   },
   {
    "duration": 22,
    "start_time": "2021-12-16T13:51:27.062Z"
   },
   {
    "duration": 11,
    "start_time": "2021-12-16T13:51:27.087Z"
   },
   {
    "duration": 57,
    "start_time": "2021-12-16T13:51:27.100Z"
   },
   {
    "duration": 16,
    "start_time": "2021-12-16T13:51:27.159Z"
   },
   {
    "duration": 22,
    "start_time": "2021-12-16T13:51:27.178Z"
   },
   {
    "duration": 29,
    "start_time": "2021-12-16T13:51:27.225Z"
   },
   {
    "duration": 33,
    "start_time": "2021-12-16T13:51:27.256Z"
   },
   {
    "duration": 48,
    "start_time": "2021-12-16T13:51:27.291Z"
   },
   {
    "duration": 13,
    "start_time": "2021-12-16T13:51:27.345Z"
   },
   {
    "duration": 30,
    "start_time": "2021-12-16T13:51:27.360Z"
   },
   {
    "duration": 19,
    "start_time": "2021-12-16T13:51:27.393Z"
   },
   {
    "duration": 15,
    "start_time": "2021-12-16T13:51:27.415Z"
   },
   {
    "duration": 39,
    "start_time": "2021-12-16T13:51:27.434Z"
   },
   {
    "duration": 16,
    "start_time": "2021-12-16T13:51:27.475Z"
   },
   {
    "duration": 55,
    "start_time": "2021-12-16T13:51:27.494Z"
   },
   {
    "duration": 14,
    "start_time": "2021-12-16T13:51:27.552Z"
   },
   {
    "duration": 310,
    "start_time": "2021-12-16T13:51:27.568Z"
   },
   {
    "duration": -38,
    "start_time": "2021-12-16T13:51:27.919Z"
   },
   {
    "duration": -43,
    "start_time": "2021-12-16T13:51:27.925Z"
   },
   {
    "duration": -54,
    "start_time": "2021-12-16T13:51:27.937Z"
   },
   {
    "duration": 265,
    "start_time": "2021-12-16T13:51:31.598Z"
   },
   {
    "duration": 252,
    "start_time": "2021-12-16T13:51:55.230Z"
   },
   {
    "duration": 29,
    "start_time": "2021-12-16T13:52:25.769Z"
   },
   {
    "duration": 14,
    "start_time": "2021-12-16T13:52:39.845Z"
   },
   {
    "duration": 18,
    "start_time": "2021-12-16T13:52:52.718Z"
   },
   {
    "duration": 269,
    "start_time": "2021-12-16T13:53:37.047Z"
   },
   {
    "duration": 10,
    "start_time": "2021-12-16T13:53:46.446Z"
   },
   {
    "duration": 10,
    "start_time": "2021-12-16T13:53:48.518Z"
   },
   {
    "duration": 5,
    "start_time": "2021-12-16T13:53:56.643Z"
   },
   {
    "duration": 8,
    "start_time": "2021-12-16T13:55:19.676Z"
   },
   {
    "duration": 7,
    "start_time": "2021-12-16T13:55:37.715Z"
   },
   {
    "duration": 575,
    "start_time": "2021-12-16T22:44:27.382Z"
   },
   {
    "duration": 198,
    "start_time": "2021-12-16T22:44:27.959Z"
   },
   {
    "duration": 18,
    "start_time": "2021-12-16T22:44:28.159Z"
   },
   {
    "duration": 36,
    "start_time": "2021-12-16T22:44:28.180Z"
   },
   {
    "duration": 8,
    "start_time": "2021-12-16T22:44:28.219Z"
   },
   {
    "duration": 25,
    "start_time": "2021-12-16T22:44:28.229Z"
   },
   {
    "duration": 3,
    "start_time": "2021-12-16T22:44:28.255Z"
   },
   {
    "duration": 47,
    "start_time": "2021-12-16T22:44:28.261Z"
   },
   {
    "duration": 18,
    "start_time": "2021-12-16T22:44:28.311Z"
   },
   {
    "duration": 21,
    "start_time": "2021-12-16T22:44:28.330Z"
   },
   {
    "duration": 77,
    "start_time": "2021-12-16T22:44:28.352Z"
   },
   {
    "duration": 74,
    "start_time": "2021-12-16T22:44:28.431Z"
   },
   {
    "duration": 49,
    "start_time": "2021-12-16T22:44:28.507Z"
   },
   {
    "duration": 5,
    "start_time": "2021-12-16T22:44:28.558Z"
   },
   {
    "duration": 3,
    "start_time": "2021-12-16T22:44:28.565Z"
   },
   {
    "duration": 9,
    "start_time": "2021-12-16T22:44:28.592Z"
   },
   {
    "duration": 6,
    "start_time": "2021-12-16T22:44:28.603Z"
   },
   {
    "duration": 11,
    "start_time": "2021-12-16T22:44:28.610Z"
   },
   {
    "duration": 10,
    "start_time": "2021-12-16T22:44:28.622Z"
   },
   {
    "duration": 2,
    "start_time": "2021-12-16T22:44:28.634Z"
   },
   {
    "duration": 60,
    "start_time": "2021-12-16T22:44:28.638Z"
   },
   {
    "duration": 12,
    "start_time": "2021-12-16T22:44:28.700Z"
   },
   {
    "duration": 16,
    "start_time": "2021-12-16T22:44:28.715Z"
   },
   {
    "duration": 13,
    "start_time": "2021-12-16T22:44:28.733Z"
   },
   {
    "duration": 55,
    "start_time": "2021-12-16T22:44:28.748Z"
   },
   {
    "duration": 12,
    "start_time": "2021-12-16T22:44:28.804Z"
   },
   {
    "duration": 8,
    "start_time": "2021-12-16T22:44:28.818Z"
   },
   {
    "duration": 12,
    "start_time": "2021-12-16T22:44:28.827Z"
   },
   {
    "duration": 8,
    "start_time": "2021-12-16T22:44:28.840Z"
   },
   {
    "duration": 3,
    "start_time": "2021-12-16T22:44:28.850Z"
   },
   {
    "duration": 49,
    "start_time": "2021-12-16T22:44:28.855Z"
   },
   {
    "duration": 10,
    "start_time": "2021-12-16T22:44:28.906Z"
   },
   {
    "duration": 15,
    "start_time": "2021-12-16T22:44:28.917Z"
   },
   {
    "duration": 10,
    "start_time": "2021-12-16T22:44:28.934Z"
   },
   {
    "duration": 7,
    "start_time": "2021-12-16T22:44:28.946Z"
   },
   {
    "duration": 4,
    "start_time": "2021-12-16T22:44:28.954Z"
   },
   {
    "duration": 35,
    "start_time": "2021-12-16T22:44:28.960Z"
   },
   {
    "duration": 4,
    "start_time": "2021-12-16T22:44:28.997Z"
   },
   {
    "duration": 237,
    "start_time": "2021-12-16T23:12:44.579Z"
   },
   {
    "duration": 38,
    "start_time": "2021-12-16T23:12:52.311Z"
   },
   {
    "duration": 6,
    "start_time": "2021-12-16T23:13:06.779Z"
   },
   {
    "duration": 559,
    "start_time": "2021-12-16T23:15:58.219Z"
   },
   {
    "duration": 138,
    "start_time": "2021-12-16T23:15:58.780Z"
   },
   {
    "duration": 16,
    "start_time": "2021-12-16T23:15:58.920Z"
   },
   {
    "duration": 26,
    "start_time": "2021-12-16T23:15:58.938Z"
   },
   {
    "duration": 26,
    "start_time": "2021-12-16T23:15:58.966Z"
   },
   {
    "duration": 26,
    "start_time": "2021-12-16T23:15:58.993Z"
   },
   {
    "duration": 6,
    "start_time": "2021-12-16T23:15:59.021Z"
   },
   {
    "duration": 23,
    "start_time": "2021-12-16T23:15:59.030Z"
   },
   {
    "duration": 42,
    "start_time": "2021-12-16T23:15:59.056Z"
   },
   {
    "duration": 21,
    "start_time": "2021-12-16T23:15:59.100Z"
   },
   {
    "duration": 74,
    "start_time": "2021-12-16T23:15:59.123Z"
   },
   {
    "duration": 71,
    "start_time": "2021-12-16T23:15:59.199Z"
   },
   {
    "duration": 60,
    "start_time": "2021-12-16T23:15:59.272Z"
   },
   {
    "duration": 6,
    "start_time": "2021-12-16T23:15:59.334Z"
   },
   {
    "duration": 3,
    "start_time": "2021-12-16T23:15:59.342Z"
   },
   {
    "duration": 12,
    "start_time": "2021-12-16T23:15:59.347Z"
   },
   {
    "duration": 34,
    "start_time": "2021-12-16T23:15:59.361Z"
   },
   {
    "duration": 10,
    "start_time": "2021-12-16T23:15:59.397Z"
   },
   {
    "duration": 10,
    "start_time": "2021-12-16T23:15:59.409Z"
   },
   {
    "duration": 3,
    "start_time": "2021-12-16T23:15:59.420Z"
   },
   {
    "duration": 21,
    "start_time": "2021-12-16T23:15:59.425Z"
   },
   {
    "duration": 49,
    "start_time": "2021-12-16T23:15:59.448Z"
   },
   {
    "duration": 19,
    "start_time": "2021-12-16T23:15:59.500Z"
   },
   {
    "duration": 13,
    "start_time": "2021-12-16T23:15:59.521Z"
   },
   {
    "duration": 18,
    "start_time": "2021-12-16T23:15:59.536Z"
   },
   {
    "duration": 46,
    "start_time": "2021-12-16T23:15:59.556Z"
   },
   {
    "duration": 12,
    "start_time": "2021-12-16T23:15:59.604Z"
   },
   {
    "duration": 19,
    "start_time": "2021-12-16T23:15:59.618Z"
   },
   {
    "duration": 12,
    "start_time": "2021-12-16T23:15:59.639Z"
   },
   {
    "duration": 7,
    "start_time": "2021-12-16T23:15:59.652Z"
   },
   {
    "duration": 36,
    "start_time": "2021-12-16T23:15:59.661Z"
   },
   {
    "duration": 13,
    "start_time": "2021-12-16T23:15:59.698Z"
   },
   {
    "duration": 26,
    "start_time": "2021-12-16T23:15:59.712Z"
   },
   {
    "duration": 11,
    "start_time": "2021-12-16T23:15:59.740Z"
   },
   {
    "duration": 10,
    "start_time": "2021-12-16T23:15:59.753Z"
   },
   {
    "duration": 26,
    "start_time": "2021-12-16T23:15:59.765Z"
   },
   {
    "duration": 7,
    "start_time": "2021-12-16T23:15:59.793Z"
   },
   {
    "duration": 4,
    "start_time": "2021-12-16T23:15:59.801Z"
   },
   {
    "duration": 448,
    "start_time": "2021-12-17T06:45:00.587Z"
   },
   {
    "duration": 837,
    "start_time": "2021-12-17T06:45:09.469Z"
   },
   {
    "duration": 189,
    "start_time": "2021-12-17T06:45:10.309Z"
   },
   {
    "duration": 26,
    "start_time": "2021-12-17T06:45:10.501Z"
   },
   {
    "duration": 56,
    "start_time": "2021-12-17T06:45:10.530Z"
   },
   {
    "duration": 7,
    "start_time": "2021-12-17T06:45:11.684Z"
   },
   {
    "duration": 137,
    "start_time": "2021-12-17T07:28:12.252Z"
   },
   {
    "duration": 122,
    "start_time": "2021-12-17T07:28:30.817Z"
   },
   {
    "duration": 1225,
    "start_time": "2021-12-17T07:28:58.378Z"
   },
   {
    "duration": 146,
    "start_time": "2021-12-17T07:29:14.769Z"
   },
   {
    "duration": 406,
    "start_time": "2021-12-17T07:33:33.594Z"
   },
   {
    "duration": 65,
    "start_time": "2021-12-17T07:33:46.318Z"
   },
   {
    "duration": 62,
    "start_time": "2021-12-17T07:38:10.358Z"
   }
  ],
  "colab": {
   "collapsed_sections": [
    "E0vqbgi9ay0H",
    "VUC88oWjTJw2"
   ],
   "name": "yandex_music_project_2021.2.ipynb",
   "provenance": []
  },
  "kernelspec": {
   "display_name": "Python 3 (ipykernel)",
   "language": "python",
   "name": "python3"
  },
  "language_info": {
   "codemirror_mode": {
    "name": "ipython",
    "version": 3
   },
   "file_extension": ".py",
   "mimetype": "text/x-python",
   "name": "python",
   "nbconvert_exporter": "python",
   "pygments_lexer": "ipython3",
   "version": "3.9.5"
  },
  "toc": {
   "base_numbering": 1,
   "nav_menu": {},
   "number_sections": true,
   "sideBar": true,
   "skip_h1_title": true,
   "title_cell": "Table of Contents",
   "title_sidebar": "Contents",
   "toc_cell": false,
   "toc_position": {
    "height": "calc(100% - 180px)",
    "left": "10px",
    "top": "150px",
    "width": "366.391px"
   },
   "toc_section_display": true,
   "toc_window_display": false
  }
 },
 "nbformat": 4,
 "nbformat_minor": 1
}
