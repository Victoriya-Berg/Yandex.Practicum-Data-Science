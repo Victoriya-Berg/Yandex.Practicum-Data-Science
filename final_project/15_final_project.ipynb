{
 "cells": [
  {
   "cell_type": "markdown",
   "metadata": {},
   "source": [
    "<div style=\"border:solid green 2px; padding: 20px\">\n",
    "<b>Привет Виктория!</b>\n",
    "\n",
    "Меня зовут  Евгений Арзамасцев, я твой тимлид по этому проекту. Буду проверять следующие этапы твоей работы:\n",
    "<p> * План работ и уточняющие вопросы\n",
    "<p> * Основной код разработки модели (но это не точно)\n",
    "<p> * Отчет о проделанной работе\n",
    "\n",
    " Предлагаю общаться на «ты» :) Но если это не удобно - дай знать, и мы перейдем на \"вы\". \n",
    "\n",
    "Моя основная цель — не указать на совершенные тобою ошибки, а поделиться своим опытом и помочь тебе стать отличным специалистом по Data Science. Ты уже проделал большую работу над проектами этого курса. Сейчас у тебя Финальный Спринт - дипломная работа. Моя цель - помочь тебе сделать ее максимально качественно, чтобы было не стыдно ссылаться на данную работу в своем резюме!\n",
    "\n",
    "Ниже ты найдешь мои комментарии - **пожалуйста, не перемещай, не изменяй и не удаляй их**. Увидев у тебя ошибку, в первый раз я лишь укажу на ее наличие и дам тебе возможность самому найти и исправить ее. На реальной работе твой начальник будет поступать так же, а я пытаюсь подготовить тебя именно к таким ситуациям. Но если ты пока не справишься с такой задачей - при следующей проверке я дам более точную подсказку. Я буду использовать цветовую разметку:\n",
    "\n",
    "<div class=\"alert alert-danger\">\n",
    "<b>Комментарий тимлида ❌:</b> Так выделены самые важные замечания. Без их отработки проект не будет принят. </div>\n",
    "\n",
    "<div class=\"alert alert-warning\">\n",
    "<b>Комментарий тимлида ⚠️:</b> Так выделены небольшие замечания. Я надеюсь, что их ты тоже учтешь - твой проект от этого станет только лучше. Но настаивать на их отработке не буду.\n",
    "\n",
    "</div>\n",
    "\n",
    "<div class=\"alert alert-success\">\n",
    "<b>Комментарий тимлида ✔️:</b> Так я выделяю все остальные комментарии.</div>\n",
    "\n",
    "Давай работать над проектом в диалоге: **если ты что-то меняешь в проекте или отвечаешь на мои комменатри — пиши об этом.** Мне будет легче отследить изменения, если ты выделишь свои комментарии:\n",
    "<div class=\"alert alert-info\"> <b>Комментарий студента:</b> Например, вот так.</div>\n",
    "\n",
    "Всё это поможет выполнить повторную проверку твоего проекта оперативнее. "
   ]
  },
  {
   "cell_type": "markdown",
   "metadata": {},
   "source": [
    "# Прогнозирование оттока клиентов"
   ]
  },
  {
   "cell_type": "markdown",
   "metadata": {},
   "source": [
    "Оператор связи «Ниединогоразрыва.ком» хочет научиться прогнозировать отток клиентов. Если выяснится, что пользователь планирует уйти, ему будут предложены промокоды и специальные условия. Команда оператора собрала персональные данные о некоторых клиентах, информацию об их тарифах и договорах.\n",
    "\n",
    "**Цель**: модель должна предсказывать, уйдет ли клиент или останется. В случае возможного ухода клиента, предложить особые условия обслуживания, которые позволит сохранить его (клиента) и сэкономить на привлечении нового клиента. В качестве основной метрики выбран ROC-AUC, оценка которой в идеале должна быть выше 0.85. На создание прототипа модели отведено 4 дня. Еще 4 дня на подготовку отчета.\n",
    "\n",
    "**План работы:**\n",
    "1. Изучить данные и сделать предобработку\n",
    "    * Разобраться с пустыми строками\n",
    "    * Соединить таблицы (можно после анализа данных)\n",
    "2. Провести исследовательский анализ данных\n",
    "3. Подобрать 3 модели (возможны изменения) и выбрать лучшую:\n",
    "    * Логистическая регрессия\n",
    "    * Метод случайного леса\n",
    "    * KNN-метод\n",
    "4. Сделать отчет по проведенной работе\n",
    "\n",
    "_Часть предобработки данных я сделала до встречи по зуму, поэтому решила оставить как есть, только добавила план._ <br>\n",
    "**Вопросов нет** (пока что)"
   ]
  },
  {
   "cell_type": "markdown",
   "metadata": {},
   "source": [
    "<div class=\"alert alert-success\">\n",
    "<b>**Комментарий тимлида ✔️:**</b>\n",
    "\n",
    "1. Есть план работ. Указанны все основные этапы исследования! Вижу что понимаешь что предстоит делать, уверен инструментарий тоже подберешь верно!\n",
    "    \n",
    "2. Вопросов нет. Отлично!\n",
    "</div>"
   ]
  },
  {
   "cell_type": "markdown",
   "metadata": {},
   "source": [
    "<div class=\"alert alert-danger\">\n",
    "<b>**Комментарий тимлида ❌:**</b>\n",
    "\n",
    "Данное исследование можно будет приложить к портфолио и показывать потенциальным работодателям на собесах. По этому предлагаю сразу же оформлять его в соответствии с требованиями к исследованию. В описательной части не хватает:\n",
    "    \n",
    "- хорошего названия проекта\n",
    "- краткого описания текущей ситуации (что послужило причиной возникновения проекта)\n",
    "- описания исходных данных\n",
    "   \n",
    "Касаемо цели - я рекомендую ее немного изменить и привести в соответствие с требованиями SMART. Если интересно - почитай вот тут https://www.carrotquest.io/blog/smart-goal/. Можно привести SMARTированную цель проекта уже потом, на следующем этапе.\n",
    "    \n",
    "Пожалуйста доработай этот раздел.\n",
    "</div>"
   ]
  },
  {
   "cell_type": "markdown",
   "metadata": {},
   "source": [
    "<div class=\"alert alert-success\">\n",
    "<b>**Комментарий тимлида_v2 ✔️:**</b>\n",
    "\n",
    "Отлично, так значительно лучше!\n",
    "</div>"
   ]
  },
  {
   "cell_type": "markdown",
   "metadata": {},
   "source": [
    "## Предобработка и Исследовательский анализ данных"
   ]
  },
  {
   "cell_type": "code",
   "execution_count": 1,
   "metadata": {},
   "outputs": [],
   "source": [
    "import pandas as pd\n",
    "import seaborn as sns\n",
    "import matplotlib.pyplot as plt\n",
    "import numpy as np\n",
    "\n",
    "from datetime import datetime\n",
    "\n",
    "from statsmodels.stats.outliers_influence import variance_inflation_factor\n",
    "from statsmodels.tools.tools import add_constant\n",
    "\n",
    "from sklearn.preprocessing import OneHotEncoder\n",
    "# from sklearn.preprocessing import OrdinalEncoder\n",
    "from sklearn.preprocessing import LabelEncoder\n",
    "from sklearn.utils import resample\n",
    "from sklearn.model_selection import train_test_split\n",
    "from sklearn.linear_model import LogisticRegression\n",
    "from sklearn.model_selection import GridSearchCV\n",
    "from sklearn.pipeline import Pipeline\n",
    "from sklearn import decomposition\n",
    "from sklearn.preprocessing import StandardScaler\n",
    "from sklearn.metrics import roc_auc_score, auc, roc_curve, confusion_matrix, accuracy_score\n",
    "from sklearn import preprocessing\n",
    "from sklearn.neighbors import KNeighborsClassifier\n",
    "from sklearn.ensemble import RandomForestClassifier\n",
    "\n",
    "from catboost import CatBoostClassifier, Pool"
   ]
  },
  {
   "cell_type": "code",
   "execution_count": 2,
   "metadata": {},
   "outputs": [],
   "source": [
    "contract_df = pd.read_csv('/datasets/final_provider/contract.csv')\n",
    "personal_df = pd.read_csv('/datasets/final_provider/personal.csv')\n",
    "internet_df = pd.read_csv('/datasets/final_provider/internet.csv')\n",
    "phone_df = pd.read_csv('/datasets/final_provider/phone.csv')"
   ]
  },
  {
   "cell_type": "markdown",
   "metadata": {},
   "source": [
    "### Контракты"
   ]
  },
  {
   "cell_type": "code",
   "execution_count": 3,
   "metadata": {},
   "outputs": [
    {
     "data": {
      "text/html": [
       "<div>\n",
       "<style scoped>\n",
       "    .dataframe tbody tr th:only-of-type {\n",
       "        vertical-align: middle;\n",
       "    }\n",
       "\n",
       "    .dataframe tbody tr th {\n",
       "        vertical-align: top;\n",
       "    }\n",
       "\n",
       "    .dataframe thead th {\n",
       "        text-align: right;\n",
       "    }\n",
       "</style>\n",
       "<table border=\"1\" class=\"dataframe\">\n",
       "  <thead>\n",
       "    <tr style=\"text-align: right;\">\n",
       "      <th></th>\n",
       "      <th>customerID</th>\n",
       "      <th>BeginDate</th>\n",
       "      <th>EndDate</th>\n",
       "      <th>Type</th>\n",
       "      <th>PaperlessBilling</th>\n",
       "      <th>PaymentMethod</th>\n",
       "      <th>MonthlyCharges</th>\n",
       "      <th>TotalCharges</th>\n",
       "    </tr>\n",
       "  </thead>\n",
       "  <tbody>\n",
       "    <tr>\n",
       "      <th>0</th>\n",
       "      <td>7590-VHVEG</td>\n",
       "      <td>2020-01-01</td>\n",
       "      <td>No</td>\n",
       "      <td>Month-to-month</td>\n",
       "      <td>Yes</td>\n",
       "      <td>Electronic check</td>\n",
       "      <td>29.85</td>\n",
       "      <td>29.85</td>\n",
       "    </tr>\n",
       "    <tr>\n",
       "      <th>1</th>\n",
       "      <td>5575-GNVDE</td>\n",
       "      <td>2017-04-01</td>\n",
       "      <td>No</td>\n",
       "      <td>One year</td>\n",
       "      <td>No</td>\n",
       "      <td>Mailed check</td>\n",
       "      <td>56.95</td>\n",
       "      <td>1889.5</td>\n",
       "    </tr>\n",
       "    <tr>\n",
       "      <th>2</th>\n",
       "      <td>3668-QPYBK</td>\n",
       "      <td>2019-10-01</td>\n",
       "      <td>2019-12-01 00:00:00</td>\n",
       "      <td>Month-to-month</td>\n",
       "      <td>Yes</td>\n",
       "      <td>Mailed check</td>\n",
       "      <td>53.85</td>\n",
       "      <td>108.15</td>\n",
       "    </tr>\n",
       "    <tr>\n",
       "      <th>3</th>\n",
       "      <td>7795-CFOCW</td>\n",
       "      <td>2016-05-01</td>\n",
       "      <td>No</td>\n",
       "      <td>One year</td>\n",
       "      <td>No</td>\n",
       "      <td>Bank transfer (automatic)</td>\n",
       "      <td>42.30</td>\n",
       "      <td>1840.75</td>\n",
       "    </tr>\n",
       "    <tr>\n",
       "      <th>4</th>\n",
       "      <td>9237-HQITU</td>\n",
       "      <td>2019-09-01</td>\n",
       "      <td>2019-11-01 00:00:00</td>\n",
       "      <td>Month-to-month</td>\n",
       "      <td>Yes</td>\n",
       "      <td>Electronic check</td>\n",
       "      <td>70.70</td>\n",
       "      <td>151.65</td>\n",
       "    </tr>\n",
       "  </tbody>\n",
       "</table>\n",
       "</div>"
      ],
      "text/plain": [
       "   customerID   BeginDate              EndDate            Type  \\\n",
       "0  7590-VHVEG  2020-01-01                   No  Month-to-month   \n",
       "1  5575-GNVDE  2017-04-01                   No        One year   \n",
       "2  3668-QPYBK  2019-10-01  2019-12-01 00:00:00  Month-to-month   \n",
       "3  7795-CFOCW  2016-05-01                   No        One year   \n",
       "4  9237-HQITU  2019-09-01  2019-11-01 00:00:00  Month-to-month   \n",
       "\n",
       "  PaperlessBilling              PaymentMethod  MonthlyCharges TotalCharges  \n",
       "0              Yes           Electronic check           29.85        29.85  \n",
       "1               No               Mailed check           56.95       1889.5  \n",
       "2              Yes               Mailed check           53.85       108.15  \n",
       "3               No  Bank transfer (automatic)           42.30      1840.75  \n",
       "4              Yes           Electronic check           70.70       151.65  "
      ]
     },
     "metadata": {},
     "output_type": "display_data"
    }
   ],
   "source": [
    "display(contract_df.head())"
   ]
  },
  {
   "cell_type": "markdown",
   "metadata": {},
   "source": [
    "**Целевой признак**: целевым признаком станет дата окончания договора `EndDate`. Таргет следует сделать бинарным."
   ]
  },
  {
   "cell_type": "markdown",
   "metadata": {},
   "source": [
    "<div class=\"alert alert-success\">\n",
    "<b>**Комментарий тимлида ✔️:**</b>\n",
    "\n",
    "Все верно! Это будет таргет, и его закодируем в бинарном виде.\n",
    "</div>"
   ]
  },
  {
   "cell_type": "code",
   "execution_count": 4,
   "metadata": {},
   "outputs": [
    {
     "name": "stdout",
     "output_type": "stream",
     "text": [
      "<class 'pandas.core.frame.DataFrame'>\n",
      "RangeIndex: 7043 entries, 0 to 7042\n",
      "Data columns (total 8 columns):\n",
      " #   Column            Non-Null Count  Dtype  \n",
      "---  ------            --------------  -----  \n",
      " 0   customerID        7043 non-null   object \n",
      " 1   BeginDate         7043 non-null   object \n",
      " 2   EndDate           7043 non-null   object \n",
      " 3   Type              7043 non-null   object \n",
      " 4   PaperlessBilling  7043 non-null   object \n",
      " 5   PaymentMethod     7043 non-null   object \n",
      " 6   MonthlyCharges    7043 non-null   float64\n",
      " 7   TotalCharges      7043 non-null   object \n",
      "dtypes: float64(1), object(7)\n",
      "memory usage: 440.3+ KB\n"
     ]
    }
   ],
   "source": [
    "contract_df.info()"
   ]
  },
  {
   "cell_type": "markdown",
   "metadata": {},
   "source": [
    "`TotalCharges`: необходимо поменять на тип данных `float64` <br>\n",
    "`BeginDate` и `EndDate`: необходимо поменять на тип данных `datetime`"
   ]
  },
  {
   "cell_type": "markdown",
   "metadata": {},
   "source": [
    "<div class=\"alert alert-success\">\n",
    "<b>**Комментарий тимлида ✔️:**</b>\n",
    "\n",
    "Правильно!\n",
    "</div>"
   ]
  },
  {
   "cell_type": "code",
   "execution_count": 5,
   "metadata": {},
   "outputs": [],
   "source": [
    "contract_df['BeginDate'] = pd.to_datetime(contract_df['BeginDate'], format='%Y-%m-%d')"
   ]
  },
  {
   "cell_type": "code",
   "execution_count": 6,
   "metadata": {},
   "outputs": [
    {
     "data": {
      "text/plain": [
       "4513   2013-10-01\n",
       "4610   2013-10-01\n",
       "3439   2013-10-01\n",
       "975    2013-11-01\n",
       "3040   2013-11-01\n",
       "          ...    \n",
       "3331   2020-02-01\n",
       "6670   2020-02-01\n",
       "936    2020-02-01\n",
       "3826   2020-02-01\n",
       "6754   2020-02-01\n",
       "Name: BeginDate, Length: 7043, dtype: datetime64[ns]"
      ]
     },
     "execution_count": 6,
     "metadata": {},
     "output_type": "execute_result"
    }
   ],
   "source": [
    "contract_df['BeginDate'].sort_values(ascending=True)"
   ]
  },
  {
   "cell_type": "code",
   "execution_count": 7,
   "metadata": {
    "scrolled": true
   },
   "outputs": [],
   "source": [
    "# Замена типа данных с str на float\n",
    "# contract_df['TotalCharges'] = contract_df['TotalCharges'].astype('float64')\n",
    "\n",
    "# ---> ValueError: could not convert string to float: ''"
   ]
  },
  {
   "cell_type": "markdown",
   "metadata": {},
   "source": [
    "Ошибка. Надо посмотреть первые пять строк с пустыми значениями."
   ]
  },
  {
   "cell_type": "code",
   "execution_count": 8,
   "metadata": {},
   "outputs": [
    {
     "data": {
      "text/html": [
       "<div>\n",
       "<style scoped>\n",
       "    .dataframe tbody tr th:only-of-type {\n",
       "        vertical-align: middle;\n",
       "    }\n",
       "\n",
       "    .dataframe tbody tr th {\n",
       "        vertical-align: top;\n",
       "    }\n",
       "\n",
       "    .dataframe thead th {\n",
       "        text-align: right;\n",
       "    }\n",
       "</style>\n",
       "<table border=\"1\" class=\"dataframe\">\n",
       "  <thead>\n",
       "    <tr style=\"text-align: right;\">\n",
       "      <th></th>\n",
       "      <th>customerID</th>\n",
       "      <th>BeginDate</th>\n",
       "      <th>EndDate</th>\n",
       "      <th>Type</th>\n",
       "      <th>PaperlessBilling</th>\n",
       "      <th>PaymentMethod</th>\n",
       "      <th>MonthlyCharges</th>\n",
       "      <th>TotalCharges</th>\n",
       "    </tr>\n",
       "  </thead>\n",
       "  <tbody>\n",
       "    <tr>\n",
       "      <th>488</th>\n",
       "      <td>4472-LVYGI</td>\n",
       "      <td>2020-02-01</td>\n",
       "      <td>No</td>\n",
       "      <td>Two year</td>\n",
       "      <td>Yes</td>\n",
       "      <td>Bank transfer (automatic)</td>\n",
       "      <td>52.55</td>\n",
       "      <td></td>\n",
       "    </tr>\n",
       "    <tr>\n",
       "      <th>753</th>\n",
       "      <td>3115-CZMZD</td>\n",
       "      <td>2020-02-01</td>\n",
       "      <td>No</td>\n",
       "      <td>Two year</td>\n",
       "      <td>No</td>\n",
       "      <td>Mailed check</td>\n",
       "      <td>20.25</td>\n",
       "      <td></td>\n",
       "    </tr>\n",
       "    <tr>\n",
       "      <th>936</th>\n",
       "      <td>5709-LVOEQ</td>\n",
       "      <td>2020-02-01</td>\n",
       "      <td>No</td>\n",
       "      <td>Two year</td>\n",
       "      <td>No</td>\n",
       "      <td>Mailed check</td>\n",
       "      <td>80.85</td>\n",
       "      <td></td>\n",
       "    </tr>\n",
       "    <tr>\n",
       "      <th>1082</th>\n",
       "      <td>4367-NUYAO</td>\n",
       "      <td>2020-02-01</td>\n",
       "      <td>No</td>\n",
       "      <td>Two year</td>\n",
       "      <td>No</td>\n",
       "      <td>Mailed check</td>\n",
       "      <td>25.75</td>\n",
       "      <td></td>\n",
       "    </tr>\n",
       "    <tr>\n",
       "      <th>1340</th>\n",
       "      <td>1371-DWPAZ</td>\n",
       "      <td>2020-02-01</td>\n",
       "      <td>No</td>\n",
       "      <td>Two year</td>\n",
       "      <td>No</td>\n",
       "      <td>Credit card (automatic)</td>\n",
       "      <td>56.05</td>\n",
       "      <td></td>\n",
       "    </tr>\n",
       "  </tbody>\n",
       "</table>\n",
       "</div>"
      ],
      "text/plain": [
       "      customerID  BeginDate EndDate      Type PaperlessBilling  \\\n",
       "488   4472-LVYGI 2020-02-01      No  Two year              Yes   \n",
       "753   3115-CZMZD 2020-02-01      No  Two year               No   \n",
       "936   5709-LVOEQ 2020-02-01      No  Two year               No   \n",
       "1082  4367-NUYAO 2020-02-01      No  Two year               No   \n",
       "1340  1371-DWPAZ 2020-02-01      No  Two year               No   \n",
       "\n",
       "                  PaymentMethod  MonthlyCharges TotalCharges  \n",
       "488   Bank transfer (automatic)           52.55               \n",
       "753                Mailed check           20.25               \n",
       "936                Mailed check           80.85               \n",
       "1082               Mailed check           25.75               \n",
       "1340    Credit card (automatic)           56.05               "
      ]
     },
     "metadata": {},
     "output_type": "display_data"
    }
   ],
   "source": [
    "display(contract_df[contract_df['TotalCharges'] == ' '].head())"
   ]
  },
  {
   "cell_type": "markdown",
   "metadata": {},
   "source": [
    "По идее, если дата начала договора 2020-02-01, то можно понять, почему в колонке `TotalCharges` пустые строки — клиент еще не успел оплатить подписку и одного месяца. _Эти пробелы можно заполнить нулями._"
   ]
  },
  {
   "cell_type": "markdown",
   "metadata": {},
   "source": [
    "<div class=\"alert alert-warning\">\n",
    "<b>**Комментарий тимлида ⚠️:**</b>\n",
    "\n",
    "Из кода не понятно почему ты решила что в данных есть contract_df['TotalCharges'] == ' '. Пока желтый комментарий, далее если твои выводы и ход рассуждений не будет подтвержден кодом выше - будет красный.\n",
    "</div>"
   ]
  },
  {
   "cell_type": "markdown",
   "metadata": {},
   "source": [
    "<div class=\"alert alert-info\"> <b>Комментарий студента:</b>\n",
    "\n",
    "Изначально я пыталась изменить тип данных, и мне как раз выдавалась ошибка, и я решила посмотреть эти пустые строки, из-за которых ошибка. После изучения этих строк, пришла к выводу, описанному выше. </div>"
   ]
  },
  {
   "cell_type": "code",
   "execution_count": 9,
   "metadata": {},
   "outputs": [],
   "source": [
    "# Замена пустых строк нулями\n",
    "contract_df['TotalCharges'] = contract_df['TotalCharges'].replace(' ', 0.0)"
   ]
  },
  {
   "cell_type": "code",
   "execution_count": 10,
   "metadata": {},
   "outputs": [],
   "source": [
    "# Замена типа данных с str на float\n",
    "contract_df['TotalCharges'] = contract_df['TotalCharges'].astype('float64')"
   ]
  },
  {
   "cell_type": "markdown",
   "metadata": {},
   "source": [
    "С замененным типом данных и пропусками можно посмотреть на обновленную таблицу:"
   ]
  },
  {
   "cell_type": "code",
   "execution_count": 11,
   "metadata": {},
   "outputs": [
    {
     "data": {
      "text/html": [
       "<div>\n",
       "<style scoped>\n",
       "    .dataframe tbody tr th:only-of-type {\n",
       "        vertical-align: middle;\n",
       "    }\n",
       "\n",
       "    .dataframe tbody tr th {\n",
       "        vertical-align: top;\n",
       "    }\n",
       "\n",
       "    .dataframe thead th {\n",
       "        text-align: right;\n",
       "    }\n",
       "</style>\n",
       "<table border=\"1\" class=\"dataframe\">\n",
       "  <thead>\n",
       "    <tr style=\"text-align: right;\">\n",
       "      <th></th>\n",
       "      <th>customerID</th>\n",
       "      <th>BeginDate</th>\n",
       "      <th>EndDate</th>\n",
       "      <th>Type</th>\n",
       "      <th>PaperlessBilling</th>\n",
       "      <th>PaymentMethod</th>\n",
       "      <th>MonthlyCharges</th>\n",
       "      <th>TotalCharges</th>\n",
       "    </tr>\n",
       "  </thead>\n",
       "  <tbody>\n",
       "    <tr>\n",
       "      <th>488</th>\n",
       "      <td>4472-LVYGI</td>\n",
       "      <td>2020-02-01</td>\n",
       "      <td>No</td>\n",
       "      <td>Two year</td>\n",
       "      <td>Yes</td>\n",
       "      <td>Bank transfer (automatic)</td>\n",
       "      <td>52.55</td>\n",
       "      <td>0.0</td>\n",
       "    </tr>\n",
       "    <tr>\n",
       "      <th>753</th>\n",
       "      <td>3115-CZMZD</td>\n",
       "      <td>2020-02-01</td>\n",
       "      <td>No</td>\n",
       "      <td>Two year</td>\n",
       "      <td>No</td>\n",
       "      <td>Mailed check</td>\n",
       "      <td>20.25</td>\n",
       "      <td>0.0</td>\n",
       "    </tr>\n",
       "    <tr>\n",
       "      <th>936</th>\n",
       "      <td>5709-LVOEQ</td>\n",
       "      <td>2020-02-01</td>\n",
       "      <td>No</td>\n",
       "      <td>Two year</td>\n",
       "      <td>No</td>\n",
       "      <td>Mailed check</td>\n",
       "      <td>80.85</td>\n",
       "      <td>0.0</td>\n",
       "    </tr>\n",
       "    <tr>\n",
       "      <th>1082</th>\n",
       "      <td>4367-NUYAO</td>\n",
       "      <td>2020-02-01</td>\n",
       "      <td>No</td>\n",
       "      <td>Two year</td>\n",
       "      <td>No</td>\n",
       "      <td>Mailed check</td>\n",
       "      <td>25.75</td>\n",
       "      <td>0.0</td>\n",
       "    </tr>\n",
       "    <tr>\n",
       "      <th>1340</th>\n",
       "      <td>1371-DWPAZ</td>\n",
       "      <td>2020-02-01</td>\n",
       "      <td>No</td>\n",
       "      <td>Two year</td>\n",
       "      <td>No</td>\n",
       "      <td>Credit card (automatic)</td>\n",
       "      <td>56.05</td>\n",
       "      <td>0.0</td>\n",
       "    </tr>\n",
       "  </tbody>\n",
       "</table>\n",
       "</div>"
      ],
      "text/plain": [
       "      customerID  BeginDate EndDate      Type PaperlessBilling  \\\n",
       "488   4472-LVYGI 2020-02-01      No  Two year              Yes   \n",
       "753   3115-CZMZD 2020-02-01      No  Two year               No   \n",
       "936   5709-LVOEQ 2020-02-01      No  Two year               No   \n",
       "1082  4367-NUYAO 2020-02-01      No  Two year               No   \n",
       "1340  1371-DWPAZ 2020-02-01      No  Two year               No   \n",
       "\n",
       "                  PaymentMethod  MonthlyCharges  TotalCharges  \n",
       "488   Bank transfer (automatic)           52.55           0.0  \n",
       "753                Mailed check           20.25           0.0  \n",
       "936                Mailed check           80.85           0.0  \n",
       "1082               Mailed check           25.75           0.0  \n",
       "1340    Credit card (automatic)           56.05           0.0  "
      ]
     },
     "metadata": {},
     "output_type": "display_data"
    }
   ],
   "source": [
    "display(contract_df[contract_df['TotalCharges'] == 0.0].head())"
   ]
  },
  {
   "cell_type": "code",
   "execution_count": 12,
   "metadata": {},
   "outputs": [
    {
     "name": "stdout",
     "output_type": "stream",
     "text": [
      "<class 'pandas.core.frame.DataFrame'>\n",
      "RangeIndex: 7043 entries, 0 to 7042\n",
      "Data columns (total 8 columns):\n",
      " #   Column            Non-Null Count  Dtype         \n",
      "---  ------            --------------  -----         \n",
      " 0   customerID        7043 non-null   object        \n",
      " 1   BeginDate         7043 non-null   datetime64[ns]\n",
      " 2   EndDate           7043 non-null   object        \n",
      " 3   Type              7043 non-null   object        \n",
      " 4   PaperlessBilling  7043 non-null   object        \n",
      " 5   PaymentMethod     7043 non-null   object        \n",
      " 6   MonthlyCharges    7043 non-null   float64       \n",
      " 7   TotalCharges      7043 non-null   float64       \n",
      "dtypes: datetime64[ns](1), float64(2), object(5)\n",
      "memory usage: 440.3+ KB\n"
     ]
    }
   ],
   "source": [
    "contract_df.info()"
   ]
  },
  {
   "cell_type": "markdown",
   "metadata": {},
   "source": [
    "Типы данных стоят те, какие и должны быть."
   ]
  },
  {
   "cell_type": "markdown",
   "metadata": {},
   "source": [
    "<div class=\"alert alert-success\">\n",
    "<b>**Комментарий тимлида ✔️:**</b>\n",
    "\n",
    "Да, молодец! Исправила проблемы в данных.\n",
    "</div>"
   ]
  },
  {
   "cell_type": "code",
   "execution_count": 13,
   "metadata": {},
   "outputs": [
    {
     "name": "stdout",
     "output_type": "stream",
     "text": [
      "Доля действующих договоров: 0.7346301292063041\n"
     ]
    }
   ],
   "source": [
    "print('Доля действующих договоров:',\n",
    "      contract_df[contract_df['EndDate'] == 'No']['EndDate'].count() / contract_df['EndDate'].count())"
   ]
  },
  {
   "cell_type": "markdown",
   "metadata": {},
   "source": [
    "<div class=\"alert alert-success\">\n",
    "<b>**Комментарий тимлида ✔️:**</b>\n",
    "\n",
    "Да, есть дисбаланс целевого признака. Есть несколько вариантов в нашем случае:\n",
    "   \n",
    "- ничего не делать тк дисбаланс пограничный на уровне 1:3\n",
    "- применить сэмплирование\n",
    "- воспользоваться встренными средствами балансировки в моделях\n",
    "    \n",
    "А можно выполнить все три варианта и выбрать лучший)\n",
    "    \n",
    "Посмотрим какой вариант выберешь ты в итоге.\n",
    "</div>"
   ]
  },
  {
   "cell_type": "code",
   "execution_count": 14,
   "metadata": {},
   "outputs": [
    {
     "data": {
      "text/html": [
       "<div>\n",
       "<style scoped>\n",
       "    .dataframe tbody tr th:only-of-type {\n",
       "        vertical-align: middle;\n",
       "    }\n",
       "\n",
       "    .dataframe tbody tr th {\n",
       "        vertical-align: top;\n",
       "    }\n",
       "\n",
       "    .dataframe thead th {\n",
       "        text-align: right;\n",
       "    }\n",
       "</style>\n",
       "<table border=\"1\" class=\"dataframe\">\n",
       "  <thead>\n",
       "    <tr style=\"text-align: right;\">\n",
       "      <th></th>\n",
       "      <th>MonthlyCharges</th>\n",
       "      <th>TotalCharges</th>\n",
       "    </tr>\n",
       "  </thead>\n",
       "  <tbody>\n",
       "    <tr>\n",
       "      <th>count</th>\n",
       "      <td>7043.000000</td>\n",
       "      <td>7043.000000</td>\n",
       "    </tr>\n",
       "    <tr>\n",
       "      <th>mean</th>\n",
       "      <td>64.761692</td>\n",
       "      <td>2279.734304</td>\n",
       "    </tr>\n",
       "    <tr>\n",
       "      <th>std</th>\n",
       "      <td>30.090047</td>\n",
       "      <td>2266.794470</td>\n",
       "    </tr>\n",
       "    <tr>\n",
       "      <th>min</th>\n",
       "      <td>18.250000</td>\n",
       "      <td>0.000000</td>\n",
       "    </tr>\n",
       "    <tr>\n",
       "      <th>25%</th>\n",
       "      <td>35.500000</td>\n",
       "      <td>398.550000</td>\n",
       "    </tr>\n",
       "    <tr>\n",
       "      <th>50%</th>\n",
       "      <td>70.350000</td>\n",
       "      <td>1394.550000</td>\n",
       "    </tr>\n",
       "    <tr>\n",
       "      <th>75%</th>\n",
       "      <td>89.850000</td>\n",
       "      <td>3786.600000</td>\n",
       "    </tr>\n",
       "    <tr>\n",
       "      <th>max</th>\n",
       "      <td>118.750000</td>\n",
       "      <td>8684.800000</td>\n",
       "    </tr>\n",
       "  </tbody>\n",
       "</table>\n",
       "</div>"
      ],
      "text/plain": [
       "       MonthlyCharges  TotalCharges\n",
       "count     7043.000000   7043.000000\n",
       "mean        64.761692   2279.734304\n",
       "std         30.090047   2266.794470\n",
       "min         18.250000      0.000000\n",
       "25%         35.500000    398.550000\n",
       "50%         70.350000   1394.550000\n",
       "75%         89.850000   3786.600000\n",
       "max        118.750000   8684.800000"
      ]
     },
     "metadata": {},
     "output_type": "display_data"
    }
   ],
   "source": [
    "display(contract_df.describe())"
   ]
  },
  {
   "cell_type": "markdown",
   "metadata": {},
   "source": [
    "**Ежемесячные платежи**: Медиана от среднего слабо отличаются, поэтому можно сказать, что выбросов практически нет.\n",
    "\n",
    "**Суммарные платежи**: Здесь можно увидеть, как сильно отличается среднее в большую сторону от медианы. В этом признаке выбросы сильные."
   ]
  },
  {
   "cell_type": "code",
   "execution_count": 15,
   "metadata": {},
   "outputs": [
    {
     "name": "stderr",
     "output_type": "stream",
     "text": [
      "/opt/conda/lib/python3.9/site-packages/seaborn/_decorators.py:36: FutureWarning: Pass the following variable as a keyword arg: x. From version 0.12, the only valid positional argument will be `data`, and passing other arguments without an explicit keyword will result in an error or misinterpretation.\n",
      "  warnings.warn(\n",
      "/opt/conda/lib/python3.9/site-packages/seaborn/_decorators.py:36: FutureWarning: Pass the following variable as a keyword arg: x. From version 0.12, the only valid positional argument will be `data`, and passing other arguments without an explicit keyword will result in an error or misinterpretation.\n",
      "  warnings.warn(\n"
     ]
    },
    {
     "data": {
      "text/plain": [
       "Text(0.5, 1.0, 'Total Charges')"
      ]
     },
     "execution_count": 15,
     "metadata": {},
     "output_type": "execute_result"
    },
    {
     "data": {
      "image/png": "[encoded data removed]",
      "text/plain": [
       "<Figure size 1152x360 with 2 Axes>"
      ]
     },
     "metadata": {
      "needs_background": "light"
     },
     "output_type": "display_data"
    }
   ],
   "source": [
    "fig, ax = plt.subplots(ncols=2, figsize=(16, 5))\n",
    "ax1 = sns.boxplot(contract_df['MonthlyCharges'], ax=ax[0]);\n",
    "ax1.set_title('Monthly Charges')\n",
    "\n",
    "ax2 = sns.boxplot(contract_df['TotalCharges'], ax=ax[1]);\n",
    "ax2.set_title('Total Charges')"
   ]
  },
  {
   "cell_type": "markdown",
   "metadata": {},
   "source": [
    "<div class=\"alert alert-warning\">\n",
    "<b>**Комментарий тимлида ⚠️:**</b>\n",
    "\n",
    "Ты видишь смешение данных относительно медианы. Но выбросы лучше смотреть на боксплоте.\n",
    "</div>"
   ]
  },
  {
   "cell_type": "markdown",
   "metadata": {},
   "source": [
    "<div class=\"alert alert-info\"> <b>Комментарий студента:</b>\n",
    "\n",
    "    \n",
    "На втором боксплоте выбросов как бы нет, но смещение вправо, конечно, наблюдается. </div>"
   ]
  },
  {
   "cell_type": "markdown",
   "metadata": {},
   "source": [
    "<div class=\"alert alert-success\">\n",
    "<b>**Комментарий тимлида_v2 ✔️:**</b>\n",
    "\n",
    "Да, все верно, выбросов нет, есть смещение медианы.\n",
    "</div>"
   ]
  },
  {
   "cell_type": "markdown",
   "metadata": {},
   "source": [
    "### Персональные данные"
   ]
  },
  {
   "cell_type": "code",
   "execution_count": 16,
   "metadata": {},
   "outputs": [
    {
     "data": {
      "text/html": [
       "<div>\n",
       "<style scoped>\n",
       "    .dataframe tbody tr th:only-of-type {\n",
       "        vertical-align: middle;\n",
       "    }\n",
       "\n",
       "    .dataframe tbody tr th {\n",
       "        vertical-align: top;\n",
       "    }\n",
       "\n",
       "    .dataframe thead th {\n",
       "        text-align: right;\n",
       "    }\n",
       "</style>\n",
       "<table border=\"1\" class=\"dataframe\">\n",
       "  <thead>\n",
       "    <tr style=\"text-align: right;\">\n",
       "      <th></th>\n",
       "      <th>customerID</th>\n",
       "      <th>gender</th>\n",
       "      <th>SeniorCitizen</th>\n",
       "      <th>Partner</th>\n",
       "      <th>Dependents</th>\n",
       "    </tr>\n",
       "  </thead>\n",
       "  <tbody>\n",
       "    <tr>\n",
       "      <th>0</th>\n",
       "      <td>7590-VHVEG</td>\n",
       "      <td>Female</td>\n",
       "      <td>0</td>\n",
       "      <td>Yes</td>\n",
       "      <td>No</td>\n",
       "    </tr>\n",
       "    <tr>\n",
       "      <th>1</th>\n",
       "      <td>5575-GNVDE</td>\n",
       "      <td>Male</td>\n",
       "      <td>0</td>\n",
       "      <td>No</td>\n",
       "      <td>No</td>\n",
       "    </tr>\n",
       "    <tr>\n",
       "      <th>2</th>\n",
       "      <td>3668-QPYBK</td>\n",
       "      <td>Male</td>\n",
       "      <td>0</td>\n",
       "      <td>No</td>\n",
       "      <td>No</td>\n",
       "    </tr>\n",
       "    <tr>\n",
       "      <th>3</th>\n",
       "      <td>7795-CFOCW</td>\n",
       "      <td>Male</td>\n",
       "      <td>0</td>\n",
       "      <td>No</td>\n",
       "      <td>No</td>\n",
       "    </tr>\n",
       "    <tr>\n",
       "      <th>4</th>\n",
       "      <td>9237-HQITU</td>\n",
       "      <td>Female</td>\n",
       "      <td>0</td>\n",
       "      <td>No</td>\n",
       "      <td>No</td>\n",
       "    </tr>\n",
       "  </tbody>\n",
       "</table>\n",
       "</div>"
      ],
      "text/plain": [
       "   customerID  gender  SeniorCitizen Partner Dependents\n",
       "0  7590-VHVEG  Female              0     Yes         No\n",
       "1  5575-GNVDE    Male              0      No         No\n",
       "2  3668-QPYBK    Male              0      No         No\n",
       "3  7795-CFOCW    Male              0      No         No\n",
       "4  9237-HQITU  Female              0      No         No"
      ]
     },
     "metadata": {},
     "output_type": "display_data"
    }
   ],
   "source": [
    "display(personal_df.head())"
   ]
  },
  {
   "cell_type": "code",
   "execution_count": 17,
   "metadata": {},
   "outputs": [
    {
     "name": "stdout",
     "output_type": "stream",
     "text": [
      "<class 'pandas.core.frame.DataFrame'>\n",
      "RangeIndex: 7043 entries, 0 to 7042\n",
      "Data columns (total 5 columns):\n",
      " #   Column         Non-Null Count  Dtype \n",
      "---  ------         --------------  ----- \n",
      " 0   customerID     7043 non-null   object\n",
      " 1   gender         7043 non-null   object\n",
      " 2   SeniorCitizen  7043 non-null   int64 \n",
      " 3   Partner        7043 non-null   object\n",
      " 4   Dependents     7043 non-null   object\n",
      "dtypes: int64(1), object(4)\n",
      "memory usage: 275.2+ KB\n"
     ]
    }
   ],
   "source": [
    "personal_df.info()"
   ]
  },
  {
   "cell_type": "code",
   "execution_count": 18,
   "metadata": {},
   "outputs": [
    {
     "data": {
      "image/png": "[encoded data removed]",
      "text/plain": [
       "<Figure size 1152x288 with 4 Axes>"
      ]
     },
     "metadata": {
      "needs_background": "light"
     },
     "output_type": "display_data"
    }
   ],
   "source": [
    "fig, ax = plt.subplots(ncols=4, nrows=1, figsize=(16, 4))\n",
    "\n",
    "ax0 = sns.histplot(personal_df['gender'], ax=ax[0])\n",
    "ax1 = sns.histplot(personal_df['SeniorCitizen'], ax=ax[1])\n",
    "ax2 = sns.histplot(personal_df['Partner'], ax=ax[2])\n",
    "ax3 = sns.histplot(personal_df['Dependents'], ax=ax[3])"
   ]
  },
  {
   "cell_type": "markdown",
   "metadata": {},
   "source": [
    "* У нас наблюдается сбалансированные признаки `gender` и `Partner`.\n",
    "* А признаки `SeniorCitizen` и `Dependents` уже несбалансированы.\n",
    "* Также нужно поменять название `gender` на `Gender`.\n",
    "\n",
    "Признаки `SeniorCitizen` и `Dependets` можно попробовать сбалансировать."
   ]
  },
  {
   "cell_type": "code",
   "execution_count": 19,
   "metadata": {},
   "outputs": [],
   "source": [
    "personal_df = personal_df.rename({'gender': 'Gender'}, axis=1)"
   ]
  },
  {
   "cell_type": "markdown",
   "metadata": {},
   "source": [
    "### Интернет услуги"
   ]
  },
  {
   "cell_type": "code",
   "execution_count": 20,
   "metadata": {},
   "outputs": [
    {
     "data": {
      "text/html": [
       "<div>\n",
       "<style scoped>\n",
       "    .dataframe tbody tr th:only-of-type {\n",
       "        vertical-align: middle;\n",
       "    }\n",
       "\n",
       "    .dataframe tbody tr th {\n",
       "        vertical-align: top;\n",
       "    }\n",
       "\n",
       "    .dataframe thead th {\n",
       "        text-align: right;\n",
       "    }\n",
       "</style>\n",
       "<table border=\"1\" class=\"dataframe\">\n",
       "  <thead>\n",
       "    <tr style=\"text-align: right;\">\n",
       "      <th></th>\n",
       "      <th>customerID</th>\n",
       "      <th>InternetService</th>\n",
       "      <th>OnlineSecurity</th>\n",
       "      <th>OnlineBackup</th>\n",
       "      <th>DeviceProtection</th>\n",
       "      <th>TechSupport</th>\n",
       "      <th>StreamingTV</th>\n",
       "      <th>StreamingMovies</th>\n",
       "    </tr>\n",
       "  </thead>\n",
       "  <tbody>\n",
       "    <tr>\n",
       "      <th>0</th>\n",
       "      <td>7590-VHVEG</td>\n",
       "      <td>DSL</td>\n",
       "      <td>No</td>\n",
       "      <td>Yes</td>\n",
       "      <td>No</td>\n",
       "      <td>No</td>\n",
       "      <td>No</td>\n",
       "      <td>No</td>\n",
       "    </tr>\n",
       "    <tr>\n",
       "      <th>1</th>\n",
       "      <td>5575-GNVDE</td>\n",
       "      <td>DSL</td>\n",
       "      <td>Yes</td>\n",
       "      <td>No</td>\n",
       "      <td>Yes</td>\n",
       "      <td>No</td>\n",
       "      <td>No</td>\n",
       "      <td>No</td>\n",
       "    </tr>\n",
       "    <tr>\n",
       "      <th>2</th>\n",
       "      <td>3668-QPYBK</td>\n",
       "      <td>DSL</td>\n",
       "      <td>Yes</td>\n",
       "      <td>Yes</td>\n",
       "      <td>No</td>\n",
       "      <td>No</td>\n",
       "      <td>No</td>\n",
       "      <td>No</td>\n",
       "    </tr>\n",
       "    <tr>\n",
       "      <th>3</th>\n",
       "      <td>7795-CFOCW</td>\n",
       "      <td>DSL</td>\n",
       "      <td>Yes</td>\n",
       "      <td>No</td>\n",
       "      <td>Yes</td>\n",
       "      <td>Yes</td>\n",
       "      <td>No</td>\n",
       "      <td>No</td>\n",
       "    </tr>\n",
       "    <tr>\n",
       "      <th>4</th>\n",
       "      <td>9237-HQITU</td>\n",
       "      <td>Fiber optic</td>\n",
       "      <td>No</td>\n",
       "      <td>No</td>\n",
       "      <td>No</td>\n",
       "      <td>No</td>\n",
       "      <td>No</td>\n",
       "      <td>No</td>\n",
       "    </tr>\n",
       "  </tbody>\n",
       "</table>\n",
       "</div>"
      ],
      "text/plain": [
       "   customerID InternetService OnlineSecurity OnlineBackup DeviceProtection  \\\n",
       "0  7590-VHVEG             DSL             No          Yes               No   \n",
       "1  5575-GNVDE             DSL            Yes           No              Yes   \n",
       "2  3668-QPYBK             DSL            Yes          Yes               No   \n",
       "3  7795-CFOCW             DSL            Yes           No              Yes   \n",
       "4  9237-HQITU     Fiber optic             No           No               No   \n",
       "\n",
       "  TechSupport StreamingTV StreamingMovies  \n",
       "0          No          No              No  \n",
       "1          No          No              No  \n",
       "2          No          No              No  \n",
       "3         Yes          No              No  \n",
       "4          No          No              No  "
      ]
     },
     "execution_count": 20,
     "metadata": {},
     "output_type": "execute_result"
    }
   ],
   "source": [
    "internet_df.head()"
   ]
  },
  {
   "cell_type": "code",
   "execution_count": 21,
   "metadata": {},
   "outputs": [
    {
     "name": "stdout",
     "output_type": "stream",
     "text": [
      "<class 'pandas.core.frame.DataFrame'>\n",
      "RangeIndex: 5517 entries, 0 to 5516\n",
      "Data columns (total 8 columns):\n",
      " #   Column            Non-Null Count  Dtype \n",
      "---  ------            --------------  ----- \n",
      " 0   customerID        5517 non-null   object\n",
      " 1   InternetService   5517 non-null   object\n",
      " 2   OnlineSecurity    5517 non-null   object\n",
      " 3   OnlineBackup      5517 non-null   object\n",
      " 4   DeviceProtection  5517 non-null   object\n",
      " 5   TechSupport       5517 non-null   object\n",
      " 6   StreamingTV       5517 non-null   object\n",
      " 7   StreamingMovies   5517 non-null   object\n",
      "dtypes: object(8)\n",
      "memory usage: 344.9+ KB\n"
     ]
    }
   ],
   "source": [
    "internet_df.info()"
   ]
  },
  {
   "cell_type": "markdown",
   "metadata": {},
   "source": [
    "В этой таблице содержатся ID пользователей, у которых активна мининум одна услуга. Поэтому при присоединении этой таблицы к основной, пропуски заполним значениями `No`.\n",
    "\n",
    "Посмотрим также на распределения классов."
   ]
  },
  {
   "cell_type": "code",
   "execution_count": 22,
   "metadata": {},
   "outputs": [
    {
     "data": {
      "image/png": "[encoded data removed]",
      "text/plain": [
       "<Figure size 1152x648 with 7 Axes>"
      ]
     },
     "metadata": {
      "needs_background": "light"
     },
     "output_type": "display_data"
    }
   ],
   "source": [
    "fig, ax = plt.subplots(ncols=4, nrows=2, figsize=(16, 9))\n",
    "\n",
    "ax0 = sns.histplot(internet_df['InternetService'], ax=ax[0, 0])\n",
    "ax1 = sns.histplot(internet_df['OnlineSecurity'], ax=ax[0, 1])\n",
    "ax2 = sns.histplot(internet_df['OnlineBackup'], ax=ax[0, 2])\n",
    "ax3 = sns.histplot(internet_df['DeviceProtection'], ax=ax[0, 3])\n",
    "ax4 = sns.histplot(internet_df['TechSupport'], ax=ax[1, 0])\n",
    "ax5 = sns.histplot(internet_df['StreamingTV'], ax=ax[1, 1])\n",
    "ax6 = sns.histplot(internet_df['StreamingMovies'], ax=ax[1, 2])\n",
    "\n",
    "fig.delaxes(ax[1, 3])"
   ]
  },
  {
   "cell_type": "markdown",
   "metadata": {},
   "source": [
    "* Здесь наблюдается дисбаланс классов на 50% у `OnlineSecurity` и `TechSupport`\n",
    "* У оставшихся классов с этим более менее нормально."
   ]
  },
  {
   "cell_type": "markdown",
   "metadata": {},
   "source": [
    "### Подключение нескольких линий"
   ]
  },
  {
   "cell_type": "code",
   "execution_count": 23,
   "metadata": {},
   "outputs": [
    {
     "data": {
      "text/html": [
       "<div>\n",
       "<style scoped>\n",
       "    .dataframe tbody tr th:only-of-type {\n",
       "        vertical-align: middle;\n",
       "    }\n",
       "\n",
       "    .dataframe tbody tr th {\n",
       "        vertical-align: top;\n",
       "    }\n",
       "\n",
       "    .dataframe thead th {\n",
       "        text-align: right;\n",
       "    }\n",
       "</style>\n",
       "<table border=\"1\" class=\"dataframe\">\n",
       "  <thead>\n",
       "    <tr style=\"text-align: right;\">\n",
       "      <th></th>\n",
       "      <th>customerID</th>\n",
       "      <th>MultipleLines</th>\n",
       "    </tr>\n",
       "  </thead>\n",
       "  <tbody>\n",
       "    <tr>\n",
       "      <th>0</th>\n",
       "      <td>5575-GNVDE</td>\n",
       "      <td>No</td>\n",
       "    </tr>\n",
       "    <tr>\n",
       "      <th>1</th>\n",
       "      <td>3668-QPYBK</td>\n",
       "      <td>No</td>\n",
       "    </tr>\n",
       "    <tr>\n",
       "      <th>2</th>\n",
       "      <td>9237-HQITU</td>\n",
       "      <td>No</td>\n",
       "    </tr>\n",
       "    <tr>\n",
       "      <th>3</th>\n",
       "      <td>9305-CDSKC</td>\n",
       "      <td>Yes</td>\n",
       "    </tr>\n",
       "    <tr>\n",
       "      <th>4</th>\n",
       "      <td>1452-KIOVK</td>\n",
       "      <td>Yes</td>\n",
       "    </tr>\n",
       "  </tbody>\n",
       "</table>\n",
       "</div>"
      ],
      "text/plain": [
       "   customerID MultipleLines\n",
       "0  5575-GNVDE            No\n",
       "1  3668-QPYBK            No\n",
       "2  9237-HQITU            No\n",
       "3  9305-CDSKC           Yes\n",
       "4  1452-KIOVK           Yes"
      ]
     },
     "execution_count": 23,
     "metadata": {},
     "output_type": "execute_result"
    }
   ],
   "source": [
    "phone_df.head()"
   ]
  },
  {
   "cell_type": "code",
   "execution_count": 24,
   "metadata": {},
   "outputs": [
    {
     "name": "stdout",
     "output_type": "stream",
     "text": [
      "<class 'pandas.core.frame.DataFrame'>\n",
      "RangeIndex: 6361 entries, 0 to 6360\n",
      "Data columns (total 2 columns):\n",
      " #   Column         Non-Null Count  Dtype \n",
      "---  ------         --------------  ----- \n",
      " 0   customerID     6361 non-null   object\n",
      " 1   MultipleLines  6361 non-null   object\n",
      "dtypes: object(2)\n",
      "memory usage: 99.5+ KB\n"
     ]
    }
   ],
   "source": [
    "phone_df.info()"
   ]
  },
  {
   "cell_type": "markdown",
   "metadata": {},
   "source": [
    "Логично предположить здесь то же самое (про заполнение пропусков значениями `No`). Но лучше проверить основную таблицу `contact_df` на наличие дубликатов в колонке `customerID`. Может в основной таблице одни и те же ID могли заключать несколько договоров в разные промежутки времени."
   ]
  },
  {
   "cell_type": "code",
   "execution_count": 25,
   "metadata": {},
   "outputs": [
    {
     "name": "stdout",
     "output_type": "stream",
     "text": [
      "Кол-во дублей: 0\n"
     ]
    }
   ],
   "source": [
    "print('Кол-во дублей:', contract_df['customerID'].duplicated().sum())"
   ]
  },
  {
   "cell_type": "markdown",
   "metadata": {},
   "source": [
    "Догадка не подтвердилась. Все ID пользователей разные."
   ]
  },
  {
   "cell_type": "markdown",
   "metadata": {},
   "source": [
    "<div class=\"alert alert-success\">\n",
    "<b>**Комментарий тимлида ✔️:**</b>\n",
    "\n",
    "Есть план, есть уточняющие вопросы, есть предварительное исследование данных. \n",
    "\n",
    "Осталось немного доработать тетрадку в соответствии с моими замечаниями. Жду исправленную версию!\n",
    "</div>"
   ]
  },
  {
   "cell_type": "markdown",
   "metadata": {},
   "source": [
    "<div class=\"alert alert-success\">\n",
    "<b>**Комментарий тимлида_v2 ✔️:**</b>\n",
    "\n",
    "Есть план, есть уточняющие вопросы, есть предварительное исследование данных. \n",
    "\n",
    "Отлично, работу приниаю, переходи к следующему этапу исследования - разработка модели.\n",
    "</div>"
   ]
  },
  {
   "cell_type": "markdown",
   "metadata": {},
   "source": [
    "### Соединение таблиц"
   ]
  },
  {
   "cell_type": "code",
   "execution_count": 26,
   "metadata": {},
   "outputs": [],
   "source": [
    "data = contract_df.merge(personal_df, how='left', on='customerID')\n",
    "data = data.merge(internet_df, how='left', on='customerID')\n",
    "data = data.merge(phone_df, how='left', on='customerID')"
   ]
  },
  {
   "cell_type": "code",
   "execution_count": 27,
   "metadata": {},
   "outputs": [
    {
     "data": {
      "text/html": [
       "<div>\n",
       "<style scoped>\n",
       "    .dataframe tbody tr th:only-of-type {\n",
       "        vertical-align: middle;\n",
       "    }\n",
       "\n",
       "    .dataframe tbody tr th {\n",
       "        vertical-align: top;\n",
       "    }\n",
       "\n",
       "    .dataframe thead th {\n",
       "        text-align: right;\n",
       "    }\n",
       "</style>\n",
       "<table border=\"1\" class=\"dataframe\">\n",
       "  <thead>\n",
       "    <tr style=\"text-align: right;\">\n",
       "      <th></th>\n",
       "      <th>customerID</th>\n",
       "      <th>BeginDate</th>\n",
       "      <th>EndDate</th>\n",
       "      <th>Type</th>\n",
       "      <th>PaperlessBilling</th>\n",
       "      <th>PaymentMethod</th>\n",
       "      <th>MonthlyCharges</th>\n",
       "      <th>TotalCharges</th>\n",
       "      <th>Gender</th>\n",
       "      <th>SeniorCitizen</th>\n",
       "      <th>Partner</th>\n",
       "      <th>Dependents</th>\n",
       "      <th>InternetService</th>\n",
       "      <th>OnlineSecurity</th>\n",
       "      <th>OnlineBackup</th>\n",
       "      <th>DeviceProtection</th>\n",
       "      <th>TechSupport</th>\n",
       "      <th>StreamingTV</th>\n",
       "      <th>StreamingMovies</th>\n",
       "      <th>MultipleLines</th>\n",
       "    </tr>\n",
       "  </thead>\n",
       "  <tbody>\n",
       "    <tr>\n",
       "      <th>0</th>\n",
       "      <td>7590-VHVEG</td>\n",
       "      <td>2020-01-01</td>\n",
       "      <td>No</td>\n",
       "      <td>Month-to-month</td>\n",
       "      <td>Yes</td>\n",
       "      <td>Electronic check</td>\n",
       "      <td>29.85</td>\n",
       "      <td>29.85</td>\n",
       "      <td>Female</td>\n",
       "      <td>0</td>\n",
       "      <td>Yes</td>\n",
       "      <td>No</td>\n",
       "      <td>DSL</td>\n",
       "      <td>No</td>\n",
       "      <td>Yes</td>\n",
       "      <td>No</td>\n",
       "      <td>No</td>\n",
       "      <td>No</td>\n",
       "      <td>No</td>\n",
       "      <td>NaN</td>\n",
       "    </tr>\n",
       "    <tr>\n",
       "      <th>1</th>\n",
       "      <td>5575-GNVDE</td>\n",
       "      <td>2017-04-01</td>\n",
       "      <td>No</td>\n",
       "      <td>One year</td>\n",
       "      <td>No</td>\n",
       "      <td>Mailed check</td>\n",
       "      <td>56.95</td>\n",
       "      <td>1889.50</td>\n",
       "      <td>Male</td>\n",
       "      <td>0</td>\n",
       "      <td>No</td>\n",
       "      <td>No</td>\n",
       "      <td>DSL</td>\n",
       "      <td>Yes</td>\n",
       "      <td>No</td>\n",
       "      <td>Yes</td>\n",
       "      <td>No</td>\n",
       "      <td>No</td>\n",
       "      <td>No</td>\n",
       "      <td>No</td>\n",
       "    </tr>\n",
       "    <tr>\n",
       "      <th>2</th>\n",
       "      <td>3668-QPYBK</td>\n",
       "      <td>2019-10-01</td>\n",
       "      <td>2019-12-01 00:00:00</td>\n",
       "      <td>Month-to-month</td>\n",
       "      <td>Yes</td>\n",
       "      <td>Mailed check</td>\n",
       "      <td>53.85</td>\n",
       "      <td>108.15</td>\n",
       "      <td>Male</td>\n",
       "      <td>0</td>\n",
       "      <td>No</td>\n",
       "      <td>No</td>\n",
       "      <td>DSL</td>\n",
       "      <td>Yes</td>\n",
       "      <td>Yes</td>\n",
       "      <td>No</td>\n",
       "      <td>No</td>\n",
       "      <td>No</td>\n",
       "      <td>No</td>\n",
       "      <td>No</td>\n",
       "    </tr>\n",
       "    <tr>\n",
       "      <th>3</th>\n",
       "      <td>7795-CFOCW</td>\n",
       "      <td>2016-05-01</td>\n",
       "      <td>No</td>\n",
       "      <td>One year</td>\n",
       "      <td>No</td>\n",
       "      <td>Bank transfer (automatic)</td>\n",
       "      <td>42.30</td>\n",
       "      <td>1840.75</td>\n",
       "      <td>Male</td>\n",
       "      <td>0</td>\n",
       "      <td>No</td>\n",
       "      <td>No</td>\n",
       "      <td>DSL</td>\n",
       "      <td>Yes</td>\n",
       "      <td>No</td>\n",
       "      <td>Yes</td>\n",
       "      <td>Yes</td>\n",
       "      <td>No</td>\n",
       "      <td>No</td>\n",
       "      <td>NaN</td>\n",
       "    </tr>\n",
       "    <tr>\n",
       "      <th>4</th>\n",
       "      <td>9237-HQITU</td>\n",
       "      <td>2019-09-01</td>\n",
       "      <td>2019-11-01 00:00:00</td>\n",
       "      <td>Month-to-month</td>\n",
       "      <td>Yes</td>\n",
       "      <td>Electronic check</td>\n",
       "      <td>70.70</td>\n",
       "      <td>151.65</td>\n",
       "      <td>Female</td>\n",
       "      <td>0</td>\n",
       "      <td>No</td>\n",
       "      <td>No</td>\n",
       "      <td>Fiber optic</td>\n",
       "      <td>No</td>\n",
       "      <td>No</td>\n",
       "      <td>No</td>\n",
       "      <td>No</td>\n",
       "      <td>No</td>\n",
       "      <td>No</td>\n",
       "      <td>No</td>\n",
       "    </tr>\n",
       "  </tbody>\n",
       "</table>\n",
       "</div>"
      ],
      "text/plain": [
       "   customerID  BeginDate              EndDate            Type  \\\n",
       "0  7590-VHVEG 2020-01-01                   No  Month-to-month   \n",
       "1  5575-GNVDE 2017-04-01                   No        One year   \n",
       "2  3668-QPYBK 2019-10-01  2019-12-01 00:00:00  Month-to-month   \n",
       "3  7795-CFOCW 2016-05-01                   No        One year   \n",
       "4  9237-HQITU 2019-09-01  2019-11-01 00:00:00  Month-to-month   \n",
       "\n",
       "  PaperlessBilling              PaymentMethod  MonthlyCharges  TotalCharges  \\\n",
       "0              Yes           Electronic check           29.85         29.85   \n",
       "1               No               Mailed check           56.95       1889.50   \n",
       "2              Yes               Mailed check           53.85        108.15   \n",
       "3               No  Bank transfer (automatic)           42.30       1840.75   \n",
       "4              Yes           Electronic check           70.70        151.65   \n",
       "\n",
       "   Gender  SeniorCitizen Partner Dependents InternetService OnlineSecurity  \\\n",
       "0  Female              0     Yes         No             DSL             No   \n",
       "1    Male              0      No         No             DSL            Yes   \n",
       "2    Male              0      No         No             DSL            Yes   \n",
       "3    Male              0      No         No             DSL            Yes   \n",
       "4  Female              0      No         No     Fiber optic             No   \n",
       "\n",
       "  OnlineBackup DeviceProtection TechSupport StreamingTV StreamingMovies  \\\n",
       "0          Yes               No          No          No              No   \n",
       "1           No              Yes          No          No              No   \n",
       "2          Yes               No          No          No              No   \n",
       "3           No              Yes         Yes          No              No   \n",
       "4           No               No          No          No              No   \n",
       "\n",
       "  MultipleLines  \n",
       "0           NaN  \n",
       "1            No  \n",
       "2            No  \n",
       "3           NaN  \n",
       "4            No  "
      ]
     },
     "execution_count": 27,
     "metadata": {},
     "output_type": "execute_result"
    }
   ],
   "source": [
    "data.head()"
   ]
  },
  {
   "cell_type": "code",
   "execution_count": 28,
   "metadata": {},
   "outputs": [
    {
     "name": "stdout",
     "output_type": "stream",
     "text": [
      "<class 'pandas.core.frame.DataFrame'>\n",
      "Int64Index: 7043 entries, 0 to 7042\n",
      "Data columns (total 20 columns):\n",
      " #   Column            Non-Null Count  Dtype         \n",
      "---  ------            --------------  -----         \n",
      " 0   customerID        7043 non-null   object        \n",
      " 1   BeginDate         7043 non-null   datetime64[ns]\n",
      " 2   EndDate           7043 non-null   object        \n",
      " 3   Type              7043 non-null   object        \n",
      " 4   PaperlessBilling  7043 non-null   object        \n",
      " 5   PaymentMethod     7043 non-null   object        \n",
      " 6   MonthlyCharges    7043 non-null   float64       \n",
      " 7   TotalCharges      7043 non-null   float64       \n",
      " 8   Gender            7043 non-null   object        \n",
      " 9   SeniorCitizen     7043 non-null   int64         \n",
      " 10  Partner           7043 non-null   object        \n",
      " 11  Dependents        7043 non-null   object        \n",
      " 12  InternetService   5517 non-null   object        \n",
      " 13  OnlineSecurity    5517 non-null   object        \n",
      " 14  OnlineBackup      5517 non-null   object        \n",
      " 15  DeviceProtection  5517 non-null   object        \n",
      " 16  TechSupport       5517 non-null   object        \n",
      " 17  StreamingTV       5517 non-null   object        \n",
      " 18  StreamingMovies   5517 non-null   object        \n",
      " 19  MultipleLines     6361 non-null   object        \n",
      "dtypes: datetime64[ns](1), float64(2), int64(1), object(16)\n",
      "memory usage: 1.1+ MB\n"
     ]
    }
   ],
   "source": [
    "data.info()"
   ]
  },
  {
   "cell_type": "markdown",
   "metadata": {},
   "source": [
    "Теперь все пропуски заполним `No`, т.к. если ID клиента отсутствовало в той или иной таблице, то можно предположить, что теми услугами он не пользовался."
   ]
  },
  {
   "cell_type": "code",
   "execution_count": 29,
   "metadata": {},
   "outputs": [],
   "source": [
    "data = data.fillna('No')"
   ]
  },
  {
   "cell_type": "code",
   "execution_count": 30,
   "metadata": {
    "scrolled": false
   },
   "outputs": [
    {
     "name": "stdout",
     "output_type": "stream",
     "text": [
      "Кол-во пропусков в датасете: customerID          0\n",
      "BeginDate           0\n",
      "EndDate             0\n",
      "Type                0\n",
      "PaperlessBilling    0\n",
      "PaymentMethod       0\n",
      "MonthlyCharges      0\n",
      "TotalCharges        0\n",
      "Gender              0\n",
      "SeniorCitizen       0\n",
      "Partner             0\n",
      "Dependents          0\n",
      "InternetService     0\n",
      "OnlineSecurity      0\n",
      "OnlineBackup        0\n",
      "DeviceProtection    0\n",
      "TechSupport         0\n",
      "StreamingTV         0\n",
      "StreamingMovies     0\n",
      "MultipleLines       0\n",
      "dtype: int64\n"
     ]
    }
   ],
   "source": [
    "print('Кол-во пропусков в датасете:', data.isna().sum())"
   ]
  },
  {
   "cell_type": "markdown",
   "metadata": {},
   "source": [
    "<div class=\"alert alert-success\">\n",
    "<b>**Комментарий тимлида_v2 ✔️:**</b>\n",
    "\n",
    "Есть объединение таблиц!\n",
    "    \n",
    "Отличная работа по заполнению признаков. Хорошо что оставляешь бинарные признаки бинарными - No не увеличивает вариантов для бинарных признаков (некоторые заполняют значением типа NA или UNKNOWN что негативно влияет на качетво модели).\n",
    "</div>"
   ]
  },
  {
   "cell_type": "markdown",
   "metadata": {},
   "source": [
    "**Теперь создадим бинарный таргет**"
   ]
  },
  {
   "cell_type": "code",
   "execution_count": 31,
   "metadata": {},
   "outputs": [],
   "source": [
    "data['isChurn'] = list(map(lambda x: 0 if (x == 'No') else 1, data['EndDate']))"
   ]
  },
  {
   "cell_type": "code",
   "execution_count": 32,
   "metadata": {},
   "outputs": [
    {
     "data": {
      "text/plain": [
       "0    0\n",
       "1    0\n",
       "2    1\n",
       "3    0\n",
       "4    1\n",
       "Name: isChurn, dtype: int64"
      ]
     },
     "execution_count": 32,
     "metadata": {},
     "output_type": "execute_result"
    }
   ],
   "source": [
    "data['isChurn'].head()"
   ]
  },
  {
   "cell_type": "markdown",
   "metadata": {},
   "source": [
    "Отлично, теперь проверим признаки на мультиколлениарность и удалим лишние. Будем использовать VIF, для этого нужно перевести данные в численные типы. Используем разные виды кодирования."
   ]
  },
  {
   "cell_type": "markdown",
   "metadata": {},
   "source": [
    "<div class=\"alert alert-success\">\n",
    "<b>**Комментарий тимлида_v2 ✔️:**</b>\n",
    "\n",
    "Есть таргет!\n",
    "</div>"
   ]
  },
  {
   "cell_type": "markdown",
   "metadata": {},
   "source": [
    "Теперь создадим синтетический признак, который будет кол-во дней, сколько провел клиент с компанией."
   ]
  },
  {
   "cell_type": "code",
   "execution_count": 33,
   "metadata": {},
   "outputs": [],
   "source": [
    "data['EndDate'] = data['EndDate'].replace('No', '2020-02-01')\n",
    "\n",
    "data['EndDate'] = pd.to_datetime(data['EndDate'], format='%Y-%m-%d')"
   ]
  },
  {
   "cell_type": "code",
   "execution_count": 34,
   "metadata": {},
   "outputs": [],
   "source": [
    "data['Days'] = (data['EndDate'] - data['BeginDate']).dt.days"
   ]
  },
  {
   "cell_type": "markdown",
   "metadata": {},
   "source": [
    "<div class=\"alert alert-success\">\n",
    "<b>**Комментарий тимлида_v3 ✔️:**</b>\n",
    "\n",
    "А вот и новый важный признак!\n",
    "</div>"
   ]
  },
  {
   "cell_type": "markdown",
   "metadata": {},
   "source": [
    "### Проверка на мультиколлинеарность"
   ]
  },
  {
   "cell_type": "code",
   "execution_count": 35,
   "metadata": {},
   "outputs": [],
   "source": [
    "data = data.drop(['BeginDate', 'EndDate', 'customerID'], axis=1)"
   ]
  },
  {
   "cell_type": "markdown",
   "metadata": {},
   "source": [
    "Чтобы не множить дамми колонки через OHE, используем LabelEncoder для тех колонок, где всего два категориальных признака. LabelEncoder используется т.к. через него есть возможность передать одномерный массив, результатом которого можно будет датафрейм, а не вектор, как у OrdinalEncoder. А это удобно для дальнейшей работы."
   ]
  },
  {
   "cell_type": "markdown",
   "metadata": {},
   "source": [
    "<div class=\"alert alert-success\">\n",
    "<b>**Комментарий тимлида_v2 ✔️:**</b>\n",
    "\n",
    "Молодец что удаляешь признаки с временем - у нас задача бинарной классификации, а не анализ временных рядов. Кроме этого даты - в нашем случае это утечка целевого признака (особенно дата окончания) \n",
    "</div>"
   ]
  },
  {
   "cell_type": "code",
   "execution_count": 36,
   "metadata": {},
   "outputs": [
    {
     "name": "stdout",
     "output_type": "stream",
     "text": [
      "['Month-to-month' 'One year' 'Two year']\n",
      "['DSL' 'Fiber optic' 'No']\n",
      "['Electronic check' 'Mailed check' 'Bank transfer (automatic)'\n",
      " 'Credit card (automatic)']\n"
     ]
    }
   ],
   "source": [
    "print(data['Type'].unique())\n",
    "print(data['InternetService'].unique())\n",
    "print(data['PaymentMethod'].unique())"
   ]
  },
  {
   "cell_type": "markdown",
   "metadata": {},
   "source": [
    "У колонки `Type` можно обнаружить порядок, поэтому для него тоже используем LabelEncoder."
   ]
  },
  {
   "cell_type": "code",
   "execution_count": 37,
   "metadata": {},
   "outputs": [],
   "source": [
    "features_ordinal = list(data.drop(['PaymentMethod', 'SeniorCitizen', 'InternetService', 'isChurn', 'MonthlyCharges',\n",
    "                                   'TotalCharges'], axis=1).columns)"
   ]
  },
  {
   "cell_type": "code",
   "execution_count": 38,
   "metadata": {},
   "outputs": [],
   "source": [
    "# Копиравоние датафрейма в новую переменную, чтобы потом была возможность работать со старым датафреймом\n",
    "data_enc = data.copy()"
   ]
  },
  {
   "cell_type": "code",
   "execution_count": 39,
   "metadata": {},
   "outputs": [
    {
     "data": {
      "text/html": [
       "<div>\n",
       "<style scoped>\n",
       "    .dataframe tbody tr th:only-of-type {\n",
       "        vertical-align: middle;\n",
       "    }\n",
       "\n",
       "    .dataframe tbody tr th {\n",
       "        vertical-align: top;\n",
       "    }\n",
       "\n",
       "    .dataframe thead th {\n",
       "        text-align: right;\n",
       "    }\n",
       "</style>\n",
       "<table border=\"1\" class=\"dataframe\">\n",
       "  <thead>\n",
       "    <tr style=\"text-align: right;\">\n",
       "      <th></th>\n",
       "      <th>Type</th>\n",
       "      <th>PaperlessBilling</th>\n",
       "      <th>PaymentMethod</th>\n",
       "      <th>MonthlyCharges</th>\n",
       "      <th>TotalCharges</th>\n",
       "      <th>Gender</th>\n",
       "      <th>SeniorCitizen</th>\n",
       "      <th>Partner</th>\n",
       "      <th>Dependents</th>\n",
       "      <th>InternetService</th>\n",
       "      <th>OnlineSecurity</th>\n",
       "      <th>OnlineBackup</th>\n",
       "      <th>DeviceProtection</th>\n",
       "      <th>TechSupport</th>\n",
       "      <th>StreamingTV</th>\n",
       "      <th>StreamingMovies</th>\n",
       "      <th>MultipleLines</th>\n",
       "      <th>isChurn</th>\n",
       "      <th>Days</th>\n",
       "    </tr>\n",
       "  </thead>\n",
       "  <tbody>\n",
       "    <tr>\n",
       "      <th>0</th>\n",
       "      <td>0</td>\n",
       "      <td>1</td>\n",
       "      <td>Electronic check</td>\n",
       "      <td>29.85</td>\n",
       "      <td>29.85</td>\n",
       "      <td>0</td>\n",
       "      <td>0</td>\n",
       "      <td>1</td>\n",
       "      <td>0</td>\n",
       "      <td>DSL</td>\n",
       "      <td>0</td>\n",
       "      <td>1</td>\n",
       "      <td>0</td>\n",
       "      <td>0</td>\n",
       "      <td>0</td>\n",
       "      <td>0</td>\n",
       "      <td>0</td>\n",
       "      <td>0</td>\n",
       "      <td>2</td>\n",
       "    </tr>\n",
       "    <tr>\n",
       "      <th>1</th>\n",
       "      <td>1</td>\n",
       "      <td>0</td>\n",
       "      <td>Mailed check</td>\n",
       "      <td>56.95</td>\n",
       "      <td>1889.50</td>\n",
       "      <td>1</td>\n",
       "      <td>0</td>\n",
       "      <td>0</td>\n",
       "      <td>0</td>\n",
       "      <td>DSL</td>\n",
       "      <td>1</td>\n",
       "      <td>0</td>\n",
       "      <td>1</td>\n",
       "      <td>0</td>\n",
       "      <td>0</td>\n",
       "      <td>0</td>\n",
       "      <td>0</td>\n",
       "      <td>0</td>\n",
       "      <td>74</td>\n",
       "    </tr>\n",
       "    <tr>\n",
       "      <th>2</th>\n",
       "      <td>0</td>\n",
       "      <td>1</td>\n",
       "      <td>Mailed check</td>\n",
       "      <td>53.85</td>\n",
       "      <td>108.15</td>\n",
       "      <td>1</td>\n",
       "      <td>0</td>\n",
       "      <td>0</td>\n",
       "      <td>0</td>\n",
       "      <td>DSL</td>\n",
       "      <td>1</td>\n",
       "      <td>1</td>\n",
       "      <td>0</td>\n",
       "      <td>0</td>\n",
       "      <td>0</td>\n",
       "      <td>0</td>\n",
       "      <td>0</td>\n",
       "      <td>1</td>\n",
       "      <td>3</td>\n",
       "    </tr>\n",
       "    <tr>\n",
       "      <th>3</th>\n",
       "      <td>1</td>\n",
       "      <td>0</td>\n",
       "      <td>Bank transfer (automatic)</td>\n",
       "      <td>42.30</td>\n",
       "      <td>1840.75</td>\n",
       "      <td>1</td>\n",
       "      <td>0</td>\n",
       "      <td>0</td>\n",
       "      <td>0</td>\n",
       "      <td>DSL</td>\n",
       "      <td>1</td>\n",
       "      <td>0</td>\n",
       "      <td>1</td>\n",
       "      <td>1</td>\n",
       "      <td>0</td>\n",
       "      <td>0</td>\n",
       "      <td>0</td>\n",
       "      <td>0</td>\n",
       "      <td>96</td>\n",
       "    </tr>\n",
       "    <tr>\n",
       "      <th>4</th>\n",
       "      <td>0</td>\n",
       "      <td>1</td>\n",
       "      <td>Electronic check</td>\n",
       "      <td>70.70</td>\n",
       "      <td>151.65</td>\n",
       "      <td>0</td>\n",
       "      <td>0</td>\n",
       "      <td>0</td>\n",
       "      <td>0</td>\n",
       "      <td>Fiber optic</td>\n",
       "      <td>0</td>\n",
       "      <td>0</td>\n",
       "      <td>0</td>\n",
       "      <td>0</td>\n",
       "      <td>0</td>\n",
       "      <td>0</td>\n",
       "      <td>0</td>\n",
       "      <td>1</td>\n",
       "      <td>3</td>\n",
       "    </tr>\n",
       "  </tbody>\n",
       "</table>\n",
       "</div>"
      ],
      "text/plain": [
       "   Type  PaperlessBilling              PaymentMethod  MonthlyCharges  \\\n",
       "0     0                 1           Electronic check           29.85   \n",
       "1     1                 0               Mailed check           56.95   \n",
       "2     0                 1               Mailed check           53.85   \n",
       "3     1                 0  Bank transfer (automatic)           42.30   \n",
       "4     0                 1           Electronic check           70.70   \n",
       "\n",
       "   TotalCharges  Gender  SeniorCitizen  Partner  Dependents InternetService  \\\n",
       "0         29.85       0              0        1           0             DSL   \n",
       "1       1889.50       1              0        0           0             DSL   \n",
       "2        108.15       1              0        0           0             DSL   \n",
       "3       1840.75       1              0        0           0             DSL   \n",
       "4        151.65       0              0        0           0     Fiber optic   \n",
       "\n",
       "   OnlineSecurity  OnlineBackup  DeviceProtection  TechSupport  StreamingTV  \\\n",
       "0               0             1                 0            0            0   \n",
       "1               1             0                 1            0            0   \n",
       "2               1             1                 0            0            0   \n",
       "3               1             0                 1            1            0   \n",
       "4               0             0                 0            0            0   \n",
       "\n",
       "   StreamingMovies  MultipleLines  isChurn  Days  \n",
       "0                0              0        0     2  \n",
       "1                0              0        0    74  \n",
       "2                0              0        1     3  \n",
       "3                0              0        0    96  \n",
       "4                0              0        1     3  "
      ]
     },
     "execution_count": 39,
     "metadata": {},
     "output_type": "execute_result"
    }
   ],
   "source": [
    "for col in features_ordinal:\n",
    "    data_enc[col] = LabelEncoder().fit_transform(data[col])\n",
    "    \n",
    "data_enc.head() "
   ]
  },
  {
   "cell_type": "code",
   "execution_count": 40,
   "metadata": {},
   "outputs": [
    {
     "data": {
      "text/html": [
       "<div>\n",
       "<style scoped>\n",
       "    .dataframe tbody tr th:only-of-type {\n",
       "        vertical-align: middle;\n",
       "    }\n",
       "\n",
       "    .dataframe tbody tr th {\n",
       "        vertical-align: top;\n",
       "    }\n",
       "\n",
       "    .dataframe thead th {\n",
       "        text-align: right;\n",
       "    }\n",
       "</style>\n",
       "<table border=\"1\" class=\"dataframe\">\n",
       "  <thead>\n",
       "    <tr style=\"text-align: right;\">\n",
       "      <th></th>\n",
       "      <th>PaymentMethod_Credit card (automatic)</th>\n",
       "      <th>PaymentMethod_Electronic check</th>\n",
       "      <th>PaymentMethod_Mailed check</th>\n",
       "      <th>InternetService_Fiber optic</th>\n",
       "      <th>InternetService_No</th>\n",
       "    </tr>\n",
       "  </thead>\n",
       "  <tbody>\n",
       "    <tr>\n",
       "      <th>0</th>\n",
       "      <td>0</td>\n",
       "      <td>1</td>\n",
       "      <td>0</td>\n",
       "      <td>0</td>\n",
       "      <td>0</td>\n",
       "    </tr>\n",
       "    <tr>\n",
       "      <th>1</th>\n",
       "      <td>0</td>\n",
       "      <td>0</td>\n",
       "      <td>1</td>\n",
       "      <td>0</td>\n",
       "      <td>0</td>\n",
       "    </tr>\n",
       "    <tr>\n",
       "      <th>2</th>\n",
       "      <td>0</td>\n",
       "      <td>0</td>\n",
       "      <td>1</td>\n",
       "      <td>0</td>\n",
       "      <td>0</td>\n",
       "    </tr>\n",
       "    <tr>\n",
       "      <th>3</th>\n",
       "      <td>0</td>\n",
       "      <td>0</td>\n",
       "      <td>0</td>\n",
       "      <td>0</td>\n",
       "      <td>0</td>\n",
       "    </tr>\n",
       "    <tr>\n",
       "      <th>4</th>\n",
       "      <td>0</td>\n",
       "      <td>1</td>\n",
       "      <td>0</td>\n",
       "      <td>1</td>\n",
       "      <td>0</td>\n",
       "    </tr>\n",
       "  </tbody>\n",
       "</table>\n",
       "</div>"
      ],
      "text/plain": [
       "   PaymentMethod_Credit card (automatic)  PaymentMethod_Electronic check  \\\n",
       "0                                      0                               1   \n",
       "1                                      0                               0   \n",
       "2                                      0                               0   \n",
       "3                                      0                               0   \n",
       "4                                      0                               1   \n",
       "\n",
       "   PaymentMethod_Mailed check  InternetService_Fiber optic  InternetService_No  \n",
       "0                           0                            0                   0  \n",
       "1                           1                            0                   0  \n",
       "2                           1                            0                   0  \n",
       "3                           0                            0                   0  \n",
       "4                           0                            1                   0  "
      ]
     },
     "execution_count": 40,
     "metadata": {},
     "output_type": "execute_result"
    }
   ],
   "source": [
    "data_dummies = pd.get_dummies(data[['PaymentMethod', 'InternetService']], drop_first=True)\n",
    "\n",
    "data_dummies.head()"
   ]
  },
  {
   "cell_type": "code",
   "execution_count": 41,
   "metadata": {},
   "outputs": [],
   "source": [
    "# Соединение таблиц по индексам\n",
    "data_enc = data_enc.join(data_dummies)\n",
    "\n",
    "# Удаление object колонок\n",
    "data_enc = data_enc.drop(['PaymentMethod', 'InternetService'], axis=1)"
   ]
  },
  {
   "cell_type": "code",
   "execution_count": 42,
   "metadata": {},
   "outputs": [
    {
     "data": {
      "text/html": [
       "<div>\n",
       "<style scoped>\n",
       "    .dataframe tbody tr th:only-of-type {\n",
       "        vertical-align: middle;\n",
       "    }\n",
       "\n",
       "    .dataframe tbody tr th {\n",
       "        vertical-align: top;\n",
       "    }\n",
       "\n",
       "    .dataframe thead th {\n",
       "        text-align: right;\n",
       "    }\n",
       "</style>\n",
       "<table border=\"1\" class=\"dataframe\">\n",
       "  <thead>\n",
       "    <tr style=\"text-align: right;\">\n",
       "      <th></th>\n",
       "      <th>Type</th>\n",
       "      <th>PaperlessBilling</th>\n",
       "      <th>MonthlyCharges</th>\n",
       "      <th>TotalCharges</th>\n",
       "      <th>Gender</th>\n",
       "      <th>SeniorCitizen</th>\n",
       "      <th>Partner</th>\n",
       "      <th>Dependents</th>\n",
       "      <th>OnlineSecurity</th>\n",
       "      <th>OnlineBackup</th>\n",
       "      <th>...</th>\n",
       "      <th>StreamingTV</th>\n",
       "      <th>StreamingMovies</th>\n",
       "      <th>MultipleLines</th>\n",
       "      <th>isChurn</th>\n",
       "      <th>Days</th>\n",
       "      <th>PaymentMethod_Credit card (automatic)</th>\n",
       "      <th>PaymentMethod_Electronic check</th>\n",
       "      <th>PaymentMethod_Mailed check</th>\n",
       "      <th>InternetService_Fiber optic</th>\n",
       "      <th>InternetService_No</th>\n",
       "    </tr>\n",
       "  </thead>\n",
       "  <tbody>\n",
       "    <tr>\n",
       "      <th>0</th>\n",
       "      <td>0</td>\n",
       "      <td>1</td>\n",
       "      <td>29.85</td>\n",
       "      <td>29.85</td>\n",
       "      <td>0</td>\n",
       "      <td>0</td>\n",
       "      <td>1</td>\n",
       "      <td>0</td>\n",
       "      <td>0</td>\n",
       "      <td>1</td>\n",
       "      <td>...</td>\n",
       "      <td>0</td>\n",
       "      <td>0</td>\n",
       "      <td>0</td>\n",
       "      <td>0</td>\n",
       "      <td>2</td>\n",
       "      <td>0</td>\n",
       "      <td>1</td>\n",
       "      <td>0</td>\n",
       "      <td>0</td>\n",
       "      <td>0</td>\n",
       "    </tr>\n",
       "    <tr>\n",
       "      <th>1</th>\n",
       "      <td>1</td>\n",
       "      <td>0</td>\n",
       "      <td>56.95</td>\n",
       "      <td>1889.50</td>\n",
       "      <td>1</td>\n",
       "      <td>0</td>\n",
       "      <td>0</td>\n",
       "      <td>0</td>\n",
       "      <td>1</td>\n",
       "      <td>0</td>\n",
       "      <td>...</td>\n",
       "      <td>0</td>\n",
       "      <td>0</td>\n",
       "      <td>0</td>\n",
       "      <td>0</td>\n",
       "      <td>74</td>\n",
       "      <td>0</td>\n",
       "      <td>0</td>\n",
       "      <td>1</td>\n",
       "      <td>0</td>\n",
       "      <td>0</td>\n",
       "    </tr>\n",
       "    <tr>\n",
       "      <th>2</th>\n",
       "      <td>0</td>\n",
       "      <td>1</td>\n",
       "      <td>53.85</td>\n",
       "      <td>108.15</td>\n",
       "      <td>1</td>\n",
       "      <td>0</td>\n",
       "      <td>0</td>\n",
       "      <td>0</td>\n",
       "      <td>1</td>\n",
       "      <td>1</td>\n",
       "      <td>...</td>\n",
       "      <td>0</td>\n",
       "      <td>0</td>\n",
       "      <td>0</td>\n",
       "      <td>1</td>\n",
       "      <td>3</td>\n",
       "      <td>0</td>\n",
       "      <td>0</td>\n",
       "      <td>1</td>\n",
       "      <td>0</td>\n",
       "      <td>0</td>\n",
       "    </tr>\n",
       "    <tr>\n",
       "      <th>3</th>\n",
       "      <td>1</td>\n",
       "      <td>0</td>\n",
       "      <td>42.30</td>\n",
       "      <td>1840.75</td>\n",
       "      <td>1</td>\n",
       "      <td>0</td>\n",
       "      <td>0</td>\n",
       "      <td>0</td>\n",
       "      <td>1</td>\n",
       "      <td>0</td>\n",
       "      <td>...</td>\n",
       "      <td>0</td>\n",
       "      <td>0</td>\n",
       "      <td>0</td>\n",
       "      <td>0</td>\n",
       "      <td>96</td>\n",
       "      <td>0</td>\n",
       "      <td>0</td>\n",
       "      <td>0</td>\n",
       "      <td>0</td>\n",
       "      <td>0</td>\n",
       "    </tr>\n",
       "    <tr>\n",
       "      <th>4</th>\n",
       "      <td>0</td>\n",
       "      <td>1</td>\n",
       "      <td>70.70</td>\n",
       "      <td>151.65</td>\n",
       "      <td>0</td>\n",
       "      <td>0</td>\n",
       "      <td>0</td>\n",
       "      <td>0</td>\n",
       "      <td>0</td>\n",
       "      <td>0</td>\n",
       "      <td>...</td>\n",
       "      <td>0</td>\n",
       "      <td>0</td>\n",
       "      <td>0</td>\n",
       "      <td>1</td>\n",
       "      <td>3</td>\n",
       "      <td>0</td>\n",
       "      <td>1</td>\n",
       "      <td>0</td>\n",
       "      <td>1</td>\n",
       "      <td>0</td>\n",
       "    </tr>\n",
       "  </tbody>\n",
       "</table>\n",
       "<p>5 rows × 22 columns</p>\n",
       "</div>"
      ],
      "text/plain": [
       "   Type  PaperlessBilling  MonthlyCharges  TotalCharges  Gender  \\\n",
       "0     0                 1           29.85         29.85       0   \n",
       "1     1                 0           56.95       1889.50       1   \n",
       "2     0                 1           53.85        108.15       1   \n",
       "3     1                 0           42.30       1840.75       1   \n",
       "4     0                 1           70.70        151.65       0   \n",
       "\n",
       "   SeniorCitizen  Partner  Dependents  OnlineSecurity  OnlineBackup  ...  \\\n",
       "0              0        1           0               0             1  ...   \n",
       "1              0        0           0               1             0  ...   \n",
       "2              0        0           0               1             1  ...   \n",
       "3              0        0           0               1             0  ...   \n",
       "4              0        0           0               0             0  ...   \n",
       "\n",
       "   StreamingTV  StreamingMovies  MultipleLines  isChurn  Days  \\\n",
       "0            0                0              0        0     2   \n",
       "1            0                0              0        0    74   \n",
       "2            0                0              0        1     3   \n",
       "3            0                0              0        0    96   \n",
       "4            0                0              0        1     3   \n",
       "\n",
       "   PaymentMethod_Credit card (automatic)  PaymentMethod_Electronic check  \\\n",
       "0                                      0                               1   \n",
       "1                                      0                               0   \n",
       "2                                      0                               0   \n",
       "3                                      0                               0   \n",
       "4                                      0                               1   \n",
       "\n",
       "   PaymentMethod_Mailed check  InternetService_Fiber optic  InternetService_No  \n",
       "0                           0                            0                   0  \n",
       "1                           1                            0                   0  \n",
       "2                           1                            0                   0  \n",
       "3                           0                            0                   0  \n",
       "4                           0                            1                   0  \n",
       "\n",
       "[5 rows x 22 columns]"
      ]
     },
     "execution_count": 42,
     "metadata": {},
     "output_type": "execute_result"
    }
   ],
   "source": [
    "data_enc.head()"
   ]
  },
  {
   "cell_type": "markdown",
   "metadata": {},
   "source": [
    "<div class=\"alert alert-success\">\n",
    "<b>**Комментарий тимлида_v2 ✔️:**</b>\n",
    "\n",
    "Интересный подход к кодированию  - часть OHE, часть Label Encoding. Не совсем согласен с обоснованием применения LE в нашем случае для сохранения порядка (возможности сравнения значений признаков)\n",
    "</div>"
   ]
  },
  {
   "cell_type": "markdown",
   "metadata": {},
   "source": [
    "<div class=\"alert alert-warning\">\n",
    "<b>**Комментарий тимлида_v2 ⚠️:**</b>\n",
    "\n",
    "Кодирование необходимо для большинства моделей. OHE или Label Encoder вполне допустимый вариант. Но желательно кодировать уже после разбиения на трейн и тест. В этом случае мы сможем исключить возможные утечки между выборками, кроме этого при формировании пайплайна в проде у тебя будет на вход потупать только тест, который надо будет кодировать перед передачей в модель.\n",
    "    \n",
    "Так же хочу отметить, что многие алгоритмы градиентного бустинга могут (и хотят) принимать на вход \"грязные данные\".\n",
    "</div>"
   ]
  },
  {
   "cell_type": "code",
   "execution_count": 43,
   "metadata": {
    "scrolled": true
   },
   "outputs": [],
   "source": [
    "# Выделение нужных признаков в закодированном датафрейме\n",
    "features = list(data_enc.drop(['isChurn'], axis=1).columns)"
   ]
  },
  {
   "cell_type": "code",
   "execution_count": 44,
   "metadata": {},
   "outputs": [],
   "source": [
    "# подсчет vif для всех подаваемых признаков\n",
    "def compute_vif(features):\n",
    "    \n",
    "    X = data_enc[features]\n",
    "    X['intercept'] = 1\n",
    "    \n",
    "    # Создание датафрейма для хранения vif-значений\n",
    "    vif = pd.DataFrame()\n",
    "    vif['Variable'] = X.columns\n",
    "    vif['VIF'] = [variance_inflation_factor(X.values, i) for i in range(X.shape[1])]\n",
    "    vif = vif[vif['Variable'] != 'intercept']\n",
    "    return vif"
   ]
  },
  {
   "cell_type": "code",
   "execution_count": 45,
   "metadata": {},
   "outputs": [
    {
     "data": {
      "text/html": [
       "<div>\n",
       "<style scoped>\n",
       "    .dataframe tbody tr th:only-of-type {\n",
       "        vertical-align: middle;\n",
       "    }\n",
       "\n",
       "    .dataframe tbody tr th {\n",
       "        vertical-align: top;\n",
       "    }\n",
       "\n",
       "    .dataframe thead th {\n",
       "        text-align: right;\n",
       "    }\n",
       "</style>\n",
       "<table border=\"1\" class=\"dataframe\">\n",
       "  <thead>\n",
       "    <tr style=\"text-align: right;\">\n",
       "      <th></th>\n",
       "      <th>Variable</th>\n",
       "      <th>VIF</th>\n",
       "    </tr>\n",
       "  </thead>\n",
       "  <tbody>\n",
       "    <tr>\n",
       "      <th>2</th>\n",
       "      <td>MonthlyCharges</td>\n",
       "      <td>35.307380</td>\n",
       "    </tr>\n",
       "    <tr>\n",
       "      <th>3</th>\n",
       "      <td>TotalCharges</td>\n",
       "      <td>10.772273</td>\n",
       "    </tr>\n",
       "    <tr>\n",
       "      <th>19</th>\n",
       "      <td>InternetService_Fiber optic</td>\n",
       "      <td>10.094754</td>\n",
       "    </tr>\n",
       "    <tr>\n",
       "      <th>15</th>\n",
       "      <td>Days</td>\n",
       "      <td>7.557368</td>\n",
       "    </tr>\n",
       "    <tr>\n",
       "      <th>20</th>\n",
       "      <td>InternetService_No</td>\n",
       "      <td>4.847748</td>\n",
       "    </tr>\n",
       "    <tr>\n",
       "      <th>0</th>\n",
       "      <td>Type</td>\n",
       "      <td>2.506311</td>\n",
       "    </tr>\n",
       "    <tr>\n",
       "      <th>12</th>\n",
       "      <td>StreamingTV</td>\n",
       "      <td>2.451814</td>\n",
       "    </tr>\n",
       "    <tr>\n",
       "      <th>13</th>\n",
       "      <td>StreamingMovies</td>\n",
       "      <td>2.435920</td>\n",
       "    </tr>\n",
       "    <tr>\n",
       "      <th>17</th>\n",
       "      <td>PaymentMethod_Electronic check</td>\n",
       "      <td>1.975474</td>\n",
       "    </tr>\n",
       "    <tr>\n",
       "      <th>14</th>\n",
       "      <td>MultipleLines</td>\n",
       "      <td>1.919611</td>\n",
       "    </tr>\n",
       "    <tr>\n",
       "      <th>18</th>\n",
       "      <td>PaymentMethod_Mailed check</td>\n",
       "      <td>1.860371</td>\n",
       "    </tr>\n",
       "    <tr>\n",
       "      <th>11</th>\n",
       "      <td>TechSupport</td>\n",
       "      <td>1.741989</td>\n",
       "    </tr>\n",
       "    <tr>\n",
       "      <th>10</th>\n",
       "      <td>DeviceProtection</td>\n",
       "      <td>1.694122</td>\n",
       "    </tr>\n",
       "    <tr>\n",
       "      <th>8</th>\n",
       "      <td>OnlineSecurity</td>\n",
       "      <td>1.678599</td>\n",
       "    </tr>\n",
       "    <tr>\n",
       "      <th>9</th>\n",
       "      <td>OnlineBackup</td>\n",
       "      <td>1.638443</td>\n",
       "    </tr>\n",
       "    <tr>\n",
       "      <th>16</th>\n",
       "      <td>PaymentMethod_Credit card (automatic)</td>\n",
       "      <td>1.560660</td>\n",
       "    </tr>\n",
       "    <tr>\n",
       "      <th>6</th>\n",
       "      <td>Partner</td>\n",
       "      <td>1.462570</td>\n",
       "    </tr>\n",
       "    <tr>\n",
       "      <th>7</th>\n",
       "      <td>Dependents</td>\n",
       "      <td>1.384230</td>\n",
       "    </tr>\n",
       "    <tr>\n",
       "      <th>1</th>\n",
       "      <td>PaperlessBilling</td>\n",
       "      <td>1.208477</td>\n",
       "    </tr>\n",
       "    <tr>\n",
       "      <th>5</th>\n",
       "      <td>SeniorCitizen</td>\n",
       "      <td>1.152858</td>\n",
       "    </tr>\n",
       "    <tr>\n",
       "      <th>4</th>\n",
       "      <td>Gender</td>\n",
       "      <td>1.001962</td>\n",
       "    </tr>\n",
       "  </tbody>\n",
       "</table>\n",
       "</div>"
      ],
      "text/plain": [
       "                                 Variable        VIF\n",
       "2                          MonthlyCharges  35.307380\n",
       "3                            TotalCharges  10.772273\n",
       "19            InternetService_Fiber optic  10.094754\n",
       "15                                   Days   7.557368\n",
       "20                     InternetService_No   4.847748\n",
       "0                                    Type   2.506311\n",
       "12                            StreamingTV   2.451814\n",
       "13                        StreamingMovies   2.435920\n",
       "17         PaymentMethod_Electronic check   1.975474\n",
       "14                          MultipleLines   1.919611\n",
       "18             PaymentMethod_Mailed check   1.860371\n",
       "11                            TechSupport   1.741989\n",
       "10                       DeviceProtection   1.694122\n",
       "8                          OnlineSecurity   1.678599\n",
       "9                            OnlineBackup   1.638443\n",
       "16  PaymentMethod_Credit card (automatic)   1.560660\n",
       "6                                 Partner   1.462570\n",
       "7                              Dependents   1.384230\n",
       "1                        PaperlessBilling   1.208477\n",
       "5                           SeniorCitizen   1.152858\n",
       "4                                  Gender   1.001962"
      ]
     },
     "execution_count": 45,
     "metadata": {},
     "output_type": "execute_result"
    }
   ],
   "source": [
    "compute_vif(features).sort_values('VIF', ascending=False)"
   ]
  },
  {
   "cell_type": "markdown",
   "metadata": {},
   "source": [
    "Можно увидеть сильную зависимость от признака `MonthlyCharges`. Будем удалять последовательно признаки, начиная с этого."
   ]
  },
  {
   "cell_type": "code",
   "execution_count": 46,
   "metadata": {},
   "outputs": [
    {
     "name": "stderr",
     "output_type": "stream",
     "text": [
      "/tmp/ipykernel_63/1579707019.py:5: SettingWithCopyWarning: \n",
      "A value is trying to be set on a copy of a slice from a DataFrame.\n",
      "Try using .loc[row_indexer,col_indexer] = value instead\n",
      "\n",
      "See the caveats in the documentation: https://pandas.pydata.org/pandas-docs/stable/user_guide/indexing.html#returning-a-view-versus-a-copy\n",
      "  X['intercept'] = 1\n"
     ]
    },
    {
     "data": {
      "text/html": [
       "<div>\n",
       "<style scoped>\n",
       "    .dataframe tbody tr th:only-of-type {\n",
       "        vertical-align: middle;\n",
       "    }\n",
       "\n",
       "    .dataframe tbody tr th {\n",
       "        vertical-align: top;\n",
       "    }\n",
       "\n",
       "    .dataframe thead th {\n",
       "        text-align: right;\n",
       "    }\n",
       "</style>\n",
       "<table border=\"1\" class=\"dataframe\">\n",
       "  <thead>\n",
       "    <tr style=\"text-align: right;\">\n",
       "      <th></th>\n",
       "      <th>Variable</th>\n",
       "      <th>VIF</th>\n",
       "    </tr>\n",
       "  </thead>\n",
       "  <tbody>\n",
       "    <tr>\n",
       "      <th>2</th>\n",
       "      <td>TotalCharges</td>\n",
       "      <td>10.219714</td>\n",
       "    </tr>\n",
       "    <tr>\n",
       "      <th>14</th>\n",
       "      <td>Days</td>\n",
       "      <td>7.193266</td>\n",
       "    </tr>\n",
       "    <tr>\n",
       "      <th>0</th>\n",
       "      <td>Type</td>\n",
       "      <td>2.504028</td>\n",
       "    </tr>\n",
       "    <tr>\n",
       "      <th>19</th>\n",
       "      <td>InternetService_No</td>\n",
       "      <td>2.494227</td>\n",
       "    </tr>\n",
       "    <tr>\n",
       "      <th>18</th>\n",
       "      <td>InternetService_Fiber optic</td>\n",
       "      <td>2.262436</td>\n",
       "    </tr>\n",
       "    <tr>\n",
       "      <th>16</th>\n",
       "      <td>PaymentMethod_Electronic check</td>\n",
       "      <td>1.974544</td>\n",
       "    </tr>\n",
       "    <tr>\n",
       "      <th>17</th>\n",
       "      <td>PaymentMethod_Mailed check</td>\n",
       "      <td>1.859686</td>\n",
       "    </tr>\n",
       "    <tr>\n",
       "      <th>12</th>\n",
       "      <td>StreamingMovies</td>\n",
       "      <td>1.724627</td>\n",
       "    </tr>\n",
       "    <tr>\n",
       "      <th>11</th>\n",
       "      <td>StreamingTV</td>\n",
       "      <td>1.713751</td>\n",
       "    </tr>\n",
       "    <tr>\n",
       "      <th>15</th>\n",
       "      <td>PaymentMethod_Credit card (automatic)</td>\n",
       "      <td>1.560610</td>\n",
       "    </tr>\n",
       "    <tr>\n",
       "      <th>10</th>\n",
       "      <td>TechSupport</td>\n",
       "      <td>1.541646</td>\n",
       "    </tr>\n",
       "    <tr>\n",
       "      <th>9</th>\n",
       "      <td>DeviceProtection</td>\n",
       "      <td>1.540362</td>\n",
       "    </tr>\n",
       "    <tr>\n",
       "      <th>7</th>\n",
       "      <td>OnlineSecurity</td>\n",
       "      <td>1.480227</td>\n",
       "    </tr>\n",
       "    <tr>\n",
       "      <th>8</th>\n",
       "      <td>OnlineBackup</td>\n",
       "      <td>1.471273</td>\n",
       "    </tr>\n",
       "    <tr>\n",
       "      <th>5</th>\n",
       "      <td>Partner</td>\n",
       "      <td>1.462569</td>\n",
       "    </tr>\n",
       "    <tr>\n",
       "      <th>13</th>\n",
       "      <td>MultipleLines</td>\n",
       "      <td>1.388355</td>\n",
       "    </tr>\n",
       "    <tr>\n",
       "      <th>6</th>\n",
       "      <td>Dependents</td>\n",
       "      <td>1.384021</td>\n",
       "    </tr>\n",
       "    <tr>\n",
       "      <th>1</th>\n",
       "      <td>PaperlessBilling</td>\n",
       "      <td>1.208377</td>\n",
       "    </tr>\n",
       "    <tr>\n",
       "      <th>4</th>\n",
       "      <td>SeniorCitizen</td>\n",
       "      <td>1.150941</td>\n",
       "    </tr>\n",
       "    <tr>\n",
       "      <th>3</th>\n",
       "      <td>Gender</td>\n",
       "      <td>1.001957</td>\n",
       "    </tr>\n",
       "  </tbody>\n",
       "</table>\n",
       "</div>"
      ],
      "text/plain": [
       "                                 Variable        VIF\n",
       "2                            TotalCharges  10.219714\n",
       "14                                   Days   7.193266\n",
       "0                                    Type   2.504028\n",
       "19                     InternetService_No   2.494227\n",
       "18            InternetService_Fiber optic   2.262436\n",
       "16         PaymentMethod_Electronic check   1.974544\n",
       "17             PaymentMethod_Mailed check   1.859686\n",
       "12                        StreamingMovies   1.724627\n",
       "11                            StreamingTV   1.713751\n",
       "15  PaymentMethod_Credit card (automatic)   1.560610\n",
       "10                            TechSupport   1.541646\n",
       "9                        DeviceProtection   1.540362\n",
       "7                          OnlineSecurity   1.480227\n",
       "8                            OnlineBackup   1.471273\n",
       "5                                 Partner   1.462569\n",
       "13                          MultipleLines   1.388355\n",
       "6                              Dependents   1.384021\n",
       "1                        PaperlessBilling   1.208377\n",
       "4                           SeniorCitizen   1.150941\n",
       "3                                  Gender   1.001957"
      ]
     },
     "execution_count": 46,
     "metadata": {},
     "output_type": "execute_result"
    }
   ],
   "source": [
    "features.remove('MonthlyCharges')\n",
    "\n",
    "compute_vif(features).sort_values('VIF', ascending=False)"
   ]
  },
  {
   "cell_type": "code",
   "execution_count": 47,
   "metadata": {},
   "outputs": [],
   "source": [
    "features.remove('TotalCharges')"
   ]
  },
  {
   "cell_type": "code",
   "execution_count": 48,
   "metadata": {},
   "outputs": [
    {
     "name": "stderr",
     "output_type": "stream",
     "text": [
      "/tmp/ipykernel_63/1579707019.py:5: SettingWithCopyWarning: \n",
      "A value is trying to be set on a copy of a slice from a DataFrame.\n",
      "Try using .loc[row_indexer,col_indexer] = value instead\n",
      "\n",
      "See the caveats in the documentation: https://pandas.pydata.org/pandas-docs/stable/user_guide/indexing.html#returning-a-view-versus-a-copy\n",
      "  X['intercept'] = 1\n"
     ]
    },
    {
     "data": {
      "text/html": [
       "<div>\n",
       "<style scoped>\n",
       "    .dataframe tbody tr th:only-of-type {\n",
       "        vertical-align: middle;\n",
       "    }\n",
       "\n",
       "    .dataframe tbody tr th {\n",
       "        vertical-align: top;\n",
       "    }\n",
       "\n",
       "    .dataframe thead th {\n",
       "        text-align: right;\n",
       "    }\n",
       "</style>\n",
       "<table border=\"1\" class=\"dataframe\">\n",
       "  <thead>\n",
       "    <tr style=\"text-align: right;\">\n",
       "      <th></th>\n",
       "      <th>Variable</th>\n",
       "      <th>VIF</th>\n",
       "    </tr>\n",
       "  </thead>\n",
       "  <tbody>\n",
       "    <tr>\n",
       "      <th>13</th>\n",
       "      <td>Days</td>\n",
       "      <td>2.759208</td>\n",
       "    </tr>\n",
       "    <tr>\n",
       "      <th>0</th>\n",
       "      <td>Type</td>\n",
       "      <td>2.488154</td>\n",
       "    </tr>\n",
       "    <tr>\n",
       "      <th>18</th>\n",
       "      <td>InternetService_No</td>\n",
       "      <td>2.477014</td>\n",
       "    </tr>\n",
       "    <tr>\n",
       "      <th>15</th>\n",
       "      <td>PaymentMethod_Electronic check</td>\n",
       "      <td>1.971259</td>\n",
       "    </tr>\n",
       "    <tr>\n",
       "      <th>16</th>\n",
       "      <td>PaymentMethod_Mailed check</td>\n",
       "      <td>1.840883</td>\n",
       "    </tr>\n",
       "    <tr>\n",
       "      <th>17</th>\n",
       "      <td>InternetService_Fiber optic</td>\n",
       "      <td>1.736077</td>\n",
       "    </tr>\n",
       "    <tr>\n",
       "      <th>11</th>\n",
       "      <td>StreamingMovies</td>\n",
       "      <td>1.630669</td>\n",
       "    </tr>\n",
       "    <tr>\n",
       "      <th>10</th>\n",
       "      <td>StreamingTV</td>\n",
       "      <td>1.624289</td>\n",
       "    </tr>\n",
       "    <tr>\n",
       "      <th>14</th>\n",
       "      <td>PaymentMethod_Credit card (automatic)</td>\n",
       "      <td>1.560295</td>\n",
       "    </tr>\n",
       "    <tr>\n",
       "      <th>9</th>\n",
       "      <td>TechSupport</td>\n",
       "      <td>1.479218</td>\n",
       "    </tr>\n",
       "    <tr>\n",
       "      <th>8</th>\n",
       "      <td>DeviceProtection</td>\n",
       "      <td>1.478855</td>\n",
       "    </tr>\n",
       "    <tr>\n",
       "      <th>4</th>\n",
       "      <td>Partner</td>\n",
       "      <td>1.462391</td>\n",
       "    </tr>\n",
       "    <tr>\n",
       "      <th>6</th>\n",
       "      <td>OnlineSecurity</td>\n",
       "      <td>1.412004</td>\n",
       "    </tr>\n",
       "    <tr>\n",
       "      <th>5</th>\n",
       "      <td>Dependents</td>\n",
       "      <td>1.383500</td>\n",
       "    </tr>\n",
       "    <tr>\n",
       "      <th>7</th>\n",
       "      <td>OnlineBackup</td>\n",
       "      <td>1.379688</td>\n",
       "    </tr>\n",
       "    <tr>\n",
       "      <th>12</th>\n",
       "      <td>MultipleLines</td>\n",
       "      <td>1.331253</td>\n",
       "    </tr>\n",
       "    <tr>\n",
       "      <th>1</th>\n",
       "      <td>PaperlessBilling</td>\n",
       "      <td>1.208325</td>\n",
       "    </tr>\n",
       "    <tr>\n",
       "      <th>3</th>\n",
       "      <td>SeniorCitizen</td>\n",
       "      <td>1.150722</td>\n",
       "    </tr>\n",
       "    <tr>\n",
       "      <th>2</th>\n",
       "      <td>Gender</td>\n",
       "      <td>1.001711</td>\n",
       "    </tr>\n",
       "  </tbody>\n",
       "</table>\n",
       "</div>"
      ],
      "text/plain": [
       "                                 Variable       VIF\n",
       "13                                   Days  2.759208\n",
       "0                                    Type  2.488154\n",
       "18                     InternetService_No  2.477014\n",
       "15         PaymentMethod_Electronic check  1.971259\n",
       "16             PaymentMethod_Mailed check  1.840883\n",
       "17            InternetService_Fiber optic  1.736077\n",
       "11                        StreamingMovies  1.630669\n",
       "10                            StreamingTV  1.624289\n",
       "14  PaymentMethod_Credit card (automatic)  1.560295\n",
       "9                             TechSupport  1.479218\n",
       "8                        DeviceProtection  1.478855\n",
       "4                                 Partner  1.462391\n",
       "6                          OnlineSecurity  1.412004\n",
       "5                              Dependents  1.383500\n",
       "7                            OnlineBackup  1.379688\n",
       "12                          MultipleLines  1.331253\n",
       "1                        PaperlessBilling  1.208325\n",
       "3                           SeniorCitizen  1.150722\n",
       "2                                  Gender  1.001711"
      ]
     },
     "execution_count": 48,
     "metadata": {},
     "output_type": "execute_result"
    }
   ],
   "source": [
    "compute_vif(features).sort_values('VIF', ascending=False)"
   ]
  },
  {
   "cell_type": "markdown",
   "metadata": {},
   "source": [
    "Дальше удалять признаки не нужно, т.к. никакие из них не превышают значения `5`. Можно предположить, что утечки данных не должно произойти."
   ]
  },
  {
   "cell_type": "markdown",
   "metadata": {},
   "source": [
    "<div class=\"alert alert-success\">\n",
    "<b>**Комментарий тимлида_v2 ✔️:**</b>\n",
    "\n",
    "Очень хороший подход для анализа общего влияния признака на остальные. \n",
    "\n",
    "Можно использовать библиотеку phik. Она работает как с категориальными так и с числовыми признаками. Рекомендую для ознакомления.\n",
    "\n",
    "Напоминаю - два признака называются мультиколлинеарными, если они сильно коррелированы/зависимы. Изменения в одном признаке влекут за собой изменения в другом признаке. Мультиколлинеарность влияет на алгоритмы линейной регрессии, логистической регрессии, KNN и Наивного Байеса. В случае использования этих моделей нужно избавляться от мультиколлинеарности (удалять один из признаков).\n",
    "</div>"
   ]
  },
  {
   "cell_type": "markdown",
   "metadata": {},
   "source": [
    "<div class=\"alert alert-info\"> <b>Комментарий студента:</b>\n",
    "\n",
    "    \n",
    "Спасибо, прочитала про библиотеку. </div>"
   ]
  },
  {
   "cell_type": "code",
   "execution_count": 49,
   "metadata": {},
   "outputs": [],
   "source": [
    "data_enc_linear = data_enc.drop(['MonthlyCharges', 'TotalCharges'], axis=1)"
   ]
  },
  {
   "cell_type": "code",
   "execution_count": 50,
   "metadata": {},
   "outputs": [
    {
     "data": {
      "text/plain": [
       "<AxesSubplot:xlabel='isChurn', ylabel='Count'>"
      ]
     },
     "execution_count": 50,
     "metadata": {},
     "output_type": "execute_result"
    },
    {
     "data": {
      "image/png": "[encoded data removed]",
      "text/plain": [
       "<Figure size 432x288 with 1 Axes>"
      ]
     },
     "metadata": {
      "needs_background": "light"
     },
     "output_type": "display_data"
    }
   ],
   "source": [
    "sns.histplot(data['isChurn'])"
   ]
  },
  {
   "cell_type": "markdown",
   "metadata": {},
   "source": [
    "<div class=\"alert alert-success\">\n",
    "<b>**Комментарий тимлидам_ v2 ✔️:**</b>\n",
    "\n",
    "Да, есть дисбаланс целевого признака. Есть несколько вариантов в нашем случае:\n",
    "   \n",
    "- ничего не делать тк дисбаланс пограничный на уровне 1:3\n",
    "- применить сэмплирование\n",
    "- воспользоваться встренными средствами балансировки в моделях\n",
    "    \n",
    "А можно выполнить все три варианта и выбрать лучший)\n",
    "    \n",
    "Посмотрим какой вариант выберешь ты в итоге.\n",
    "</div>"
   ]
  },
  {
   "cell_type": "markdown",
   "metadata": {},
   "source": [
    "<div class=\"alert alert-warning\">\n",
    "<b>**Комментарий тимлида_v2 ⚠️:**</b>\n",
    "\n",
    "Не совсем понял что это за ячейки - они не кодовые. Это специально сделано?\n",
    "</div>"
   ]
  },
  {
   "cell_type": "markdown",
   "metadata": {},
   "source": [
    "<div class=\"alert alert-info\"> <b>Комментарий студента:</b>\n",
    "\n",
    "    \n",
    "Shesh, это был ЭкСпЕриМенТ. Удалила эти ячейки. </div>"
   ]
  },
  {
   "cell_type": "markdown",
   "metadata": {},
   "source": [
    "<div class=\"alert alert-success\">\n",
    "<b>**Комментарий тимлида_v3 ✔️:**</b>\n",
    "\n",
    ")))\n",
    "    \n",
    "</div>"
   ]
  },
  {
   "cell_type": "markdown",
   "metadata": {},
   "source": [
    "## Создание прототипа модели"
   ]
  },
  {
   "cell_type": "markdown",
   "metadata": {},
   "source": [
    "### Разделение выборок"
   ]
  },
  {
   "cell_type": "code",
   "execution_count": 51,
   "metadata": {},
   "outputs": [],
   "source": [
    "# Выделение признаков и таргета\n",
    "X = data_enc_linear.drop(['isChurn'], axis=1)\n",
    "y = data_enc_linear['isChurn']\n",
    "\n",
    "# Деление на обучающую и тестовую выборки\n",
    "X_train, X_test, y_train, y_test = train_test_split(X, y, test_size=.2, random_state=190922)"
   ]
  },
  {
   "cell_type": "markdown",
   "metadata": {},
   "source": [
    "Проверим, как разделили данные."
   ]
  },
  {
   "cell_type": "code",
   "execution_count": 52,
   "metadata": {},
   "outputs": [
    {
     "name": "stdout",
     "output_type": "stream",
     "text": [
      "(5634, 19)\n",
      "(1409, 19)\n",
      "(5634,)\n",
      "(1409,)\n"
     ]
    }
   ],
   "source": [
    "print(X_train.shape)\n",
    "print(X_test.shape)\n",
    "print(y_train.shape)\n",
    "print(y_test.shape)"
   ]
  },
  {
   "cell_type": "markdown",
   "metadata": {},
   "source": [
    "<div class=\"alert alert-success\">\n",
    "<b>**Комментарий тимлида_v2 ✔️:**</b>\n",
    "\n",
    "Есть трейн-тест! Только для теста слишком большую выборку делаешь. Достаточно 0.2\n",
    "</div>"
   ]
  },
  {
   "cell_type": "markdown",
   "metadata": {},
   "source": [
    "<div class=\"alert alert-info\"> <b>Комментарий студента:</b>\n",
    "\n",
    "    \n",
    "Исправила </div>"
   ]
  },
  {
   "cell_type": "markdown",
   "metadata": {},
   "source": [
    "### Logistic Regression"
   ]
  },
  {
   "cell_type": "code",
   "execution_count": null,
   "metadata": {},
   "outputs": [],
   "source": [
    "log_reg = LogisticRegression()"
   ]
  },
  {
   "cell_type": "code",
   "execution_count": null,
   "metadata": {},
   "outputs": [],
   "source": [
    "C = np.logspace(-4, 4, 50)\n",
    "penalty = ['l1', 'l2']\n",
    "solver = ['liblinear']"
   ]
  },
  {
   "cell_type": "code",
   "execution_count": null,
   "metadata": {},
   "outputs": [],
   "source": [
    "parameters = dict(C=C,\n",
    "                  penalty=penalty,\n",
    "                  solver=solver,\n",
    "                  random_state=[190922],\n",
    "                  class_weight=['balanced'])"
   ]
  },
  {
   "cell_type": "code",
   "execution_count": null,
   "metadata": {},
   "outputs": [],
   "source": [
    "gs = GridSearchCV(log_reg, parameters,\n",
    "                  cv=3,\n",
    "                  verbose=2,\n",
    "                 scoring='roc_auc')"
   ]
  },
  {
   "cell_type": "code",
   "execution_count": null,
   "metadata": {},
   "outputs": [],
   "source": [
    "print(log_reg.get_params().keys())"
   ]
  },
  {
   "cell_type": "code",
   "execution_count": null,
   "metadata": {
    "scrolled": true
   },
   "outputs": [],
   "source": [
    "gs.fit(X_train, y_train)"
   ]
  },
  {
   "cell_type": "code",
   "execution_count": null,
   "metadata": {},
   "outputs": [],
   "source": [
    "print('Best Penalty:', gs.best_estimator_.get_params()['penalty'])\n",
    "print('Best C:', gs.best_estimator_.get_params()['C'])\n",
    "print('Best score: ', gs.best_score_)"
   ]
  },
  {
   "cell_type": "markdown",
   "metadata": {},
   "source": [
    "Тоже самое на нормализованных данных (`TotalCharged`)"
   ]
  },
  {
   "cell_type": "code",
   "execution_count": null,
   "metadata": {},
   "outputs": [],
   "source": [
    "data_normalized = data_enc_linear.copy()\n",
    "\n",
    "x = X_train['Days'].values # вернет numpy массив\n",
    "min_max_scaler = preprocessing.MinMaxScaler()\n",
    "min_max_scaler.fit(x.reshape(-1, 1))\n",
    "X_all = data_normalized['Days'].values\n",
    "data_normalized['Days'] = min_max_scaler.transform(X_all.reshape(-1, 1))"
   ]
  },
  {
   "cell_type": "markdown",
   "metadata": {},
   "source": [
    "<div class=\"alert alert-danger\">\n",
    "<b>**Комментарий тимлида_v2 ✔️:**</b>\n",
    "\n",
    "Не верно используешь масштабирование. Для предотвращения утечки признаков обучать скейлер нужно на трейне, а вот - принменять как на трейне так и на тесте. Ты же обучаешь на всем датасете. Переделать надо.\n",
    "</div>"
   ]
  },
  {
   "cell_type": "markdown",
   "metadata": {},
   "source": [
    "<div class=\"alert alert-info\"> <b>Комментарий студента:</b>\n",
    "\n",
    "    \n",
    "Спасибо! Не знала про это :\\ </div>"
   ]
  },
  {
   "cell_type": "markdown",
   "metadata": {},
   "source": [
    "Проверим результат."
   ]
  },
  {
   "cell_type": "code",
   "execution_count": null,
   "metadata": {
    "scrolled": true
   },
   "outputs": [],
   "source": [
    "data_normalized.head()"
   ]
  },
  {
   "cell_type": "code",
   "execution_count": null,
   "metadata": {},
   "outputs": [],
   "source": [
    "# Выделение признаков и таргета нормализированных данных\n",
    "X = data_normalized.drop(['isChurn'], axis=1)\n",
    "y = data_normalized['isChurn']\n",
    "\n",
    "# Деление на обучающую и тестовую выборки\n",
    "X_train, X_test, y_train, y_test = train_test_split(X, y, test_size=.2, random_state=190922)"
   ]
  },
  {
   "cell_type": "code",
   "execution_count": null,
   "metadata": {
    "scrolled": true
   },
   "outputs": [],
   "source": [
    "gs = GridSearchCV(log_reg, parameters,\n",
    "                  cv=3,\n",
    "                  verbose=2,\n",
    "                 scoring='roc_auc')\n",
    "\n",
    "gs.fit(X_train, y_train)"
   ]
  },
  {
   "cell_type": "code",
   "execution_count": null,
   "metadata": {},
   "outputs": [],
   "source": [
    "print('Лучший Penalty на нормализованных данных:', gs.best_estimator_.get_params()['penalty'])\n",
    "print('Лучший C:', gs.best_estimator_.get_params()['C'])\n",
    "print('Лучшая оценка: ', gs.best_score_)"
   ]
  },
  {
   "cell_type": "code",
   "execution_count": null,
   "metadata": {},
   "outputs": [],
   "source": [
    "columns = ['ROC-AUC-SCORE']\n",
    "indexes = ['Нормализованные данные', 'Обычные данные']\n",
    "data = [0.8454946416951317, 0.8458297358116109]\n",
    "\n",
    "lr_cv = pd.DataFrame(data=data, index=indexes, columns=columns)\n",
    "\n",
    "lr_cv"
   ]
  },
  {
   "cell_type": "markdown",
   "metadata": {},
   "source": [
    "Как можно увидеть, результаты на кроссвалидации при обычных данных чуть лучше, чем на нормализованных."
   ]
  },
  {
   "cell_type": "markdown",
   "metadata": {},
   "source": [
    "### CatBoostClassifier"
   ]
  },
  {
   "cell_type": "code",
   "execution_count": null,
   "metadata": {},
   "outputs": [],
   "source": [
    "cb = CatBoostClassifier()"
   ]
  },
  {
   "cell_type": "code",
   "execution_count": null,
   "metadata": {},
   "outputs": [],
   "source": [
    "# Выделение признаков и таргета\n",
    "X = data_enc.drop(['isChurn'], axis=1)\n",
    "y = data_enc['isChurn']\n",
    "\n",
    "# Деление на обучающую и тестовую выборки\n",
    "X_train, X_test, y_train, y_test = train_test_split(X, y, test_size=.4, random_state=190922)"
   ]
  },
  {
   "cell_type": "code",
   "execution_count": null,
   "metadata": {},
   "outputs": [],
   "source": [
    "parameters = {'depth': [1, 3, 5, 7, 10, 13, 15, 17, 20],\n",
    "             'learning_rate': [.1, .01, .02, .035],\n",
    "             'iterations': [90, 100, 120, 140, 150, 170, 200],\n",
    "             'random_state': [190922],\n",
    "             'loss_function': ['Logloss']}"
   ]
  },
  {
   "cell_type": "code",
   "execution_count": null,
   "metadata": {},
   "outputs": [],
   "source": [
    "grid_cb = GridSearchCV(estimator=cb, param_grid =parameters, cv=3, n_jobs=-1, verbose=2, scoring='roc_auc')\n",
    "grid_cb.fit(X_train, y_train)"
   ]
  },
  {
   "cell_type": "code",
   "execution_count": null,
   "metadata": {},
   "outputs": [],
   "source": [
    "print(\" Результаты CatBoostClassifier \" )\n",
    "print(\"\\n Лучшая оценка из всех параметров:\\n\", grid_cb.best_score_)\n",
    "print(\"\\n Лучшие параметры из всех искомых параметров:\\n\", grid_cb.best_params_)"
   ]
  },
  {
   "cell_type": "markdown",
   "metadata": {},
   "source": [
    "### KNN метод"
   ]
  },
  {
   "cell_type": "code",
   "execution_count": null,
   "metadata": {},
   "outputs": [],
   "source": [
    "model = KNeighborsClassifier()"
   ]
  },
  {
   "cell_type": "code",
   "execution_count": null,
   "metadata": {},
   "outputs": [],
   "source": [
    "parameters = {'n_neighbors': [3, 5, 7, 10],\n",
    "             'weights': ['uniform', 'distance'],\n",
    "             'p': [1, 2]}"
   ]
  },
  {
   "cell_type": "code",
   "execution_count": null,
   "metadata": {},
   "outputs": [],
   "source": [
    "# Выделение признаков и таргета\n",
    "X = data_enc_linear.drop(['isChurn'], axis=1)\n",
    "y = data_enc_linear['isChurn']\n",
    "\n",
    "# Деление на обучающую и тестовую выборки\n",
    "X_train, X_test, y_train, y_test = train_test_split(X, y, test_size=.4, random_state=190922)"
   ]
  },
  {
   "cell_type": "code",
   "execution_count": null,
   "metadata": {
    "scrolled": true
   },
   "outputs": [],
   "source": [
    "model_cv = GridSearchCV(estimator=model, param_grid=parameters, cv=3, n_jobs=-1, verbose=2, scoring='roc_auc')\n",
    "model_cv.fit(X_train, y_train)"
   ]
  },
  {
   "cell_type": "code",
   "execution_count": null,
   "metadata": {},
   "outputs": [],
   "source": [
    "print(\" Результаты KNN \" )\n",
    "print(\"\\n Лучшая оценка из всех параметров:\\n\", model_cv.best_score_)\n",
    "print(\"\\n Лучшие параметры из всех искомых параметров:\\n\", model_cv.best_params_)"
   ]
  },
  {
   "cell_type": "markdown",
   "metadata": {},
   "source": [
    "### Метод случайного леса"
   ]
  },
  {
   "cell_type": "code",
   "execution_count": null,
   "metadata": {},
   "outputs": [],
   "source": [
    "rfc = RandomForestClassifier()"
   ]
  },
  {
   "cell_type": "code",
   "execution_count": null,
   "metadata": {},
   "outputs": [],
   "source": [
    "parameters = {'n_estimators': [10, 30, 50, 70, 90, 100],\n",
    "             'max_depth': [10, 15, 20],\n",
    "             'random_state': [190922]}"
   ]
  },
  {
   "cell_type": "code",
   "execution_count": null,
   "metadata": {},
   "outputs": [],
   "source": [
    "# Выделение признаков и таргета\n",
    "X = data_enc.drop(['isChurn'], axis=1)\n",
    "y = data_enc['isChurn']\n",
    "\n",
    "# Деление на обучающую и тестовую выборки\n",
    "X_train, X_test, y_train, y_test = train_test_split(X, y, test_size=.4, random_state=190922)"
   ]
  },
  {
   "cell_type": "code",
   "execution_count": null,
   "metadata": {
    "scrolled": true
   },
   "outputs": [],
   "source": [
    "rfc_cv = GridSearchCV(estimator=rfc, param_grid=parameters, n_jobs=-1, verbose=2, scoring='roc_auc')\n",
    "rfc_cv.fit(X_train, y_train)"
   ]
  },
  {
   "cell_type": "code",
   "execution_count": null,
   "metadata": {},
   "outputs": [],
   "source": [
    "print(\" Результаты случайного леса \" )\n",
    "print(\"\\n Лучшая оценка из всех параметров:\\n\", rfc_cv.best_score_)\n",
    "print(\"\\n Лучшие параметры из всех искомых параметров:\\n\", rfc_cv.best_params_)"
   ]
  },
  {
   "cell_type": "markdown",
   "metadata": {},
   "source": [
    "<div class=\"alert alert-success\">\n",
    "<b>**Комментарий тимлида_v2 ✔️:**</b>\n",
    "\n",
    "Отлично, исследовали несколько различных моделей, подобрали гиперпараметры и получили метрику на кроссвалидации. \n",
    "    \n",
    "Было бы не плохо по итогу вывести общую таблицу моделей и их метрик. Будет очень наглядно.\n",
    "</div>"
   ]
  },
  {
   "cell_type": "markdown",
   "metadata": {},
   "source": [
    "## Тестирование модели"
   ]
  },
  {
   "cell_type": "markdown",
   "metadata": {},
   "source": [
    "Из всех моделей, лучшую оценку на кроссвалидации сделала модель CatBoostClassifier. Её проверим на тестовой."
   ]
  },
  {
   "cell_type": "code",
   "execution_count": 53,
   "metadata": {
    "scrolled": true
   },
   "outputs": [
    {
     "name": "stdout",
     "output_type": "stream",
     "text": [
      "0:\tlearn: 0.6191808\ttotal: 48.4ms\tremaining: 9.62s\n",
      "1:\tlearn: 0.5678103\ttotal: 50.5ms\tremaining: 5s\n",
      "2:\tlearn: 0.5310653\ttotal: 52.3ms\tremaining: 3.43s\n",
      "3:\tlearn: 0.5095148\ttotal: 53.7ms\tremaining: 2.63s\n",
      "4:\tlearn: 0.4860166\ttotal: 55.3ms\tremaining: 2.16s\n",
      "5:\tlearn: 0.4671352\ttotal: 57.1ms\tremaining: 1.85s\n",
      "6:\tlearn: 0.4539342\ttotal: 58.9ms\tremaining: 1.62s\n",
      "7:\tlearn: 0.4409611\ttotal: 60.5ms\tremaining: 1.45s\n",
      "8:\tlearn: 0.4335908\ttotal: 62.2ms\tremaining: 1.32s\n",
      "9:\tlearn: 0.4262034\ttotal: 63.9ms\tremaining: 1.21s\n",
      "10:\tlearn: 0.4190165\ttotal: 65.5ms\tremaining: 1.13s\n",
      "11:\tlearn: 0.4120441\ttotal: 67.3ms\tremaining: 1.05s\n",
      "12:\tlearn: 0.4087642\ttotal: 68.8ms\tremaining: 989ms\n",
      "13:\tlearn: 0.4050931\ttotal: 70.6ms\tremaining: 938ms\n",
      "14:\tlearn: 0.4024052\ttotal: 72.2ms\tremaining: 891ms\n",
      "15:\tlearn: 0.3995366\ttotal: 74.1ms\tremaining: 852ms\n",
      "16:\tlearn: 0.3963942\ttotal: 75.7ms\tremaining: 815ms\n",
      "17:\tlearn: 0.3921831\ttotal: 77.4ms\tremaining: 783ms\n",
      "18:\tlearn: 0.3898875\ttotal: 79ms\tremaining: 752ms\n",
      "19:\tlearn: 0.3881897\ttotal: 80.5ms\tremaining: 724ms\n",
      "20:\tlearn: 0.3863479\ttotal: 82ms\tremaining: 699ms\n",
      "21:\tlearn: 0.3852776\ttotal: 83.5ms\tremaining: 676ms\n",
      "22:\tlearn: 0.3835463\ttotal: 85.2ms\tremaining: 656ms\n",
      "23:\tlearn: 0.3808400\ttotal: 86.9ms\tremaining: 637ms\n",
      "24:\tlearn: 0.3789633\ttotal: 88.6ms\tremaining: 621ms\n",
      "25:\tlearn: 0.3776903\ttotal: 90.3ms\tremaining: 604ms\n",
      "26:\tlearn: 0.3767606\ttotal: 91.9ms\tremaining: 589ms\n",
      "27:\tlearn: 0.3737454\ttotal: 93.6ms\tremaining: 575ms\n",
      "28:\tlearn: 0.3731042\ttotal: 95.2ms\tremaining: 561ms\n",
      "29:\tlearn: 0.3721758\ttotal: 96.9ms\tremaining: 549ms\n",
      "30:\tlearn: 0.3713832\ttotal: 98.6ms\tremaining: 538ms\n",
      "31:\tlearn: 0.3707425\ttotal: 100ms\tremaining: 527ms\n",
      "32:\tlearn: 0.3703414\ttotal: 102ms\tremaining: 516ms\n",
      "33:\tlearn: 0.3699347\ttotal: 104ms\tremaining: 506ms\n",
      "34:\tlearn: 0.3693329\ttotal: 105ms\tremaining: 495ms\n",
      "35:\tlearn: 0.3682289\ttotal: 107ms\tremaining: 486ms\n",
      "36:\tlearn: 0.3648878\ttotal: 108ms\tremaining: 478ms\n",
      "37:\tlearn: 0.3633492\ttotal: 110ms\tremaining: 470ms\n",
      "38:\tlearn: 0.3625610\ttotal: 112ms\tremaining: 462ms\n",
      "39:\tlearn: 0.3618923\ttotal: 114ms\tremaining: 455ms\n",
      "40:\tlearn: 0.3601823\ttotal: 116ms\tremaining: 450ms\n",
      "41:\tlearn: 0.3595285\ttotal: 119ms\tremaining: 446ms\n",
      "42:\tlearn: 0.3592277\ttotal: 121ms\tremaining: 440ms\n",
      "43:\tlearn: 0.3586130\ttotal: 122ms\tremaining: 433ms\n",
      "44:\tlearn: 0.3577447\ttotal: 124ms\tremaining: 427ms\n",
      "45:\tlearn: 0.3573489\ttotal: 125ms\tremaining: 420ms\n",
      "46:\tlearn: 0.3569302\ttotal: 127ms\tremaining: 414ms\n",
      "47:\tlearn: 0.3568337\ttotal: 128ms\tremaining: 407ms\n",
      "48:\tlearn: 0.3565091\ttotal: 130ms\tremaining: 401ms\n",
      "49:\tlearn: 0.3555989\ttotal: 132ms\tremaining: 395ms\n",
      "50:\tlearn: 0.3553980\ttotal: 134ms\tremaining: 390ms\n",
      "51:\tlearn: 0.3547727\ttotal: 135ms\tremaining: 385ms\n",
      "52:\tlearn: 0.3543018\ttotal: 137ms\tremaining: 381ms\n",
      "53:\tlearn: 0.3539017\ttotal: 139ms\tremaining: 377ms\n",
      "54:\tlearn: 0.3533570\ttotal: 141ms\tremaining: 372ms\n",
      "55:\tlearn: 0.3522300\ttotal: 143ms\tremaining: 367ms\n",
      "56:\tlearn: 0.3516338\ttotal: 145ms\tremaining: 363ms\n",
      "57:\tlearn: 0.3511013\ttotal: 146ms\tremaining: 358ms\n",
      "58:\tlearn: 0.3506981\ttotal: 148ms\tremaining: 354ms\n",
      "59:\tlearn: 0.3502114\ttotal: 150ms\tremaining: 350ms\n",
      "60:\tlearn: 0.3499457\ttotal: 152ms\tremaining: 345ms\n",
      "61:\tlearn: 0.3495673\ttotal: 153ms\tremaining: 340ms\n",
      "62:\tlearn: 0.3491749\ttotal: 155ms\tremaining: 336ms\n",
      "63:\tlearn: 0.3486077\ttotal: 156ms\tremaining: 332ms\n",
      "64:\tlearn: 0.3477854\ttotal: 158ms\tremaining: 328ms\n",
      "65:\tlearn: 0.3471989\ttotal: 160ms\tremaining: 324ms\n",
      "66:\tlearn: 0.3465812\ttotal: 161ms\tremaining: 320ms\n",
      "67:\tlearn: 0.3461160\ttotal: 163ms\tremaining: 316ms\n",
      "68:\tlearn: 0.3458656\ttotal: 165ms\tremaining: 313ms\n",
      "69:\tlearn: 0.3456433\ttotal: 166ms\tremaining: 309ms\n",
      "70:\tlearn: 0.3434479\ttotal: 168ms\tremaining: 305ms\n",
      "71:\tlearn: 0.3428308\ttotal: 170ms\tremaining: 301ms\n",
      "72:\tlearn: 0.3419084\ttotal: 171ms\tremaining: 298ms\n",
      "73:\tlearn: 0.3414087\ttotal: 173ms\tremaining: 295ms\n",
      "74:\tlearn: 0.3412592\ttotal: 175ms\tremaining: 291ms\n",
      "75:\tlearn: 0.3407306\ttotal: 176ms\tremaining: 288ms\n",
      "76:\tlearn: 0.3405234\ttotal: 178ms\tremaining: 284ms\n",
      "77:\tlearn: 0.3400788\ttotal: 179ms\tremaining: 281ms\n",
      "78:\tlearn: 0.3396256\ttotal: 181ms\tremaining: 277ms\n",
      "79:\tlearn: 0.3377360\ttotal: 183ms\tremaining: 274ms\n",
      "80:\tlearn: 0.3372101\ttotal: 184ms\tremaining: 271ms\n",
      "81:\tlearn: 0.3351425\ttotal: 186ms\tremaining: 268ms\n",
      "82:\tlearn: 0.3348043\ttotal: 188ms\tremaining: 265ms\n",
      "83:\tlearn: 0.3342718\ttotal: 189ms\tremaining: 262ms\n",
      "84:\tlearn: 0.3339560\ttotal: 191ms\tremaining: 259ms\n",
      "85:\tlearn: 0.3332451\ttotal: 193ms\tremaining: 256ms\n",
      "86:\tlearn: 0.3326769\ttotal: 194ms\tremaining: 253ms\n",
      "87:\tlearn: 0.3306850\ttotal: 196ms\tremaining: 250ms\n",
      "88:\tlearn: 0.3298243\ttotal: 198ms\tremaining: 247ms\n",
      "89:\tlearn: 0.3292987\ttotal: 199ms\tremaining: 244ms\n",
      "90:\tlearn: 0.3277964\ttotal: 201ms\tremaining: 241ms\n",
      "91:\tlearn: 0.3263856\ttotal: 203ms\tremaining: 239ms\n",
      "92:\tlearn: 0.3260283\ttotal: 206ms\tremaining: 237ms\n",
      "93:\tlearn: 0.3253183\ttotal: 208ms\tremaining: 234ms\n",
      "94:\tlearn: 0.3249000\ttotal: 209ms\tremaining: 231ms\n",
      "95:\tlearn: 0.3247318\ttotal: 211ms\tremaining: 229ms\n",
      "96:\tlearn: 0.3231502\ttotal: 213ms\tremaining: 226ms\n",
      "97:\tlearn: 0.3221765\ttotal: 215ms\tremaining: 224ms\n",
      "98:\tlearn: 0.3219055\ttotal: 217ms\tremaining: 221ms\n",
      "99:\tlearn: 0.3204988\ttotal: 218ms\tremaining: 218ms\n",
      "100:\tlearn: 0.3200751\ttotal: 220ms\tremaining: 216ms\n",
      "101:\tlearn: 0.3195507\ttotal: 222ms\tremaining: 213ms\n",
      "102:\tlearn: 0.3180590\ttotal: 224ms\tremaining: 211ms\n",
      "103:\tlearn: 0.3158474\ttotal: 226ms\tremaining: 208ms\n",
      "104:\tlearn: 0.3154553\ttotal: 227ms\tremaining: 206ms\n",
      "105:\tlearn: 0.3147865\ttotal: 229ms\tremaining: 203ms\n",
      "106:\tlearn: 0.3136366\ttotal: 231ms\tremaining: 200ms\n",
      "107:\tlearn: 0.3130313\ttotal: 232ms\tremaining: 198ms\n",
      "108:\tlearn: 0.3124553\ttotal: 234ms\tremaining: 195ms\n",
      "109:\tlearn: 0.3112664\ttotal: 236ms\tremaining: 193ms\n",
      "110:\tlearn: 0.3107823\ttotal: 237ms\tremaining: 190ms\n",
      "111:\tlearn: 0.3098100\ttotal: 239ms\tremaining: 188ms\n",
      "112:\tlearn: 0.3096374\ttotal: 241ms\tremaining: 185ms\n",
      "113:\tlearn: 0.3090683\ttotal: 243ms\tremaining: 183ms\n",
      "114:\tlearn: 0.3085313\ttotal: 244ms\tremaining: 181ms\n",
      "115:\tlearn: 0.3081108\ttotal: 246ms\tremaining: 178ms\n",
      "116:\tlearn: 0.3073542\ttotal: 248ms\tremaining: 176ms\n",
      "117:\tlearn: 0.3058314\ttotal: 249ms\tremaining: 173ms\n",
      "118:\tlearn: 0.3049171\ttotal: 251ms\tremaining: 171ms\n",
      "119:\tlearn: 0.3041358\ttotal: 253ms\tremaining: 169ms\n",
      "120:\tlearn: 0.3037760\ttotal: 255ms\tremaining: 166ms\n",
      "121:\tlearn: 0.3031299\ttotal: 257ms\tremaining: 164ms\n",
      "122:\tlearn: 0.3020079\ttotal: 258ms\tremaining: 162ms\n",
      "123:\tlearn: 0.3005727\ttotal: 260ms\tremaining: 159ms\n",
      "124:\tlearn: 0.3000018\ttotal: 262ms\tremaining: 157ms\n",
      "125:\tlearn: 0.2993190\ttotal: 263ms\tremaining: 155ms\n",
      "126:\tlearn: 0.2987689\ttotal: 265ms\tremaining: 152ms\n",
      "127:\tlearn: 0.2980394\ttotal: 267ms\tremaining: 150ms\n",
      "128:\tlearn: 0.2971557\ttotal: 269ms\tremaining: 148ms\n",
      "129:\tlearn: 0.2966985\ttotal: 270ms\tremaining: 146ms\n",
      "130:\tlearn: 0.2962875\ttotal: 272ms\tremaining: 143ms\n",
      "131:\tlearn: 0.2954080\ttotal: 274ms\tremaining: 141ms\n",
      "132:\tlearn: 0.2947082\ttotal: 275ms\tremaining: 139ms\n",
      "133:\tlearn: 0.2936715\ttotal: 277ms\tremaining: 137ms\n",
      "134:\tlearn: 0.2930483\ttotal: 279ms\tremaining: 134ms\n",
      "135:\tlearn: 0.2919869\ttotal: 281ms\tremaining: 132ms\n",
      "136:\tlearn: 0.2914748\ttotal: 282ms\tremaining: 130ms\n",
      "137:\tlearn: 0.2906734\ttotal: 284ms\tremaining: 128ms\n",
      "138:\tlearn: 0.2903075\ttotal: 286ms\tremaining: 125ms\n",
      "139:\tlearn: 0.2899732\ttotal: 288ms\tremaining: 123ms\n",
      "140:\tlearn: 0.2893690\ttotal: 289ms\tremaining: 121ms\n",
      "141:\tlearn: 0.2888912\ttotal: 291ms\tremaining: 119ms\n",
      "142:\tlearn: 0.2878483\ttotal: 293ms\tremaining: 117ms\n",
      "143:\tlearn: 0.2872948\ttotal: 294ms\tremaining: 114ms\n",
      "144:\tlearn: 0.2863768\ttotal: 296ms\tremaining: 112ms\n",
      "145:\tlearn: 0.2860814\ttotal: 298ms\tremaining: 110ms\n",
      "146:\tlearn: 0.2855262\ttotal: 299ms\tremaining: 108ms\n",
      "147:\tlearn: 0.2847301\ttotal: 301ms\tremaining: 106ms\n",
      "148:\tlearn: 0.2842891\ttotal: 303ms\tremaining: 104ms\n",
      "149:\tlearn: 0.2833979\ttotal: 305ms\tremaining: 102ms\n",
      "150:\tlearn: 0.2826047\ttotal: 306ms\tremaining: 99.4ms\n",
      "151:\tlearn: 0.2819178\ttotal: 308ms\tremaining: 97.3ms\n",
      "152:\tlearn: 0.2811676\ttotal: 310ms\tremaining: 95.2ms\n",
      "153:\tlearn: 0.2807623\ttotal: 312ms\tremaining: 93.1ms\n",
      "154:\tlearn: 0.2801951\ttotal: 314ms\tremaining: 91ms\n",
      "155:\tlearn: 0.2799468\ttotal: 315ms\tremaining: 88.9ms\n",
      "156:\tlearn: 0.2794117\ttotal: 317ms\tremaining: 86.8ms\n",
      "157:\tlearn: 0.2791368\ttotal: 319ms\tremaining: 84.7ms\n",
      "158:\tlearn: 0.2785312\ttotal: 321ms\tremaining: 82.7ms\n",
      "159:\tlearn: 0.2782177\ttotal: 322ms\tremaining: 80.6ms\n",
      "160:\tlearn: 0.2776569\ttotal: 324ms\tremaining: 78.5ms\n",
      "161:\tlearn: 0.2767873\ttotal: 326ms\tremaining: 76.4ms\n",
      "162:\tlearn: 0.2764874\ttotal: 327ms\tremaining: 74.3ms\n",
      "163:\tlearn: 0.2760765\ttotal: 329ms\tremaining: 72.2ms\n",
      "164:\tlearn: 0.2758481\ttotal: 331ms\tremaining: 70.2ms\n",
      "165:\tlearn: 0.2741347\ttotal: 333ms\tremaining: 68.1ms\n",
      "166:\tlearn: 0.2736210\ttotal: 334ms\tremaining: 66.1ms\n",
      "167:\tlearn: 0.2733557\ttotal: 336ms\tremaining: 64ms\n",
      "168:\tlearn: 0.2726923\ttotal: 338ms\tremaining: 62ms\n",
      "169:\tlearn: 0.2723836\ttotal: 340ms\tremaining: 60ms\n",
      "170:\tlearn: 0.2722579\ttotal: 341ms\tremaining: 57.9ms\n",
      "171:\tlearn: 0.2719659\ttotal: 343ms\tremaining: 55.9ms\n",
      "172:\tlearn: 0.2717426\ttotal: 345ms\tremaining: 53.8ms\n",
      "173:\tlearn: 0.2711748\ttotal: 347ms\tremaining: 51.8ms\n",
      "174:\tlearn: 0.2707510\ttotal: 348ms\tremaining: 49.8ms\n",
      "175:\tlearn: 0.2704945\ttotal: 350ms\tremaining: 47.7ms\n",
      "176:\tlearn: 0.2697315\ttotal: 352ms\tremaining: 45.7ms\n",
      "177:\tlearn: 0.2693532\ttotal: 353ms\tremaining: 43.7ms\n",
      "178:\tlearn: 0.2686890\ttotal: 355ms\tremaining: 41.7ms\n",
      "179:\tlearn: 0.2682286\ttotal: 357ms\tremaining: 39.7ms\n",
      "180:\tlearn: 0.2676188\ttotal: 359ms\tremaining: 37.7ms\n",
      "181:\tlearn: 0.2668648\ttotal: 361ms\tremaining: 35.7ms\n",
      "182:\tlearn: 0.2663011\ttotal: 363ms\tremaining: 33.7ms\n",
      "183:\tlearn: 0.2659700\ttotal: 364ms\tremaining: 31.7ms\n",
      "184:\tlearn: 0.2656077\ttotal: 366ms\tremaining: 29.7ms\n",
      "185:\tlearn: 0.2652897\ttotal: 368ms\tremaining: 27.7ms\n",
      "186:\tlearn: 0.2650725\ttotal: 369ms\tremaining: 25.7ms\n",
      "187:\tlearn: 0.2646624\ttotal: 371ms\tremaining: 23.7ms\n",
      "188:\tlearn: 0.2643291\ttotal: 373ms\tremaining: 21.7ms\n",
      "189:\tlearn: 0.2637391\ttotal: 374ms\tremaining: 19.7ms\n",
      "190:\tlearn: 0.2633864\ttotal: 376ms\tremaining: 17.7ms\n",
      "191:\tlearn: 0.2627798\ttotal: 378ms\tremaining: 15.8ms\n",
      "192:\tlearn: 0.2622501\ttotal: 380ms\tremaining: 13.8ms\n",
      "193:\tlearn: 0.2620303\ttotal: 381ms\tremaining: 11.8ms\n",
      "194:\tlearn: 0.2616585\ttotal: 383ms\tremaining: 9.83ms\n",
      "195:\tlearn: 0.2610928\ttotal: 385ms\tremaining: 7.86ms\n",
      "196:\tlearn: 0.2608601\ttotal: 387ms\tremaining: 5.89ms\n",
      "197:\tlearn: 0.2606290\ttotal: 388ms\tremaining: 3.92ms\n",
      "198:\tlearn: 0.2601133\ttotal: 390ms\tremaining: 1.96ms\n",
      "199:\tlearn: 0.2591066\ttotal: 392ms\tremaining: 0us\n"
     ]
    },
    {
     "data": {
      "text/plain": [
       "<catboost.core.CatBoostClassifier at 0x7f7470677eb0>"
      ]
     },
     "execution_count": 53,
     "metadata": {},
     "output_type": "execute_result"
    }
   ],
   "source": [
    "cb = CatBoostClassifier(depth=5, iterations=200, learning_rate=.1, random_state=190922)\n",
    "\n",
    "cb.fit(X_train, y_train)"
   ]
  },
  {
   "cell_type": "code",
   "execution_count": 54,
   "metadata": {},
   "outputs": [
    {
     "name": "stdout",
     "output_type": "stream",
     "text": [
      "ROC-AUC: 0.9080533033108837\n"
     ]
    }
   ],
   "source": [
    "predict_proba = cb.predict_proba(X_test)[:, 1]\n",
    "\n",
    "print('ROC-AUC:', roc_auc_score(y_test, predict_proba))"
   ]
  },
  {
   "cell_type": "code",
   "execution_count": 55,
   "metadata": {},
   "outputs": [
    {
     "name": "stdout",
     "output_type": "stream",
     "text": [
      "Accuracy: 0.8616039744499645\n"
     ]
    }
   ],
   "source": [
    "predictions = cb.predict(X_test)\n",
    "\n",
    "print('Accuracy:', accuracy_score(y_test, predictions))"
   ]
  },
  {
   "cell_type": "markdown",
   "metadata": {},
   "source": [
    "Нарисуем ROC-кривую."
   ]
  },
  {
   "cell_type": "code",
   "execution_count": 56,
   "metadata": {},
   "outputs": [
    {
     "data": {
      "image/png": "[encoded data removed]",
      "text/plain": [
       "<Figure size 432x288 with 1 Axes>"
      ]
     },
     "metadata": {
      "needs_background": "light"
     },
     "output_type": "display_data"
    }
   ],
   "source": [
    "fpr, tpr, _ = roc_curve(y_test, predict_proba)\n",
    "\n",
    "plt.plot(fpr, tpr)\n",
    "plt.plot([0, 1], ls=\"--\")\n",
    "plt.plot([0, 0], [1, 0] , c=\".7\"), plt.plot([1, 1] , c=\".7\")\n",
    "plt.ylabel('True Positive Rate')\n",
    "plt.xlabel('False Positive Rate')\n",
    "plt.show()"
   ]
  },
  {
   "cell_type": "markdown",
   "metadata": {},
   "source": [
    "Можно увидеть, что модель предсказывает не случайно.\n",
    "\n",
    "Удалось найти модель и подобрать для нее гиперпараметры, которая достигает необходимых метрик.\n",
    "\n",
    "Итоговая метрика ROC-AUC на тестовой выборке: 0.9080533033108837"
   ]
  },
  {
   "cell_type": "markdown",
   "metadata": {},
   "source": [
    "<div class=\"alert alert-warning\">\n",
    "<b>**Комментарий тимлида_v3 ⚠️:**</b>\n",
    "\n",
    "Итоговая метрика ROC-AUC на тестовой выборке: 0.847879627711174 - эта фраза видимо от старых версий осталась. Нужно удалить.\n",
    "</div>"
   ]
  },
  {
   "cell_type": "markdown",
   "metadata": {},
   "source": [
    "<div class=\"alert alert-info\"> <b>Комментарий студента:</b>\n",
    "\n",
    "    \n",
    "Действительно, спасибо! </div>"
   ]
  },
  {
   "cell_type": "markdown",
   "metadata": {},
   "source": [
    "<div class=\"alert alert-success\">\n",
    "<b>**Комментарий тимлида_v2 ✔️:**</b>\n",
    "\n",
    "Ок, протестировали модель. Можно остановиться на этом (придется выполнить доп. задание, чтобы получить зачет). А можно еще поиграться с признаками - не думала добавить признак, отражающий лояльность клиента - например длительность контракта? Возможно это поможет повысить метрику.\n",
    "    \n",
    "Пожалуйста доработай исследование по моим замечаниям и высылай на проверку.\n",
    "</div>"
   ]
  },
  {
   "cell_type": "markdown",
   "metadata": {},
   "source": [
    "<div class=\"alert alert-warning\">\n",
    "<b>**Комментарий тимлида_v2 ⚠️:**</b>\n",
    "\n",
    "1. Нужно сделать анализ важности признаков итоговой модели. Можно ввиде барплота с сортировкой по важности. \n",
    "\n",
    "2. С точки зрения метрики - да, все ок, нужный показатель достигнут. Но вот с точки зрения бизнеса - ROC_AUC плохо интерпретируется. Гораздо лучше отразить дополнительно к этому графику еще и матрицу ошибок - confusion matrix. На основе нее сделать выводы как часто может ошибаться, какой тип ошибки наиболее вероятен и к чему с тз бизнеса это может привести.\n",
    "\n",
    "Это можно отразить в отчете.\n",
    "</div>"
   ]
  },
  {
   "cell_type": "code",
   "execution_count": 58,
   "metadata": {},
   "outputs": [
    {
     "data": {
      "text/plain": [
       "<AxesSubplot:title={'center':'Важность признаков'}>"
      ]
     },
     "execution_count": 58,
     "metadata": {},
     "output_type": "execute_result"
    },
    {
     "data": {
      "image/png": "[encoded data removed]",
      "text/plain": [
       "<Figure size 1152x648 with 1 Axes>"
      ]
     },
     "metadata": {
      "needs_background": "light"
     },
     "output_type": "display_data"
    }
   ],
   "source": [
    "features_importance = cb.get_feature_importance()\n",
    "# features_importance = sorted(features_importance, reverse=True)\n",
    "\n",
    "importance = pd.DataFrame(data=features_importance, index=list(X_test.columns), columns=['importance'])\n",
    "\n",
    "importance.sort_values(by='importance', ascending=False).plot(kind='bar',\n",
    "                                                              figsize=(16,9),\n",
    "                                                              title='Важность признаков')"
   ]
  },
  {
   "cell_type": "markdown",
   "metadata": {},
   "source": [
    "Можно увидеть, что для CatBoost'a есть 4 самых важных признака: кол-во дней, тип подлючения, подключения оптического кабеля и отсутствие интернет служб."
   ]
  },
  {
   "cell_type": "markdown",
   "metadata": {},
   "source": [
    "<div class=\"alert alert-warning\">\n",
    "<b>**Комментарий тимлида_v2 ⚠️:**</b>\n",
    "\n",
    "Не верно рисуешь график. У тебя отсортированы значения признаков, но сами признаки в том порядке, что и были в модели. Исправь, либо используй просто графики зи Seaborn sns.barplot(x='Feature Id', y='Importances', data=features_importance.reset_index())\n",
    " \n",
    "В отчете поправь пожалуйста.\n",
    "</div>"
   ]
  },
  {
   "cell_type": "markdown",
   "metadata": {},
   "source": [
    "<div class=\"alert alert-info\"> <b>Комментарий студента:</b>\n",
    "\n",
    "    \n",
    "Упс, исправила) </div>"
   ]
  },
  {
   "cell_type": "code",
   "execution_count": null,
   "metadata": {},
   "outputs": [],
   "source": [
    "y_pred = cb.predict(X_test)"
   ]
  },
  {
   "cell_type": "code",
   "execution_count": null,
   "metadata": {},
   "outputs": [],
   "source": [
    "plt.figure(figsize=(12, 10))\n",
    "sns.heatmap(confusion_matrix(y_test, y_pred), annot=True, cmap=\"coolwarm\", fmt='3.0f')\n",
    "plt.title('Матрица ошибок', y=1.05, size=15)"
   ]
  },
  {
   "cell_type": "markdown",
   "metadata": {},
   "source": [
    "Модель отлично справляется с предсказанием отрицательного класса (клиент не уйдёт), но с предсказанием ухода клиента делает частые ошибки, но и не угадывает. Модель также чаще предсказывает отрицательный класс, что необходимо для бизнеса: определить, уйдет ли клиент."
   ]
  },
  {
   "cell_type": "markdown",
   "metadata": {},
   "source": [
    "<div class=\"alert alert-success\">\n",
    "<b>**Комментарий тимлида_v3 ✔️:**</b>\n",
    "\n",
    "Виктория, привет! Получилось хорошее и качественное исследование!\n",
    "    \n",
    "Обработка данных, размышления над признаками, поиск и сравнение различных вариантов обучающего датасета. Конечные результаты, графика - многое удалось как надо. Можно сказать, что пройден весь алгоритм моделирования от анализа исходной инфо до анализа важности факторов.\n",
    "А что совсем хорошо, так это то, что нет гонки за точностью любой ценой, даже ценой наружения бизнес-логики. (это я про даты-признаки - всегда есть соблазн их оставить...)\n",
    "    \n",
    "Прежде, чем пойти дальше хочу обратить особое внимание на следующие пункты:\n",
    "    \n",
    "1. F1, Accuracy и AUC - отличные метрики, но нужно держать в голове, что это лишь обобщённые характеристики. А в реальной практике бизнесу часто важно знать детали самой ошибки - из каких ошибок/успехов она складывается. И в этом случае очень кстати будут меры полноты и точности. Рассмотри возможность их использования для своих проектов. Только через них можно выйти на финансовые возможности модели. Ведь перед запуском её в бой, будет сравнение стоимости создания и поддержки модели со стомостью \"оставить как есть\".\n",
    "\n",
    "\n",
    "2. При анализе факторов влияния (их зависиомть между собой и на целевую) происходит по одному из трёх алгоритмов, исходя из типа шкалы. Могут применять следующие графический и аналитический анализы:\n",
    "\n",
    "- колличественная-колличественная: аналитически метод - корреляции, графический - скатерплот.\n",
    "- колличественная-номинальная: аналитически методод - проверка гипотез (стьюдент), графический - боксплот.\n",
    "- номинальная-номинальная: аналитически методод - Хи-квадрат, графический - круговая диаграмма\n",
    "Это я к тому разделу, который посвящён анализу данных. Там сделаны интересные предположения и их аналитическая проверка. Очень важные этапы любого исследования, где требуется определить валидность использования признаков из датасета.\n",
    "    \n",
    "3. Алгоритм нахождения модели может быть таким:\n",
    "\n",
    "- изучаем проблематику бизнеса и самой темы (в данном случае отток). Пытаемся понять суть явления.\n",
    "- генерируем разные факторы влияния - любые.\n",
    "- дизайнируем (прикидываем модели) какие методы решения есть, чтобы решить проблему.\n",
    "- Смотрим, какие данные и в какой шкале есть. Что нужно ещё, что применить выбранный метод.\n",
    "- Оцениваем мультиколлинеарность.\n",
    "- Готовим подходящий датасет (масштабируем, убираем лишние признаки, кодируем)\n",
    "- Строим модели и анализируем те фактры, какие сгенерировали ранее.\n",
    "- Думаем над тем, какие причины (факторы) могут ещё влиять на таргет.\n",
    "- Если после нескольких итераций точность \"замирает\" - значит достигли потолка)\n",
    "    \n",
    "4. Проведение анализа важности факторов с помощью команды feature_importances_ (+графический анализ). Отличная вещь намечается: высокая метрика + график рейтинаг факторов по силе влияния на целевой признак). Важнейшая часть любого модельного финала. Если видно, что часть факторов - слабозначимые для модели. Т.е. не значительно влияют на целевую переменную, то их смело можно убирать из модели. Ну и для бизнеса доносить: на эти факторы надо обращать внимание, а эти не влияют на уход клиента.\n",
    "\n",
    "Вопросов у меня больше нет, работу принимаю, твоя метрика ROC-AUC = 0.90 что соответствует 6sp. \n",
    "\n",
    "Не забудь перед подготовкой отчета еще раз прочитать мои рекомендации по его составлению (что проверяется и на что обращается внимание при проверке). Нужно описание предобработки данных, сводной таблицы моделей на кроссвалидации, график важности признаков итоговой модели, результаты итоговой модели (аккураси и рос-аук, и гиперпараметры).\n",
    "\n",
    "    \n",
    "</div>"
   ]
  },
  {
   "cell_type": "markdown",
   "metadata": {},
   "source": [
    "## Отчет"
   ]
  },
  {
   "cell_type": "markdown",
   "metadata": {},
   "source": [
    "Были выполнены практически все пункты плана, в том числе была добавлена еще модель для исследования: CatBoostClassifier. К сожалению, в задуманные сроки не удалось уложиться, т.к. возникали ошибки по ходу написания кода, которые надо было исправлять (об этом ниже).\n",
    "\n",
    "Главная трудность возникала при написании модели CatBoostClassifier, где не получилось подать \"грязные\" данные на вход из-за `ValueError isChurn is not in List`. Через несколько попыток исправлений решила это обойти с помощью закодированных данных.\n",
    "\n",
    "Ключевые шаги в работе:\n",
    "* Изучить таблицы с данными по отдельности\n",
    "* Поменять типы данных и разобраться с пропусками\n",
    "* Выделить таргет и создать синтетический признак\n",
    "* Соединить таблицы\n",
    "* Провести исследовательский анализ данных\n",
    "* Провести анализ влияния факторов через аналитический метод (VIF)\n",
    "* Поиск наилучшей модели\n",
    "* Тестирование лучшей модели\n",
    "\n",
    "**Как проходила предобработка данных?**\n",
    "1. Вывела все таблицы и изучила их структуру\n",
    "2. Перевела строки с датами в тип данных `datetime`, чтобы можно было с ними работать как с числами\n",
    "3. При попытке изменении типа данных в колонке общего дохода от клиента, было обнаружено, что датасет собран на момент 2020-02-01\n",
    "4. В следствие этого пропуски в колонке общего дохода от клиента были заполнены нулями, т.к. клиент не успел еще внести \"тотал\"\n",
    "5. Далее создала синтетический признак на основе двух имеющихся: дата начала договора и дата его окончания. Сделано это для выведени \"лояльности\" клиента. Ведь чем дольше он с компанией, тем меньше шансов его ухода.\n",
    "6. Соединила таблицы.\n",
    "7. Пропуски в новом датафрейме заполнила `No`, т.к. отсутствие ID клиента в той или иной таблице подразумевает отсутствие и самой услуги у клиента.\n",
    "8. Удалила признаки с датами для избежание утечки данных (особенно дата окончания договора).\n",
    "9. Провела проверку на мультиколлинеарность с помощью VIF, в результате которого было удалено два признака. Данная проверка проводилась для работы с линейными моделями и избежания сильных зависимостей.\n",
    "10. Кодировала категориальные признаки сочетая два способа: OneHotEncoding и LabelEncoding (в ретроспективе понимаю, что для некоторых признаков надо было сделать OHE, а не LabelEncoding, например в колонке `Gender`)\n",
    "\n",
    "Для обучения модели использовалась часть старых признаков и два новых. Удалены временные признаки, т.к. это не анализ временных рядов и можно получить утечку данных. Добавлен таргет из даты окончания договора - ушел клиент или нет? И добавлено кол-во дней активного договора из обеих дат (начала и окончания договора), показывающий лояльность клиента."
   ]
  },
  {
   "cell_type": "code",
   "execution_count": 59,
   "metadata": {},
   "outputs": [
    {
     "data": {
      "text/plain": [
       "<AxesSubplot:title={'center':'Важность признаков'}>"
      ]
     },
     "execution_count": 59,
     "metadata": {},
     "output_type": "execute_result"
    },
    {
     "data": {
      "image/png": "[encoded data removed]",
      "text/plain": [
       "<Figure size 1152x360 with 1 Axes>"
      ]
     },
     "metadata": {
      "needs_background": "light"
     },
     "output_type": "display_data"
    }
   ],
   "source": [
    "importance.sort_values(by='importance', ascending=False).plot(kind='bar',\n",
    "                                                              figsize=(16,5),\n",
    "                                                              title='Важность признаков')"
   ]
  },
  {
   "cell_type": "markdown",
   "metadata": {},
   "source": [
    "После анализа важности признаков можно сделать вывод о ненадобности последних пяти признаков: наличие партнера, наличие иждивенцев, две услуги и способ оплаты через почту. Если бизнес будет использовать модель в будущем, то эти данные не нужно собирать для предсказывания ухода от компании."
   ]
  },
  {
   "cell_type": "code",
   "execution_count": 60,
   "metadata": {},
   "outputs": [],
   "source": [
    "indexes = ['LogisticRegression', 'RandomForestClassifier', 'KNN', 'CatBoostClassifier']\n",
    "data = [0.845830, 0.8581262210692862, 0.8531185164641819, 0.9280533033108837]\n",
    "\n",
    "pivot = pd.DataFrame(data=data, index=indexes, columns=['CrossValidation Score'])"
   ]
  },
  {
   "cell_type": "markdown",
   "metadata": {},
   "source": [
    "Сравнение моделей на кросс-валидации ниже."
   ]
  },
  {
   "cell_type": "code",
   "execution_count": 61,
   "metadata": {},
   "outputs": [
    {
     "data": {
      "text/html": [
       "<div>\n",
       "<style scoped>\n",
       "    .dataframe tbody tr th:only-of-type {\n",
       "        vertical-align: middle;\n",
       "    }\n",
       "\n",
       "    .dataframe tbody tr th {\n",
       "        vertical-align: top;\n",
       "    }\n",
       "\n",
       "    .dataframe thead th {\n",
       "        text-align: right;\n",
       "    }\n",
       "</style>\n",
       "<table border=\"1\" class=\"dataframe\">\n",
       "  <thead>\n",
       "    <tr style=\"text-align: right;\">\n",
       "      <th></th>\n",
       "      <th>CrossValidation Score</th>\n",
       "    </tr>\n",
       "  </thead>\n",
       "  <tbody>\n",
       "    <tr>\n",
       "      <th>CatBoostClassifier</th>\n",
       "      <td>0.928053</td>\n",
       "    </tr>\n",
       "    <tr>\n",
       "      <th>RandomForestClassifier</th>\n",
       "      <td>0.858126</td>\n",
       "    </tr>\n",
       "    <tr>\n",
       "      <th>KNN</th>\n",
       "      <td>0.853119</td>\n",
       "    </tr>\n",
       "    <tr>\n",
       "      <th>LogisticRegression</th>\n",
       "      <td>0.845830</td>\n",
       "    </tr>\n",
       "  </tbody>\n",
       "</table>\n",
       "</div>"
      ],
      "text/plain": [
       "                        CrossValidation Score\n",
       "CatBoostClassifier                   0.928053\n",
       "RandomForestClassifier               0.858126\n",
       "KNN                                  0.853119\n",
       "LogisticRegression                   0.845830"
      ]
     },
     "execution_count": 61,
     "metadata": {},
     "output_type": "execute_result"
    }
   ],
   "source": [
    "pivot.sort_values(by='CrossValidation Score', ascending=False)"
   ]
  },
  {
   "cell_type": "markdown",
   "metadata": {},
   "source": [
    "В качестве итоговой модели выбран CatBoostClassifier.\n",
    "\n",
    "**Оценки итоговой модели** <br>\n",
    "\n",
    "Accuracy: 0.878637 <br>\n",
    "ROC-AUC: 0.908053"
   ]
  },
  {
   "cell_type": "markdown",
   "metadata": {},
   "source": [
    "<div class=\"alert alert-danger\">\n",
    "<b>**Комментарий тимлида_v4 ✔️:**</b>\n",
    "\n",
    "Хорошие ответы на основные вопросы задания. В целом все ок, но для полноты отчета не хватает следующих разделов:\n",
    "\n",
    "* Описан процесс предобработки данных (что делаем с данными и почему).\n",
    "* Описаны признаки, какие используются  для обучения (объяснено почему именно они).\n",
    "* Представлен анализ важности признаков итоговой модели.\n",
    "\n",
    "В идеале - отчёт должен быть таким, чтобы по нему можно было воспроизвести проект, не смотря в код.\n",
    "    \n",
    "Пожалуйта доработай отчет и высылай его на проверку.\n",
    "</div>"
   ]
  },
  {
   "cell_type": "markdown",
   "metadata": {},
   "source": [
    "<div class=\"alert alert-info\"> <b>Комментарий студента:</b>\n",
    "\n",
    "Доработала! </div>"
   ]
  },
  {
   "cell_type": "markdown",
   "metadata": {},
   "source": [
    "<div class=\"alert alert-success\">\n",
    "<b>**Комментарий тимлида_v5 ✔️:**</b>\n",
    "\n",
    "Цель проекта достигнута, создана модель прогнозирования оттока клиентов с заданным качеством работы, сформирован отчет по исследованию.\n",
    "\n",
    "Возможно повторюсь - хорошая структурированная работа, глубокое и основательное исследование.  Отличный отчет, есть основные этапы исследования, сравнение с первоначальным планом, трудности, с которыми пришлось столкнуться. Хорошо описан процесс предобработки данных, есть анализ мультиколлинеарности и важности признаков итоговой модели.\n",
    "\n",
    "Хочу заострить твое внимание на важных этапах исследования и выводов по ним, которые должны быть в любом отчете исследования в области DataScience:\n",
    "\n",
    "- описание предобработки данных. Крайне важный процесс, т.к. все исследование  и моделирование будет строиться на данных. Не забывай уделять этому особое внимание.\n",
    "    \n",
    "- анализ мультколлинеарности и важности признаков итоговой модели. По итогу можно значительно упростить как модель (убрать лишние признаки) так и облегчить жизнь бизнеса - выдать рекомендации относительно важности признаков и влияния их на отток (в нашем случае). \n",
    "\n",
    "-  портрет уходящего клиента. В нашей работе это не являлось главным и вообще не требовалось. Однако нужно понимать - мы работаем с бизнесом и результаты нашего анализа (пусть и возникшие побочно) очень пригодятся маркетингу для создания программ по удержанию клиентов.  \n",
    "<br>\n",
    "\n",
    "Еще раз - отличное исследование, ты молодец! \n",
    "    \n",
    "<br>\n",
    "Поздравляю с выполнением дипломной работы и завершением финального спринта! Ура!!!\n",
    "\n",
    "</div>\n"
   ]
  },
  {
   "cell_type": "markdown",
   "metadata": {},
   "source": [
    "<div class=\"alert alert-success\">\n",
    "<b>**Комментарий тимлида [ФИНАЛЬНЫЙ] ✔️:**</b>\n",
    "\n",
    "Привет Виктория!\n",
    "\n",
    "Хочу дать тебе обратную связь, как тимлид, по финальному проекту. \n",
    "\n",
    "В твоей работе мне очень понравилось:\n",
    "- Владение инструментарием ДС. По исследованию видно, что ты понимаешь что делаешь, владеешь основным инструментарием, успешно его применяешь и хорошо интерпретируешь результаты. Вижу, что знания, полученные в ходе обучения, уверенно перешли в навыки и стали уже твоими Hard Skills. \n",
    "- Кроссвалидация и подбор гиперпараметррв. Круто, что в работе используются инструменты типа GridSearchCV , RandomSearchCV, HalvingGridSearchCV или Optuna. Это  очень мощные инструменты для поиска оптимальных гиперпараметров.\n",
    "- Очень здорово, что есть  анализ мультиколлинеарности – отдельно для числовых, отдельно для категориальных признаков. Отлично что ты понимаешь суть коэфициента корреляции Пирсона, Спирмена и хи-квадрат. Круто что использовала VIF!\n",
    "\n",
    "\n",
    "Над чем еще можно поработать:\n",
    "- Тайминг. Некоторые работы ты сдавал награни дедлайна. Хорошо, что все в итоге получилось сделать до жесткого дедлайна, но в реальной работе лучше до этого не доводить. Настоящая работа - это не подготовка к сдаче экзаменов в сессии, нужно планировать заранее и выполнять работу чуть раньше крайного срока, чтобы было достаточно времени на ее доработку.\n",
    "- Немного улучить и причесать код. Лично я предпочитаю, чтобы функции были описаны сразу после импортов. Но это дело вкуса. Повторяющиеся действия можно было бы выделить в отдельную функцию. Это удобнее и нагляднее.  Решение – больше самостоятельной практики, больше изучай чужой код.\n",
    "- Оформление исследования и отчет. По каждому блоку работы в описательной части хорошо бы придерживаться схемы – что планируешь делать (гипотеза), что будешь использовать для ее подтверждения или опровержения (используемые методы и алгоритмы), само исследование с краткими пояснениями по каждому результату, общий вывод (подтвердилась гипотеза или нет). У тебя местами это присутствует, но не везде.  Если хочешь добавить данный проект в портфолио – лучше оформить его в соответствии с требованиями к оформлению проекта. В текущем виде его сложно читать человеку, не погруженному в тему исследования. Решение – еще раз освежить в памяти раздел обучения, где рассказывается о том, как оформлять проект. Примеры хороших отчетов можно посмотреть на  сайте Stanford University ( http://cs229.stanford.edu/projects2014.html ). Это отчеты по финальным проектам направления Machine Learning. Изучая их становится понятно наполнение отчета по исследованию, а так же, что главное - понятна сама структура отчета.\n",
    "- Портрет клиента. Можно было в ходе EDA сформировать портрет уходящего клиента. Это крайне важно для бизнеса (отдел маркетинга будет очень рад этой информации)\n",
    "Решение - более детально проводить EDA для формирования результатов не только в с целью проектирования признаков для модели, но и для  предоставления инсайтов бизнесу.\n",
    "    \n",
    "Позади большой путь освоения новой специальности! Решение поставленной задачи в рамках финального проекта показало, что у тебя достаточно знаний и навыков для выполнения исследовательских работы в области ДС как минимум на уровне Джуна. Не останавливайся на достигнутом – изучай новые методы и подходы, практикуйся в решении различных задач (куча задач есть на Kaggle). Рекомендую очень серьезно и обстоятельно готовиться к собеседованиям, это тоже очень важная часть процесса трудоустройства. \n",
    "\n",
    "Еще раз поздравляю тебя с завершением учебы! Желаю скорейшего трудоустройства и успехов в новой профессии! Главное – это заниматься тем, что тебе нравится!\n",
    "\n",
    "</div>"
   ]
  },
  {
   "cell_type": "code",
   "execution_count": null,
   "metadata": {},
   "outputs": [],
   "source": []
  }
 ],
 "metadata": {
  "ExecuteTimeLog": [
   {
    "duration": 97,
    "start_time": "2022-09-22T11:39:48.941Z"
   },
   {
    "duration": 123,
    "start_time": "2022-09-22T11:40:04.454Z"
   },
   {
    "duration": 1394,
    "start_time": "2022-09-22T11:41:39.986Z"
   },
   {
    "duration": 331,
    "start_time": "2022-09-22T11:41:45.553Z"
   },
   {
    "duration": 3,
    "start_time": "2022-09-22T11:41:54.356Z"
   },
   {
    "duration": 17,
    "start_time": "2022-09-22T11:42:08.028Z"
   },
   {
    "duration": 14,
    "start_time": "2022-09-22T11:42:48.429Z"
   },
   {
    "duration": 6,
    "start_time": "2022-09-22T11:43:18.341Z"
   },
   {
    "duration": 7,
    "start_time": "2022-09-22T11:43:23.212Z"
   },
   {
    "duration": 105,
    "start_time": "2022-09-22T11:43:29.129Z"
   },
   {
    "duration": 13,
    "start_time": "2022-09-22T11:43:46.052Z"
   },
   {
    "duration": 4,
    "start_time": "2022-09-22T11:44:21.589Z"
   },
   {
    "duration": 4,
    "start_time": "2022-09-22T11:44:27.138Z"
   },
   {
    "duration": 22,
    "start_time": "2022-09-22T11:44:41.422Z"
   },
   {
    "duration": 13,
    "start_time": "2022-09-22T11:44:46.724Z"
   },
   {
    "duration": 177,
    "start_time": "2022-09-22T11:45:02.157Z"
   },
   {
    "duration": 7,
    "start_time": "2022-09-22T11:45:11.880Z"
   },
   {
    "duration": 16,
    "start_time": "2022-09-22T11:45:25.645Z"
   },
   {
    "duration": 127,
    "start_time": "2022-09-22T11:51:49.413Z"
   },
   {
    "duration": 100,
    "start_time": "2022-09-22T11:51:55.137Z"
   },
   {
    "duration": 97,
    "start_time": "2022-09-22T11:51:59.313Z"
   },
   {
    "duration": 122,
    "start_time": "2022-09-22T11:52:07.629Z"
   },
   {
    "duration": 9,
    "start_time": "2022-09-22T11:54:06.325Z"
   },
   {
    "duration": 12,
    "start_time": "2022-09-22T11:54:10.956Z"
   },
   {
    "duration": 4,
    "start_time": "2022-09-22T11:54:16.530Z"
   },
   {
    "duration": 13,
    "start_time": "2022-09-22T12:04:10.504Z"
   },
   {
    "duration": 13,
    "start_time": "2022-09-22T12:04:17.354Z"
   },
   {
    "duration": 6,
    "start_time": "2022-09-22T12:04:30.151Z"
   },
   {
    "duration": 11,
    "start_time": "2022-09-22T12:04:35.114Z"
   },
   {
    "duration": 1414,
    "start_time": "2022-09-22T18:31:23.877Z"
   },
   {
    "duration": 326,
    "start_time": "2022-09-22T18:31:25.293Z"
   },
   {
    "duration": 19,
    "start_time": "2022-09-22T18:31:25.624Z"
   },
   {
    "duration": 17,
    "start_time": "2022-09-22T18:31:28.518Z"
   },
   {
    "duration": 10,
    "start_time": "2022-09-22T18:31:32.031Z"
   },
   {
    "duration": 7,
    "start_time": "2022-09-22T18:31:32.354Z"
   },
   {
    "duration": 115,
    "start_time": "2022-09-22T18:31:33.394Z"
   },
   {
    "duration": 14,
    "start_time": "2022-09-22T18:31:38.644Z"
   },
   {
    "duration": 5,
    "start_time": "2022-09-22T18:32:17.248Z"
   },
   {
    "duration": 5,
    "start_time": "2022-09-22T18:32:17.516Z"
   },
   {
    "duration": 15,
    "start_time": "2022-09-22T18:32:20.651Z"
   },
   {
    "duration": 13,
    "start_time": "2022-09-22T18:32:20.857Z"
   },
   {
    "duration": 7,
    "start_time": "2022-09-22T18:32:32.036Z"
   },
   {
    "duration": 17,
    "start_time": "2022-09-22T18:33:38.046Z"
   },
   {
    "duration": 124,
    "start_time": "2022-09-22T18:33:42.079Z"
   },
   {
    "duration": 133,
    "start_time": "2022-09-22T18:33:42.393Z"
   },
   {
    "duration": 10,
    "start_time": "2022-09-22T18:34:08.478Z"
   },
   {
    "duration": 13,
    "start_time": "2022-09-22T18:34:08.734Z"
   },
   {
    "duration": 11,
    "start_time": "2022-09-22T18:34:12.039Z"
   },
   {
    "duration": 13,
    "start_time": "2022-09-22T18:34:12.303Z"
   },
   {
    "duration": 8,
    "start_time": "2022-09-22T18:34:30.004Z"
   },
   {
    "duration": 11,
    "start_time": "2022-09-22T18:34:30.240Z"
   },
   {
    "duration": 64,
    "start_time": "2022-09-23T05:38:36.301Z"
   },
   {
    "duration": 1350,
    "start_time": "2022-09-23T05:38:52.467Z"
   },
   {
    "duration": 307,
    "start_time": "2022-09-23T05:38:53.819Z"
   },
   {
    "duration": 17,
    "start_time": "2022-09-23T05:38:54.128Z"
   },
   {
    "duration": 14,
    "start_time": "2022-09-23T05:38:54.146Z"
   },
   {
    "duration": 8,
    "start_time": "2022-09-23T05:38:54.163Z"
   },
   {
    "duration": 10,
    "start_time": "2022-09-23T05:38:54.173Z"
   },
   {
    "duration": 109,
    "start_time": "2022-09-23T05:38:54.185Z"
   },
   {
    "duration": 0,
    "start_time": "2022-09-23T05:38:54.296Z"
   },
   {
    "duration": 0,
    "start_time": "2022-09-23T05:38:54.298Z"
   },
   {
    "duration": 0,
    "start_time": "2022-09-23T05:38:54.300Z"
   },
   {
    "duration": 0,
    "start_time": "2022-09-23T05:38:54.301Z"
   },
   {
    "duration": 0,
    "start_time": "2022-09-23T05:38:54.302Z"
   },
   {
    "duration": 0,
    "start_time": "2022-09-23T05:38:54.304Z"
   },
   {
    "duration": 0,
    "start_time": "2022-09-23T05:38:54.305Z"
   },
   {
    "duration": 0,
    "start_time": "2022-09-23T05:38:54.306Z"
   },
   {
    "duration": 0,
    "start_time": "2022-09-23T05:38:54.307Z"
   },
   {
    "duration": 0,
    "start_time": "2022-09-23T05:38:54.308Z"
   },
   {
    "duration": 0,
    "start_time": "2022-09-23T05:38:54.309Z"
   },
   {
    "duration": 0,
    "start_time": "2022-09-23T05:38:54.310Z"
   },
   {
    "duration": 0,
    "start_time": "2022-09-23T05:38:54.311Z"
   },
   {
    "duration": 0,
    "start_time": "2022-09-23T05:38:54.313Z"
   },
   {
    "duration": 0,
    "start_time": "2022-09-23T05:38:54.314Z"
   },
   {
    "duration": 0,
    "start_time": "2022-09-23T05:38:54.315Z"
   },
   {
    "duration": 18,
    "start_time": "2022-09-23T05:38:59.792Z"
   },
   {
    "duration": 5,
    "start_time": "2022-09-23T05:39:02.561Z"
   },
   {
    "duration": 4,
    "start_time": "2022-09-23T05:39:02.783Z"
   },
   {
    "duration": 27,
    "start_time": "2022-09-23T05:39:04.595Z"
   },
   {
    "duration": 12,
    "start_time": "2022-09-23T05:39:04.830Z"
   },
   {
    "duration": 6,
    "start_time": "2022-09-23T05:39:07.495Z"
   },
   {
    "duration": 15,
    "start_time": "2022-09-23T05:39:09.700Z"
   },
   {
    "duration": 106,
    "start_time": "2022-09-23T05:39:12.101Z"
   },
   {
    "duration": 10,
    "start_time": "2022-09-23T05:39:15.887Z"
   },
   {
    "duration": 12,
    "start_time": "2022-09-23T05:39:16.076Z"
   },
   {
    "duration": 116,
    "start_time": "2022-09-23T05:40:39.091Z"
   },
   {
    "duration": 11,
    "start_time": "2022-09-23T05:41:55.437Z"
   },
   {
    "duration": 117,
    "start_time": "2022-09-23T05:42:24.218Z"
   },
   {
    "duration": 15,
    "start_time": "2022-09-23T05:42:38.608Z"
   },
   {
    "duration": 260,
    "start_time": "2022-09-23T05:43:06.013Z"
   },
   {
    "duration": 257,
    "start_time": "2022-09-23T05:43:35.627Z"
   },
   {
    "duration": 277,
    "start_time": "2022-09-23T05:43:42.951Z"
   },
   {
    "duration": 357,
    "start_time": "2022-09-23T05:43:59.917Z"
   },
   {
    "duration": 289,
    "start_time": "2022-09-23T05:44:12.330Z"
   },
   {
    "duration": 254,
    "start_time": "2022-09-23T05:44:48.423Z"
   },
   {
    "duration": 239,
    "start_time": "2022-09-23T05:45:21.548Z"
   },
   {
    "duration": 280,
    "start_time": "2022-09-23T05:45:32.990Z"
   },
   {
    "duration": 251,
    "start_time": "2022-09-23T05:45:40.725Z"
   },
   {
    "duration": 272,
    "start_time": "2022-09-23T05:49:24.791Z"
   },
   {
    "duration": 349,
    "start_time": "2022-09-23T05:58:09.780Z"
   },
   {
    "duration": 313,
    "start_time": "2022-09-23T05:59:32.563Z"
   },
   {
    "duration": 324,
    "start_time": "2022-09-23T05:59:37.580Z"
   },
   {
    "duration": 81,
    "start_time": "2022-09-23T05:59:48.318Z"
   },
   {
    "duration": 56,
    "start_time": "2022-09-23T05:59:51.762Z"
   },
   {
    "duration": 79,
    "start_time": "2022-09-23T05:59:54.733Z"
   },
   {
    "duration": 320,
    "start_time": "2022-09-23T05:59:59.931Z"
   },
   {
    "duration": 330,
    "start_time": "2022-09-23T06:00:10.821Z"
   },
   {
    "duration": 413,
    "start_time": "2022-09-23T06:01:22.249Z"
   },
   {
    "duration": 335,
    "start_time": "2022-09-23T06:01:34.381Z"
   },
   {
    "duration": 327,
    "start_time": "2022-09-23T06:01:59.904Z"
   },
   {
    "duration": 425,
    "start_time": "2022-09-23T06:24:58.393Z"
   },
   {
    "duration": 424,
    "start_time": "2022-09-23T06:25:55.594Z"
   },
   {
    "duration": 387,
    "start_time": "2022-09-23T06:26:07.281Z"
   },
   {
    "duration": 4,
    "start_time": "2022-09-23T06:35:00.957Z"
   },
   {
    "duration": 14,
    "start_time": "2022-09-23T06:35:10.654Z"
   },
   {
    "duration": 250,
    "start_time": "2022-09-23T06:36:32.762Z"
   },
   {
    "duration": 150,
    "start_time": "2022-09-23T06:36:55.752Z"
   },
   {
    "duration": 79,
    "start_time": "2022-09-23T06:37:18.041Z"
   },
   {
    "duration": 152,
    "start_time": "2022-09-23T06:37:25.438Z"
   },
   {
    "duration": 174,
    "start_time": "2022-09-23T06:37:33.401Z"
   },
   {
    "duration": 186,
    "start_time": "2022-09-23T06:37:41.533Z"
   },
   {
    "duration": 1103,
    "start_time": "2022-09-23T06:38:17.546Z"
   },
   {
    "duration": 407,
    "start_time": "2022-09-23T06:38:32.963Z"
   },
   {
    "duration": 12,
    "start_time": "2022-09-23T06:39:36.930Z"
   },
   {
    "duration": 11,
    "start_time": "2022-09-23T06:39:42.006Z"
   },
   {
    "duration": 674,
    "start_time": "2022-09-23T06:42:56.630Z"
   },
   {
    "duration": 593,
    "start_time": "2022-09-23T06:43:12.871Z"
   },
   {
    "duration": 514,
    "start_time": "2022-09-23T06:43:19.360Z"
   },
   {
    "duration": 622,
    "start_time": "2022-09-23T06:43:26.808Z"
   },
   {
    "duration": 862,
    "start_time": "2022-09-23T06:43:46.111Z"
   },
   {
    "duration": 598,
    "start_time": "2022-09-23T06:45:17.673Z"
   },
   {
    "duration": 6,
    "start_time": "2022-09-23T06:48:26.318Z"
   },
   {
    "duration": 11,
    "start_time": "2022-09-23T06:48:26.606Z"
   },
   {
    "duration": 10,
    "start_time": "2022-09-23T06:49:23.564Z"
   },
   {
    "duration": 5,
    "start_time": "2022-09-23T06:49:47.172Z"
   },
   {
    "duration": 5,
    "start_time": "2022-09-23T06:49:52.119Z"
   },
   {
    "duration": 5,
    "start_time": "2022-09-23T06:50:37.074Z"
   },
   {
    "duration": 4,
    "start_time": "2022-09-23T06:50:52.051Z"
   },
   {
    "duration": 11,
    "start_time": "2022-09-23T07:37:03.440Z"
   },
   {
    "duration": 14,
    "start_time": "2022-09-23T07:37:07.688Z"
   },
   {
    "duration": 22,
    "start_time": "2022-09-23T07:38:08.146Z"
   },
   {
    "duration": 19,
    "start_time": "2022-09-23T07:38:11.693Z"
   },
   {
    "duration": 18,
    "start_time": "2022-09-23T07:38:33.493Z"
   },
   {
    "duration": 10,
    "start_time": "2022-09-23T07:40:00.099Z"
   },
   {
    "duration": 16,
    "start_time": "2022-09-23T07:40:04.404Z"
   },
   {
    "duration": 11,
    "start_time": "2022-09-23T07:40:29.502Z"
   },
   {
    "duration": 77,
    "start_time": "2022-09-23T07:44:10.862Z"
   },
   {
    "duration": 12,
    "start_time": "2022-09-23T07:48:29.681Z"
   },
   {
    "duration": 53,
    "start_time": "2022-09-23T07:53:31.707Z"
   },
   {
    "duration": 4,
    "start_time": "2022-09-23T07:58:33.813Z"
   },
   {
    "duration": 6,
    "start_time": "2022-09-23T07:58:40.800Z"
   },
   {
    "duration": 6,
    "start_time": "2022-09-23T08:01:42.147Z"
   },
   {
    "duration": 5,
    "start_time": "2022-09-23T08:01:43.038Z"
   },
   {
    "duration": 24,
    "start_time": "2022-09-23T08:01:53.081Z"
   },
   {
    "duration": 5,
    "start_time": "2022-09-23T08:02:14.656Z"
   },
   {
    "duration": 25,
    "start_time": "2022-09-23T08:05:25.238Z"
   },
   {
    "duration": 26,
    "start_time": "2022-09-23T08:28:37.273Z"
   },
   {
    "duration": 5,
    "start_time": "2022-09-23T08:33:24.785Z"
   },
   {
    "duration": 8,
    "start_time": "2022-09-23T08:34:47.007Z"
   },
   {
    "duration": 29,
    "start_time": "2022-09-23T08:35:22.421Z"
   },
   {
    "duration": 3,
    "start_time": "2022-09-23T08:36:10.129Z"
   },
   {
    "duration": 5,
    "start_time": "2022-09-23T08:36:10.540Z"
   },
   {
    "duration": 14,
    "start_time": "2022-09-23T08:36:11.083Z"
   },
   {
    "duration": 6,
    "start_time": "2022-09-23T08:38:49.110Z"
   },
   {
    "duration": 12,
    "start_time": "2022-09-23T08:38:49.950Z"
   },
   {
    "duration": 5,
    "start_time": "2022-09-23T08:38:55.329Z"
   },
   {
    "duration": 5,
    "start_time": "2022-09-23T08:38:55.596Z"
   },
   {
    "duration": 80,
    "start_time": "2022-09-23T08:38:56.037Z"
   },
   {
    "duration": 3,
    "start_time": "2022-09-23T08:39:16.960Z"
   },
   {
    "duration": 4,
    "start_time": "2022-09-23T08:39:24.690Z"
   },
   {
    "duration": 3,
    "start_time": "2022-09-23T08:39:33.704Z"
   },
   {
    "duration": 3,
    "start_time": "2022-09-23T08:39:34.051Z"
   },
   {
    "duration": 12,
    "start_time": "2022-09-23T08:40:03.569Z"
   },
   {
    "duration": 3,
    "start_time": "2022-09-23T08:40:03.983Z"
   },
   {
    "duration": 5,
    "start_time": "2022-09-23T08:40:15.588Z"
   },
   {
    "duration": 3,
    "start_time": "2022-09-23T08:40:16.380Z"
   },
   {
    "duration": 48,
    "start_time": "2022-09-23T08:40:28.824Z"
   },
   {
    "duration": 1338,
    "start_time": "2022-09-26T07:36:14.316Z"
   },
   {
    "duration": 295,
    "start_time": "2022-09-26T07:36:15.657Z"
   },
   {
    "duration": 14,
    "start_time": "2022-09-26T07:36:15.954Z"
   },
   {
    "duration": 23,
    "start_time": "2022-09-26T07:36:15.970Z"
   },
   {
    "duration": 10,
    "start_time": "2022-09-26T07:36:15.995Z"
   },
   {
    "duration": 27,
    "start_time": "2022-09-26T07:36:16.007Z"
   },
   {
    "duration": 137,
    "start_time": "2022-09-26T07:36:16.036Z"
   },
   {
    "duration": 0,
    "start_time": "2022-09-26T07:36:16.175Z"
   },
   {
    "duration": 0,
    "start_time": "2022-09-26T07:36:16.176Z"
   },
   {
    "duration": 0,
    "start_time": "2022-09-26T07:36:16.177Z"
   },
   {
    "duration": 0,
    "start_time": "2022-09-26T07:36:16.178Z"
   },
   {
    "duration": 12,
    "start_time": "2022-09-26T07:36:52.063Z"
   },
   {
    "duration": 1227,
    "start_time": "2022-09-26T07:37:08.433Z"
   },
   {
    "duration": 101,
    "start_time": "2022-09-26T07:37:09.661Z"
   },
   {
    "duration": 14,
    "start_time": "2022-09-26T07:37:09.763Z"
   },
   {
    "duration": 21,
    "start_time": "2022-09-26T07:37:09.779Z"
   },
   {
    "duration": 6,
    "start_time": "2022-09-26T07:37:09.802Z"
   },
   {
    "duration": 10,
    "start_time": "2022-09-26T07:37:09.809Z"
   },
   {
    "duration": 2,
    "start_time": "2022-09-26T07:37:09.821Z"
   },
   {
    "duration": 17,
    "start_time": "2022-09-26T07:37:09.825Z"
   },
   {
    "duration": 11,
    "start_time": "2022-09-26T07:37:09.843Z"
   },
   {
    "duration": 9,
    "start_time": "2022-09-26T07:37:09.856Z"
   },
   {
    "duration": 17,
    "start_time": "2022-09-26T07:37:09.867Z"
   },
   {
    "duration": 1115,
    "start_time": "2022-09-26T07:38:34.943Z"
   },
   {
    "duration": 100,
    "start_time": "2022-09-26T07:38:36.060Z"
   },
   {
    "duration": 15,
    "start_time": "2022-09-26T07:38:36.161Z"
   },
   {
    "duration": 14,
    "start_time": "2022-09-26T07:38:36.178Z"
   },
   {
    "duration": 24,
    "start_time": "2022-09-26T07:38:36.193Z"
   },
   {
    "duration": 32,
    "start_time": "2022-09-26T07:38:36.218Z"
   },
   {
    "duration": 19,
    "start_time": "2022-09-26T07:38:36.252Z"
   },
   {
    "duration": 29,
    "start_time": "2022-09-26T07:38:36.272Z"
   },
   {
    "duration": 16,
    "start_time": "2022-09-26T07:38:36.302Z"
   },
   {
    "duration": 27,
    "start_time": "2022-09-26T07:38:36.321Z"
   },
   {
    "duration": 46,
    "start_time": "2022-09-26T07:38:36.349Z"
   },
   {
    "duration": 19,
    "start_time": "2022-09-26T07:38:36.397Z"
   },
   {
    "duration": 11,
    "start_time": "2022-09-26T07:38:36.417Z"
   },
   {
    "duration": 30,
    "start_time": "2022-09-26T07:38:36.430Z"
   },
   {
    "duration": 201,
    "start_time": "2022-09-26T07:38:36.461Z"
   },
   {
    "duration": 8,
    "start_time": "2022-09-26T07:38:36.663Z"
   },
   {
    "duration": 40,
    "start_time": "2022-09-26T07:38:36.672Z"
   },
   {
    "duration": 1347,
    "start_time": "2022-09-26T07:38:36.713Z"
   },
   {
    "duration": 0,
    "start_time": "2022-09-26T07:38:38.062Z"
   },
   {
    "duration": 0,
    "start_time": "2022-09-26T07:38:38.063Z"
   },
   {
    "duration": 0,
    "start_time": "2022-09-26T07:38:38.064Z"
   },
   {
    "duration": 0,
    "start_time": "2022-09-26T07:38:38.065Z"
   },
   {
    "duration": 0,
    "start_time": "2022-09-26T07:38:38.067Z"
   },
   {
    "duration": 0,
    "start_time": "2022-09-26T07:38:38.067Z"
   },
   {
    "duration": 0,
    "start_time": "2022-09-26T07:38:38.068Z"
   },
   {
    "duration": 0,
    "start_time": "2022-09-26T07:38:38.069Z"
   },
   {
    "duration": 0,
    "start_time": "2022-09-26T07:38:38.070Z"
   },
   {
    "duration": 0,
    "start_time": "2022-09-26T07:38:38.071Z"
   },
   {
    "duration": 0,
    "start_time": "2022-09-26T07:38:38.072Z"
   },
   {
    "duration": 1,
    "start_time": "2022-09-26T07:38:38.072Z"
   },
   {
    "duration": 0,
    "start_time": "2022-09-26T07:38:38.073Z"
   },
   {
    "duration": 0,
    "start_time": "2022-09-26T07:38:38.074Z"
   },
   {
    "duration": 4,
    "start_time": "2022-09-26T07:44:39.541Z"
   },
   {
    "duration": 112,
    "start_time": "2022-09-26T07:44:39.547Z"
   },
   {
    "duration": 11,
    "start_time": "2022-09-26T07:44:39.661Z"
   },
   {
    "duration": 18,
    "start_time": "2022-09-26T07:44:39.674Z"
   },
   {
    "duration": 6,
    "start_time": "2022-09-26T07:44:39.695Z"
   },
   {
    "duration": 10,
    "start_time": "2022-09-26T07:44:39.702Z"
   },
   {
    "duration": 3,
    "start_time": "2022-09-26T07:44:39.714Z"
   },
   {
    "duration": 20,
    "start_time": "2022-09-26T07:44:39.718Z"
   },
   {
    "duration": 11,
    "start_time": "2022-09-26T07:44:39.740Z"
   },
   {
    "duration": 13,
    "start_time": "2022-09-26T07:44:39.753Z"
   },
   {
    "duration": 21,
    "start_time": "2022-09-26T07:44:39.768Z"
   },
   {
    "duration": 25,
    "start_time": "2022-09-26T07:44:39.791Z"
   },
   {
    "duration": 11,
    "start_time": "2022-09-26T07:44:39.818Z"
   },
   {
    "duration": 23,
    "start_time": "2022-09-26T07:44:39.832Z"
   },
   {
    "duration": 183,
    "start_time": "2022-09-26T07:44:39.857Z"
   },
   {
    "duration": 8,
    "start_time": "2022-09-26T07:44:40.042Z"
   },
   {
    "duration": 14,
    "start_time": "2022-09-26T07:44:40.052Z"
   },
   {
    "duration": 1206,
    "start_time": "2022-09-26T07:44:40.067Z"
   },
   {
    "duration": 0,
    "start_time": "2022-09-26T07:44:41.276Z"
   },
   {
    "duration": 0,
    "start_time": "2022-09-26T07:44:41.277Z"
   },
   {
    "duration": 0,
    "start_time": "2022-09-26T07:44:41.278Z"
   },
   {
    "duration": 0,
    "start_time": "2022-09-26T07:44:41.279Z"
   },
   {
    "duration": 0,
    "start_time": "2022-09-26T07:44:41.280Z"
   },
   {
    "duration": 0,
    "start_time": "2022-09-26T07:44:41.281Z"
   },
   {
    "duration": 0,
    "start_time": "2022-09-26T07:44:41.282Z"
   },
   {
    "duration": 0,
    "start_time": "2022-09-26T07:44:41.283Z"
   },
   {
    "duration": 0,
    "start_time": "2022-09-26T07:44:41.284Z"
   },
   {
    "duration": 0,
    "start_time": "2022-09-26T07:44:41.285Z"
   },
   {
    "duration": 0,
    "start_time": "2022-09-26T07:44:41.287Z"
   },
   {
    "duration": 0,
    "start_time": "2022-09-26T07:44:41.308Z"
   },
   {
    "duration": 0,
    "start_time": "2022-09-26T07:44:41.310Z"
   },
   {
    "duration": 0,
    "start_time": "2022-09-26T07:44:41.311Z"
   },
   {
    "duration": 3,
    "start_time": "2022-09-26T07:45:06.405Z"
   },
   {
    "duration": 107,
    "start_time": "2022-09-26T07:45:06.410Z"
   },
   {
    "duration": 10,
    "start_time": "2022-09-26T07:45:06.519Z"
   },
   {
    "duration": 23,
    "start_time": "2022-09-26T07:45:06.530Z"
   },
   {
    "duration": 6,
    "start_time": "2022-09-26T07:45:06.555Z"
   },
   {
    "duration": 7,
    "start_time": "2022-09-26T07:45:06.563Z"
   },
   {
    "duration": 8,
    "start_time": "2022-09-26T07:45:06.572Z"
   },
   {
    "duration": 23,
    "start_time": "2022-09-26T07:45:06.582Z"
   },
   {
    "duration": 13,
    "start_time": "2022-09-26T07:45:06.606Z"
   },
   {
    "duration": 10,
    "start_time": "2022-09-26T07:45:06.621Z"
   },
   {
    "duration": 15,
    "start_time": "2022-09-26T07:45:06.632Z"
   },
   {
    "duration": 21,
    "start_time": "2022-09-26T07:45:06.648Z"
   },
   {
    "duration": 6,
    "start_time": "2022-09-26T07:45:06.672Z"
   },
   {
    "duration": 18,
    "start_time": "2022-09-26T07:45:06.679Z"
   },
   {
    "duration": 208,
    "start_time": "2022-09-26T07:45:06.698Z"
   },
   {
    "duration": 8,
    "start_time": "2022-09-26T07:45:06.908Z"
   },
   {
    "duration": 20,
    "start_time": "2022-09-26T07:45:06.917Z"
   },
   {
    "duration": 451,
    "start_time": "2022-09-26T07:45:06.938Z"
   },
   {
    "duration": 4,
    "start_time": "2022-09-26T07:45:07.390Z"
   },
   {
    "duration": 18,
    "start_time": "2022-09-26T07:45:07.395Z"
   },
   {
    "duration": 13,
    "start_time": "2022-09-26T07:45:07.414Z"
   },
   {
    "duration": 590,
    "start_time": "2022-09-26T07:45:07.428Z"
   },
   {
    "duration": 6,
    "start_time": "2022-09-26T07:45:08.020Z"
   },
   {
    "duration": 13,
    "start_time": "2022-09-26T07:45:08.027Z"
   },
   {
    "duration": 13,
    "start_time": "2022-09-26T07:45:08.041Z"
   },
   {
    "duration": 26,
    "start_time": "2022-09-26T07:45:08.055Z"
   },
   {
    "duration": 36,
    "start_time": "2022-09-26T07:45:08.083Z"
   },
   {
    "duration": 18,
    "start_time": "2022-09-26T07:45:08.121Z"
   },
   {
    "duration": 12,
    "start_time": "2022-09-26T07:45:08.141Z"
   },
   {
    "duration": 15,
    "start_time": "2022-09-26T07:45:08.155Z"
   },
   {
    "duration": 6,
    "start_time": "2022-09-26T07:45:08.172Z"
   },
   {
    "duration": 29,
    "start_time": "2022-09-26T07:45:08.180Z"
   },
   {
    "duration": 215,
    "start_time": "2022-09-26T07:47:31.327Z"
   },
   {
    "duration": 8,
    "start_time": "2022-09-26T07:47:56.248Z"
   },
   {
    "duration": 14,
    "start_time": "2022-09-26T07:58:44.904Z"
   },
   {
    "duration": 1116,
    "start_time": "2022-09-26T07:59:22.835Z"
   },
   {
    "duration": 19,
    "start_time": "2022-09-26T07:59:32.776Z"
   },
   {
    "duration": 1387,
    "start_time": "2022-09-26T08:00:44.972Z"
   },
   {
    "duration": 101,
    "start_time": "2022-09-26T08:00:46.361Z"
   },
   {
    "duration": 16,
    "start_time": "2022-09-26T08:00:46.463Z"
   },
   {
    "duration": 12,
    "start_time": "2022-09-26T08:00:46.482Z"
   },
   {
    "duration": 5,
    "start_time": "2022-09-26T08:00:46.495Z"
   },
   {
    "duration": 13,
    "start_time": "2022-09-26T08:00:46.502Z"
   },
   {
    "duration": 2,
    "start_time": "2022-09-26T08:00:46.517Z"
   },
   {
    "duration": 14,
    "start_time": "2022-09-26T08:00:46.520Z"
   },
   {
    "duration": 5,
    "start_time": "2022-09-26T08:00:46.536Z"
   },
   {
    "duration": 5,
    "start_time": "2022-09-26T08:00:46.543Z"
   },
   {
    "duration": 15,
    "start_time": "2022-09-26T08:00:46.549Z"
   },
   {
    "duration": 11,
    "start_time": "2022-09-26T08:00:46.565Z"
   },
   {
    "duration": 35,
    "start_time": "2022-09-26T08:00:46.577Z"
   },
   {
    "duration": 15,
    "start_time": "2022-09-26T08:00:46.613Z"
   },
   {
    "duration": 220,
    "start_time": "2022-09-26T08:00:46.629Z"
   },
   {
    "duration": 9,
    "start_time": "2022-09-26T08:00:46.851Z"
   },
   {
    "duration": 24,
    "start_time": "2022-09-26T08:00:46.862Z"
   },
   {
    "duration": 375,
    "start_time": "2022-09-26T08:00:46.887Z"
   },
   {
    "duration": 3,
    "start_time": "2022-09-26T08:00:47.264Z"
   },
   {
    "duration": 12,
    "start_time": "2022-09-26T08:00:47.269Z"
   },
   {
    "duration": 11,
    "start_time": "2022-09-26T08:00:47.283Z"
   },
   {
    "duration": 662,
    "start_time": "2022-09-26T08:00:47.309Z"
   },
   {
    "duration": 8,
    "start_time": "2022-09-26T08:00:47.973Z"
   },
   {
    "duration": 12,
    "start_time": "2022-09-26T08:00:47.982Z"
   },
   {
    "duration": 5,
    "start_time": "2022-09-26T08:00:48.008Z"
   },
   {
    "duration": 25,
    "start_time": "2022-09-26T08:00:48.015Z"
   },
   {
    "duration": 17,
    "start_time": "2022-09-26T08:00:48.042Z"
   },
   {
    "duration": 19,
    "start_time": "2022-09-26T08:00:48.062Z"
   },
   {
    "duration": 37,
    "start_time": "2022-09-26T08:00:48.083Z"
   },
   {
    "duration": 10,
    "start_time": "2022-09-26T08:00:48.122Z"
   },
   {
    "duration": 9,
    "start_time": "2022-09-26T08:00:48.134Z"
   },
   {
    "duration": 13,
    "start_time": "2022-09-26T08:00:48.144Z"
   },
   {
    "duration": 11,
    "start_time": "2022-09-26T08:00:48.159Z"
   },
   {
    "duration": 4,
    "start_time": "2022-09-26T08:00:48.172Z"
   },
   {
    "duration": 126,
    "start_time": "2022-09-26T08:00:51.002Z"
   },
   {
    "duration": 17,
    "start_time": "2022-09-26T08:01:15.986Z"
   },
   {
    "duration": 1338,
    "start_time": "2022-09-26T08:01:22.969Z"
   },
   {
    "duration": 105,
    "start_time": "2022-09-26T08:01:24.309Z"
   },
   {
    "duration": 14,
    "start_time": "2022-09-26T08:01:24.415Z"
   },
   {
    "duration": 29,
    "start_time": "2022-09-26T08:01:24.431Z"
   },
   {
    "duration": 39,
    "start_time": "2022-09-26T08:01:24.462Z"
   },
   {
    "duration": 25,
    "start_time": "2022-09-26T08:01:24.503Z"
   },
   {
    "duration": 22,
    "start_time": "2022-09-26T08:01:24.530Z"
   },
   {
    "duration": 24,
    "start_time": "2022-09-26T08:01:24.554Z"
   },
   {
    "duration": 15,
    "start_time": "2022-09-26T08:01:24.579Z"
   },
   {
    "duration": 28,
    "start_time": "2022-09-26T08:01:24.596Z"
   },
   {
    "duration": 34,
    "start_time": "2022-09-26T08:01:24.626Z"
   },
   {
    "duration": 13,
    "start_time": "2022-09-26T08:01:24.662Z"
   },
   {
    "duration": 12,
    "start_time": "2022-09-26T08:01:24.677Z"
   },
   {
    "duration": 28,
    "start_time": "2022-09-26T08:01:24.692Z"
   },
   {
    "duration": 214,
    "start_time": "2022-09-26T08:01:24.722Z"
   },
   {
    "duration": 9,
    "start_time": "2022-09-26T08:01:24.938Z"
   },
   {
    "duration": 28,
    "start_time": "2022-09-26T08:01:24.949Z"
   },
   {
    "duration": 390,
    "start_time": "2022-09-26T08:01:24.979Z"
   },
   {
    "duration": 4,
    "start_time": "2022-09-26T08:01:25.370Z"
   },
   {
    "duration": 23,
    "start_time": "2022-09-26T08:01:25.375Z"
   },
   {
    "duration": 36,
    "start_time": "2022-09-26T08:01:25.399Z"
   },
   {
    "duration": 647,
    "start_time": "2022-09-26T08:01:25.437Z"
   },
   {
    "duration": 7,
    "start_time": "2022-09-26T08:01:26.085Z"
   },
   {
    "duration": 21,
    "start_time": "2022-09-26T08:01:26.093Z"
   },
   {
    "duration": 4,
    "start_time": "2022-09-26T08:01:26.116Z"
   },
   {
    "duration": 24,
    "start_time": "2022-09-26T08:01:26.122Z"
   },
   {
    "duration": 17,
    "start_time": "2022-09-26T08:01:26.148Z"
   },
   {
    "duration": 42,
    "start_time": "2022-09-26T08:01:26.167Z"
   },
   {
    "duration": 10,
    "start_time": "2022-09-26T08:01:26.212Z"
   },
   {
    "duration": 11,
    "start_time": "2022-09-26T08:01:26.224Z"
   },
   {
    "duration": 9,
    "start_time": "2022-09-26T08:01:26.236Z"
   },
   {
    "duration": 8,
    "start_time": "2022-09-26T08:01:26.246Z"
   },
   {
    "duration": 9,
    "start_time": "2022-09-26T08:01:26.256Z"
   },
   {
    "duration": 8,
    "start_time": "2022-09-26T08:01:26.266Z"
   },
   {
    "duration": 564,
    "start_time": "2022-09-26T08:01:28.317Z"
   },
   {
    "duration": 17,
    "start_time": "2022-09-26T08:01:30.609Z"
   },
   {
    "duration": 1505,
    "start_time": "2022-09-26T08:02:32.635Z"
   },
   {
    "duration": 108,
    "start_time": "2022-09-26T08:02:34.142Z"
   },
   {
    "duration": 16,
    "start_time": "2022-09-26T08:02:34.252Z"
   },
   {
    "duration": 13,
    "start_time": "2022-09-26T08:02:34.270Z"
   },
   {
    "duration": 16,
    "start_time": "2022-09-26T08:02:34.286Z"
   },
   {
    "duration": 18,
    "start_time": "2022-09-26T08:02:34.304Z"
   },
   {
    "duration": 2,
    "start_time": "2022-09-26T08:02:34.323Z"
   },
   {
    "duration": 23,
    "start_time": "2022-09-26T08:02:34.327Z"
   },
   {
    "duration": 5,
    "start_time": "2022-09-26T08:02:34.352Z"
   },
   {
    "duration": 6,
    "start_time": "2022-09-26T08:02:34.358Z"
   },
   {
    "duration": 22,
    "start_time": "2022-09-26T08:02:34.366Z"
   },
   {
    "duration": 11,
    "start_time": "2022-09-26T08:02:34.390Z"
   },
   {
    "duration": 10,
    "start_time": "2022-09-26T08:02:34.403Z"
   },
   {
    "duration": 15,
    "start_time": "2022-09-26T08:02:34.416Z"
   },
   {
    "duration": 206,
    "start_time": "2022-09-26T08:02:34.433Z"
   },
   {
    "duration": 9,
    "start_time": "2022-09-26T08:02:34.640Z"
   },
   {
    "duration": 17,
    "start_time": "2022-09-26T08:02:34.650Z"
   },
   {
    "duration": 408,
    "start_time": "2022-09-26T08:02:34.668Z"
   },
   {
    "duration": 4,
    "start_time": "2022-09-26T08:02:35.077Z"
   },
   {
    "duration": 16,
    "start_time": "2022-09-26T08:02:35.083Z"
   },
   {
    "duration": 22,
    "start_time": "2022-09-26T08:02:35.100Z"
   },
   {
    "duration": 680,
    "start_time": "2022-09-26T08:02:35.124Z"
   },
   {
    "duration": 9,
    "start_time": "2022-09-26T08:02:35.806Z"
   },
   {
    "duration": 16,
    "start_time": "2022-09-26T08:02:35.816Z"
   },
   {
    "duration": 12,
    "start_time": "2022-09-26T08:02:35.834Z"
   },
   {
    "duration": 39,
    "start_time": "2022-09-26T08:02:35.848Z"
   },
   {
    "duration": 44,
    "start_time": "2022-09-26T08:02:35.890Z"
   },
   {
    "duration": 33,
    "start_time": "2022-09-26T08:02:35.936Z"
   },
   {
    "duration": 13,
    "start_time": "2022-09-26T08:02:35.971Z"
   },
   {
    "duration": 23,
    "start_time": "2022-09-26T08:02:35.986Z"
   },
   {
    "duration": 6,
    "start_time": "2022-09-26T08:02:36.011Z"
   },
   {
    "duration": 8,
    "start_time": "2022-09-26T08:02:36.019Z"
   },
   {
    "duration": 9,
    "start_time": "2022-09-26T08:02:36.029Z"
   },
   {
    "duration": 4,
    "start_time": "2022-09-26T08:02:36.040Z"
   },
   {
    "duration": 579,
    "start_time": "2022-09-26T08:02:41.192Z"
   },
   {
    "duration": 22,
    "start_time": "2022-09-26T08:02:43.719Z"
   },
   {
    "duration": 4,
    "start_time": "2022-09-26T08:04:10.980Z"
   },
   {
    "duration": 3,
    "start_time": "2022-09-26T08:04:12.440Z"
   },
   {
    "duration": 126,
    "start_time": "2022-09-26T08:04:16.924Z"
   },
   {
    "duration": 5,
    "start_time": "2022-09-26T08:04:55.233Z"
   },
   {
    "duration": 5,
    "start_time": "2022-09-26T08:05:10.831Z"
   },
   {
    "duration": 16,
    "start_time": "2022-09-26T08:05:15.172Z"
   },
   {
    "duration": 1326,
    "start_time": "2022-09-26T08:05:34.944Z"
   },
   {
    "duration": 116,
    "start_time": "2022-09-26T08:05:36.272Z"
   },
   {
    "duration": 15,
    "start_time": "2022-09-26T08:05:36.389Z"
   },
   {
    "duration": 18,
    "start_time": "2022-09-26T08:05:36.406Z"
   },
   {
    "duration": 11,
    "start_time": "2022-09-26T08:05:36.427Z"
   },
   {
    "duration": 9,
    "start_time": "2022-09-26T08:05:36.440Z"
   },
   {
    "duration": 3,
    "start_time": "2022-09-26T08:05:36.450Z"
   },
   {
    "duration": 17,
    "start_time": "2022-09-26T08:05:36.454Z"
   },
   {
    "duration": 6,
    "start_time": "2022-09-26T08:05:36.472Z"
   },
   {
    "duration": 6,
    "start_time": "2022-09-26T08:05:36.480Z"
   },
   {
    "duration": 34,
    "start_time": "2022-09-26T08:05:36.488Z"
   },
   {
    "duration": 15,
    "start_time": "2022-09-26T08:05:36.524Z"
   },
   {
    "duration": 6,
    "start_time": "2022-09-26T08:05:36.541Z"
   },
   {
    "duration": 15,
    "start_time": "2022-09-26T08:05:36.551Z"
   },
   {
    "duration": 225,
    "start_time": "2022-09-26T08:05:36.568Z"
   },
   {
    "duration": 9,
    "start_time": "2022-09-26T08:05:36.794Z"
   },
   {
    "duration": 11,
    "start_time": "2022-09-26T08:05:36.810Z"
   },
   {
    "duration": 410,
    "start_time": "2022-09-26T08:05:36.822Z"
   },
   {
    "duration": 3,
    "start_time": "2022-09-26T08:05:37.234Z"
   },
   {
    "duration": 13,
    "start_time": "2022-09-26T08:05:37.239Z"
   },
   {
    "duration": 15,
    "start_time": "2022-09-26T08:05:37.254Z"
   },
   {
    "duration": 752,
    "start_time": "2022-09-26T08:05:37.271Z"
   },
   {
    "duration": 9,
    "start_time": "2022-09-26T08:05:38.025Z"
   },
   {
    "duration": 17,
    "start_time": "2022-09-26T08:05:38.035Z"
   },
   {
    "duration": 12,
    "start_time": "2022-09-26T08:05:38.054Z"
   },
   {
    "duration": 48,
    "start_time": "2022-09-26T08:05:38.068Z"
   },
   {
    "duration": 30,
    "start_time": "2022-09-26T08:05:38.119Z"
   },
   {
    "duration": 31,
    "start_time": "2022-09-26T08:05:38.153Z"
   },
   {
    "duration": 30,
    "start_time": "2022-09-26T08:05:38.185Z"
   },
   {
    "duration": 16,
    "start_time": "2022-09-26T08:05:38.217Z"
   },
   {
    "duration": 8,
    "start_time": "2022-09-26T08:05:38.235Z"
   },
   {
    "duration": 8,
    "start_time": "2022-09-26T08:05:38.244Z"
   },
   {
    "duration": 8,
    "start_time": "2022-09-26T08:05:38.254Z"
   },
   {
    "duration": 152,
    "start_time": "2022-09-26T08:05:38.264Z"
   },
   {
    "duration": 0,
    "start_time": "2022-09-26T08:05:38.418Z"
   },
   {
    "duration": 0,
    "start_time": "2022-09-26T08:05:38.420Z"
   },
   {
    "duration": 0,
    "start_time": "2022-09-26T08:05:38.421Z"
   },
   {
    "duration": 0,
    "start_time": "2022-09-26T08:05:38.423Z"
   },
   {
    "duration": 4,
    "start_time": "2022-09-26T08:06:11.175Z"
   },
   {
    "duration": 567,
    "start_time": "2022-09-26T08:06:11.932Z"
   },
   {
    "duration": 4,
    "start_time": "2022-09-26T08:06:14.289Z"
   },
   {
    "duration": 95,
    "start_time": "2022-09-26T08:06:29.025Z"
   },
   {
    "duration": 22,
    "start_time": "2022-09-26T08:06:39.177Z"
   },
   {
    "duration": 5,
    "start_time": "2022-09-26T08:06:45.289Z"
   },
   {
    "duration": 23,
    "start_time": "2022-09-26T08:06:45.928Z"
   },
   {
    "duration": 1508,
    "start_time": "2022-09-26T08:20:15.982Z"
   },
   {
    "duration": 109,
    "start_time": "2022-09-26T08:20:17.491Z"
   },
   {
    "duration": 21,
    "start_time": "2022-09-26T08:20:17.602Z"
   },
   {
    "duration": 12,
    "start_time": "2022-09-26T08:20:17.625Z"
   },
   {
    "duration": 6,
    "start_time": "2022-09-26T08:20:17.639Z"
   },
   {
    "duration": 10,
    "start_time": "2022-09-26T08:20:17.646Z"
   },
   {
    "duration": 5,
    "start_time": "2022-09-26T08:20:17.658Z"
   },
   {
    "duration": 15,
    "start_time": "2022-09-26T08:20:17.664Z"
   },
   {
    "duration": 5,
    "start_time": "2022-09-26T08:20:17.680Z"
   },
   {
    "duration": 32,
    "start_time": "2022-09-26T08:20:17.687Z"
   },
   {
    "duration": 21,
    "start_time": "2022-09-26T08:20:17.721Z"
   },
   {
    "duration": 12,
    "start_time": "2022-09-26T08:20:17.744Z"
   },
   {
    "duration": 7,
    "start_time": "2022-09-26T08:20:17.758Z"
   },
   {
    "duration": 19,
    "start_time": "2022-09-26T08:20:17.768Z"
   },
   {
    "duration": 209,
    "start_time": "2022-09-26T08:20:17.789Z"
   },
   {
    "duration": 25,
    "start_time": "2022-09-26T08:20:17.999Z"
   },
   {
    "duration": 14,
    "start_time": "2022-09-26T08:20:18.026Z"
   },
   {
    "duration": 429,
    "start_time": "2022-09-26T08:20:18.042Z"
   },
   {
    "duration": 4,
    "start_time": "2022-09-26T08:20:18.473Z"
   },
   {
    "duration": 14,
    "start_time": "2022-09-26T08:20:18.479Z"
   },
   {
    "duration": 27,
    "start_time": "2022-09-26T08:20:18.494Z"
   },
   {
    "duration": 726,
    "start_time": "2022-09-26T08:20:18.522Z"
   },
   {
    "duration": 7,
    "start_time": "2022-09-26T08:20:19.250Z"
   },
   {
    "duration": 11,
    "start_time": "2022-09-26T08:20:19.259Z"
   },
   {
    "duration": 8,
    "start_time": "2022-09-26T08:20:19.271Z"
   },
   {
    "duration": 54,
    "start_time": "2022-09-26T08:20:19.280Z"
   },
   {
    "duration": 17,
    "start_time": "2022-09-26T08:20:19.335Z"
   },
   {
    "duration": 17,
    "start_time": "2022-09-26T08:20:19.354Z"
   },
   {
    "duration": 11,
    "start_time": "2022-09-26T08:20:19.373Z"
   },
   {
    "duration": 42,
    "start_time": "2022-09-26T08:20:19.386Z"
   },
   {
    "duration": 6,
    "start_time": "2022-09-26T08:20:19.430Z"
   },
   {
    "duration": 13,
    "start_time": "2022-09-26T08:20:19.437Z"
   },
   {
    "duration": 10,
    "start_time": "2022-09-26T08:20:19.451Z"
   },
   {
    "duration": 129,
    "start_time": "2022-09-26T08:20:19.463Z"
   },
   {
    "duration": 9,
    "start_time": "2022-09-26T08:20:30.339Z"
   },
   {
    "duration": 5,
    "start_time": "2022-09-26T08:20:43.131Z"
   },
   {
    "duration": 331,
    "start_time": "2022-09-26T08:20:49.955Z"
   },
   {
    "duration": 373,
    "start_time": "2022-09-26T08:21:14.361Z"
   },
   {
    "duration": 20,
    "start_time": "2022-09-26T08:21:27.906Z"
   },
   {
    "duration": 319,
    "start_time": "2022-09-26T08:21:52.022Z"
   },
   {
    "duration": 329,
    "start_time": "2022-09-26T08:21:58.722Z"
   },
   {
    "duration": 231,
    "start_time": "2022-09-26T08:24:14.662Z"
   },
   {
    "duration": 236,
    "start_time": "2022-09-26T08:24:36.538Z"
   },
   {
    "duration": 232,
    "start_time": "2022-09-26T08:24:39.021Z"
   },
   {
    "duration": 7,
    "start_time": "2022-09-26T08:24:47.686Z"
   },
   {
    "duration": 10,
    "start_time": "2022-09-26T08:30:49.212Z"
   },
   {
    "duration": 20,
    "start_time": "2022-09-26T08:32:14.911Z"
   },
   {
    "duration": 5,
    "start_time": "2022-09-26T08:33:32.680Z"
   },
   {
    "duration": 16,
    "start_time": "2022-09-26T08:34:37.806Z"
   },
   {
    "duration": 6,
    "start_time": "2022-09-26T08:35:06.863Z"
   },
   {
    "duration": 9,
    "start_time": "2022-09-26T08:35:37.798Z"
   },
   {
    "duration": 5,
    "start_time": "2022-09-26T08:35:49.769Z"
   },
   {
    "duration": 58,
    "start_time": "2022-09-26T08:35:52.732Z"
   },
   {
    "duration": 12,
    "start_time": "2022-09-26T08:36:01.928Z"
   },
   {
    "duration": 11,
    "start_time": "2022-09-26T08:39:02.861Z"
   },
   {
    "duration": 10,
    "start_time": "2022-09-26T08:39:19.996Z"
   },
   {
    "duration": 26,
    "start_time": "2022-09-26T08:39:27.687Z"
   },
   {
    "duration": 12,
    "start_time": "2022-09-26T08:39:50.933Z"
   },
   {
    "duration": 7,
    "start_time": "2022-09-26T08:40:07.146Z"
   },
   {
    "duration": 12,
    "start_time": "2022-09-26T08:40:08.024Z"
   },
   {
    "duration": 12,
    "start_time": "2022-09-26T08:40:09.547Z"
   },
   {
    "duration": 14,
    "start_time": "2022-09-26T08:40:16.691Z"
   },
   {
    "duration": 1358,
    "start_time": "2022-09-26T08:41:01.112Z"
   },
   {
    "duration": 116,
    "start_time": "2022-09-26T08:41:02.472Z"
   },
   {
    "duration": 20,
    "start_time": "2022-09-26T08:41:02.591Z"
   },
   {
    "duration": 18,
    "start_time": "2022-09-26T08:41:02.613Z"
   },
   {
    "duration": 8,
    "start_time": "2022-09-26T08:41:02.633Z"
   },
   {
    "duration": 27,
    "start_time": "2022-09-26T08:41:02.644Z"
   },
   {
    "duration": 20,
    "start_time": "2022-09-26T08:41:02.673Z"
   },
   {
    "duration": 42,
    "start_time": "2022-09-26T08:41:02.694Z"
   },
   {
    "duration": 25,
    "start_time": "2022-09-26T08:41:02.738Z"
   },
   {
    "duration": 22,
    "start_time": "2022-09-26T08:41:02.766Z"
   },
   {
    "duration": 25,
    "start_time": "2022-09-26T08:41:02.790Z"
   },
   {
    "duration": 29,
    "start_time": "2022-09-26T08:41:02.817Z"
   },
   {
    "duration": 14,
    "start_time": "2022-09-26T08:41:02.848Z"
   },
   {
    "duration": 31,
    "start_time": "2022-09-26T08:41:02.866Z"
   },
   {
    "duration": 203,
    "start_time": "2022-09-26T08:41:02.898Z"
   },
   {
    "duration": 13,
    "start_time": "2022-09-26T08:41:03.102Z"
   },
   {
    "duration": 29,
    "start_time": "2022-09-26T08:41:03.117Z"
   },
   {
    "duration": 390,
    "start_time": "2022-09-26T08:41:03.148Z"
   },
   {
    "duration": 3,
    "start_time": "2022-09-26T08:41:03.540Z"
   },
   {
    "duration": 12,
    "start_time": "2022-09-26T08:41:03.545Z"
   },
   {
    "duration": 12,
    "start_time": "2022-09-26T08:41:03.559Z"
   },
   {
    "duration": 718,
    "start_time": "2022-09-26T08:41:03.573Z"
   },
   {
    "duration": 8,
    "start_time": "2022-09-26T08:41:04.292Z"
   },
   {
    "duration": 14,
    "start_time": "2022-09-26T08:41:04.309Z"
   },
   {
    "duration": 8,
    "start_time": "2022-09-26T08:41:04.324Z"
   },
   {
    "duration": 24,
    "start_time": "2022-09-26T08:41:04.333Z"
   },
   {
    "duration": 17,
    "start_time": "2022-09-26T08:41:04.358Z"
   },
   {
    "duration": 34,
    "start_time": "2022-09-26T08:41:04.376Z"
   },
   {
    "duration": 13,
    "start_time": "2022-09-26T08:41:04.411Z"
   },
   {
    "duration": 11,
    "start_time": "2022-09-26T08:41:04.425Z"
   },
   {
    "duration": 6,
    "start_time": "2022-09-26T08:41:04.437Z"
   },
   {
    "duration": 11,
    "start_time": "2022-09-26T08:41:04.444Z"
   },
   {
    "duration": 26,
    "start_time": "2022-09-26T08:41:04.456Z"
   },
   {
    "duration": 6,
    "start_time": "2022-09-26T08:41:04.508Z"
   },
   {
    "duration": 13,
    "start_time": "2022-09-26T08:41:04.516Z"
   },
   {
    "duration": 40,
    "start_time": "2022-09-26T08:41:04.530Z"
   },
   {
    "duration": 20,
    "start_time": "2022-09-26T08:41:04.571Z"
   },
   {
    "duration": 7,
    "start_time": "2022-09-26T08:41:34.914Z"
   },
   {
    "duration": 12,
    "start_time": "2022-09-26T08:41:35.288Z"
   },
   {
    "duration": 21,
    "start_time": "2022-09-26T08:41:36.130Z"
   },
   {
    "duration": 7,
    "start_time": "2022-09-26T08:43:32.964Z"
   },
   {
    "duration": 491,
    "start_time": "2022-09-26T08:43:34.739Z"
   },
   {
    "duration": 11,
    "start_time": "2022-09-26T08:43:47.209Z"
   },
   {
    "duration": 5,
    "start_time": "2022-09-26T08:47:01.176Z"
   },
   {
    "duration": 17,
    "start_time": "2022-09-26T08:58:15.228Z"
   },
   {
    "duration": 4,
    "start_time": "2022-09-26T08:58:20.752Z"
   },
   {
    "duration": 4,
    "start_time": "2022-09-26T08:58:24.249Z"
   },
   {
    "duration": 10,
    "start_time": "2022-09-26T08:58:24.665Z"
   },
   {
    "duration": 15,
    "start_time": "2022-09-26T08:58:25.177Z"
   },
   {
    "duration": 13,
    "start_time": "2022-09-26T09:00:03.951Z"
   },
   {
    "duration": 1419,
    "start_time": "2022-09-26T09:00:17.674Z"
   },
   {
    "duration": 104,
    "start_time": "2022-09-26T09:00:19.096Z"
   },
   {
    "duration": 16,
    "start_time": "2022-09-26T09:00:19.202Z"
   },
   {
    "duration": 14,
    "start_time": "2022-09-26T09:00:19.220Z"
   },
   {
    "duration": 6,
    "start_time": "2022-09-26T09:00:19.237Z"
   },
   {
    "duration": 23,
    "start_time": "2022-09-26T09:00:19.245Z"
   },
   {
    "duration": 3,
    "start_time": "2022-09-26T09:00:19.270Z"
   },
   {
    "duration": 17,
    "start_time": "2022-09-26T09:00:19.274Z"
   },
   {
    "duration": 14,
    "start_time": "2022-09-26T09:00:19.293Z"
   },
   {
    "duration": 30,
    "start_time": "2022-09-26T09:00:19.309Z"
   },
   {
    "duration": 38,
    "start_time": "2022-09-26T09:00:19.341Z"
   },
   {
    "duration": 39,
    "start_time": "2022-09-26T09:00:19.381Z"
   },
   {
    "duration": 44,
    "start_time": "2022-09-26T09:00:19.421Z"
   },
   {
    "duration": 41,
    "start_time": "2022-09-26T09:00:19.468Z"
   },
   {
    "duration": 216,
    "start_time": "2022-09-26T09:00:19.511Z"
   },
   {
    "duration": 11,
    "start_time": "2022-09-26T09:00:19.729Z"
   },
   {
    "duration": 37,
    "start_time": "2022-09-26T09:00:19.742Z"
   },
   {
    "duration": 436,
    "start_time": "2022-09-26T09:00:19.781Z"
   },
   {
    "duration": 3,
    "start_time": "2022-09-26T09:00:20.219Z"
   },
   {
    "duration": 46,
    "start_time": "2022-09-26T09:00:20.224Z"
   },
   {
    "duration": 27,
    "start_time": "2022-09-26T09:00:20.271Z"
   },
   {
    "duration": 692,
    "start_time": "2022-09-26T09:00:20.300Z"
   },
   {
    "duration": 16,
    "start_time": "2022-09-26T09:00:20.993Z"
   },
   {
    "duration": 21,
    "start_time": "2022-09-26T09:00:21.010Z"
   },
   {
    "duration": 29,
    "start_time": "2022-09-26T09:00:21.033Z"
   },
   {
    "duration": 55,
    "start_time": "2022-09-26T09:00:21.063Z"
   },
   {
    "duration": 38,
    "start_time": "2022-09-26T09:00:21.120Z"
   },
   {
    "duration": 28,
    "start_time": "2022-09-26T09:00:21.160Z"
   },
   {
    "duration": 26,
    "start_time": "2022-09-26T09:00:21.190Z"
   },
   {
    "duration": 15,
    "start_time": "2022-09-26T09:00:21.219Z"
   },
   {
    "duration": 26,
    "start_time": "2022-09-26T09:00:21.236Z"
   },
   {
    "duration": 23,
    "start_time": "2022-09-26T09:00:21.264Z"
   },
   {
    "duration": 18,
    "start_time": "2022-09-26T09:00:21.289Z"
   },
   {
    "duration": 28,
    "start_time": "2022-09-26T09:00:21.308Z"
   },
   {
    "duration": 18,
    "start_time": "2022-09-26T09:00:21.338Z"
   },
   {
    "duration": 39,
    "start_time": "2022-09-26T09:00:21.358Z"
   },
   {
    "duration": 13,
    "start_time": "2022-09-26T09:00:21.399Z"
   },
   {
    "duration": 6,
    "start_time": "2022-09-26T09:00:37.719Z"
   },
   {
    "duration": 9,
    "start_time": "2022-09-26T09:03:46.347Z"
   },
   {
    "duration": 8,
    "start_time": "2022-09-26T09:03:47.573Z"
   },
   {
    "duration": 8,
    "start_time": "2022-09-26T09:04:19.583Z"
   },
   {
    "duration": 8,
    "start_time": "2022-09-26T09:04:21.257Z"
   },
   {
    "duration": 1407,
    "start_time": "2022-09-26T09:04:43.187Z"
   },
   {
    "duration": 104,
    "start_time": "2022-09-26T09:04:44.597Z"
   },
   {
    "duration": 14,
    "start_time": "2022-09-26T09:04:44.702Z"
   },
   {
    "duration": 16,
    "start_time": "2022-09-26T09:04:44.718Z"
   },
   {
    "duration": 6,
    "start_time": "2022-09-26T09:04:44.736Z"
   },
   {
    "duration": 15,
    "start_time": "2022-09-26T09:04:44.743Z"
   },
   {
    "duration": 2,
    "start_time": "2022-09-26T09:04:44.760Z"
   },
   {
    "duration": 14,
    "start_time": "2022-09-26T09:04:44.763Z"
   },
   {
    "duration": 5,
    "start_time": "2022-09-26T09:04:44.779Z"
   },
   {
    "duration": 8,
    "start_time": "2022-09-26T09:04:44.786Z"
   },
   {
    "duration": 22,
    "start_time": "2022-09-26T09:04:44.796Z"
   },
   {
    "duration": 12,
    "start_time": "2022-09-26T09:04:44.819Z"
   },
   {
    "duration": 6,
    "start_time": "2022-09-26T09:04:44.832Z"
   },
   {
    "duration": 14,
    "start_time": "2022-09-26T09:04:44.842Z"
   },
   {
    "duration": 214,
    "start_time": "2022-09-26T09:04:44.857Z"
   },
   {
    "duration": 8,
    "start_time": "2022-09-26T09:04:45.073Z"
   },
   {
    "duration": 26,
    "start_time": "2022-09-26T09:04:45.083Z"
   },
   {
    "duration": 384,
    "start_time": "2022-09-26T09:04:45.110Z"
   },
   {
    "duration": 4,
    "start_time": "2022-09-26T09:04:45.495Z"
   },
   {
    "duration": 10,
    "start_time": "2022-09-26T09:04:45.508Z"
   },
   {
    "duration": 28,
    "start_time": "2022-09-26T09:04:45.519Z"
   },
   {
    "duration": 647,
    "start_time": "2022-09-26T09:04:45.549Z"
   },
   {
    "duration": 12,
    "start_time": "2022-09-26T09:04:46.198Z"
   },
   {
    "duration": 13,
    "start_time": "2022-09-26T09:04:46.212Z"
   },
   {
    "duration": 6,
    "start_time": "2022-09-26T09:04:46.227Z"
   },
   {
    "duration": 27,
    "start_time": "2022-09-26T09:04:46.234Z"
   },
   {
    "duration": 18,
    "start_time": "2022-09-26T09:04:46.263Z"
   },
   {
    "duration": 36,
    "start_time": "2022-09-26T09:04:46.282Z"
   },
   {
    "duration": 13,
    "start_time": "2022-09-26T09:04:46.319Z"
   },
   {
    "duration": 13,
    "start_time": "2022-09-26T09:04:46.333Z"
   },
   {
    "duration": 7,
    "start_time": "2022-09-26T09:04:46.347Z"
   },
   {
    "duration": 9,
    "start_time": "2022-09-26T09:04:46.355Z"
   },
   {
    "duration": 11,
    "start_time": "2022-09-26T09:04:46.366Z"
   },
   {
    "duration": 30,
    "start_time": "2022-09-26T09:04:46.379Z"
   },
   {
    "duration": 5,
    "start_time": "2022-09-26T09:04:46.410Z"
   },
   {
    "duration": 132,
    "start_time": "2022-09-26T09:04:46.416Z"
   },
   {
    "duration": 0,
    "start_time": "2022-09-26T09:04:46.549Z"
   },
   {
    "duration": 0,
    "start_time": "2022-09-26T09:04:46.550Z"
   },
   {
    "duration": 0,
    "start_time": "2022-09-26T09:04:46.551Z"
   },
   {
    "duration": 3,
    "start_time": "2022-09-26T09:06:13.152Z"
   },
   {
    "duration": 34,
    "start_time": "2022-09-26T09:06:17.245Z"
   },
   {
    "duration": 8,
    "start_time": "2022-09-26T09:06:19.697Z"
   },
   {
    "duration": 9,
    "start_time": "2022-09-26T09:06:20.017Z"
   },
   {
    "duration": 12,
    "start_time": "2022-09-26T09:06:22.054Z"
   },
   {
    "duration": 6,
    "start_time": "2022-09-26T09:09:35.855Z"
   },
   {
    "duration": 18,
    "start_time": "2022-09-26T09:09:44.022Z"
   },
   {
    "duration": 1643,
    "start_time": "2022-09-26T09:12:40.519Z"
   },
   {
    "duration": 102,
    "start_time": "2022-09-26T09:12:42.164Z"
   },
   {
    "duration": 15,
    "start_time": "2022-09-26T09:12:42.267Z"
   },
   {
    "duration": 12,
    "start_time": "2022-09-26T09:12:42.284Z"
   },
   {
    "duration": 6,
    "start_time": "2022-09-26T09:12:42.298Z"
   },
   {
    "duration": 9,
    "start_time": "2022-09-26T09:12:42.305Z"
   },
   {
    "duration": 4,
    "start_time": "2022-09-26T09:12:42.316Z"
   },
   {
    "duration": 13,
    "start_time": "2022-09-26T09:12:42.321Z"
   },
   {
    "duration": 8,
    "start_time": "2022-09-26T09:12:42.335Z"
   },
   {
    "duration": 18,
    "start_time": "2022-09-26T09:12:42.345Z"
   },
   {
    "duration": 15,
    "start_time": "2022-09-26T09:12:42.364Z"
   },
   {
    "duration": 11,
    "start_time": "2022-09-26T09:12:42.380Z"
   },
   {
    "duration": 5,
    "start_time": "2022-09-26T09:12:42.408Z"
   },
   {
    "duration": 14,
    "start_time": "2022-09-26T09:12:42.415Z"
   },
   {
    "duration": 242,
    "start_time": "2022-09-26T09:12:42.430Z"
   },
   {
    "duration": 10,
    "start_time": "2022-09-26T09:12:42.674Z"
   },
   {
    "duration": 46,
    "start_time": "2022-09-26T09:12:42.686Z"
   },
   {
    "duration": 403,
    "start_time": "2022-09-26T09:12:42.734Z"
   },
   {
    "duration": 4,
    "start_time": "2022-09-26T09:12:43.139Z"
   },
   {
    "duration": 12,
    "start_time": "2022-09-26T09:12:43.145Z"
   },
   {
    "duration": 13,
    "start_time": "2022-09-26T09:12:43.159Z"
   },
   {
    "duration": 681,
    "start_time": "2022-09-26T09:12:43.174Z"
   },
   {
    "duration": 6,
    "start_time": "2022-09-26T09:12:43.857Z"
   },
   {
    "duration": 47,
    "start_time": "2022-09-26T09:12:43.865Z"
   },
   {
    "duration": 21,
    "start_time": "2022-09-26T09:12:43.914Z"
   },
   {
    "duration": 27,
    "start_time": "2022-09-26T09:12:43.937Z"
   },
   {
    "duration": 30,
    "start_time": "2022-09-26T09:12:43.966Z"
   },
   {
    "duration": 18,
    "start_time": "2022-09-26T09:12:44.000Z"
   },
   {
    "duration": 18,
    "start_time": "2022-09-26T09:12:44.021Z"
   },
   {
    "duration": 19,
    "start_time": "2022-09-26T09:12:44.041Z"
   },
   {
    "duration": 13,
    "start_time": "2022-09-26T09:12:44.062Z"
   },
   {
    "duration": 12,
    "start_time": "2022-09-26T09:12:44.076Z"
   },
   {
    "duration": 28,
    "start_time": "2022-09-26T09:12:44.089Z"
   },
   {
    "duration": 26,
    "start_time": "2022-09-26T09:12:44.120Z"
   },
   {
    "duration": 34,
    "start_time": "2022-09-26T09:12:44.148Z"
   },
   {
    "duration": 6,
    "start_time": "2022-09-26T09:12:44.183Z"
   },
   {
    "duration": 44,
    "start_time": "2022-09-26T09:12:44.191Z"
   },
   {
    "duration": 15,
    "start_time": "2022-09-26T09:12:44.236Z"
   },
   {
    "duration": 28,
    "start_time": "2022-09-26T09:12:44.252Z"
   },
   {
    "duration": 36,
    "start_time": "2022-09-26T09:12:44.282Z"
   },
   {
    "duration": 121,
    "start_time": "2022-09-26T09:14:24.821Z"
   },
   {
    "duration": 2,
    "start_time": "2022-09-26T09:14:30.511Z"
   },
   {
    "duration": 3,
    "start_time": "2022-09-26T09:14:34.918Z"
   },
   {
    "duration": 2601,
    "start_time": "2022-09-26T09:14:40.318Z"
   },
   {
    "duration": 1392,
    "start_time": "2022-09-26T09:15:47.091Z"
   },
   {
    "duration": 100,
    "start_time": "2022-09-26T09:15:48.485Z"
   },
   {
    "duration": 14,
    "start_time": "2022-09-26T09:15:48.587Z"
   },
   {
    "duration": 30,
    "start_time": "2022-09-26T09:15:48.603Z"
   },
   {
    "duration": 11,
    "start_time": "2022-09-26T09:15:48.634Z"
   },
   {
    "duration": 18,
    "start_time": "2022-09-26T09:15:48.646Z"
   },
   {
    "duration": 2,
    "start_time": "2022-09-26T09:15:48.666Z"
   },
   {
    "duration": 28,
    "start_time": "2022-09-26T09:15:48.669Z"
   },
   {
    "duration": 11,
    "start_time": "2022-09-26T09:15:48.698Z"
   },
   {
    "duration": 7,
    "start_time": "2022-09-26T09:15:48.711Z"
   },
   {
    "duration": 17,
    "start_time": "2022-09-26T09:15:48.719Z"
   },
   {
    "duration": 10,
    "start_time": "2022-09-26T09:15:48.738Z"
   },
   {
    "duration": 9,
    "start_time": "2022-09-26T09:15:48.750Z"
   },
   {
    "duration": 14,
    "start_time": "2022-09-26T09:15:48.760Z"
   },
   {
    "duration": 226,
    "start_time": "2022-09-26T09:15:48.775Z"
   },
   {
    "duration": 9,
    "start_time": "2022-09-26T09:15:49.003Z"
   },
   {
    "duration": 46,
    "start_time": "2022-09-26T09:15:49.014Z"
   },
   {
    "duration": 386,
    "start_time": "2022-09-26T09:15:49.062Z"
   },
   {
    "duration": 5,
    "start_time": "2022-09-26T09:15:49.450Z"
   },
   {
    "duration": 17,
    "start_time": "2022-09-26T09:15:49.457Z"
   },
   {
    "duration": 15,
    "start_time": "2022-09-26T09:15:49.476Z"
   },
   {
    "duration": 646,
    "start_time": "2022-09-26T09:15:49.508Z"
   },
   {
    "duration": 6,
    "start_time": "2022-09-26T09:15:50.156Z"
   },
   {
    "duration": 16,
    "start_time": "2022-09-26T09:15:50.163Z"
   },
   {
    "duration": 9,
    "start_time": "2022-09-26T09:15:50.180Z"
   },
   {
    "duration": 25,
    "start_time": "2022-09-26T09:15:50.209Z"
   },
   {
    "duration": 17,
    "start_time": "2022-09-26T09:15:50.236Z"
   },
   {
    "duration": 15,
    "start_time": "2022-09-26T09:15:50.257Z"
   },
   {
    "duration": 41,
    "start_time": "2022-09-26T09:15:50.274Z"
   },
   {
    "duration": 23,
    "start_time": "2022-09-26T09:15:50.317Z"
   },
   {
    "duration": 7,
    "start_time": "2022-09-26T09:15:50.341Z"
   },
   {
    "duration": 11,
    "start_time": "2022-09-26T09:15:50.349Z"
   },
   {
    "duration": 13,
    "start_time": "2022-09-26T09:15:50.362Z"
   },
   {
    "duration": 17,
    "start_time": "2022-09-26T09:15:50.376Z"
   },
   {
    "duration": 14,
    "start_time": "2022-09-26T09:15:50.394Z"
   },
   {
    "duration": 7,
    "start_time": "2022-09-26T09:15:50.409Z"
   },
   {
    "duration": 47,
    "start_time": "2022-09-26T09:15:50.417Z"
   },
   {
    "duration": 12,
    "start_time": "2022-09-26T09:15:50.466Z"
   },
   {
    "duration": 7,
    "start_time": "2022-09-26T09:15:50.479Z"
   },
   {
    "duration": 30,
    "start_time": "2022-09-26T09:15:50.487Z"
   },
   {
    "duration": 2,
    "start_time": "2022-09-26T09:15:50.519Z"
   },
   {
    "duration": 6,
    "start_time": "2022-09-26T09:15:50.523Z"
   },
   {
    "duration": 2186,
    "start_time": "2022-09-26T09:15:50.530Z"
   },
   {
    "duration": 1400,
    "start_time": "2022-09-26T09:17:10.427Z"
   },
   {
    "duration": 102,
    "start_time": "2022-09-26T09:17:11.830Z"
   },
   {
    "duration": 18,
    "start_time": "2022-09-26T09:17:11.933Z"
   },
   {
    "duration": 17,
    "start_time": "2022-09-26T09:17:11.953Z"
   },
   {
    "duration": 8,
    "start_time": "2022-09-26T09:17:11.973Z"
   },
   {
    "duration": 44,
    "start_time": "2022-09-26T09:17:11.982Z"
   },
   {
    "duration": 7,
    "start_time": "2022-09-26T09:17:12.028Z"
   },
   {
    "duration": 22,
    "start_time": "2022-09-26T09:17:12.037Z"
   },
   {
    "duration": 4,
    "start_time": "2022-09-26T09:17:12.061Z"
   },
   {
    "duration": 9,
    "start_time": "2022-09-26T09:17:12.067Z"
   },
   {
    "duration": 20,
    "start_time": "2022-09-26T09:17:12.078Z"
   },
   {
    "duration": 11,
    "start_time": "2022-09-26T09:17:12.099Z"
   },
   {
    "duration": 11,
    "start_time": "2022-09-26T09:17:12.112Z"
   },
   {
    "duration": 21,
    "start_time": "2022-09-26T09:17:12.126Z"
   },
   {
    "duration": 198,
    "start_time": "2022-09-26T09:17:12.148Z"
   },
   {
    "duration": 8,
    "start_time": "2022-09-26T09:17:12.348Z"
   },
   {
    "duration": 39,
    "start_time": "2022-09-26T09:17:12.357Z"
   },
   {
    "duration": 422,
    "start_time": "2022-09-26T09:17:12.398Z"
   },
   {
    "duration": 6,
    "start_time": "2022-09-26T09:17:12.822Z"
   },
   {
    "duration": 44,
    "start_time": "2022-09-26T09:17:12.830Z"
   },
   {
    "duration": 36,
    "start_time": "2022-09-26T09:17:12.876Z"
   },
   {
    "duration": 677,
    "start_time": "2022-09-26T09:17:12.913Z"
   },
   {
    "duration": 6,
    "start_time": "2022-09-26T09:17:13.592Z"
   },
   {
    "duration": 34,
    "start_time": "2022-09-26T09:17:13.600Z"
   },
   {
    "duration": 21,
    "start_time": "2022-09-26T09:17:13.635Z"
   },
   {
    "duration": 49,
    "start_time": "2022-09-26T09:17:13.657Z"
   },
   {
    "duration": 16,
    "start_time": "2022-09-26T09:17:13.708Z"
   },
   {
    "duration": 32,
    "start_time": "2022-09-26T09:17:13.726Z"
   },
   {
    "duration": 25,
    "start_time": "2022-09-26T09:17:13.760Z"
   },
   {
    "duration": 13,
    "start_time": "2022-09-26T09:17:13.787Z"
   },
   {
    "duration": 39,
    "start_time": "2022-09-26T09:17:13.802Z"
   },
   {
    "duration": 33,
    "start_time": "2022-09-26T09:17:13.843Z"
   },
   {
    "duration": 26,
    "start_time": "2022-09-26T09:17:13.878Z"
   },
   {
    "duration": 23,
    "start_time": "2022-09-26T09:17:13.906Z"
   },
   {
    "duration": 37,
    "start_time": "2022-09-26T09:17:13.931Z"
   },
   {
    "duration": 32,
    "start_time": "2022-09-26T09:17:13.970Z"
   },
   {
    "duration": 60,
    "start_time": "2022-09-26T09:17:14.003Z"
   },
   {
    "duration": 14,
    "start_time": "2022-09-26T09:17:14.065Z"
   },
   {
    "duration": 58,
    "start_time": "2022-09-26T09:17:14.081Z"
   },
   {
    "duration": 43,
    "start_time": "2022-09-26T09:17:14.141Z"
   },
   {
    "duration": 24,
    "start_time": "2022-09-26T09:17:14.187Z"
   },
   {
    "duration": 28,
    "start_time": "2022-09-26T09:17:14.213Z"
   },
   {
    "duration": 1967,
    "start_time": "2022-09-26T09:17:14.242Z"
   },
   {
    "duration": 119,
    "start_time": "2022-09-26T09:18:36.355Z"
   },
   {
    "duration": 9,
    "start_time": "2022-09-26T09:19:54.277Z"
   },
   {
    "duration": 2379,
    "start_time": "2022-09-26T09:20:01.932Z"
   },
   {
    "duration": 1367,
    "start_time": "2022-09-26T09:21:00.815Z"
   },
   {
    "duration": 107,
    "start_time": "2022-09-26T09:21:02.184Z"
   },
   {
    "duration": 14,
    "start_time": "2022-09-26T09:21:02.293Z"
   },
   {
    "duration": 28,
    "start_time": "2022-09-26T09:21:02.309Z"
   },
   {
    "duration": 30,
    "start_time": "2022-09-26T09:21:02.340Z"
   },
   {
    "duration": 26,
    "start_time": "2022-09-26T09:21:02.371Z"
   },
   {
    "duration": 31,
    "start_time": "2022-09-26T09:21:02.398Z"
   },
   {
    "duration": 36,
    "start_time": "2022-09-26T09:21:02.430Z"
   },
   {
    "duration": 25,
    "start_time": "2022-09-26T09:21:02.468Z"
   },
   {
    "duration": 36,
    "start_time": "2022-09-26T09:21:02.494Z"
   },
   {
    "duration": 38,
    "start_time": "2022-09-26T09:21:02.532Z"
   },
   {
    "duration": 35,
    "start_time": "2022-09-26T09:21:02.573Z"
   },
   {
    "duration": 26,
    "start_time": "2022-09-26T09:21:02.610Z"
   },
   {
    "duration": 32,
    "start_time": "2022-09-26T09:21:02.640Z"
   },
   {
    "duration": 238,
    "start_time": "2022-09-26T09:21:02.674Z"
   },
   {
    "duration": 9,
    "start_time": "2022-09-26T09:21:02.914Z"
   },
   {
    "duration": 81,
    "start_time": "2022-09-26T09:21:02.925Z"
   },
   {
    "duration": 455,
    "start_time": "2022-09-26T09:21:03.008Z"
   },
   {
    "duration": 3,
    "start_time": "2022-09-26T09:21:03.465Z"
   },
   {
    "duration": 33,
    "start_time": "2022-09-26T09:21:03.469Z"
   },
   {
    "duration": 43,
    "start_time": "2022-09-26T09:21:03.503Z"
   },
   {
    "duration": 683,
    "start_time": "2022-09-26T09:21:03.548Z"
   },
   {
    "duration": 7,
    "start_time": "2022-09-26T09:21:04.233Z"
   },
   {
    "duration": 21,
    "start_time": "2022-09-26T09:21:04.242Z"
   },
   {
    "duration": 7,
    "start_time": "2022-09-26T09:21:04.265Z"
   },
   {
    "duration": 38,
    "start_time": "2022-09-26T09:21:04.273Z"
   },
   {
    "duration": 18,
    "start_time": "2022-09-26T09:21:04.312Z"
   },
   {
    "duration": 22,
    "start_time": "2022-09-26T09:21:04.331Z"
   },
   {
    "duration": 20,
    "start_time": "2022-09-26T09:21:04.355Z"
   },
   {
    "duration": 26,
    "start_time": "2022-09-26T09:21:04.377Z"
   },
   {
    "duration": 18,
    "start_time": "2022-09-26T09:21:04.404Z"
   },
   {
    "duration": 13,
    "start_time": "2022-09-26T09:21:04.423Z"
   },
   {
    "duration": 17,
    "start_time": "2022-09-26T09:21:04.438Z"
   },
   {
    "duration": 10,
    "start_time": "2022-09-26T09:21:04.457Z"
   },
   {
    "duration": 17,
    "start_time": "2022-09-26T09:21:04.468Z"
   },
   {
    "duration": 11,
    "start_time": "2022-09-26T09:21:04.486Z"
   },
   {
    "duration": 59,
    "start_time": "2022-09-26T09:21:04.499Z"
   },
   {
    "duration": 12,
    "start_time": "2022-09-26T09:21:04.560Z"
   },
   {
    "duration": 7,
    "start_time": "2022-09-26T09:21:04.574Z"
   },
   {
    "duration": 26,
    "start_time": "2022-09-26T09:21:04.582Z"
   },
   {
    "duration": 19,
    "start_time": "2022-09-26T09:21:04.612Z"
   },
   {
    "duration": 22,
    "start_time": "2022-09-26T09:21:04.632Z"
   },
   {
    "duration": 1854,
    "start_time": "2022-09-26T09:21:04.656Z"
   },
   {
    "duration": 1058,
    "start_time": "2022-09-26T09:21:06.512Z"
   },
   {
    "duration": 9,
    "start_time": "2022-09-26T09:21:48.984Z"
   },
   {
    "duration": 1407,
    "start_time": "2022-09-26T09:22:00.870Z"
   },
   {
    "duration": 103,
    "start_time": "2022-09-26T09:22:02.279Z"
   },
   {
    "duration": 17,
    "start_time": "2022-09-26T09:22:02.383Z"
   },
   {
    "duration": 13,
    "start_time": "2022-09-26T09:22:02.401Z"
   },
   {
    "duration": 6,
    "start_time": "2022-09-26T09:22:02.416Z"
   },
   {
    "duration": 43,
    "start_time": "2022-09-26T09:22:02.424Z"
   },
   {
    "duration": 52,
    "start_time": "2022-09-26T09:22:02.468Z"
   },
   {
    "duration": 24,
    "start_time": "2022-09-26T09:22:02.522Z"
   },
   {
    "duration": 15,
    "start_time": "2022-09-26T09:22:02.548Z"
   },
   {
    "duration": 40,
    "start_time": "2022-09-26T09:22:02.565Z"
   },
   {
    "duration": 25,
    "start_time": "2022-09-26T09:22:02.607Z"
   },
   {
    "duration": 13,
    "start_time": "2022-09-26T09:22:02.635Z"
   },
   {
    "duration": 25,
    "start_time": "2022-09-26T09:22:02.650Z"
   },
   {
    "duration": 18,
    "start_time": "2022-09-26T09:22:02.679Z"
   },
   {
    "duration": 206,
    "start_time": "2022-09-26T09:22:02.712Z"
   },
   {
    "duration": 7,
    "start_time": "2022-09-26T09:22:02.920Z"
   },
   {
    "duration": 47,
    "start_time": "2022-09-26T09:22:02.929Z"
   },
   {
    "duration": 389,
    "start_time": "2022-09-26T09:22:02.978Z"
   },
   {
    "duration": 4,
    "start_time": "2022-09-26T09:22:03.368Z"
   },
   {
    "duration": 25,
    "start_time": "2022-09-26T09:22:03.373Z"
   },
   {
    "duration": 23,
    "start_time": "2022-09-26T09:22:03.399Z"
   },
   {
    "duration": 656,
    "start_time": "2022-09-26T09:22:03.424Z"
   },
   {
    "duration": 9,
    "start_time": "2022-09-26T09:22:04.082Z"
   },
   {
    "duration": 26,
    "start_time": "2022-09-26T09:22:04.092Z"
   },
   {
    "duration": 13,
    "start_time": "2022-09-26T09:22:04.120Z"
   },
   {
    "duration": 28,
    "start_time": "2022-09-26T09:22:04.134Z"
   },
   {
    "duration": 18,
    "start_time": "2022-09-26T09:22:04.164Z"
   },
   {
    "duration": 37,
    "start_time": "2022-09-26T09:22:04.183Z"
   },
   {
    "duration": 13,
    "start_time": "2022-09-26T09:22:04.222Z"
   },
   {
    "duration": 13,
    "start_time": "2022-09-26T09:22:04.237Z"
   },
   {
    "duration": 6,
    "start_time": "2022-09-26T09:22:04.251Z"
   },
   {
    "duration": 6,
    "start_time": "2022-09-26T09:22:04.258Z"
   },
   {
    "duration": 47,
    "start_time": "2022-09-26T09:22:04.266Z"
   },
   {
    "duration": 6,
    "start_time": "2022-09-26T09:22:04.315Z"
   },
   {
    "duration": 4,
    "start_time": "2022-09-26T09:22:04.322Z"
   },
   {
    "duration": 62,
    "start_time": "2022-09-26T09:22:04.327Z"
   },
   {
    "duration": 45,
    "start_time": "2022-09-26T09:22:04.390Z"
   },
   {
    "duration": 12,
    "start_time": "2022-09-26T09:22:04.436Z"
   },
   {
    "duration": 7,
    "start_time": "2022-09-26T09:22:04.449Z"
   },
   {
    "duration": 28,
    "start_time": "2022-09-26T09:22:04.458Z"
   },
   {
    "duration": 20,
    "start_time": "2022-09-26T09:22:04.491Z"
   },
   {
    "duration": 6,
    "start_time": "2022-09-26T09:22:04.512Z"
   },
   {
    "duration": 2189,
    "start_time": "2022-09-26T09:22:04.520Z"
   },
   {
    "duration": 1801,
    "start_time": "2022-09-26T09:22:06.711Z"
   },
   {
    "duration": 1342,
    "start_time": "2022-09-26T09:24:52.123Z"
   },
   {
    "duration": 110,
    "start_time": "2022-09-26T09:24:53.467Z"
   },
   {
    "duration": 14,
    "start_time": "2022-09-26T09:24:53.579Z"
   },
   {
    "duration": 13,
    "start_time": "2022-09-26T09:24:53.595Z"
   },
   {
    "duration": 24,
    "start_time": "2022-09-26T09:24:53.610Z"
   },
   {
    "duration": 11,
    "start_time": "2022-09-26T09:24:53.636Z"
   },
   {
    "duration": 5,
    "start_time": "2022-09-26T09:24:53.648Z"
   },
   {
    "duration": 25,
    "start_time": "2022-09-26T09:24:53.654Z"
   },
   {
    "duration": 8,
    "start_time": "2022-09-26T09:24:53.680Z"
   },
   {
    "duration": 10,
    "start_time": "2022-09-26T09:24:53.690Z"
   },
   {
    "duration": 20,
    "start_time": "2022-09-26T09:24:53.701Z"
   },
   {
    "duration": 14,
    "start_time": "2022-09-26T09:24:53.723Z"
   },
   {
    "duration": 6,
    "start_time": "2022-09-26T09:24:53.739Z"
   },
   {
    "duration": 21,
    "start_time": "2022-09-26T09:24:53.746Z"
   },
   {
    "duration": 222,
    "start_time": "2022-09-26T09:24:53.768Z"
   },
   {
    "duration": 17,
    "start_time": "2022-09-26T09:24:53.992Z"
   },
   {
    "duration": 47,
    "start_time": "2022-09-26T09:24:54.010Z"
   },
   {
    "duration": 396,
    "start_time": "2022-09-26T09:24:54.058Z"
   },
   {
    "duration": 4,
    "start_time": "2022-09-26T09:24:54.455Z"
   },
   {
    "duration": 14,
    "start_time": "2022-09-26T09:24:54.461Z"
   },
   {
    "duration": 17,
    "start_time": "2022-09-26T09:24:54.476Z"
   },
   {
    "duration": 702,
    "start_time": "2022-09-26T09:24:54.508Z"
   },
   {
    "duration": 8,
    "start_time": "2022-09-26T09:24:55.211Z"
   },
   {
    "duration": 13,
    "start_time": "2022-09-26T09:24:55.220Z"
   },
   {
    "duration": 7,
    "start_time": "2022-09-26T09:24:55.234Z"
   },
   {
    "duration": 27,
    "start_time": "2022-09-26T09:24:55.242Z"
   },
   {
    "duration": 42,
    "start_time": "2022-09-26T09:24:55.271Z"
   },
   {
    "duration": 20,
    "start_time": "2022-09-26T09:24:55.317Z"
   },
   {
    "duration": 12,
    "start_time": "2022-09-26T09:24:55.339Z"
   },
   {
    "duration": 11,
    "start_time": "2022-09-26T09:24:55.353Z"
   },
   {
    "duration": 10,
    "start_time": "2022-09-26T09:24:55.365Z"
   },
   {
    "duration": 39,
    "start_time": "2022-09-26T09:24:55.377Z"
   },
   {
    "duration": 9,
    "start_time": "2022-09-26T09:24:55.418Z"
   },
   {
    "duration": 7,
    "start_time": "2022-09-26T09:24:55.428Z"
   },
   {
    "duration": 13,
    "start_time": "2022-09-26T09:24:55.436Z"
   },
   {
    "duration": 11,
    "start_time": "2022-09-26T09:24:55.451Z"
   },
   {
    "duration": 68,
    "start_time": "2022-09-26T09:24:55.464Z"
   },
   {
    "duration": 13,
    "start_time": "2022-09-26T09:24:55.533Z"
   },
   {
    "duration": 8,
    "start_time": "2022-09-26T09:24:55.548Z"
   },
   {
    "duration": 44,
    "start_time": "2022-09-26T09:24:55.558Z"
   },
   {
    "duration": 150,
    "start_time": "2022-09-26T09:24:55.604Z"
   },
   {
    "duration": 0,
    "start_time": "2022-09-26T09:24:55.755Z"
   },
   {
    "duration": 0,
    "start_time": "2022-09-26T09:24:55.756Z"
   },
   {
    "duration": 0,
    "start_time": "2022-09-26T09:24:55.757Z"
   },
   {
    "duration": 3,
    "start_time": "2022-09-26T09:25:06.591Z"
   },
   {
    "duration": 4,
    "start_time": "2022-09-26T09:25:07.475Z"
   },
   {
    "duration": 1524,
    "start_time": "2022-09-26T09:25:07.892Z"
   },
   {
    "duration": 1695,
    "start_time": "2022-09-26T09:25:09.420Z"
   },
   {
    "duration": 3,
    "start_time": "2022-09-26T09:27:18.570Z"
   },
   {
    "duration": 1369,
    "start_time": "2022-09-26T09:27:19.643Z"
   },
   {
    "duration": 10,
    "start_time": "2022-09-26T09:27:27.789Z"
   },
   {
    "duration": 1471,
    "start_time": "2022-09-26T09:27:37.119Z"
   },
   {
    "duration": 103,
    "start_time": "2022-09-26T09:27:38.592Z"
   },
   {
    "duration": 15,
    "start_time": "2022-09-26T09:27:38.697Z"
   },
   {
    "duration": 13,
    "start_time": "2022-09-26T09:27:38.714Z"
   },
   {
    "duration": 6,
    "start_time": "2022-09-26T09:27:38.728Z"
   },
   {
    "duration": 8,
    "start_time": "2022-09-26T09:27:38.735Z"
   },
   {
    "duration": 2,
    "start_time": "2022-09-26T09:27:38.745Z"
   },
   {
    "duration": 14,
    "start_time": "2022-09-26T09:27:38.749Z"
   },
   {
    "duration": 5,
    "start_time": "2022-09-26T09:27:38.765Z"
   },
   {
    "duration": 39,
    "start_time": "2022-09-26T09:27:38.772Z"
   },
   {
    "duration": 19,
    "start_time": "2022-09-26T09:27:38.813Z"
   },
   {
    "duration": 12,
    "start_time": "2022-09-26T09:27:38.834Z"
   },
   {
    "duration": 10,
    "start_time": "2022-09-26T09:27:38.848Z"
   },
   {
    "duration": 15,
    "start_time": "2022-09-26T09:27:38.860Z"
   },
   {
    "duration": 225,
    "start_time": "2022-09-26T09:27:38.877Z"
   },
   {
    "duration": 8,
    "start_time": "2022-09-26T09:27:39.104Z"
   },
   {
    "duration": 33,
    "start_time": "2022-09-26T09:27:39.114Z"
   },
   {
    "duration": 383,
    "start_time": "2022-09-26T09:27:39.149Z"
   },
   {
    "duration": 4,
    "start_time": "2022-09-26T09:27:39.533Z"
   },
   {
    "duration": 13,
    "start_time": "2022-09-26T09:27:39.538Z"
   },
   {
    "duration": 13,
    "start_time": "2022-09-26T09:27:39.552Z"
   },
   {
    "duration": 674,
    "start_time": "2022-09-26T09:27:39.566Z"
   },
   {
    "duration": 7,
    "start_time": "2022-09-26T09:27:40.242Z"
   },
   {
    "duration": 13,
    "start_time": "2022-09-26T09:27:40.251Z"
   },
   {
    "duration": 9,
    "start_time": "2022-09-26T09:27:40.265Z"
   },
   {
    "duration": 50,
    "start_time": "2022-09-26T09:27:40.276Z"
   },
   {
    "duration": 18,
    "start_time": "2022-09-26T09:27:40.328Z"
   },
   {
    "duration": 16,
    "start_time": "2022-09-26T09:27:40.350Z"
   },
   {
    "duration": 42,
    "start_time": "2022-09-26T09:27:40.368Z"
   },
   {
    "duration": 11,
    "start_time": "2022-09-26T09:27:40.412Z"
   },
   {
    "duration": 6,
    "start_time": "2022-09-26T09:27:40.425Z"
   },
   {
    "duration": 7,
    "start_time": "2022-09-26T09:27:40.433Z"
   },
   {
    "duration": 10,
    "start_time": "2022-09-26T09:27:40.442Z"
   },
   {
    "duration": 7,
    "start_time": "2022-09-26T09:27:40.453Z"
   },
   {
    "duration": 49,
    "start_time": "2022-09-26T09:27:40.461Z"
   },
   {
    "duration": 7,
    "start_time": "2022-09-26T09:27:40.512Z"
   },
   {
    "duration": 41,
    "start_time": "2022-09-26T09:27:40.520Z"
   },
   {
    "duration": 12,
    "start_time": "2022-09-26T09:27:40.563Z"
   },
   {
    "duration": 7,
    "start_time": "2022-09-26T09:27:40.577Z"
   },
   {
    "duration": 17,
    "start_time": "2022-09-26T09:27:40.608Z"
   },
   {
    "duration": 5,
    "start_time": "2022-09-26T09:27:40.626Z"
   },
   {
    "duration": 5,
    "start_time": "2022-09-26T09:27:40.633Z"
   },
   {
    "duration": 1775,
    "start_time": "2022-09-26T09:27:40.639Z"
   },
   {
    "duration": 1597,
    "start_time": "2022-09-26T09:27:42.415Z"
   },
   {
    "duration": 1395,
    "start_time": "2022-09-26T09:29:49.697Z"
   },
   {
    "duration": 102,
    "start_time": "2022-09-26T09:29:51.094Z"
   },
   {
    "duration": 15,
    "start_time": "2022-09-26T09:29:51.197Z"
   },
   {
    "duration": 15,
    "start_time": "2022-09-26T09:29:51.214Z"
   },
   {
    "duration": 34,
    "start_time": "2022-09-26T09:29:51.232Z"
   },
   {
    "duration": 23,
    "start_time": "2022-09-26T09:29:51.267Z"
   },
   {
    "duration": 31,
    "start_time": "2022-09-26T09:29:51.291Z"
   },
   {
    "duration": 36,
    "start_time": "2022-09-26T09:29:51.324Z"
   },
   {
    "duration": 23,
    "start_time": "2022-09-26T09:29:51.362Z"
   },
   {
    "duration": 35,
    "start_time": "2022-09-26T09:29:51.387Z"
   },
   {
    "duration": 46,
    "start_time": "2022-09-26T09:29:51.423Z"
   },
   {
    "duration": 36,
    "start_time": "2022-09-26T09:29:51.470Z"
   },
   {
    "duration": 24,
    "start_time": "2022-09-26T09:29:51.507Z"
   },
   {
    "duration": 25,
    "start_time": "2022-09-26T09:29:51.534Z"
   },
   {
    "duration": 199,
    "start_time": "2022-09-26T09:29:51.560Z"
   },
   {
    "duration": 8,
    "start_time": "2022-09-26T09:29:51.760Z"
   },
   {
    "duration": 76,
    "start_time": "2022-09-26T09:29:51.770Z"
   },
   {
    "duration": 392,
    "start_time": "2022-09-26T09:29:51.848Z"
   },
   {
    "duration": 3,
    "start_time": "2022-09-26T09:29:52.242Z"
   },
   {
    "duration": 36,
    "start_time": "2022-09-26T09:29:52.247Z"
   },
   {
    "duration": 42,
    "start_time": "2022-09-26T09:29:52.284Z"
   },
   {
    "duration": 722,
    "start_time": "2022-09-26T09:29:52.327Z"
   },
   {
    "duration": 7,
    "start_time": "2022-09-26T09:29:53.051Z"
   },
   {
    "duration": 29,
    "start_time": "2022-09-26T09:29:53.059Z"
   },
   {
    "duration": 43,
    "start_time": "2022-09-26T09:29:53.090Z"
   },
   {
    "duration": 45,
    "start_time": "2022-09-26T09:29:53.134Z"
   },
   {
    "duration": 27,
    "start_time": "2022-09-26T09:29:53.182Z"
   },
   {
    "duration": 43,
    "start_time": "2022-09-26T09:29:53.211Z"
   },
   {
    "duration": 16,
    "start_time": "2022-09-26T09:29:53.256Z"
   },
   {
    "duration": 41,
    "start_time": "2022-09-26T09:29:53.274Z"
   },
   {
    "duration": 14,
    "start_time": "2022-09-26T09:29:53.316Z"
   },
   {
    "duration": 35,
    "start_time": "2022-09-26T09:29:53.332Z"
   },
   {
    "duration": 25,
    "start_time": "2022-09-26T09:29:53.369Z"
   },
   {
    "duration": 23,
    "start_time": "2022-09-26T09:29:53.395Z"
   },
   {
    "duration": 32,
    "start_time": "2022-09-26T09:29:53.419Z"
   },
   {
    "duration": 33,
    "start_time": "2022-09-26T09:29:53.453Z"
   },
   {
    "duration": 48,
    "start_time": "2022-09-26T09:29:53.487Z"
   },
   {
    "duration": 12,
    "start_time": "2022-09-26T09:29:53.537Z"
   },
   {
    "duration": 7,
    "start_time": "2022-09-26T09:29:53.551Z"
   },
   {
    "duration": 21,
    "start_time": "2022-09-26T09:29:53.559Z"
   },
   {
    "duration": 26,
    "start_time": "2022-09-26T09:29:53.585Z"
   },
   {
    "duration": 6,
    "start_time": "2022-09-26T09:29:53.613Z"
   },
   {
    "duration": 1694,
    "start_time": "2022-09-26T09:29:53.621Z"
   },
   {
    "duration": 1594,
    "start_time": "2022-09-26T09:29:55.317Z"
   },
   {
    "duration": 1575,
    "start_time": "2022-09-27T05:27:05.773Z"
   },
   {
    "duration": 320,
    "start_time": "2022-09-27T05:27:07.350Z"
   },
   {
    "duration": 25,
    "start_time": "2022-09-27T05:27:07.672Z"
   },
   {
    "duration": 21,
    "start_time": "2022-09-27T05:27:07.700Z"
   },
   {
    "duration": 5,
    "start_time": "2022-09-27T05:27:07.723Z"
   },
   {
    "duration": 7,
    "start_time": "2022-09-27T05:27:07.730Z"
   },
   {
    "duration": 2,
    "start_time": "2022-09-27T05:27:07.739Z"
   },
   {
    "duration": 15,
    "start_time": "2022-09-27T05:27:07.743Z"
   },
   {
    "duration": 43,
    "start_time": "2022-09-27T05:27:07.776Z"
   },
   {
    "duration": 14,
    "start_time": "2022-09-27T05:27:07.821Z"
   },
   {
    "duration": 20,
    "start_time": "2022-09-27T05:27:07.836Z"
   },
   {
    "duration": 11,
    "start_time": "2022-09-27T05:27:07.857Z"
   },
   {
    "duration": 29,
    "start_time": "2022-09-27T05:27:07.870Z"
   },
   {
    "duration": 15,
    "start_time": "2022-09-27T05:27:07.901Z"
   },
   {
    "duration": 201,
    "start_time": "2022-09-27T05:27:07.918Z"
   },
   {
    "duration": 8,
    "start_time": "2022-09-27T05:27:08.121Z"
   },
   {
    "duration": 33,
    "start_time": "2022-09-27T05:27:08.131Z"
   },
   {
    "duration": 466,
    "start_time": "2022-09-27T05:27:08.167Z"
   },
   {
    "duration": 4,
    "start_time": "2022-09-27T05:27:08.635Z"
   },
   {
    "duration": 17,
    "start_time": "2022-09-27T05:27:08.641Z"
   },
   {
    "duration": 27,
    "start_time": "2022-09-27T05:27:08.659Z"
   },
   {
    "duration": 763,
    "start_time": "2022-09-27T05:27:08.691Z"
   },
   {
    "duration": 11,
    "start_time": "2022-09-27T05:27:09.456Z"
   },
   {
    "duration": 18,
    "start_time": "2022-09-27T05:27:09.479Z"
   },
   {
    "duration": 18,
    "start_time": "2022-09-27T05:27:09.500Z"
   },
   {
    "duration": 37,
    "start_time": "2022-09-27T05:27:09.520Z"
   },
   {
    "duration": 26,
    "start_time": "2022-09-27T05:27:09.559Z"
   },
   {
    "duration": 30,
    "start_time": "2022-09-27T05:27:09.590Z"
   },
   {
    "duration": 11,
    "start_time": "2022-09-27T05:27:09.623Z"
   },
   {
    "duration": 11,
    "start_time": "2022-09-27T05:27:09.636Z"
   },
   {
    "duration": 10,
    "start_time": "2022-09-27T05:27:09.648Z"
   },
   {
    "duration": 21,
    "start_time": "2022-09-27T05:27:09.660Z"
   },
   {
    "duration": 12,
    "start_time": "2022-09-27T05:27:09.684Z"
   },
   {
    "duration": 9,
    "start_time": "2022-09-27T05:27:09.698Z"
   },
   {
    "duration": 7,
    "start_time": "2022-09-27T05:27:09.709Z"
   },
   {
    "duration": 15,
    "start_time": "2022-09-27T05:27:09.717Z"
   },
   {
    "duration": 41,
    "start_time": "2022-09-27T05:27:09.735Z"
   },
   {
    "duration": 19,
    "start_time": "2022-09-27T05:27:09.778Z"
   },
   {
    "duration": 14,
    "start_time": "2022-09-27T05:27:09.799Z"
   },
   {
    "duration": 17,
    "start_time": "2022-09-27T05:27:09.815Z"
   },
   {
    "duration": 7,
    "start_time": "2022-09-27T05:27:09.834Z"
   },
   {
    "duration": 16,
    "start_time": "2022-09-27T05:27:09.842Z"
   },
   {
    "duration": 3225,
    "start_time": "2022-09-27T05:27:09.860Z"
   },
   {
    "duration": 3210,
    "start_time": "2022-09-27T05:27:13.090Z"
   },
   {
    "duration": 132,
    "start_time": "2022-09-27T05:29:44.133Z"
   },
   {
    "duration": 3,
    "start_time": "2022-09-27T05:32:28.352Z"
   },
   {
    "duration": 135,
    "start_time": "2022-09-27T05:34:49.460Z"
   },
   {
    "duration": 12,
    "start_time": "2022-09-27T05:40:08.336Z"
   },
   {
    "duration": 20,
    "start_time": "2022-09-27T05:42:15.589Z"
   },
   {
    "duration": 107,
    "start_time": "2022-09-27T05:54:20.685Z"
   },
   {
    "duration": 13,
    "start_time": "2022-09-27T05:55:29.186Z"
   },
   {
    "duration": 8,
    "start_time": "2022-09-27T05:56:18.596Z"
   },
   {
    "duration": 4,
    "start_time": "2022-09-27T05:57:57.192Z"
   },
   {
    "duration": 10,
    "start_time": "2022-09-27T06:00:11.969Z"
   },
   {
    "duration": 23,
    "start_time": "2022-09-27T06:00:19.300Z"
   },
   {
    "duration": 4,
    "start_time": "2022-09-27T08:15:45.798Z"
   },
   {
    "duration": 3,
    "start_time": "2022-09-27T08:16:46.794Z"
   },
   {
    "duration": 4,
    "start_time": "2022-09-27T08:17:28.059Z"
   },
   {
    "duration": 3,
    "start_time": "2022-09-27T08:18:49.822Z"
   },
   {
    "duration": 14,
    "start_time": "2022-09-27T08:23:46.295Z"
   },
   {
    "duration": 4,
    "start_time": "2022-09-27T08:25:12.985Z"
   },
   {
    "duration": 5,
    "start_time": "2022-09-27T08:25:17.239Z"
   },
   {
    "duration": 13,
    "start_time": "2022-09-27T08:26:32.556Z"
   },
   {
    "duration": 12,
    "start_time": "2022-09-27T08:26:44.064Z"
   },
   {
    "duration": 14,
    "start_time": "2022-09-27T08:27:27.033Z"
   },
   {
    "duration": 10,
    "start_time": "2022-09-27T08:27:39.067Z"
   },
   {
    "duration": 6,
    "start_time": "2022-09-27T08:27:55.325Z"
   },
   {
    "duration": 3,
    "start_time": "2022-09-27T08:28:04.995Z"
   },
   {
    "duration": 11,
    "start_time": "2022-09-27T08:28:06.585Z"
   },
   {
    "duration": 4,
    "start_time": "2022-09-27T08:28:12.256Z"
   },
   {
    "duration": 9,
    "start_time": "2022-09-27T08:31:06.605Z"
   },
   {
    "duration": 3,
    "start_time": "2022-09-27T08:31:17.318Z"
   },
   {
    "duration": 3,
    "start_time": "2022-09-27T08:31:17.746Z"
   },
   {
    "duration": 12,
    "start_time": "2022-09-27T08:31:42.500Z"
   },
   {
    "duration": 3,
    "start_time": "2022-09-27T08:34:29.991Z"
   },
   {
    "duration": 35,
    "start_time": "2022-09-27T08:34:59.809Z"
   },
   {
    "duration": 3,
    "start_time": "2022-09-27T08:36:20.600Z"
   },
   {
    "duration": 3,
    "start_time": "2022-09-27T08:36:21.069Z"
   },
   {
    "duration": 2,
    "start_time": "2022-09-27T08:36:21.516Z"
   },
   {
    "duration": 3,
    "start_time": "2022-09-27T08:36:21.967Z"
   },
   {
    "duration": 26,
    "start_time": "2022-09-27T08:36:22.567Z"
   },
   {
    "duration": 4,
    "start_time": "2022-09-27T08:37:38.058Z"
   },
   {
    "duration": 2,
    "start_time": "2022-09-27T08:41:06.232Z"
   },
   {
    "duration": 3,
    "start_time": "2022-09-27T08:41:06.661Z"
   },
   {
    "duration": 91,
    "start_time": "2022-09-27T08:45:00.287Z"
   },
   {
    "duration": 0,
    "start_time": "2022-09-27T08:45:00.407Z"
   },
   {
    "duration": 0,
    "start_time": "2022-09-27T08:45:00.408Z"
   },
   {
    "duration": 1355,
    "start_time": "2022-09-27T08:46:03.136Z"
   },
   {
    "duration": 98,
    "start_time": "2022-09-27T08:46:04.493Z"
   },
   {
    "duration": 14,
    "start_time": "2022-09-27T08:46:04.593Z"
   },
   {
    "duration": 12,
    "start_time": "2022-09-27T08:46:04.608Z"
   },
   {
    "duration": 6,
    "start_time": "2022-09-27T08:46:04.622Z"
   },
   {
    "duration": 9,
    "start_time": "2022-09-27T08:46:04.630Z"
   },
   {
    "duration": 3,
    "start_time": "2022-09-27T08:46:04.640Z"
   },
   {
    "duration": 15,
    "start_time": "2022-09-27T08:46:04.644Z"
   },
   {
    "duration": 4,
    "start_time": "2022-09-27T08:46:04.677Z"
   },
   {
    "duration": 6,
    "start_time": "2022-09-27T08:46:04.682Z"
   },
   {
    "duration": 14,
    "start_time": "2022-09-27T08:46:04.690Z"
   },
   {
    "duration": 18,
    "start_time": "2022-09-27T08:46:04.706Z"
   },
   {
    "duration": 5,
    "start_time": "2022-09-27T08:46:04.725Z"
   },
   {
    "duration": 14,
    "start_time": "2022-09-27T08:46:04.733Z"
   },
   {
    "duration": 232,
    "start_time": "2022-09-27T08:46:04.748Z"
   },
   {
    "duration": 8,
    "start_time": "2022-09-27T08:46:04.981Z"
   },
   {
    "duration": 12,
    "start_time": "2022-09-27T08:46:04.991Z"
   },
   {
    "duration": 487,
    "start_time": "2022-09-27T08:46:05.004Z"
   },
   {
    "duration": 4,
    "start_time": "2022-09-27T08:46:05.492Z"
   },
   {
    "duration": 14,
    "start_time": "2022-09-27T08:46:05.498Z"
   },
   {
    "duration": 15,
    "start_time": "2022-09-27T08:46:05.514Z"
   },
   {
    "duration": 727,
    "start_time": "2022-09-27T08:46:05.531Z"
   },
   {
    "duration": 7,
    "start_time": "2022-09-27T08:46:06.259Z"
   },
   {
    "duration": 18,
    "start_time": "2022-09-27T08:46:06.267Z"
   },
   {
    "duration": 10,
    "start_time": "2022-09-27T08:46:06.286Z"
   },
   {
    "duration": 28,
    "start_time": "2022-09-27T08:46:06.298Z"
   },
   {
    "duration": 19,
    "start_time": "2022-09-27T08:46:06.328Z"
   },
   {
    "duration": 39,
    "start_time": "2022-09-27T08:46:06.349Z"
   },
   {
    "duration": 12,
    "start_time": "2022-09-27T08:46:06.390Z"
   },
   {
    "duration": 11,
    "start_time": "2022-09-27T08:46:06.403Z"
   },
   {
    "duration": 11,
    "start_time": "2022-09-27T08:46:06.416Z"
   },
   {
    "duration": 7,
    "start_time": "2022-09-27T08:46:06.429Z"
   },
   {
    "duration": 8,
    "start_time": "2022-09-27T08:46:06.438Z"
   },
   {
    "duration": 32,
    "start_time": "2022-09-27T08:46:06.448Z"
   },
   {
    "duration": 4,
    "start_time": "2022-09-27T08:46:06.482Z"
   },
   {
    "duration": 9,
    "start_time": "2022-09-27T08:46:06.487Z"
   },
   {
    "duration": 34,
    "start_time": "2022-09-27T08:46:06.497Z"
   },
   {
    "duration": 14,
    "start_time": "2022-09-27T08:46:06.533Z"
   },
   {
    "duration": 42,
    "start_time": "2022-09-27T08:46:06.549Z"
   },
   {
    "duration": 23,
    "start_time": "2022-09-27T08:46:06.593Z"
   },
   {
    "duration": 6,
    "start_time": "2022-09-27T08:46:06.619Z"
   },
   {
    "duration": 4,
    "start_time": "2022-09-27T08:46:06.627Z"
   },
   {
    "duration": 1843,
    "start_time": "2022-09-27T08:46:06.633Z"
   },
   {
    "duration": 1606,
    "start_time": "2022-09-27T08:46:08.478Z"
   },
   {
    "duration": 238,
    "start_time": "2022-09-27T08:46:10.085Z"
   },
   {
    "duration": 13,
    "start_time": "2022-09-27T08:46:10.324Z"
   },
   {
    "duration": 8,
    "start_time": "2022-09-27T08:46:10.338Z"
   },
   {
    "duration": 4,
    "start_time": "2022-09-27T08:46:10.347Z"
   },
   {
    "duration": 25,
    "start_time": "2022-09-27T08:46:10.352Z"
   },
   {
    "duration": 3,
    "start_time": "2022-09-27T08:46:10.378Z"
   },
   {
    "duration": 5,
    "start_time": "2022-09-27T08:46:10.383Z"
   },
   {
    "duration": 120,
    "start_time": "2022-09-27T08:46:10.390Z"
   },
   {
    "duration": 1,
    "start_time": "2022-09-27T08:46:10.511Z"
   },
   {
    "duration": 0,
    "start_time": "2022-09-27T08:46:10.513Z"
   },
   {
    "duration": 10,
    "start_time": "2022-09-27T08:46:40.788Z"
   },
   {
    "duration": 11,
    "start_time": "2022-09-27T08:46:41.096Z"
   },
   {
    "duration": 9,
    "start_time": "2022-09-27T08:47:01.141Z"
   },
   {
    "duration": 3,
    "start_time": "2022-09-27T08:47:06.751Z"
   },
   {
    "duration": 1447,
    "start_time": "2022-09-27T08:47:26.338Z"
   },
   {
    "duration": 99,
    "start_time": "2022-09-27T08:47:27.787Z"
   },
   {
    "duration": 15,
    "start_time": "2022-09-27T08:47:27.888Z"
   },
   {
    "duration": 15,
    "start_time": "2022-09-27T08:47:27.904Z"
   },
   {
    "duration": 7,
    "start_time": "2022-09-27T08:47:27.921Z"
   },
   {
    "duration": 10,
    "start_time": "2022-09-27T08:47:27.929Z"
   },
   {
    "duration": 2,
    "start_time": "2022-09-27T08:47:27.941Z"
   },
   {
    "duration": 33,
    "start_time": "2022-09-27T08:47:27.945Z"
   },
   {
    "duration": 4,
    "start_time": "2022-09-27T08:47:27.980Z"
   },
   {
    "duration": 7,
    "start_time": "2022-09-27T08:47:27.985Z"
   },
   {
    "duration": 17,
    "start_time": "2022-09-27T08:47:27.994Z"
   },
   {
    "duration": 15,
    "start_time": "2022-09-27T08:47:28.014Z"
   },
   {
    "duration": 7,
    "start_time": "2022-09-27T08:47:28.031Z"
   },
   {
    "duration": 47,
    "start_time": "2022-09-27T08:47:28.042Z"
   },
   {
    "duration": 206,
    "start_time": "2022-09-27T08:47:28.091Z"
   },
   {
    "duration": 16,
    "start_time": "2022-09-27T08:47:28.298Z"
   },
   {
    "duration": 23,
    "start_time": "2022-09-27T08:47:28.316Z"
   },
   {
    "duration": 441,
    "start_time": "2022-09-27T08:47:28.341Z"
   },
   {
    "duration": 4,
    "start_time": "2022-09-27T08:47:28.784Z"
   },
   {
    "duration": 13,
    "start_time": "2022-09-27T08:47:28.790Z"
   },
   {
    "duration": 14,
    "start_time": "2022-09-27T08:47:28.805Z"
   },
   {
    "duration": 734,
    "start_time": "2022-09-27T08:47:28.821Z"
   },
   {
    "duration": 7,
    "start_time": "2022-09-27T08:47:29.557Z"
   },
   {
    "duration": 19,
    "start_time": "2022-09-27T08:47:29.566Z"
   },
   {
    "duration": 7,
    "start_time": "2022-09-27T08:47:29.586Z"
   },
   {
    "duration": 25,
    "start_time": "2022-09-27T08:47:29.595Z"
   },
   {
    "duration": 18,
    "start_time": "2022-09-27T08:47:29.622Z"
   },
   {
    "duration": 42,
    "start_time": "2022-09-27T08:47:29.642Z"
   },
   {
    "duration": 12,
    "start_time": "2022-09-27T08:47:29.685Z"
   },
   {
    "duration": 10,
    "start_time": "2022-09-27T08:47:29.698Z"
   },
   {
    "duration": 5,
    "start_time": "2022-09-27T08:47:29.710Z"
   },
   {
    "duration": 8,
    "start_time": "2022-09-27T08:47:29.717Z"
   },
   {
    "duration": 8,
    "start_time": "2022-09-27T08:47:29.726Z"
   },
   {
    "duration": 5,
    "start_time": "2022-09-27T08:47:29.736Z"
   },
   {
    "duration": 37,
    "start_time": "2022-09-27T08:47:29.742Z"
   },
   {
    "duration": 8,
    "start_time": "2022-09-27T08:47:29.780Z"
   },
   {
    "duration": 34,
    "start_time": "2022-09-27T08:47:29.789Z"
   },
   {
    "duration": 13,
    "start_time": "2022-09-27T08:47:29.824Z"
   },
   {
    "duration": 7,
    "start_time": "2022-09-27T08:47:29.840Z"
   },
   {
    "duration": 38,
    "start_time": "2022-09-27T08:47:29.848Z"
   },
   {
    "duration": 4,
    "start_time": "2022-09-27T08:47:29.889Z"
   },
   {
    "duration": 5,
    "start_time": "2022-09-27T08:47:29.896Z"
   },
   {
    "duration": 1781,
    "start_time": "2022-09-27T08:47:29.903Z"
   },
   {
    "duration": 2104,
    "start_time": "2022-09-27T08:47:31.686Z"
   },
   {
    "duration": 237,
    "start_time": "2022-09-27T08:47:33.878Z"
   },
   {
    "duration": 14,
    "start_time": "2022-09-27T08:47:34.116Z"
   },
   {
    "duration": 9,
    "start_time": "2022-09-27T08:47:34.131Z"
   },
   {
    "duration": 6,
    "start_time": "2022-09-27T08:47:34.141Z"
   },
   {
    "duration": 8,
    "start_time": "2022-09-27T08:47:34.149Z"
   },
   {
    "duration": 21,
    "start_time": "2022-09-27T08:47:34.159Z"
   },
   {
    "duration": 9,
    "start_time": "2022-09-27T08:47:34.182Z"
   },
   {
    "duration": 3,
    "start_time": "2022-09-27T08:47:36.715Z"
   },
   {
    "duration": 51005,
    "start_time": "2022-09-27T08:47:41.084Z"
   },
   {
    "duration": 110,
    "start_time": "2022-09-27T08:49:39.183Z"
   },
   {
    "duration": 11,
    "start_time": "2022-09-27T08:49:55.048Z"
   },
   {
    "duration": 11,
    "start_time": "2022-09-27T08:50:14.384Z"
   },
   {
    "duration": 12,
    "start_time": "2022-09-27T08:50:22.534Z"
   },
   {
    "duration": 1434,
    "start_time": "2022-09-27T08:53:31.348Z"
   },
   {
    "duration": 103,
    "start_time": "2022-09-27T08:53:32.784Z"
   },
   {
    "duration": 15,
    "start_time": "2022-09-27T08:53:32.888Z"
   },
   {
    "duration": 19,
    "start_time": "2022-09-27T08:53:32.905Z"
   },
   {
    "duration": 8,
    "start_time": "2022-09-27T08:53:32.927Z"
   },
   {
    "duration": 11,
    "start_time": "2022-09-27T08:53:32.937Z"
   },
   {
    "duration": 15,
    "start_time": "2022-09-27T08:53:32.950Z"
   },
   {
    "duration": 28,
    "start_time": "2022-09-27T08:53:32.966Z"
   },
   {
    "duration": 10,
    "start_time": "2022-09-27T08:53:32.996Z"
   },
   {
    "duration": 19,
    "start_time": "2022-09-27T08:53:33.008Z"
   },
   {
    "duration": 26,
    "start_time": "2022-09-27T08:53:33.028Z"
   },
   {
    "duration": 12,
    "start_time": "2022-09-27T08:53:33.056Z"
   },
   {
    "duration": 10,
    "start_time": "2022-09-27T08:53:33.070Z"
   },
   {
    "duration": 16,
    "start_time": "2022-09-27T08:53:33.084Z"
   },
   {
    "duration": 219,
    "start_time": "2022-09-27T08:53:33.102Z"
   },
   {
    "duration": 9,
    "start_time": "2022-09-27T08:53:33.322Z"
   },
   {
    "duration": 23,
    "start_time": "2022-09-27T08:53:33.332Z"
   },
   {
    "duration": 438,
    "start_time": "2022-09-27T08:53:33.357Z"
   },
   {
    "duration": 4,
    "start_time": "2022-09-27T08:53:33.797Z"
   },
   {
    "duration": 23,
    "start_time": "2022-09-27T08:53:33.803Z"
   },
   {
    "duration": 14,
    "start_time": "2022-09-27T08:53:33.828Z"
   },
   {
    "duration": 710,
    "start_time": "2022-09-27T08:53:33.844Z"
   },
   {
    "duration": 8,
    "start_time": "2022-09-27T08:53:34.556Z"
   },
   {
    "duration": 25,
    "start_time": "2022-09-27T08:53:34.565Z"
   },
   {
    "duration": 8,
    "start_time": "2022-09-27T08:53:34.592Z"
   },
   {
    "duration": 29,
    "start_time": "2022-09-27T08:53:34.602Z"
   },
   {
    "duration": 20,
    "start_time": "2022-09-27T08:53:34.632Z"
   },
   {
    "duration": 35,
    "start_time": "2022-09-27T08:53:34.654Z"
   },
   {
    "duration": 12,
    "start_time": "2022-09-27T08:53:34.691Z"
   },
   {
    "duration": 25,
    "start_time": "2022-09-27T08:53:34.705Z"
   },
   {
    "duration": 19,
    "start_time": "2022-09-27T08:53:34.731Z"
   },
   {
    "duration": 15,
    "start_time": "2022-09-27T08:53:34.752Z"
   },
   {
    "duration": 13,
    "start_time": "2022-09-27T08:53:34.768Z"
   },
   {
    "duration": 5,
    "start_time": "2022-09-27T08:53:34.783Z"
   },
   {
    "duration": 9,
    "start_time": "2022-09-27T08:53:34.790Z"
   },
   {
    "duration": 8,
    "start_time": "2022-09-27T08:53:34.801Z"
   },
   {
    "duration": 36,
    "start_time": "2022-09-27T08:53:34.811Z"
   },
   {
    "duration": 12,
    "start_time": "2022-09-27T08:53:34.849Z"
   },
   {
    "duration": 8,
    "start_time": "2022-09-27T08:53:34.877Z"
   },
   {
    "duration": 16,
    "start_time": "2022-09-27T08:53:34.887Z"
   },
   {
    "duration": 7,
    "start_time": "2022-09-27T08:53:34.907Z"
   },
   {
    "duration": 12,
    "start_time": "2022-09-27T08:53:34.915Z"
   },
   {
    "duration": 1755,
    "start_time": "2022-09-27T08:53:34.929Z"
   },
   {
    "duration": 1810,
    "start_time": "2022-09-27T08:53:36.776Z"
   },
   {
    "duration": 145,
    "start_time": "2022-09-27T08:53:38.677Z"
   },
   {
    "duration": 11,
    "start_time": "2022-09-27T08:53:38.824Z"
   },
   {
    "duration": 17,
    "start_time": "2022-09-27T08:53:38.836Z"
   },
   {
    "duration": 6,
    "start_time": "2022-09-27T08:53:38.854Z"
   },
   {
    "duration": 24,
    "start_time": "2022-09-27T08:53:38.861Z"
   },
   {
    "duration": 17,
    "start_time": "2022-09-27T08:53:38.886Z"
   },
   {
    "duration": 19,
    "start_time": "2022-09-27T08:53:38.905Z"
   },
   {
    "duration": 10,
    "start_time": "2022-09-27T08:53:38.926Z"
   },
   {
    "duration": 14,
    "start_time": "2022-09-27T08:53:38.938Z"
   },
   {
    "duration": 126,
    "start_time": "2022-09-27T08:53:38.954Z"
   },
   {
    "duration": 0,
    "start_time": "2022-09-27T08:53:39.081Z"
   },
   {
    "duration": 3,
    "start_time": "2022-09-27T08:53:56.492Z"
   },
   {
    "duration": 10,
    "start_time": "2022-09-27T08:54:01.509Z"
   },
   {
    "duration": 9,
    "start_time": "2022-09-27T08:54:13.587Z"
   },
   {
    "duration": 9,
    "start_time": "2022-09-27T08:54:19.485Z"
   },
   {
    "duration": 9,
    "start_time": "2022-09-27T08:54:33.390Z"
   },
   {
    "duration": 1346,
    "start_time": "2022-09-27T08:55:40.800Z"
   },
   {
    "duration": 100,
    "start_time": "2022-09-27T08:55:42.149Z"
   },
   {
    "duration": 15,
    "start_time": "2022-09-27T08:55:42.250Z"
   },
   {
    "duration": 13,
    "start_time": "2022-09-27T08:55:42.266Z"
   },
   {
    "duration": 6,
    "start_time": "2022-09-27T08:55:42.281Z"
   },
   {
    "duration": 8,
    "start_time": "2022-09-27T08:55:42.288Z"
   },
   {
    "duration": 2,
    "start_time": "2022-09-27T08:55:42.298Z"
   },
   {
    "duration": 14,
    "start_time": "2022-09-27T08:55:42.301Z"
   },
   {
    "duration": 6,
    "start_time": "2022-09-27T08:55:42.317Z"
   },
   {
    "duration": 12,
    "start_time": "2022-09-27T08:55:42.324Z"
   },
   {
    "duration": 18,
    "start_time": "2022-09-27T08:55:42.337Z"
   },
   {
    "duration": 30,
    "start_time": "2022-09-27T08:55:42.356Z"
   },
   {
    "duration": 15,
    "start_time": "2022-09-27T08:55:42.388Z"
   },
   {
    "duration": 22,
    "start_time": "2022-09-27T08:55:42.406Z"
   },
   {
    "duration": 198,
    "start_time": "2022-09-27T08:55:42.430Z"
   },
   {
    "duration": 8,
    "start_time": "2022-09-27T08:55:42.630Z"
   },
   {
    "duration": 19,
    "start_time": "2022-09-27T08:55:42.639Z"
   },
   {
    "duration": 390,
    "start_time": "2022-09-27T08:55:42.660Z"
   },
   {
    "duration": 4,
    "start_time": "2022-09-27T08:55:43.052Z"
   },
   {
    "duration": 19,
    "start_time": "2022-09-27T08:55:43.058Z"
   },
   {
    "duration": 12,
    "start_time": "2022-09-27T08:55:43.079Z"
   },
   {
    "duration": 649,
    "start_time": "2022-09-27T08:55:43.092Z"
   },
   {
    "duration": 7,
    "start_time": "2022-09-27T08:55:43.743Z"
   },
   {
    "duration": 11,
    "start_time": "2022-09-27T08:55:43.752Z"
   },
   {
    "duration": 4,
    "start_time": "2022-09-27T08:55:43.776Z"
   },
   {
    "duration": 24,
    "start_time": "2022-09-27T08:55:43.782Z"
   },
   {
    "duration": 17,
    "start_time": "2022-09-27T08:55:43.808Z"
   },
   {
    "duration": 19,
    "start_time": "2022-09-27T08:55:43.827Z"
   },
   {
    "duration": 29,
    "start_time": "2022-09-27T08:55:43.848Z"
   },
   {
    "duration": 11,
    "start_time": "2022-09-27T08:55:43.878Z"
   },
   {
    "duration": 17,
    "start_time": "2022-09-27T08:55:43.890Z"
   },
   {
    "duration": 11,
    "start_time": "2022-09-27T08:55:43.908Z"
   },
   {
    "duration": 17,
    "start_time": "2022-09-27T08:55:43.920Z"
   },
   {
    "duration": 6,
    "start_time": "2022-09-27T08:55:43.939Z"
   },
   {
    "duration": 8,
    "start_time": "2022-09-27T08:55:43.946Z"
   },
   {
    "duration": 26,
    "start_time": "2022-09-27T08:55:43.955Z"
   },
   {
    "duration": 46,
    "start_time": "2022-09-27T08:55:43.983Z"
   },
   {
    "duration": 12,
    "start_time": "2022-09-27T08:55:44.031Z"
   },
   {
    "duration": 8,
    "start_time": "2022-09-27T08:55:44.045Z"
   },
   {
    "duration": 25,
    "start_time": "2022-09-27T08:55:44.054Z"
   },
   {
    "duration": 10,
    "start_time": "2022-09-27T08:55:44.083Z"
   },
   {
    "duration": 6,
    "start_time": "2022-09-27T08:55:44.094Z"
   },
   {
    "duration": 1680,
    "start_time": "2022-09-27T08:55:44.102Z"
   },
   {
    "duration": 1897,
    "start_time": "2022-09-27T08:55:45.784Z"
   },
   {
    "duration": 234,
    "start_time": "2022-09-27T08:55:47.683Z"
   },
   {
    "duration": 11,
    "start_time": "2022-09-27T08:55:47.918Z"
   },
   {
    "duration": 7,
    "start_time": "2022-09-27T08:55:47.930Z"
   },
   {
    "duration": 4,
    "start_time": "2022-09-27T08:55:47.939Z"
   },
   {
    "duration": 4,
    "start_time": "2022-09-27T08:55:47.944Z"
   },
   {
    "duration": 28,
    "start_time": "2022-09-27T08:55:47.949Z"
   },
   {
    "duration": 2,
    "start_time": "2022-09-27T08:55:47.978Z"
   },
   {
    "duration": 5,
    "start_time": "2022-09-27T08:55:47.982Z"
   },
   {
    "duration": 6,
    "start_time": "2022-09-27T08:55:47.988Z"
   },
   {
    "duration": 52461,
    "start_time": "2022-09-27T08:55:47.995Z"
   },
   {
    "duration": 123,
    "start_time": "2022-09-27T08:56:40.458Z"
   },
   {
    "duration": 5,
    "start_time": "2022-09-27T08:57:03.991Z"
   },
   {
    "duration": 3,
    "start_time": "2022-09-27T09:01:57.782Z"
   },
   {
    "duration": 12,
    "start_time": "2022-09-27T09:02:12.586Z"
   },
   {
    "duration": 3,
    "start_time": "2022-09-27T09:02:26.234Z"
   },
   {
    "duration": 76,
    "start_time": "2022-09-27T09:02:26.549Z"
   },
   {
    "duration": 7,
    "start_time": "2022-09-27T09:02:48.990Z"
   },
   {
    "duration": 11,
    "start_time": "2022-09-27T09:03:39.145Z"
   },
   {
    "duration": 4,
    "start_time": "2022-09-27T09:03:44.386Z"
   },
   {
    "duration": 6,
    "start_time": "2022-09-27T09:04:02.445Z"
   },
   {
    "duration": 5,
    "start_time": "2022-09-27T09:11:00.629Z"
   },
   {
    "duration": 12,
    "start_time": "2022-09-27T09:11:07.962Z"
   },
   {
    "duration": 11,
    "start_time": "2022-09-27T09:11:27.565Z"
   },
   {
    "duration": 74,
    "start_time": "2022-09-27T09:11:35.704Z"
   },
   {
    "duration": 14,
    "start_time": "2022-09-27T09:13:36.720Z"
   },
   {
    "duration": 27,
    "start_time": "2022-09-27T09:13:50.561Z"
   },
   {
    "duration": 9,
    "start_time": "2022-09-27T09:14:10.485Z"
   },
   {
    "duration": 21,
    "start_time": "2022-09-27T09:14:29.360Z"
   },
   {
    "duration": 10,
    "start_time": "2022-09-27T09:14:36.340Z"
   },
   {
    "duration": 4,
    "start_time": "2022-09-27T09:16:27.618Z"
   },
   {
    "duration": 13,
    "start_time": "2022-09-27T09:17:48.626Z"
   },
   {
    "duration": 9,
    "start_time": "2022-09-27T09:18:51.529Z"
   },
   {
    "duration": 24,
    "start_time": "2022-09-27T09:18:54.944Z"
   },
   {
    "duration": 6,
    "start_time": "2022-09-27T09:19:13.036Z"
   },
   {
    "duration": 23,
    "start_time": "2022-09-27T09:19:15.088Z"
   },
   {
    "duration": 1353,
    "start_time": "2022-09-27T09:21:07.107Z"
   },
   {
    "duration": 103,
    "start_time": "2022-09-27T09:21:08.462Z"
   },
   {
    "duration": 22,
    "start_time": "2022-09-27T09:21:08.567Z"
   },
   {
    "duration": 23,
    "start_time": "2022-09-27T09:21:08.592Z"
   },
   {
    "duration": 14,
    "start_time": "2022-09-27T09:21:08.616Z"
   },
   {
    "duration": 36,
    "start_time": "2022-09-27T09:21:08.632Z"
   },
   {
    "duration": 23,
    "start_time": "2022-09-27T09:21:08.670Z"
   },
   {
    "duration": 39,
    "start_time": "2022-09-27T09:21:08.695Z"
   },
   {
    "duration": 19,
    "start_time": "2022-09-27T09:21:08.736Z"
   },
   {
    "duration": 13,
    "start_time": "2022-09-27T09:21:08.757Z"
   },
   {
    "duration": 48,
    "start_time": "2022-09-27T09:21:08.771Z"
   },
   {
    "duration": 11,
    "start_time": "2022-09-27T09:21:08.821Z"
   },
   {
    "duration": 18,
    "start_time": "2022-09-27T09:21:08.833Z"
   },
   {
    "duration": 32,
    "start_time": "2022-09-27T09:21:08.853Z"
   },
   {
    "duration": 200,
    "start_time": "2022-09-27T09:21:08.890Z"
   },
   {
    "duration": 9,
    "start_time": "2022-09-27T09:21:09.091Z"
   },
   {
    "duration": 25,
    "start_time": "2022-09-27T09:21:09.101Z"
   },
   {
    "duration": 418,
    "start_time": "2022-09-27T09:21:09.127Z"
   },
   {
    "duration": 5,
    "start_time": "2022-09-27T09:21:09.547Z"
   },
   {
    "duration": 25,
    "start_time": "2022-09-27T09:21:09.553Z"
   },
   {
    "duration": 21,
    "start_time": "2022-09-27T09:21:09.580Z"
   },
   {
    "duration": 688,
    "start_time": "2022-09-27T09:21:09.602Z"
   },
   {
    "duration": 7,
    "start_time": "2022-09-27T09:21:10.292Z"
   },
   {
    "duration": 24,
    "start_time": "2022-09-27T09:21:10.301Z"
   },
   {
    "duration": 14,
    "start_time": "2022-09-27T09:21:10.327Z"
   },
   {
    "duration": 28,
    "start_time": "2022-09-27T09:21:10.342Z"
   },
   {
    "duration": 24,
    "start_time": "2022-09-27T09:21:10.372Z"
   },
   {
    "duration": 16,
    "start_time": "2022-09-27T09:21:10.400Z"
   },
   {
    "duration": 12,
    "start_time": "2022-09-27T09:21:10.417Z"
   },
   {
    "duration": 10,
    "start_time": "2022-09-27T09:21:10.430Z"
   },
   {
    "duration": 6,
    "start_time": "2022-09-27T09:21:10.442Z"
   },
   {
    "duration": 42,
    "start_time": "2022-09-27T09:21:10.449Z"
   },
   {
    "duration": 14,
    "start_time": "2022-09-27T09:21:10.493Z"
   },
   {
    "duration": 5,
    "start_time": "2022-09-27T09:21:10.508Z"
   },
   {
    "duration": 3,
    "start_time": "2022-09-27T09:21:10.515Z"
   },
   {
    "duration": 4,
    "start_time": "2022-09-27T09:21:10.520Z"
   },
   {
    "duration": 42,
    "start_time": "2022-09-27T09:21:10.526Z"
   },
   {
    "duration": 24,
    "start_time": "2022-09-27T09:21:10.570Z"
   },
   {
    "duration": 11,
    "start_time": "2022-09-27T09:21:10.595Z"
   },
   {
    "duration": 15,
    "start_time": "2022-09-27T09:21:10.608Z"
   },
   {
    "duration": 3,
    "start_time": "2022-09-27T09:21:10.625Z"
   },
   {
    "duration": 7,
    "start_time": "2022-09-27T09:21:10.630Z"
   },
   {
    "duration": 3039,
    "start_time": "2022-09-27T09:21:10.639Z"
   },
   {
    "duration": 3191,
    "start_time": "2022-09-27T09:21:13.687Z"
   },
   {
    "duration": 9,
    "start_time": "2022-09-27T09:21:16.882Z"
   },
   {
    "duration": 346,
    "start_time": "2022-09-27T09:21:16.892Z"
   },
   {
    "duration": 12,
    "start_time": "2022-09-27T09:21:17.239Z"
   },
   {
    "duration": 36,
    "start_time": "2022-09-27T09:21:17.252Z"
   },
   {
    "duration": 19,
    "start_time": "2022-09-27T09:21:17.289Z"
   },
   {
    "duration": 9,
    "start_time": "2022-09-27T09:21:17.310Z"
   },
   {
    "duration": 21,
    "start_time": "2022-09-27T09:21:17.320Z"
   },
   {
    "duration": 27,
    "start_time": "2022-09-27T09:21:17.342Z"
   },
   {
    "duration": 137,
    "start_time": "2022-09-27T09:21:17.371Z"
   },
   {
    "duration": 0,
    "start_time": "2022-09-27T09:21:17.510Z"
   },
   {
    "duration": 0,
    "start_time": "2022-09-27T09:21:17.512Z"
   },
   {
    "duration": 0,
    "start_time": "2022-09-27T09:21:17.512Z"
   },
   {
    "duration": 0,
    "start_time": "2022-09-27T09:21:17.513Z"
   },
   {
    "duration": 0,
    "start_time": "2022-09-27T09:21:17.515Z"
   },
   {
    "duration": 0,
    "start_time": "2022-09-27T09:21:17.516Z"
   },
   {
    "duration": 0,
    "start_time": "2022-09-27T09:21:17.517Z"
   },
   {
    "duration": 0,
    "start_time": "2022-09-27T09:21:17.517Z"
   },
   {
    "duration": 0,
    "start_time": "2022-09-27T09:21:17.518Z"
   },
   {
    "duration": 4,
    "start_time": "2022-09-27T09:21:55.276Z"
   },
   {
    "duration": 3,
    "start_time": "2022-09-27T09:21:55.584Z"
   },
   {
    "duration": 3,
    "start_time": "2022-09-27T09:21:57.422Z"
   },
   {
    "duration": 40656,
    "start_time": "2022-09-27T09:21:57.730Z"
   },
   {
    "duration": 5,
    "start_time": "2022-09-27T09:22:38.388Z"
   },
   {
    "duration": 7,
    "start_time": "2022-09-27T09:22:38.394Z"
   },
   {
    "duration": 17,
    "start_time": "2022-09-27T09:22:38.403Z"
   },
   {
    "duration": 58,
    "start_time": "2022-09-27T09:22:38.422Z"
   },
   {
    "duration": 102,
    "start_time": "2022-09-27T09:22:38.483Z"
   },
   {
    "duration": 91,
    "start_time": "2022-09-27T09:22:38.587Z"
   },
   {
    "duration": 103,
    "start_time": "2022-09-27T09:22:38.681Z"
   },
   {
    "duration": 6,
    "start_time": "2022-09-27T09:23:03.241Z"
   },
   {
    "duration": 22,
    "start_time": "2022-09-27T09:23:03.828Z"
   },
   {
    "duration": 5,
    "start_time": "2022-09-27T09:23:15.845Z"
   },
   {
    "duration": 22,
    "start_time": "2022-09-27T09:23:16.082Z"
   },
   {
    "duration": 17,
    "start_time": "2022-09-27T09:23:31.086Z"
   },
   {
    "duration": 14,
    "start_time": "2022-09-27T09:25:37.542Z"
   },
   {
    "duration": 16,
    "start_time": "2022-09-27T09:26:07.926Z"
   },
   {
    "duration": 1359,
    "start_time": "2022-09-27T09:26:25.276Z"
   },
   {
    "duration": 98,
    "start_time": "2022-09-27T09:26:26.637Z"
   },
   {
    "duration": 14,
    "start_time": "2022-09-27T09:26:26.737Z"
   },
   {
    "duration": 12,
    "start_time": "2022-09-27T09:26:26.752Z"
   },
   {
    "duration": 7,
    "start_time": "2022-09-27T09:26:26.766Z"
   },
   {
    "duration": 7,
    "start_time": "2022-09-27T09:26:26.775Z"
   },
   {
    "duration": 2,
    "start_time": "2022-09-27T09:26:26.783Z"
   },
   {
    "duration": 15,
    "start_time": "2022-09-27T09:26:26.787Z"
   },
   {
    "duration": 6,
    "start_time": "2022-09-27T09:26:26.804Z"
   },
   {
    "duration": 10,
    "start_time": "2022-09-27T09:26:26.814Z"
   },
   {
    "duration": 15,
    "start_time": "2022-09-27T09:26:26.825Z"
   },
   {
    "duration": 12,
    "start_time": "2022-09-27T09:26:26.842Z"
   },
   {
    "duration": 7,
    "start_time": "2022-09-27T09:26:26.877Z"
   },
   {
    "duration": 18,
    "start_time": "2022-09-27T09:26:26.885Z"
   },
   {
    "duration": 239,
    "start_time": "2022-09-27T09:26:26.905Z"
   },
   {
    "duration": 9,
    "start_time": "2022-09-27T09:26:27.146Z"
   },
   {
    "duration": 28,
    "start_time": "2022-09-27T09:26:27.158Z"
   },
   {
    "duration": 400,
    "start_time": "2022-09-27T09:26:27.187Z"
   },
   {
    "duration": 5,
    "start_time": "2022-09-27T09:26:27.589Z"
   },
   {
    "duration": 16,
    "start_time": "2022-09-27T09:26:27.595Z"
   },
   {
    "duration": 12,
    "start_time": "2022-09-27T09:26:27.613Z"
   },
   {
    "duration": 684,
    "start_time": "2022-09-27T09:26:27.627Z"
   },
   {
    "duration": 7,
    "start_time": "2022-09-27T09:26:28.313Z"
   },
   {
    "duration": 12,
    "start_time": "2022-09-27T09:26:28.321Z"
   },
   {
    "duration": 6,
    "start_time": "2022-09-27T09:26:28.335Z"
   },
   {
    "duration": 42,
    "start_time": "2022-09-27T09:26:28.343Z"
   },
   {
    "duration": 18,
    "start_time": "2022-09-27T09:26:28.386Z"
   },
   {
    "duration": 17,
    "start_time": "2022-09-27T09:26:28.408Z"
   },
   {
    "duration": 10,
    "start_time": "2022-09-27T09:26:28.427Z"
   },
   {
    "duration": 9,
    "start_time": "2022-09-27T09:26:28.439Z"
   },
   {
    "duration": 31,
    "start_time": "2022-09-27T09:26:28.449Z"
   },
   {
    "duration": 7,
    "start_time": "2022-09-27T09:26:28.482Z"
   },
   {
    "duration": 9,
    "start_time": "2022-09-27T09:26:28.491Z"
   },
   {
    "duration": 6,
    "start_time": "2022-09-27T09:26:28.501Z"
   },
   {
    "duration": 9,
    "start_time": "2022-09-27T09:26:28.508Z"
   },
   {
    "duration": 7,
    "start_time": "2022-09-27T09:26:28.519Z"
   },
   {
    "duration": 51,
    "start_time": "2022-09-27T09:26:28.527Z"
   },
   {
    "duration": 14,
    "start_time": "2022-09-27T09:26:28.579Z"
   },
   {
    "duration": 8,
    "start_time": "2022-09-27T09:26:28.594Z"
   },
   {
    "duration": 18,
    "start_time": "2022-09-27T09:26:28.603Z"
   },
   {
    "duration": 8,
    "start_time": "2022-09-27T09:26:28.622Z"
   },
   {
    "duration": 7,
    "start_time": "2022-09-27T09:26:28.632Z"
   },
   {
    "duration": 1740,
    "start_time": "2022-09-27T09:26:28.641Z"
   },
   {
    "duration": 1795,
    "start_time": "2022-09-27T09:26:30.383Z"
   },
   {
    "duration": 4,
    "start_time": "2022-09-27T09:26:32.180Z"
   },
   {
    "duration": 246,
    "start_time": "2022-09-27T09:26:32.186Z"
   },
   {
    "duration": 12,
    "start_time": "2022-09-27T09:26:32.434Z"
   },
   {
    "duration": 14,
    "start_time": "2022-09-27T09:26:32.448Z"
   },
   {
    "duration": 14,
    "start_time": "2022-09-27T09:26:32.464Z"
   },
   {
    "duration": 4,
    "start_time": "2022-09-27T09:26:32.480Z"
   },
   {
    "duration": 8,
    "start_time": "2022-09-27T09:26:32.486Z"
   },
   {
    "duration": 5,
    "start_time": "2022-09-27T09:26:32.496Z"
   },
   {
    "duration": 5,
    "start_time": "2022-09-27T09:26:32.503Z"
   },
   {
    "duration": 8,
    "start_time": "2022-09-27T09:26:32.510Z"
   },
   {
    "duration": 41967,
    "start_time": "2022-09-27T09:26:32.520Z"
   },
   {
    "duration": 4,
    "start_time": "2022-09-27T09:27:14.489Z"
   },
   {
    "duration": 4,
    "start_time": "2022-09-27T09:27:14.495Z"
   },
   {
    "duration": 24,
    "start_time": "2022-09-27T09:27:14.500Z"
   },
   {
    "duration": 51,
    "start_time": "2022-09-27T09:27:14.526Z"
   },
   {
    "duration": 100,
    "start_time": "2022-09-27T09:27:14.581Z"
   },
   {
    "duration": 98,
    "start_time": "2022-09-27T09:27:14.683Z"
   },
   {
    "duration": 99,
    "start_time": "2022-09-27T09:27:14.783Z"
   },
   {
    "duration": 202,
    "start_time": "2022-09-27T09:27:14.885Z"
   },
   {
    "duration": 0,
    "start_time": "2022-09-27T09:27:15.235Z"
   },
   {
    "duration": 12,
    "start_time": "2022-09-27T09:27:37.367Z"
   },
   {
    "duration": 12,
    "start_time": "2022-09-27T09:28:22.326Z"
   },
   {
    "duration": 5,
    "start_time": "2022-09-27T09:28:50.608Z"
   },
   {
    "duration": 13,
    "start_time": "2022-09-27T09:29:05.525Z"
   },
   {
    "duration": 9,
    "start_time": "2022-09-27T09:29:17.307Z"
   },
   {
    "duration": 17,
    "start_time": "2022-09-27T09:29:24.258Z"
   },
   {
    "duration": 6,
    "start_time": "2022-09-27T09:30:32.621Z"
   },
   {
    "duration": 19,
    "start_time": "2022-09-27T09:30:36.269Z"
   },
   {
    "duration": 13,
    "start_time": "2022-09-27T09:30:49.103Z"
   },
   {
    "duration": 17,
    "start_time": "2022-09-27T09:31:00.302Z"
   },
   {
    "duration": 53,
    "start_time": "2022-09-27T09:32:48.991Z"
   },
   {
    "duration": 14,
    "start_time": "2022-09-27T09:32:55.456Z"
   },
   {
    "duration": 9,
    "start_time": "2022-09-27T09:33:31.576Z"
   },
   {
    "duration": 18,
    "start_time": "2022-09-27T09:33:40.963Z"
   },
   {
    "duration": 15,
    "start_time": "2022-09-27T09:33:52.838Z"
   },
   {
    "duration": 1371,
    "start_time": "2022-09-27T09:35:56.175Z"
   },
   {
    "duration": 103,
    "start_time": "2022-09-27T09:35:57.547Z"
   },
   {
    "duration": 14,
    "start_time": "2022-09-27T09:35:57.651Z"
   },
   {
    "duration": 14,
    "start_time": "2022-09-27T09:35:57.666Z"
   },
   {
    "duration": 6,
    "start_time": "2022-09-27T09:35:57.682Z"
   },
   {
    "duration": 10,
    "start_time": "2022-09-27T09:35:57.690Z"
   },
   {
    "duration": 2,
    "start_time": "2022-09-27T09:35:57.702Z"
   },
   {
    "duration": 17,
    "start_time": "2022-09-27T09:35:57.706Z"
   },
   {
    "duration": 6,
    "start_time": "2022-09-27T09:35:57.725Z"
   },
   {
    "duration": 10,
    "start_time": "2022-09-27T09:35:57.733Z"
   },
   {
    "duration": 15,
    "start_time": "2022-09-27T09:35:57.745Z"
   },
   {
    "duration": 11,
    "start_time": "2022-09-27T09:35:57.777Z"
   },
   {
    "duration": 9,
    "start_time": "2022-09-27T09:35:57.789Z"
   },
   {
    "duration": 18,
    "start_time": "2022-09-27T09:35:57.800Z"
   },
   {
    "duration": 205,
    "start_time": "2022-09-27T09:35:57.819Z"
   },
   {
    "duration": 8,
    "start_time": "2022-09-27T09:35:58.026Z"
   },
   {
    "duration": 19,
    "start_time": "2022-09-27T09:35:58.036Z"
   },
   {
    "duration": 390,
    "start_time": "2022-09-27T09:35:58.057Z"
   },
   {
    "duration": 4,
    "start_time": "2022-09-27T09:35:58.448Z"
   },
   {
    "duration": 16,
    "start_time": "2022-09-27T09:35:58.453Z"
   },
   {
    "duration": 11,
    "start_time": "2022-09-27T09:35:58.476Z"
   },
   {
    "duration": 668,
    "start_time": "2022-09-27T09:35:58.488Z"
   },
   {
    "duration": 7,
    "start_time": "2022-09-27T09:35:59.158Z"
   },
   {
    "duration": 28,
    "start_time": "2022-09-27T09:35:59.166Z"
   },
   {
    "duration": 28,
    "start_time": "2022-09-27T09:35:59.195Z"
   },
   {
    "duration": 37,
    "start_time": "2022-09-27T09:35:59.225Z"
   },
   {
    "duration": 25,
    "start_time": "2022-09-27T09:35:59.264Z"
   },
   {
    "duration": 19,
    "start_time": "2022-09-27T09:35:59.291Z"
   },
   {
    "duration": 28,
    "start_time": "2022-09-27T09:35:59.311Z"
   },
   {
    "duration": 18,
    "start_time": "2022-09-27T09:35:59.340Z"
   },
   {
    "duration": 22,
    "start_time": "2022-09-27T09:35:59.360Z"
   },
   {
    "duration": 21,
    "start_time": "2022-09-27T09:35:59.384Z"
   },
   {
    "duration": 27,
    "start_time": "2022-09-27T09:35:59.406Z"
   },
   {
    "duration": 12,
    "start_time": "2022-09-27T09:35:59.434Z"
   },
   {
    "duration": 20,
    "start_time": "2022-09-27T09:35:59.448Z"
   },
   {
    "duration": 14,
    "start_time": "2022-09-27T09:35:59.470Z"
   },
   {
    "duration": 53,
    "start_time": "2022-09-27T09:35:59.486Z"
   },
   {
    "duration": 12,
    "start_time": "2022-09-27T09:35:59.541Z"
   },
   {
    "duration": 18,
    "start_time": "2022-09-27T09:35:59.554Z"
   },
   {
    "duration": 26,
    "start_time": "2022-09-27T09:35:59.574Z"
   },
   {
    "duration": 22,
    "start_time": "2022-09-27T09:35:59.603Z"
   },
   {
    "duration": 12,
    "start_time": "2022-09-27T09:35:59.627Z"
   },
   {
    "duration": 1738,
    "start_time": "2022-09-27T09:35:59.640Z"
   },
   {
    "duration": 1704,
    "start_time": "2022-09-27T09:36:01.380Z"
   },
   {
    "duration": 91,
    "start_time": "2022-09-27T09:36:03.086Z"
   },
   {
    "duration": 143,
    "start_time": "2022-09-27T09:36:03.179Z"
   },
   {
    "duration": 11,
    "start_time": "2022-09-27T09:36:03.324Z"
   },
   {
    "duration": 8,
    "start_time": "2022-09-27T09:36:03.336Z"
   },
   {
    "duration": 6,
    "start_time": "2022-09-27T09:36:03.345Z"
   },
   {
    "duration": 112,
    "start_time": "2022-09-27T09:36:15.798Z"
   },
   {
    "duration": 4,
    "start_time": "2022-09-27T09:36:57.170Z"
   },
   {
    "duration": 8,
    "start_time": "2022-09-27T09:37:03.103Z"
   },
   {
    "duration": 4,
    "start_time": "2022-09-27T09:37:59.599Z"
   },
   {
    "duration": 15,
    "start_time": "2022-09-27T09:38:00.243Z"
   },
   {
    "duration": 1567,
    "start_time": "2022-09-27T16:35:42.896Z"
   },
   {
    "duration": 367,
    "start_time": "2022-09-27T16:35:44.465Z"
   },
   {
    "duration": 14,
    "start_time": "2022-09-27T16:35:44.834Z"
   },
   {
    "duration": 12,
    "start_time": "2022-09-27T16:35:44.850Z"
   },
   {
    "duration": 9,
    "start_time": "2022-09-27T16:35:44.864Z"
   },
   {
    "duration": 9,
    "start_time": "2022-09-27T16:35:44.875Z"
   },
   {
    "duration": 4,
    "start_time": "2022-09-27T16:35:44.885Z"
   },
   {
    "duration": 26,
    "start_time": "2022-09-27T16:35:44.890Z"
   },
   {
    "duration": 16,
    "start_time": "2022-09-27T16:35:44.917Z"
   },
   {
    "duration": 15,
    "start_time": "2022-09-27T16:35:44.935Z"
   },
   {
    "duration": 16,
    "start_time": "2022-09-27T16:35:44.951Z"
   },
   {
    "duration": 14,
    "start_time": "2022-09-27T16:35:44.968Z"
   },
   {
    "duration": 6,
    "start_time": "2022-09-27T16:35:44.983Z"
   },
   {
    "duration": 19,
    "start_time": "2022-09-27T16:35:44.991Z"
   },
   {
    "duration": 197,
    "start_time": "2022-09-27T16:35:45.012Z"
   },
   {
    "duration": 8,
    "start_time": "2022-09-27T16:35:45.211Z"
   },
   {
    "duration": 17,
    "start_time": "2022-09-27T16:35:45.234Z"
   },
   {
    "duration": 405,
    "start_time": "2022-09-27T16:35:45.253Z"
   },
   {
    "duration": 4,
    "start_time": "2022-09-27T16:35:45.660Z"
   },
   {
    "duration": 14,
    "start_time": "2022-09-27T16:35:45.665Z"
   },
   {
    "duration": 13,
    "start_time": "2022-09-27T16:35:45.681Z"
   },
   {
    "duration": 699,
    "start_time": "2022-09-27T16:35:45.695Z"
   },
   {
    "duration": 8,
    "start_time": "2022-09-27T16:35:46.396Z"
   },
   {
    "duration": 28,
    "start_time": "2022-09-27T16:35:46.406Z"
   },
   {
    "duration": 5,
    "start_time": "2022-09-27T16:35:46.435Z"
   },
   {
    "duration": 34,
    "start_time": "2022-09-27T16:35:46.442Z"
   },
   {
    "duration": 17,
    "start_time": "2022-09-27T16:35:46.477Z"
   },
   {
    "duration": 18,
    "start_time": "2022-09-27T16:35:46.496Z"
   },
   {
    "duration": 29,
    "start_time": "2022-09-27T16:35:46.515Z"
   },
   {
    "duration": 11,
    "start_time": "2022-09-27T16:35:46.546Z"
   },
   {
    "duration": 6,
    "start_time": "2022-09-27T16:35:46.559Z"
   },
   {
    "duration": 11,
    "start_time": "2022-09-27T16:35:46.567Z"
   },
   {
    "duration": 14,
    "start_time": "2022-09-27T16:35:46.580Z"
   },
   {
    "duration": 16,
    "start_time": "2022-09-27T16:35:46.596Z"
   },
   {
    "duration": 7,
    "start_time": "2022-09-27T16:35:46.613Z"
   },
   {
    "duration": 13,
    "start_time": "2022-09-27T16:35:46.621Z"
   },
   {
    "duration": 30,
    "start_time": "2022-09-27T16:35:46.635Z"
   },
   {
    "duration": 12,
    "start_time": "2022-09-27T16:35:46.666Z"
   },
   {
    "duration": 12,
    "start_time": "2022-09-27T16:35:46.680Z"
   },
   {
    "duration": 18,
    "start_time": "2022-09-27T16:35:46.694Z"
   },
   {
    "duration": 4,
    "start_time": "2022-09-27T16:35:46.734Z"
   },
   {
    "duration": 6,
    "start_time": "2022-09-27T16:35:46.740Z"
   },
   {
    "duration": 2595,
    "start_time": "2022-09-27T16:35:46.747Z"
   },
   {
    "duration": 2390,
    "start_time": "2022-09-27T16:35:49.344Z"
   },
   {
    "duration": 4,
    "start_time": "2022-09-27T16:35:51.736Z"
   },
   {
    "duration": 167,
    "start_time": "2022-09-27T16:35:51.742Z"
   },
   {
    "duration": 30,
    "start_time": "2022-09-27T16:35:51.911Z"
   },
   {
    "duration": 12,
    "start_time": "2022-09-27T16:35:51.942Z"
   },
   {
    "duration": 4,
    "start_time": "2022-09-27T16:35:51.956Z"
   },
   {
    "duration": 7,
    "start_time": "2022-09-27T16:35:51.961Z"
   },
   {
    "duration": 6,
    "start_time": "2022-09-27T16:35:51.970Z"
   },
   {
    "duration": 5,
    "start_time": "2022-09-27T16:35:51.978Z"
   },
   {
    "duration": 6,
    "start_time": "2022-09-27T16:35:51.984Z"
   },
   {
    "duration": 43,
    "start_time": "2022-09-27T16:35:51.991Z"
   },
   {
    "duration": 44701,
    "start_time": "2022-09-27T16:35:52.036Z"
   },
   {
    "duration": 5,
    "start_time": "2022-09-27T16:36:36.739Z"
   },
   {
    "duration": 7,
    "start_time": "2022-09-27T16:47:37.279Z"
   },
   {
    "duration": 4,
    "start_time": "2022-09-27T16:47:38.502Z"
   },
   {
    "duration": 3,
    "start_time": "2022-09-27T16:47:50.944Z"
   },
   {
    "duration": 3,
    "start_time": "2022-09-27T16:47:51.263Z"
   },
   {
    "duration": 3,
    "start_time": "2022-09-27T16:47:51.583Z"
   },
   {
    "duration": 3,
    "start_time": "2022-09-27T16:47:51.903Z"
   },
   {
    "duration": 4,
    "start_time": "2022-09-27T16:47:52.364Z"
   },
   {
    "duration": 43323,
    "start_time": "2022-09-27T16:47:52.821Z"
   },
   {
    "duration": 4,
    "start_time": "2022-09-27T16:48:36.146Z"
   },
   {
    "duration": 5,
    "start_time": "2022-09-27T16:49:46.735Z"
   },
   {
    "duration": 17,
    "start_time": "2022-09-27T16:49:51.669Z"
   },
   {
    "duration": 7,
    "start_time": "2022-09-27T16:50:20.744Z"
   },
   {
    "duration": 42036,
    "start_time": "2022-09-27T16:51:36.609Z"
   },
   {
    "duration": 15,
    "start_time": "2022-09-27T16:52:20.718Z"
   },
   {
    "duration": 5,
    "start_time": "2022-09-27T16:52:35.914Z"
   },
   {
    "duration": 8,
    "start_time": "2022-09-27T16:53:12.301Z"
   },
   {
    "duration": 40997,
    "start_time": "2022-09-27T16:53:12.844Z"
   },
   {
    "duration": 4,
    "start_time": "2022-09-27T16:53:53.843Z"
   },
   {
    "duration": 8,
    "start_time": "2022-09-27T16:57:27.951Z"
   },
   {
    "duration": 21,
    "start_time": "2022-09-27T17:13:48.522Z"
   },
   {
    "duration": 3,
    "start_time": "2022-09-27T17:13:59.071Z"
   },
   {
    "duration": 5,
    "start_time": "2022-09-27T17:15:39.421Z"
   },
   {
    "duration": 6,
    "start_time": "2022-09-27T17:21:13.180Z"
   },
   {
    "duration": 4,
    "start_time": "2022-09-27T17:23:48.183Z"
   },
   {
    "duration": 1376,
    "start_time": "2022-09-27T17:26:07.029Z"
   },
   {
    "duration": 102,
    "start_time": "2022-09-27T17:26:08.407Z"
   },
   {
    "duration": 13,
    "start_time": "2022-09-27T17:26:08.510Z"
   },
   {
    "duration": 12,
    "start_time": "2022-09-27T17:26:08.524Z"
   },
   {
    "duration": 15,
    "start_time": "2022-09-27T17:26:08.537Z"
   },
   {
    "duration": 13,
    "start_time": "2022-09-27T17:26:08.554Z"
   },
   {
    "duration": 11,
    "start_time": "2022-09-27T17:26:08.569Z"
   },
   {
    "duration": 18,
    "start_time": "2022-09-27T17:26:08.582Z"
   },
   {
    "duration": 5,
    "start_time": "2022-09-27T17:26:08.602Z"
   },
   {
    "duration": 6,
    "start_time": "2022-09-27T17:26:08.608Z"
   },
   {
    "duration": 14,
    "start_time": "2022-09-27T17:26:08.616Z"
   },
   {
    "duration": 11,
    "start_time": "2022-09-27T17:26:08.631Z"
   },
   {
    "duration": 5,
    "start_time": "2022-09-27T17:26:08.644Z"
   },
   {
    "duration": 14,
    "start_time": "2022-09-27T17:26:08.651Z"
   },
   {
    "duration": 210,
    "start_time": "2022-09-27T17:26:08.666Z"
   },
   {
    "duration": 8,
    "start_time": "2022-09-27T17:26:08.878Z"
   },
   {
    "duration": 16,
    "start_time": "2022-09-27T17:26:08.888Z"
   },
   {
    "duration": 393,
    "start_time": "2022-09-27T17:26:08.906Z"
   },
   {
    "duration": 4,
    "start_time": "2022-09-27T17:26:09.301Z"
   },
   {
    "duration": 13,
    "start_time": "2022-09-27T17:26:09.306Z"
   },
   {
    "duration": 21,
    "start_time": "2022-09-27T17:26:09.321Z"
   },
   {
    "duration": 655,
    "start_time": "2022-09-27T17:26:09.344Z"
   },
   {
    "duration": 7,
    "start_time": "2022-09-27T17:26:10.001Z"
   },
   {
    "duration": 16,
    "start_time": "2022-09-27T17:26:10.010Z"
   },
   {
    "duration": 5,
    "start_time": "2022-09-27T17:26:10.034Z"
   },
   {
    "duration": 29,
    "start_time": "2022-09-27T17:26:10.040Z"
   },
   {
    "duration": 17,
    "start_time": "2022-09-27T17:26:10.071Z"
   },
   {
    "duration": 20,
    "start_time": "2022-09-27T17:26:10.090Z"
   },
   {
    "duration": 26,
    "start_time": "2022-09-27T17:26:10.112Z"
   },
   {
    "duration": 12,
    "start_time": "2022-09-27T17:26:10.140Z"
   },
   {
    "duration": 10,
    "start_time": "2022-09-27T17:26:10.154Z"
   },
   {
    "duration": 8,
    "start_time": "2022-09-27T17:26:10.166Z"
   },
   {
    "duration": 16,
    "start_time": "2022-09-27T17:26:10.175Z"
   },
   {
    "duration": 5,
    "start_time": "2022-09-27T17:26:10.193Z"
   },
   {
    "duration": 8,
    "start_time": "2022-09-27T17:26:10.199Z"
   },
   {
    "duration": 16,
    "start_time": "2022-09-27T17:26:10.209Z"
   },
   {
    "duration": 45,
    "start_time": "2022-09-27T17:26:10.226Z"
   },
   {
    "duration": 12,
    "start_time": "2022-09-27T17:26:10.273Z"
   },
   {
    "duration": 10,
    "start_time": "2022-09-27T17:26:10.287Z"
   },
   {
    "duration": 26,
    "start_time": "2022-09-27T17:26:10.298Z"
   },
   {
    "duration": 3,
    "start_time": "2022-09-27T17:26:10.333Z"
   },
   {
    "duration": 5,
    "start_time": "2022-09-27T17:26:10.338Z"
   },
   {
    "duration": 2190,
    "start_time": "2022-09-27T17:26:10.344Z"
   },
   {
    "duration": 2100,
    "start_time": "2022-09-27T17:26:12.535Z"
   },
   {
    "duration": 96,
    "start_time": "2022-09-27T17:26:14.637Z"
   },
   {
    "duration": 142,
    "start_time": "2022-09-27T17:26:14.734Z"
   },
   {
    "duration": 8,
    "start_time": "2022-09-27T17:26:14.877Z"
   },
   {
    "duration": 5,
    "start_time": "2022-09-27T17:26:14.887Z"
   },
   {
    "duration": 2,
    "start_time": "2022-09-27T17:26:19.469Z"
   },
   {
    "duration": 8,
    "start_time": "2022-09-27T17:26:19.805Z"
   },
   {
    "duration": 3,
    "start_time": "2022-09-27T17:26:20.133Z"
   },
   {
    "duration": 115,
    "start_time": "2022-09-27T17:26:20.863Z"
   },
   {
    "duration": 943780,
    "start_time": "2022-09-27T17:26:44.445Z"
   },
   {
    "duration": 3,
    "start_time": "2022-09-27T17:42:28.227Z"
   },
   {
    "duration": 3,
    "start_time": "2022-09-27T17:46:16.775Z"
   },
   {
    "duration": 474,
    "start_time": "2022-09-27T17:46:27.556Z"
   },
   {
    "duration": 3,
    "start_time": "2022-09-27T17:46:47.919Z"
   },
   {
    "duration": 494,
    "start_time": "2022-09-27T17:46:48.346Z"
   },
   {
    "duration": 3,
    "start_time": "2022-09-27T17:46:53.699Z"
   },
   {
    "duration": 721,
    "start_time": "2022-09-27T17:46:54.177Z"
   },
   {
    "duration": 5,
    "start_time": "2022-09-27T17:47:18.658Z"
   },
   {
    "duration": 5,
    "start_time": "2022-09-27T17:47:33.059Z"
   },
   {
    "duration": 6,
    "start_time": "2022-09-27T17:51:41.231Z"
   },
   {
    "duration": 9,
    "start_time": "2022-09-27T17:52:12.540Z"
   },
   {
    "duration": 5,
    "start_time": "2022-09-27T17:52:17.042Z"
   },
   {
    "duration": 22,
    "start_time": "2022-09-27T17:52:36.252Z"
   },
   {
    "duration": 4,
    "start_time": "2022-09-27T17:53:27.966Z"
   },
   {
    "duration": 7,
    "start_time": "2022-09-27T17:53:49.441Z"
   },
   {
    "duration": 23,
    "start_time": "2022-09-27T17:53:53.318Z"
   },
   {
    "duration": 17,
    "start_time": "2022-09-27T17:54:20.101Z"
   },
   {
    "duration": 1332,
    "start_time": "2022-09-27T17:54:37.075Z"
   },
   {
    "duration": 103,
    "start_time": "2022-09-27T17:54:38.409Z"
   },
   {
    "duration": 13,
    "start_time": "2022-09-27T17:54:38.514Z"
   },
   {
    "duration": 12,
    "start_time": "2022-09-27T17:54:38.529Z"
   },
   {
    "duration": 5,
    "start_time": "2022-09-27T17:54:38.542Z"
   },
   {
    "duration": 12,
    "start_time": "2022-09-27T17:54:38.549Z"
   },
   {
    "duration": 2,
    "start_time": "2022-09-27T17:54:38.562Z"
   },
   {
    "duration": 12,
    "start_time": "2022-09-27T17:54:38.566Z"
   },
   {
    "duration": 6,
    "start_time": "2022-09-27T17:54:38.580Z"
   },
   {
    "duration": 6,
    "start_time": "2022-09-27T17:54:38.588Z"
   },
   {
    "duration": 14,
    "start_time": "2022-09-27T17:54:38.595Z"
   },
   {
    "duration": 10,
    "start_time": "2022-09-27T17:54:38.633Z"
   },
   {
    "duration": 6,
    "start_time": "2022-09-27T17:54:38.644Z"
   },
   {
    "duration": 20,
    "start_time": "2022-09-27T17:54:38.651Z"
   },
   {
    "duration": 218,
    "start_time": "2022-09-27T17:54:38.672Z"
   },
   {
    "duration": 8,
    "start_time": "2022-09-27T17:54:38.892Z"
   },
   {
    "duration": 13,
    "start_time": "2022-09-27T17:54:38.901Z"
   },
   {
    "duration": 396,
    "start_time": "2022-09-27T17:54:38.915Z"
   },
   {
    "duration": 4,
    "start_time": "2022-09-27T17:54:39.312Z"
   },
   {
    "duration": 22,
    "start_time": "2022-09-27T17:54:39.318Z"
   },
   {
    "duration": 13,
    "start_time": "2022-09-27T17:54:39.342Z"
   },
   {
    "duration": 679,
    "start_time": "2022-09-27T17:54:39.357Z"
   },
   {
    "duration": 7,
    "start_time": "2022-09-27T17:54:40.037Z"
   },
   {
    "duration": 16,
    "start_time": "2022-09-27T17:54:40.045Z"
   },
   {
    "duration": 8,
    "start_time": "2022-09-27T17:54:40.062Z"
   },
   {
    "duration": 28,
    "start_time": "2022-09-27T17:54:40.072Z"
   },
   {
    "duration": 17,
    "start_time": "2022-09-27T17:54:40.101Z"
   },
   {
    "duration": 15,
    "start_time": "2022-09-27T17:54:40.122Z"
   },
   {
    "duration": 11,
    "start_time": "2022-09-27T17:54:40.138Z"
   },
   {
    "duration": 11,
    "start_time": "2022-09-27T17:54:40.150Z"
   },
   {
    "duration": 11,
    "start_time": "2022-09-27T17:54:40.162Z"
   },
   {
    "duration": 12,
    "start_time": "2022-09-27T17:54:40.174Z"
   },
   {
    "duration": 10,
    "start_time": "2022-09-27T17:54:40.187Z"
   },
   {
    "duration": 5,
    "start_time": "2022-09-27T17:54:40.199Z"
   },
   {
    "duration": 5,
    "start_time": "2022-09-27T17:54:40.205Z"
   },
   {
    "duration": 5,
    "start_time": "2022-09-27T17:54:40.211Z"
   },
   {
    "duration": 37,
    "start_time": "2022-09-27T17:54:40.217Z"
   },
   {
    "duration": 10,
    "start_time": "2022-09-27T17:54:40.256Z"
   },
   {
    "duration": 6,
    "start_time": "2022-09-27T17:54:40.268Z"
   },
   {
    "duration": 16,
    "start_time": "2022-09-27T17:54:40.275Z"
   },
   {
    "duration": 7,
    "start_time": "2022-09-27T17:54:40.293Z"
   },
   {
    "duration": 16,
    "start_time": "2022-09-27T17:54:40.301Z"
   },
   {
    "duration": 2623,
    "start_time": "2022-09-27T17:54:40.319Z"
   },
   {
    "duration": 2094,
    "start_time": "2022-09-27T17:54:42.944Z"
   },
   {
    "duration": 4,
    "start_time": "2022-09-27T17:54:45.133Z"
   },
   {
    "duration": 146,
    "start_time": "2022-09-27T17:54:45.138Z"
   },
   {
    "duration": 8,
    "start_time": "2022-09-27T17:54:45.285Z"
   },
   {
    "duration": 31,
    "start_time": "2022-09-27T17:54:45.294Z"
   },
   {
    "duration": 6,
    "start_time": "2022-09-27T17:54:56.954Z"
   },
   {
    "duration": 4,
    "start_time": "2022-09-27T17:54:57.376Z"
   },
   {
    "duration": 8,
    "start_time": "2022-09-27T17:54:57.922Z"
   },
   {
    "duration": 121,
    "start_time": "2022-09-27T17:54:58.496Z"
   },
   {
    "duration": 17,
    "start_time": "2022-09-27T17:56:41.401Z"
   },
   {
    "duration": 17,
    "start_time": "2022-09-27T17:57:22.712Z"
   },
   {
    "duration": 1447,
    "start_time": "2022-09-27T17:57:35.128Z"
   },
   {
    "duration": 102,
    "start_time": "2022-09-27T17:57:36.577Z"
   },
   {
    "duration": 14,
    "start_time": "2022-09-27T17:57:36.681Z"
   },
   {
    "duration": 12,
    "start_time": "2022-09-27T17:57:36.697Z"
   },
   {
    "duration": 5,
    "start_time": "2022-09-27T17:57:36.711Z"
   },
   {
    "duration": 11,
    "start_time": "2022-09-27T17:57:36.717Z"
   },
   {
    "duration": 3,
    "start_time": "2022-09-27T17:57:36.730Z"
   },
   {
    "duration": 18,
    "start_time": "2022-09-27T17:57:36.734Z"
   },
   {
    "duration": 6,
    "start_time": "2022-09-27T17:57:36.753Z"
   },
   {
    "duration": 7,
    "start_time": "2022-09-27T17:57:36.762Z"
   },
   {
    "duration": 16,
    "start_time": "2022-09-27T17:57:36.770Z"
   },
   {
    "duration": 11,
    "start_time": "2022-09-27T17:57:36.788Z"
   },
   {
    "duration": 6,
    "start_time": "2022-09-27T17:57:36.801Z"
   },
   {
    "duration": 36,
    "start_time": "2022-09-27T17:57:36.808Z"
   },
   {
    "duration": 187,
    "start_time": "2022-09-27T17:57:36.846Z"
   },
   {
    "duration": 9,
    "start_time": "2022-09-27T17:57:37.035Z"
   },
   {
    "duration": 22,
    "start_time": "2022-09-27T17:57:37.046Z"
   },
   {
    "duration": 378,
    "start_time": "2022-09-27T17:57:37.070Z"
   },
   {
    "duration": 3,
    "start_time": "2022-09-27T17:57:37.450Z"
   },
   {
    "duration": 12,
    "start_time": "2022-09-27T17:57:37.455Z"
   },
   {
    "duration": 12,
    "start_time": "2022-09-27T17:57:37.469Z"
   },
   {
    "duration": 647,
    "start_time": "2022-09-27T17:57:37.482Z"
   },
   {
    "duration": 8,
    "start_time": "2022-09-27T17:57:38.131Z"
   },
   {
    "duration": 16,
    "start_time": "2022-09-27T17:57:38.141Z"
   },
   {
    "duration": 12,
    "start_time": "2022-09-27T17:57:38.159Z"
   },
   {
    "duration": 32,
    "start_time": "2022-09-27T17:57:38.172Z"
   },
   {
    "duration": 31,
    "start_time": "2022-09-27T17:57:38.206Z"
   },
   {
    "duration": 16,
    "start_time": "2022-09-27T17:57:38.241Z"
   },
   {
    "duration": 12,
    "start_time": "2022-09-27T17:57:38.258Z"
   },
   {
    "duration": 10,
    "start_time": "2022-09-27T17:57:38.271Z"
   },
   {
    "duration": 6,
    "start_time": "2022-09-27T17:57:38.282Z"
   },
   {
    "duration": 8,
    "start_time": "2022-09-27T17:57:38.290Z"
   },
   {
    "duration": 8,
    "start_time": "2022-09-27T17:57:38.300Z"
   },
   {
    "duration": 5,
    "start_time": "2022-09-27T17:57:38.334Z"
   },
   {
    "duration": 4,
    "start_time": "2022-09-27T17:57:38.341Z"
   },
   {
    "duration": 9,
    "start_time": "2022-09-27T17:57:38.347Z"
   },
   {
    "duration": 36,
    "start_time": "2022-09-27T17:57:38.357Z"
   },
   {
    "duration": 12,
    "start_time": "2022-09-27T17:57:38.395Z"
   },
   {
    "duration": 25,
    "start_time": "2022-09-27T17:57:38.408Z"
   },
   {
    "duration": 15,
    "start_time": "2022-09-27T17:57:38.435Z"
   },
   {
    "duration": 8,
    "start_time": "2022-09-27T17:57:38.451Z"
   },
   {
    "duration": 6,
    "start_time": "2022-09-27T17:57:38.460Z"
   },
   {
    "duration": 2177,
    "start_time": "2022-09-27T17:57:38.468Z"
   },
   {
    "duration": 2098,
    "start_time": "2022-09-27T17:57:40.734Z"
   },
   {
    "duration": 6,
    "start_time": "2022-09-27T17:57:42.834Z"
   },
   {
    "duration": 150,
    "start_time": "2022-09-27T17:57:42.841Z"
   },
   {
    "duration": 8,
    "start_time": "2022-09-27T17:57:42.993Z"
   },
   {
    "duration": 5,
    "start_time": "2022-09-27T17:57:43.002Z"
   },
   {
    "duration": 6,
    "start_time": "2022-09-27T17:57:48.226Z"
   },
   {
    "duration": 4,
    "start_time": "2022-09-27T17:58:02.884Z"
   },
   {
    "duration": 9,
    "start_time": "2022-09-27T17:58:03.252Z"
   },
   {
    "duration": 121,
    "start_time": "2022-09-27T17:58:04.228Z"
   },
   {
    "duration": 1823,
    "start_time": "2022-09-28T16:13:51.524Z"
   },
   {
    "duration": 340,
    "start_time": "2022-09-28T16:13:53.349Z"
   },
   {
    "duration": 23,
    "start_time": "2022-09-28T16:13:53.692Z"
   },
   {
    "duration": 16,
    "start_time": "2022-09-28T16:13:53.717Z"
   },
   {
    "duration": 9,
    "start_time": "2022-09-28T16:13:53.735Z"
   },
   {
    "duration": 7,
    "start_time": "2022-09-28T16:13:53.746Z"
   },
   {
    "duration": 3,
    "start_time": "2022-09-28T16:13:53.754Z"
   },
   {
    "duration": 55,
    "start_time": "2022-09-28T16:13:53.758Z"
   },
   {
    "duration": 13,
    "start_time": "2022-09-28T16:13:53.815Z"
   },
   {
    "duration": 18,
    "start_time": "2022-09-28T16:13:53.831Z"
   },
   {
    "duration": 22,
    "start_time": "2022-09-28T16:13:53.851Z"
   },
   {
    "duration": 17,
    "start_time": "2022-09-28T16:13:53.875Z"
   },
   {
    "duration": 8,
    "start_time": "2022-09-28T16:13:53.894Z"
   },
   {
    "duration": 22,
    "start_time": "2022-09-28T16:13:53.906Z"
   },
   {
    "duration": 260,
    "start_time": "2022-09-28T16:13:53.930Z"
   },
   {
    "duration": 10,
    "start_time": "2022-09-28T16:13:54.192Z"
   },
   {
    "duration": 22,
    "start_time": "2022-09-28T16:13:54.204Z"
   },
   {
    "duration": 469,
    "start_time": "2022-09-28T16:13:54.228Z"
   },
   {
    "duration": 5,
    "start_time": "2022-09-28T16:13:54.699Z"
   },
   {
    "duration": 17,
    "start_time": "2022-09-28T16:13:54.706Z"
   },
   {
    "duration": 17,
    "start_time": "2022-09-28T16:13:54.725Z"
   },
   {
    "duration": 782,
    "start_time": "2022-09-28T16:13:54.744Z"
   },
   {
    "duration": 8,
    "start_time": "2022-09-28T16:13:55.528Z"
   },
   {
    "duration": 12,
    "start_time": "2022-09-28T16:13:55.538Z"
   },
   {
    "duration": 8,
    "start_time": "2022-09-28T16:13:55.552Z"
   },
   {
    "duration": 54,
    "start_time": "2022-09-28T16:13:55.561Z"
   },
   {
    "duration": 20,
    "start_time": "2022-09-28T16:13:55.617Z"
   },
   {
    "duration": 17,
    "start_time": "2022-09-28T16:13:55.639Z"
   },
   {
    "duration": 35,
    "start_time": "2022-09-28T16:13:55.658Z"
   },
   {
    "duration": 12,
    "start_time": "2022-09-28T16:13:55.695Z"
   },
   {
    "duration": 6,
    "start_time": "2022-09-28T16:13:55.710Z"
   },
   {
    "duration": 8,
    "start_time": "2022-09-28T16:13:55.718Z"
   },
   {
    "duration": 10,
    "start_time": "2022-09-28T16:13:55.728Z"
   },
   {
    "duration": 12,
    "start_time": "2022-09-28T16:13:55.740Z"
   },
   {
    "duration": 4,
    "start_time": "2022-09-28T16:13:55.753Z"
   },
   {
    "duration": 30,
    "start_time": "2022-09-28T16:13:55.759Z"
   },
   {
    "duration": 44,
    "start_time": "2022-09-28T16:13:55.791Z"
   },
   {
    "duration": 14,
    "start_time": "2022-09-28T16:13:55.836Z"
   },
   {
    "duration": 7,
    "start_time": "2022-09-28T16:13:55.852Z"
   },
   {
    "duration": 45,
    "start_time": "2022-09-28T16:13:55.860Z"
   },
   {
    "duration": 6,
    "start_time": "2022-09-28T16:13:55.911Z"
   },
   {
    "duration": 6,
    "start_time": "2022-09-28T16:13:55.919Z"
   },
   {
    "duration": 3963,
    "start_time": "2022-09-28T16:13:55.927Z"
   },
   {
    "duration": 3297,
    "start_time": "2022-09-28T16:13:59.892Z"
   },
   {
    "duration": 5,
    "start_time": "2022-09-28T16:14:03.193Z"
   },
   {
    "duration": 261,
    "start_time": "2022-09-28T16:14:03.200Z"
   },
   {
    "duration": 9,
    "start_time": "2022-09-28T16:14:03.462Z"
   },
   {
    "duration": 25,
    "start_time": "2022-09-28T16:14:03.473Z"
   },
   {
    "duration": 7,
    "start_time": "2022-09-28T16:14:03.500Z"
   },
   {
    "duration": 15,
    "start_time": "2022-09-28T16:14:03.509Z"
   },
   {
    "duration": 9,
    "start_time": "2022-09-28T16:14:03.527Z"
   },
   {
    "duration": 7,
    "start_time": "2022-09-28T16:14:03.538Z"
   },
   {
    "duration": 6,
    "start_time": "2022-09-28T16:14:03.547Z"
   },
   {
    "duration": 37045,
    "start_time": "2022-09-28T16:14:03.554Z"
   },
   {
    "duration": 5,
    "start_time": "2022-09-28T16:14:40.600Z"
   },
   {
    "duration": 6,
    "start_time": "2022-09-28T16:14:40.606Z"
   },
   {
    "duration": 13,
    "start_time": "2022-09-28T16:14:40.614Z"
   },
   {
    "duration": 11,
    "start_time": "2022-09-28T16:14:40.629Z"
   },
   {
    "duration": 33448,
    "start_time": "2022-09-28T16:14:40.642Z"
   },
   {
    "duration": 6,
    "start_time": "2022-09-28T16:15:14.092Z"
   },
   {
    "duration": 24,
    "start_time": "2022-09-28T16:15:14.100Z"
   },
   {
    "duration": 37,
    "start_time": "2022-09-28T16:15:14.127Z"
   },
   {
    "duration": 26,
    "start_time": "2022-09-28T16:15:14.166Z"
   },
   {
    "duration": 18,
    "start_time": "2022-09-28T16:15:14.195Z"
   },
   {
    "duration": 1,
    "start_time": "2022-09-28T16:21:05.354Z"
   },
   {
    "duration": 0,
    "start_time": "2022-09-28T16:21:05.356Z"
   },
   {
    "duration": 0,
    "start_time": "2022-09-28T16:21:05.357Z"
   },
   {
    "duration": 4,
    "start_time": "2022-09-28T16:21:08.408Z"
   },
   {
    "duration": 3944360,
    "start_time": "2022-09-28T16:21:08.862Z"
   },
   {
    "duration": 4,
    "start_time": "2022-09-28T17:26:53.224Z"
   },
   {
    "duration": 12,
    "start_time": "2022-09-28T17:26:53.230Z"
   },
   {
    "duration": 3,
    "start_time": "2022-09-28T17:26:53.244Z"
   },
   {
    "duration": 7,
    "start_time": "2022-09-28T17:26:53.249Z"
   },
   {
    "duration": 20,
    "start_time": "2022-09-28T17:28:43.787Z"
   },
   {
    "duration": 10314,
    "start_time": "2022-09-28T17:28:56.742Z"
   },
   {
    "duration": 4,
    "start_time": "2022-09-28T17:29:07.058Z"
   },
   {
    "duration": 3,
    "start_time": "2022-09-28T17:31:26.349Z"
   },
   {
    "duration": 4476503,
    "start_time": "2022-09-28T17:31:26.652Z"
   },
   {
    "duration": 4,
    "start_time": "2022-09-28T18:46:03.158Z"
   },
   {
    "duration": 19,
    "start_time": "2022-09-28T18:46:03.163Z"
   },
   {
    "duration": 3,
    "start_time": "2022-09-28T18:46:03.184Z"
   },
   {
    "duration": 11,
    "start_time": "2022-09-28T18:46:03.196Z"
   },
   {
    "duration": 18954,
    "start_time": "2022-09-28T18:46:03.208Z"
   },
   {
    "duration": 6,
    "start_time": "2022-09-28T18:49:27.206Z"
   },
   {
    "duration": 4,
    "start_time": "2022-09-28T18:52:58.668Z"
   },
   {
    "duration": 4,
    "start_time": "2022-09-28T18:56:33.737Z"
   },
   {
    "duration": 5,
    "start_time": "2022-09-28T18:57:16.414Z"
   },
   {
    "duration": 4,
    "start_time": "2022-09-28T18:57:50.406Z"
   },
   {
    "duration": 754,
    "start_time": "2022-09-28T19:01:30.727Z"
   },
   {
    "duration": 2280,
    "start_time": "2022-09-28T19:01:42.684Z"
   },
   {
    "duration": 2741,
    "start_time": "2022-09-28T19:01:53.009Z"
   },
   {
    "duration": 161425,
    "start_time": "2022-09-28T19:02:00.408Z"
   },
   {
    "duration": 18,
    "start_time": "2022-09-28T19:04:41.835Z"
   },
   {
    "duration": 2193,
    "start_time": "2022-09-28T19:05:19.052Z"
   },
   {
    "duration": 8,
    "start_time": "2022-09-28T19:05:21.246Z"
   },
   {
    "duration": 784,
    "start_time": "2022-09-28T19:05:48.055Z"
   },
   {
    "duration": 8,
    "start_time": "2022-09-28T19:05:48.841Z"
   },
   {
    "duration": 322,
    "start_time": "2022-09-28T19:07:14.483Z"
   },
   {
    "duration": 62,
    "start_time": "2022-09-28T19:07:36.608Z"
   },
   {
    "duration": 89,
    "start_time": "2022-09-28T19:09:19.399Z"
   },
   {
    "duration": 11,
    "start_time": "2022-09-28T19:09:31.437Z"
   },
   {
    "duration": 24,
    "start_time": "2022-09-28T19:10:02.282Z"
   },
   {
    "duration": 9,
    "start_time": "2022-09-28T19:10:11.108Z"
   },
   {
    "duration": 10,
    "start_time": "2022-09-28T19:18:29.808Z"
   },
   {
    "duration": 9,
    "start_time": "2022-09-28T19:18:37.302Z"
   },
   {
    "duration": 26,
    "start_time": "2022-09-28T19:23:04.250Z"
   },
   {
    "duration": 35,
    "start_time": "2022-09-28T19:23:39.523Z"
   },
   {
    "duration": 7,
    "start_time": "2022-09-28T19:23:50.901Z"
   },
   {
    "duration": 18,
    "start_time": "2022-09-28T19:23:58.356Z"
   },
   {
    "duration": 17,
    "start_time": "2022-09-28T19:24:30.830Z"
   },
   {
    "duration": 18,
    "start_time": "2022-09-28T19:24:36.066Z"
   },
   {
    "duration": 21,
    "start_time": "2022-09-28T19:24:43.802Z"
   },
   {
    "duration": 15,
    "start_time": "2022-09-28T19:24:47.952Z"
   },
   {
    "duration": 7,
    "start_time": "2022-09-28T19:25:27.715Z"
   },
   {
    "duration": 7,
    "start_time": "2022-09-28T19:25:30.716Z"
   },
   {
    "duration": 7,
    "start_time": "2022-09-28T19:25:33.874Z"
   },
   {
    "duration": 9,
    "start_time": "2022-09-28T19:25:36.695Z"
   },
   {
    "duration": 12,
    "start_time": "2022-09-28T19:25:41.385Z"
   },
   {
    "duration": 9,
    "start_time": "2022-09-28T19:25:45.143Z"
   },
   {
    "duration": 10,
    "start_time": "2022-09-28T19:25:49.374Z"
   },
   {
    "duration": 9,
    "start_time": "2022-09-28T19:25:52.328Z"
   },
   {
    "duration": 7,
    "start_time": "2022-09-28T19:25:56.364Z"
   },
   {
    "duration": 17,
    "start_time": "2022-09-28T19:26:23.406Z"
   },
   {
    "duration": 18,
    "start_time": "2022-09-28T19:26:43.114Z"
   },
   {
    "duration": 7,
    "start_time": "2022-09-28T19:26:48.721Z"
   },
   {
    "duration": 10,
    "start_time": "2022-09-28T19:29:29.530Z"
   },
   {
    "duration": 120,
    "start_time": "2022-09-28T19:29:43.779Z"
   },
   {
    "duration": 327,
    "start_time": "2022-09-28T19:31:38.649Z"
   },
   {
    "duration": 254,
    "start_time": "2022-09-28T19:31:53.774Z"
   },
   {
    "duration": 294,
    "start_time": "2022-09-28T19:32:13.408Z"
   },
   {
    "duration": 283,
    "start_time": "2022-09-28T19:33:25.239Z"
   },
   {
    "duration": 291,
    "start_time": "2022-09-28T19:33:30.967Z"
   },
   {
    "duration": 148,
    "start_time": "2022-09-28T19:33:56.816Z"
   },
   {
    "duration": 162,
    "start_time": "2022-09-28T19:34:03.141Z"
   },
   {
    "duration": 149,
    "start_time": "2022-09-28T19:34:17.299Z"
   },
   {
    "duration": 154,
    "start_time": "2022-09-28T19:34:24.900Z"
   },
   {
    "duration": 14,
    "start_time": "2022-09-28T19:35:46.454Z"
   },
   {
    "duration": 279,
    "start_time": "2022-09-28T19:35:56.087Z"
   },
   {
    "duration": 277,
    "start_time": "2022-09-28T19:36:39.243Z"
   },
   {
    "duration": 355,
    "start_time": "2022-09-28T19:36:45.717Z"
   },
   {
    "duration": 133,
    "start_time": "2022-09-28T19:36:59.323Z"
   },
   {
    "duration": 125,
    "start_time": "2022-09-28T19:37:41.129Z"
   },
   {
    "duration": 4,
    "start_time": "2022-09-28T19:39:15.202Z"
   },
   {
    "duration": 12,
    "start_time": "2022-09-28T19:41:35.402Z"
   },
   {
    "duration": 84,
    "start_time": "2022-09-28T19:41:47.150Z"
   },
   {
    "duration": 11,
    "start_time": "2022-09-28T19:42:08.063Z"
   },
   {
    "duration": 28,
    "start_time": "2022-09-28T19:42:51.075Z"
   },
   {
    "duration": 11,
    "start_time": "2022-09-28T19:44:31.129Z"
   },
   {
    "duration": 13,
    "start_time": "2022-09-28T19:44:40.941Z"
   },
   {
    "duration": 4,
    "start_time": "2022-09-28T19:44:52.573Z"
   },
   {
    "duration": 10,
    "start_time": "2022-09-28T19:47:24.856Z"
   },
   {
    "duration": 98,
    "start_time": "2022-09-28T19:47:31.217Z"
   },
   {
    "duration": 3,
    "start_time": "2022-09-28T19:47:36.884Z"
   },
   {
    "duration": 4,
    "start_time": "2022-09-28T19:47:44.073Z"
   },
   {
    "duration": 4,
    "start_time": "2022-09-28T19:47:54.178Z"
   },
   {
    "duration": 5,
    "start_time": "2022-09-28T19:48:36.736Z"
   },
   {
    "duration": 11,
    "start_time": "2022-09-28T19:48:55.505Z"
   },
   {
    "duration": 3,
    "start_time": "2022-09-28T19:49:23.017Z"
   },
   {
    "duration": 20,
    "start_time": "2022-09-28T19:49:23.477Z"
   },
   {
    "duration": 9,
    "start_time": "2022-09-28T19:49:37.090Z"
   },
   {
    "duration": 4,
    "start_time": "2022-09-28T19:49:42.323Z"
   },
   {
    "duration": 15,
    "start_time": "2022-09-28T19:49:51.663Z"
   },
   {
    "duration": 5,
    "start_time": "2022-09-28T19:50:17.043Z"
   },
   {
    "duration": 95,
    "start_time": "2022-09-28T19:52:07.031Z"
   },
   {
    "duration": 54,
    "start_time": "2022-09-29T02:28:11.085Z"
   },
   {
    "duration": 68,
    "start_time": "2022-09-29T02:28:12.586Z"
   },
   {
    "duration": 70,
    "start_time": "2022-09-29T02:28:23.613Z"
   },
   {
    "duration": 66,
    "start_time": "2022-09-29T02:33:23.607Z"
   },
   {
    "duration": 77,
    "start_time": "2022-09-29T02:33:47.768Z"
   },
   {
    "duration": 59,
    "start_time": "2022-09-29T02:34:15.060Z"
   },
   {
    "duration": 1909,
    "start_time": "2022-09-29T02:34:34.108Z"
   },
   {
    "duration": 310,
    "start_time": "2022-09-29T02:34:36.019Z"
   },
   {
    "duration": 15,
    "start_time": "2022-09-29T02:34:36.331Z"
   },
   {
    "duration": 14,
    "start_time": "2022-09-29T02:34:36.347Z"
   },
   {
    "duration": 11,
    "start_time": "2022-09-29T02:34:36.364Z"
   },
   {
    "duration": 7,
    "start_time": "2022-09-29T02:34:36.377Z"
   },
   {
    "duration": 2,
    "start_time": "2022-09-29T02:34:36.386Z"
   },
   {
    "duration": 17,
    "start_time": "2022-09-29T02:34:36.390Z"
   },
   {
    "duration": 8,
    "start_time": "2022-09-29T02:34:36.409Z"
   },
   {
    "duration": 11,
    "start_time": "2022-09-29T02:34:36.419Z"
   },
   {
    "duration": 34,
    "start_time": "2022-09-29T02:34:36.432Z"
   },
   {
    "duration": 13,
    "start_time": "2022-09-29T02:34:36.468Z"
   },
   {
    "duration": 7,
    "start_time": "2022-09-29T02:34:36.483Z"
   },
   {
    "duration": 15,
    "start_time": "2022-09-29T02:34:36.494Z"
   },
   {
    "duration": 280,
    "start_time": "2022-09-29T02:34:36.511Z"
   },
   {
    "duration": 10,
    "start_time": "2022-09-29T02:34:36.793Z"
   },
   {
    "duration": 14,
    "start_time": "2022-09-29T02:34:36.804Z"
   },
   {
    "duration": 419,
    "start_time": "2022-09-29T02:34:36.820Z"
   },
   {
    "duration": 4,
    "start_time": "2022-09-29T02:34:37.241Z"
   },
   {
    "duration": 14,
    "start_time": "2022-09-29T02:34:37.255Z"
   },
   {
    "duration": 16,
    "start_time": "2022-09-29T02:34:37.270Z"
   },
   {
    "duration": 731,
    "start_time": "2022-09-29T02:34:37.288Z"
   },
   {
    "duration": 7,
    "start_time": "2022-09-29T02:34:38.021Z"
   },
   {
    "duration": 23,
    "start_time": "2022-09-29T02:34:38.030Z"
   },
   {
    "duration": 5,
    "start_time": "2022-09-29T02:34:38.055Z"
   },
   {
    "duration": 25,
    "start_time": "2022-09-29T02:34:38.062Z"
   },
   {
    "duration": 19,
    "start_time": "2022-09-29T02:34:38.088Z"
   },
   {
    "duration": 17,
    "start_time": "2022-09-29T02:34:38.109Z"
   },
   {
    "duration": 12,
    "start_time": "2022-09-29T02:34:38.153Z"
   },
   {
    "duration": 11,
    "start_time": "2022-09-29T02:34:38.167Z"
   },
   {
    "duration": 10,
    "start_time": "2022-09-29T02:34:38.180Z"
   },
   {
    "duration": 16,
    "start_time": "2022-09-29T02:34:38.192Z"
   },
   {
    "duration": 10,
    "start_time": "2022-09-29T02:34:38.210Z"
   },
   {
    "duration": 6,
    "start_time": "2022-09-29T02:34:38.222Z"
   },
   {
    "duration": 24,
    "start_time": "2022-09-29T02:34:38.230Z"
   },
   {
    "duration": 8,
    "start_time": "2022-09-29T02:34:38.256Z"
   },
   {
    "duration": 39,
    "start_time": "2022-09-29T02:34:38.266Z"
   },
   {
    "duration": 13,
    "start_time": "2022-09-29T02:34:38.307Z"
   },
   {
    "duration": 9,
    "start_time": "2022-09-29T02:34:38.322Z"
   },
   {
    "duration": 36,
    "start_time": "2022-09-29T02:34:38.333Z"
   },
   {
    "duration": 12,
    "start_time": "2022-09-29T02:34:38.373Z"
   },
   {
    "duration": 9,
    "start_time": "2022-09-29T02:34:38.387Z"
   },
   {
    "duration": 1794,
    "start_time": "2022-09-29T02:34:40.765Z"
   },
   {
    "duration": 1556,
    "start_time": "2022-09-29T02:35:28.105Z"
   },
   {
    "duration": 91,
    "start_time": "2022-09-29T02:35:29.664Z"
   },
   {
    "duration": 146,
    "start_time": "2022-09-29T02:35:29.757Z"
   },
   {
    "duration": 120,
    "start_time": "2022-09-29T02:37:31.404Z"
   },
   {
    "duration": 17,
    "start_time": "2022-09-29T02:37:41.687Z"
   },
   {
    "duration": 10,
    "start_time": "2022-09-29T02:37:53.838Z"
   },
   {
    "duration": 1723,
    "start_time": "2022-09-29T02:37:57.237Z"
   },
   {
    "duration": 11,
    "start_time": "2022-09-29T02:38:02.765Z"
   },
   {
    "duration": 1597,
    "start_time": "2022-09-29T02:38:25.561Z"
   },
   {
    "duration": 112,
    "start_time": "2022-09-29T02:38:27.160Z"
   },
   {
    "duration": 16,
    "start_time": "2022-09-29T02:38:27.273Z"
   },
   {
    "duration": 16,
    "start_time": "2022-09-29T02:38:27.291Z"
   },
   {
    "duration": 18,
    "start_time": "2022-09-29T02:38:27.309Z"
   },
   {
    "duration": 10,
    "start_time": "2022-09-29T02:38:27.328Z"
   },
   {
    "duration": 2,
    "start_time": "2022-09-29T02:38:27.340Z"
   },
   {
    "duration": 19,
    "start_time": "2022-09-29T02:38:27.344Z"
   },
   {
    "duration": 6,
    "start_time": "2022-09-29T02:38:27.365Z"
   },
   {
    "duration": 9,
    "start_time": "2022-09-29T02:38:27.372Z"
   },
   {
    "duration": 22,
    "start_time": "2022-09-29T02:38:27.382Z"
   },
   {
    "duration": 12,
    "start_time": "2022-09-29T02:38:27.406Z"
   },
   {
    "duration": 13,
    "start_time": "2022-09-29T02:38:27.420Z"
   },
   {
    "duration": 15,
    "start_time": "2022-09-29T02:38:27.456Z"
   },
   {
    "duration": 218,
    "start_time": "2022-09-29T02:38:27.472Z"
   },
   {
    "duration": 9,
    "start_time": "2022-09-29T02:38:27.692Z"
   },
   {
    "duration": 16,
    "start_time": "2022-09-29T02:38:27.702Z"
   },
   {
    "duration": 470,
    "start_time": "2022-09-29T02:38:27.719Z"
   },
   {
    "duration": 4,
    "start_time": "2022-09-29T02:38:28.191Z"
   },
   {
    "duration": 15,
    "start_time": "2022-09-29T02:38:28.196Z"
   },
   {
    "duration": 16,
    "start_time": "2022-09-29T02:38:28.213Z"
   },
   {
    "duration": 769,
    "start_time": "2022-09-29T02:38:28.232Z"
   },
   {
    "duration": 7,
    "start_time": "2022-09-29T02:38:29.003Z"
   },
   {
    "duration": 14,
    "start_time": "2022-09-29T02:38:29.012Z"
   },
   {
    "duration": 15,
    "start_time": "2022-09-29T02:38:29.027Z"
   },
   {
    "duration": 34,
    "start_time": "2022-09-29T02:38:29.044Z"
   },
   {
    "duration": 19,
    "start_time": "2022-09-29T02:38:29.079Z"
   },
   {
    "duration": 20,
    "start_time": "2022-09-29T02:38:29.100Z"
   },
   {
    "duration": 36,
    "start_time": "2022-09-29T02:38:29.121Z"
   },
   {
    "duration": 12,
    "start_time": "2022-09-29T02:38:29.159Z"
   },
   {
    "duration": 7,
    "start_time": "2022-09-29T02:38:29.172Z"
   },
   {
    "duration": 8,
    "start_time": "2022-09-29T02:38:29.181Z"
   },
   {
    "duration": 9,
    "start_time": "2022-09-29T02:38:29.191Z"
   },
   {
    "duration": 7,
    "start_time": "2022-09-29T02:38:29.202Z"
   },
   {
    "duration": 7,
    "start_time": "2022-09-29T02:38:29.211Z"
   },
   {
    "duration": 34,
    "start_time": "2022-09-29T02:38:29.220Z"
   },
   {
    "duration": 34,
    "start_time": "2022-09-29T02:38:29.256Z"
   },
   {
    "duration": 13,
    "start_time": "2022-09-29T02:38:29.292Z"
   },
   {
    "duration": 9,
    "start_time": "2022-09-29T02:38:29.306Z"
   },
   {
    "duration": 47,
    "start_time": "2022-09-29T02:38:29.317Z"
   },
   {
    "duration": 7,
    "start_time": "2022-09-29T02:38:29.368Z"
   },
   {
    "duration": 7,
    "start_time": "2022-09-29T02:38:29.376Z"
   },
   {
    "duration": 1774,
    "start_time": "2022-09-29T02:38:29.384Z"
   },
   {
    "duration": 1899,
    "start_time": "2022-09-29T02:38:31.160Z"
   },
   {
    "duration": 93,
    "start_time": "2022-09-29T02:38:33.064Z"
   },
   {
    "duration": 147,
    "start_time": "2022-09-29T02:38:33.159Z"
   },
   {
    "duration": 9,
    "start_time": "2022-09-29T02:40:06.905Z"
   },
   {
    "duration": 5,
    "start_time": "2022-09-29T02:40:15.465Z"
   },
   {
    "duration": 71,
    "start_time": "2022-09-29T02:41:45.827Z"
   },
   {
    "duration": 3,
    "start_time": "2022-09-29T02:41:57.865Z"
   },
   {
    "duration": 4,
    "start_time": "2022-09-29T02:42:01.494Z"
   },
   {
    "duration": 3,
    "start_time": "2022-09-29T02:42:03.884Z"
   },
   {
    "duration": 4,
    "start_time": "2022-09-29T02:42:07.924Z"
   },
   {
    "duration": 4,
    "start_time": "2022-09-29T02:42:09.144Z"
   },
   {
    "duration": 37503,
    "start_time": "2022-09-29T02:42:10.463Z"
   },
   {
    "duration": 5,
    "start_time": "2022-09-29T02:42:47.968Z"
   },
   {
    "duration": 5,
    "start_time": "2022-09-29T02:45:45.751Z"
   },
   {
    "duration": 17,
    "start_time": "2022-09-29T02:45:48.057Z"
   },
   {
    "duration": 8,
    "start_time": "2022-09-29T02:45:55.730Z"
   },
   {
    "duration": 38144,
    "start_time": "2022-09-29T02:45:58.229Z"
   },
   {
    "duration": 4,
    "start_time": "2022-09-29T02:46:36.375Z"
   },
   {
    "duration": 12,
    "start_time": "2022-09-29T02:46:36.381Z"
   },
   {
    "duration": 1605,
    "start_time": "2022-09-29T15:44:45.352Z"
   },
   {
    "duration": 299,
    "start_time": "2022-09-29T15:44:46.959Z"
   },
   {
    "duration": 14,
    "start_time": "2022-09-29T15:44:47.260Z"
   },
   {
    "duration": 13,
    "start_time": "2022-09-29T15:44:47.276Z"
   },
   {
    "duration": 10,
    "start_time": "2022-09-29T15:44:47.291Z"
   },
   {
    "duration": 8,
    "start_time": "2022-09-29T15:44:47.303Z"
   },
   {
    "duration": 3,
    "start_time": "2022-09-29T15:44:47.312Z"
   },
   {
    "duration": 17,
    "start_time": "2022-09-29T15:44:47.316Z"
   },
   {
    "duration": 5,
    "start_time": "2022-09-29T15:44:47.335Z"
   },
   {
    "duration": 7,
    "start_time": "2022-09-29T15:44:47.341Z"
   },
   {
    "duration": 15,
    "start_time": "2022-09-29T15:44:47.350Z"
   },
   {
    "duration": 11,
    "start_time": "2022-09-29T15:44:47.367Z"
   },
   {
    "duration": 5,
    "start_time": "2022-09-29T15:44:47.379Z"
   },
   {
    "duration": 16,
    "start_time": "2022-09-29T15:44:47.387Z"
   },
   {
    "duration": 217,
    "start_time": "2022-09-29T15:44:47.404Z"
   },
   {
    "duration": 11,
    "start_time": "2022-09-29T15:44:47.623Z"
   },
   {
    "duration": 11,
    "start_time": "2022-09-29T15:44:47.636Z"
   },
   {
    "duration": 422,
    "start_time": "2022-09-29T15:44:47.648Z"
   },
   {
    "duration": 4,
    "start_time": "2022-09-29T15:44:48.072Z"
   },
   {
    "duration": 27,
    "start_time": "2022-09-29T15:44:48.078Z"
   },
   {
    "duration": 16,
    "start_time": "2022-09-29T15:44:48.106Z"
   },
   {
    "duration": 674,
    "start_time": "2022-09-29T15:44:48.124Z"
   },
   {
    "duration": 9,
    "start_time": "2022-09-29T15:44:48.800Z"
   },
   {
    "duration": 23,
    "start_time": "2022-09-29T15:44:48.811Z"
   },
   {
    "duration": 6,
    "start_time": "2022-09-29T15:44:48.836Z"
   },
   {
    "duration": 24,
    "start_time": "2022-09-29T15:44:48.844Z"
   },
   {
    "duration": 18,
    "start_time": "2022-09-29T15:44:48.870Z"
   },
   {
    "duration": 17,
    "start_time": "2022-09-29T15:44:48.890Z"
   },
   {
    "duration": 13,
    "start_time": "2022-09-29T15:44:48.934Z"
   },
   {
    "duration": 10,
    "start_time": "2022-09-29T15:44:48.949Z"
   },
   {
    "duration": 5,
    "start_time": "2022-09-29T15:44:48.961Z"
   },
   {
    "duration": 9,
    "start_time": "2022-09-29T15:44:48.968Z"
   },
   {
    "duration": 10,
    "start_time": "2022-09-29T15:44:48.978Z"
   },
   {
    "duration": 5,
    "start_time": "2022-09-29T15:44:48.989Z"
   },
   {
    "duration": 5,
    "start_time": "2022-09-29T15:44:48.996Z"
   },
   {
    "duration": 32,
    "start_time": "2022-09-29T15:44:49.003Z"
   },
   {
    "duration": 35,
    "start_time": "2022-09-29T15:44:49.036Z"
   },
   {
    "duration": 11,
    "start_time": "2022-09-29T15:44:49.073Z"
   },
   {
    "duration": 10,
    "start_time": "2022-09-29T15:44:49.086Z"
   },
   {
    "duration": 17,
    "start_time": "2022-09-29T15:44:49.098Z"
   },
   {
    "duration": 4,
    "start_time": "2022-09-29T15:44:49.133Z"
   },
   {
    "duration": 6,
    "start_time": "2022-09-29T15:44:49.138Z"
   },
   {
    "duration": 2188,
    "start_time": "2022-09-29T15:44:49.146Z"
   },
   {
    "duration": 2100,
    "start_time": "2022-09-29T15:44:51.335Z"
   },
   {
    "duration": 5,
    "start_time": "2022-09-29T15:44:53.437Z"
   },
   {
    "duration": 158,
    "start_time": "2022-09-29T15:44:53.444Z"
   },
   {
    "duration": 8,
    "start_time": "2022-09-29T15:44:53.604Z"
   },
   {
    "duration": 19,
    "start_time": "2022-09-29T15:44:53.614Z"
   },
   {
    "duration": 3,
    "start_time": "2022-09-29T15:44:53.635Z"
   },
   {
    "duration": 9,
    "start_time": "2022-09-29T15:44:53.640Z"
   },
   {
    "duration": 7,
    "start_time": "2022-09-29T15:44:53.651Z"
   },
   {
    "duration": 8,
    "start_time": "2022-09-29T15:44:53.660Z"
   },
   {
    "duration": 8,
    "start_time": "2022-09-29T15:44:53.669Z"
   },
   {
    "duration": 47774,
    "start_time": "2022-09-29T15:44:53.678Z"
   },
   {
    "duration": 4,
    "start_time": "2022-09-29T15:45:41.453Z"
   },
   {
    "duration": 130,
    "start_time": "2022-09-29T15:45:41.459Z"
   },
   {
    "duration": 13,
    "start_time": "2022-09-29T15:47:02.453Z"
   },
   {
    "duration": 6,
    "start_time": "2022-09-29T15:47:41.427Z"
   },
   {
    "duration": 13,
    "start_time": "2022-09-29T15:47:52.085Z"
   },
   {
    "duration": 7,
    "start_time": "2022-09-29T15:48:48.758Z"
   },
   {
    "duration": 2,
    "start_time": "2022-09-29T15:49:14.662Z"
   },
   {
    "duration": 45642,
    "start_time": "2022-09-29T15:49:22.999Z"
   },
   {
    "duration": 5,
    "start_time": "2022-09-29T15:50:08.643Z"
   },
   {
    "duration": 8,
    "start_time": "2022-09-29T15:50:40.501Z"
   },
   {
    "duration": 9,
    "start_time": "2022-09-29T15:54:24.712Z"
   },
   {
    "duration": 616,
    "start_time": "2022-09-29T15:54:33.683Z"
   },
   {
    "duration": 7,
    "start_time": "2022-09-29T15:54:34.300Z"
   },
   {
    "duration": 127,
    "start_time": "2022-09-29T15:54:38.688Z"
   },
   {
    "duration": 108,
    "start_time": "2022-09-29T15:54:43.702Z"
   },
   {
    "duration": 4,
    "start_time": "2022-09-29T15:55:08.341Z"
   },
   {
    "duration": 3,
    "start_time": "2022-09-29T15:55:15.811Z"
   },
   {
    "duration": 9,
    "start_time": "2022-09-29T15:55:59.037Z"
   },
   {
    "duration": 9,
    "start_time": "2022-09-29T15:56:07.173Z"
   },
   {
    "duration": 10,
    "start_time": "2022-09-29T15:56:14.104Z"
   },
   {
    "duration": 3,
    "start_time": "2022-09-29T15:58:34.819Z"
   },
   {
    "duration": 4,
    "start_time": "2022-09-29T15:58:39.559Z"
   },
   {
    "duration": 108,
    "start_time": "2022-09-29T15:58:57.471Z"
   },
   {
    "duration": 128,
    "start_time": "2022-09-29T15:59:28.135Z"
   },
   {
    "duration": 101,
    "start_time": "2022-09-29T16:02:13.041Z"
   },
   {
    "duration": 194,
    "start_time": "2022-09-29T16:02:30.233Z"
   },
   {
    "duration": 104,
    "start_time": "2022-09-29T16:02:41.736Z"
   },
   {
    "duration": 219,
    "start_time": "2022-09-29T16:02:49.615Z"
   },
   {
    "duration": 10,
    "start_time": "2022-09-29T16:03:29.906Z"
   },
   {
    "duration": 10,
    "start_time": "2022-09-29T16:04:09.180Z"
   },
   {
    "duration": 195,
    "start_time": "2022-09-29T16:04:21.420Z"
   },
   {
    "duration": 12,
    "start_time": "2022-09-29T16:04:56.619Z"
   },
   {
    "duration": 221,
    "start_time": "2022-09-29T16:05:02.451Z"
   },
   {
    "duration": 14,
    "start_time": "2022-09-29T16:05:36.317Z"
   },
   {
    "duration": 10,
    "start_time": "2022-09-29T16:06:01.817Z"
   },
   {
    "duration": 12,
    "start_time": "2022-09-29T16:06:08.770Z"
   },
   {
    "duration": 11,
    "start_time": "2022-09-29T16:07:08.754Z"
   },
   {
    "duration": 145,
    "start_time": "2022-09-29T16:07:39.671Z"
   },
   {
    "duration": 10,
    "start_time": "2022-09-29T16:07:52.646Z"
   },
   {
    "duration": 220,
    "start_time": "2022-09-29T16:08:25.401Z"
   },
   {
    "duration": 245,
    "start_time": "2022-09-29T16:08:38.555Z"
   },
   {
    "duration": 219,
    "start_time": "2022-09-29T16:08:45.438Z"
   },
   {
    "duration": 225,
    "start_time": "2022-09-29T16:10:56.616Z"
   },
   {
    "duration": 232,
    "start_time": "2022-09-29T16:11:15.533Z"
   },
   {
    "duration": 10,
    "start_time": "2022-09-29T16:13:41.505Z"
   },
   {
    "duration": 13,
    "start_time": "2022-09-29T16:14:25.445Z"
   },
   {
    "duration": 9,
    "start_time": "2022-09-29T16:14:47.307Z"
   },
   {
    "duration": 16,
    "start_time": "2022-09-29T16:15:00.904Z"
   },
   {
    "duration": 8,
    "start_time": "2022-09-29T16:15:12.281Z"
   },
   {
    "duration": 15,
    "start_time": "2022-09-29T16:15:34.183Z"
   },
   {
    "duration": 165,
    "start_time": "2022-09-29T16:15:51.166Z"
   },
   {
    "duration": 24,
    "start_time": "2022-09-29T16:16:31.926Z"
   },
   {
    "duration": 138,
    "start_time": "2022-09-29T16:17:23.022Z"
   },
   {
    "duration": 17,
    "start_time": "2022-09-29T16:17:48.329Z"
   },
   {
    "duration": 17,
    "start_time": "2022-09-29T16:18:12.978Z"
   },
   {
    "duration": 123,
    "start_time": "2022-09-29T16:18:21.545Z"
   },
   {
    "duration": 16,
    "start_time": "2022-09-29T16:19:28.699Z"
   },
   {
    "duration": 145,
    "start_time": "2022-09-29T16:19:36.505Z"
   },
   {
    "duration": 240,
    "start_time": "2022-09-29T16:19:46.485Z"
   },
   {
    "duration": 14,
    "start_time": "2022-09-29T16:21:20.460Z"
   },
   {
    "duration": 137,
    "start_time": "2022-09-29T16:22:49.840Z"
   },
   {
    "duration": 15,
    "start_time": "2022-09-29T16:24:02.270Z"
   },
   {
    "duration": 134,
    "start_time": "2022-09-29T16:24:38.879Z"
   },
   {
    "duration": 144,
    "start_time": "2022-09-29T16:26:15.823Z"
   },
   {
    "duration": 113,
    "start_time": "2022-09-29T16:26:27.384Z"
   },
   {
    "duration": 182,
    "start_time": "2022-09-29T16:27:30.754Z"
   },
   {
    "duration": 268,
    "start_time": "2022-09-29T16:27:52.912Z"
   },
   {
    "duration": 274,
    "start_time": "2022-09-29T16:28:17.377Z"
   },
   {
    "duration": 15,
    "start_time": "2022-09-29T16:32:55.414Z"
   },
   {
    "duration": 10,
    "start_time": "2022-09-29T16:36:34.668Z"
   },
   {
    "duration": 9,
    "start_time": "2022-09-29T16:36:40.032Z"
   },
   {
    "duration": 9,
    "start_time": "2022-09-29T16:37:27.112Z"
   },
   {
    "duration": 81,
    "start_time": "2022-09-29T16:39:00.612Z"
   },
   {
    "duration": 9,
    "start_time": "2022-09-29T16:39:10.562Z"
   },
   {
    "duration": 2,
    "start_time": "2022-09-29T16:39:13.861Z"
   },
   {
    "duration": 3,
    "start_time": "2022-09-29T16:39:17.704Z"
   },
   {
    "duration": 14,
    "start_time": "2022-09-29T16:40:45.812Z"
   },
   {
    "duration": 3400,
    "start_time": "2022-09-29T16:43:04.796Z"
   },
   {
    "duration": 5,
    "start_time": "2022-09-29T16:43:31.476Z"
   },
   {
    "duration": 295,
    "start_time": "2022-09-29T16:45:06.488Z"
   },
   {
    "duration": 286,
    "start_time": "2022-09-29T16:46:03.327Z"
   },
   {
    "duration": 1421,
    "start_time": "2022-09-29T16:56:48.350Z"
   },
   {
    "duration": 105,
    "start_time": "2022-09-29T16:56:49.775Z"
   },
   {
    "duration": 15,
    "start_time": "2022-09-29T16:56:49.882Z"
   },
   {
    "duration": 13,
    "start_time": "2022-09-29T16:56:49.899Z"
   },
   {
    "duration": 7,
    "start_time": "2022-09-29T16:56:49.914Z"
   },
   {
    "duration": 12,
    "start_time": "2022-09-29T16:56:49.923Z"
   },
   {
    "duration": 5,
    "start_time": "2022-09-29T16:56:49.937Z"
   },
   {
    "duration": 15,
    "start_time": "2022-09-29T16:56:49.944Z"
   },
   {
    "duration": 10,
    "start_time": "2022-09-29T16:56:49.961Z"
   },
   {
    "duration": 9,
    "start_time": "2022-09-29T16:56:49.973Z"
   },
   {
    "duration": 18,
    "start_time": "2022-09-29T16:56:49.983Z"
   },
   {
    "duration": 17,
    "start_time": "2022-09-29T16:56:50.003Z"
   },
   {
    "duration": 17,
    "start_time": "2022-09-29T16:56:50.022Z"
   },
   {
    "duration": 20,
    "start_time": "2022-09-29T16:56:50.044Z"
   },
   {
    "duration": 236,
    "start_time": "2022-09-29T16:56:50.066Z"
   },
   {
    "duration": 9,
    "start_time": "2022-09-29T16:56:50.304Z"
   },
   {
    "duration": 27,
    "start_time": "2022-09-29T16:56:50.315Z"
   },
   {
    "duration": 402,
    "start_time": "2022-09-29T16:56:50.343Z"
   },
   {
    "duration": 4,
    "start_time": "2022-09-29T16:56:50.747Z"
   },
   {
    "duration": 22,
    "start_time": "2022-09-29T16:56:50.753Z"
   },
   {
    "duration": 18,
    "start_time": "2022-09-29T16:56:50.776Z"
   },
   {
    "duration": 732,
    "start_time": "2022-09-29T16:56:50.796Z"
   },
   {
    "duration": 8,
    "start_time": "2022-09-29T16:56:51.530Z"
   },
   {
    "duration": 20,
    "start_time": "2022-09-29T16:56:51.540Z"
   },
   {
    "duration": 21,
    "start_time": "2022-09-29T16:56:51.563Z"
   },
   {
    "duration": 35,
    "start_time": "2022-09-29T16:56:51.586Z"
   },
   {
    "duration": 17,
    "start_time": "2022-09-29T16:56:51.622Z"
   },
   {
    "duration": 24,
    "start_time": "2022-09-29T16:56:51.640Z"
   },
   {
    "duration": 11,
    "start_time": "2022-09-29T16:56:51.666Z"
   },
   {
    "duration": 14,
    "start_time": "2022-09-29T16:56:51.679Z"
   },
   {
    "duration": 8,
    "start_time": "2022-09-29T16:56:51.695Z"
   },
   {
    "duration": 23,
    "start_time": "2022-09-29T16:56:51.705Z"
   },
   {
    "duration": 119,
    "start_time": "2022-09-29T16:56:51.729Z"
   },
   {
    "duration": 22,
    "start_time": "2022-09-29T16:57:14.250Z"
   },
   {
    "duration": 624,
    "start_time": "2022-09-29T16:58:10.412Z"
   },
   {
    "duration": 1441,
    "start_time": "2022-09-29T16:58:35.479Z"
   },
   {
    "duration": 100,
    "start_time": "2022-09-29T16:58:36.922Z"
   },
   {
    "duration": 14,
    "start_time": "2022-09-29T16:58:37.024Z"
   },
   {
    "duration": 13,
    "start_time": "2022-09-29T16:58:37.039Z"
   },
   {
    "duration": 1042,
    "start_time": "2022-09-29T16:58:37.053Z"
   },
   {
    "duration": 0,
    "start_time": "2022-09-29T16:58:38.097Z"
   },
   {
    "duration": 0,
    "start_time": "2022-09-29T16:58:38.098Z"
   },
   {
    "duration": 0,
    "start_time": "2022-09-29T16:58:38.099Z"
   },
   {
    "duration": 0,
    "start_time": "2022-09-29T16:58:38.100Z"
   },
   {
    "duration": 0,
    "start_time": "2022-09-29T16:58:38.101Z"
   },
   {
    "duration": 0,
    "start_time": "2022-09-29T16:58:38.103Z"
   },
   {
    "duration": 0,
    "start_time": "2022-09-29T16:58:38.104Z"
   },
   {
    "duration": 0,
    "start_time": "2022-09-29T16:58:38.104Z"
   },
   {
    "duration": 0,
    "start_time": "2022-09-29T16:58:38.106Z"
   },
   {
    "duration": 0,
    "start_time": "2022-09-29T16:58:38.106Z"
   },
   {
    "duration": 0,
    "start_time": "2022-09-29T16:58:38.108Z"
   },
   {
    "duration": 0,
    "start_time": "2022-09-29T16:58:38.109Z"
   },
   {
    "duration": 0,
    "start_time": "2022-09-29T16:58:38.110Z"
   },
   {
    "duration": 0,
    "start_time": "2022-09-29T16:58:38.111Z"
   },
   {
    "duration": 0,
    "start_time": "2022-09-29T16:58:38.112Z"
   },
   {
    "duration": 0,
    "start_time": "2022-09-29T16:58:38.113Z"
   },
   {
    "duration": 0,
    "start_time": "2022-09-29T16:58:38.114Z"
   },
   {
    "duration": 0,
    "start_time": "2022-09-29T16:58:38.115Z"
   },
   {
    "duration": 0,
    "start_time": "2022-09-29T16:58:38.116Z"
   },
   {
    "duration": 0,
    "start_time": "2022-09-29T16:58:38.117Z"
   },
   {
    "duration": 0,
    "start_time": "2022-09-29T16:58:38.118Z"
   },
   {
    "duration": 0,
    "start_time": "2022-09-29T16:58:38.119Z"
   },
   {
    "duration": 0,
    "start_time": "2022-09-29T16:58:38.120Z"
   },
   {
    "duration": 0,
    "start_time": "2022-09-29T16:58:38.121Z"
   },
   {
    "duration": 0,
    "start_time": "2022-09-29T16:58:38.122Z"
   },
   {
    "duration": 0,
    "start_time": "2022-09-29T16:58:38.122Z"
   },
   {
    "duration": 0,
    "start_time": "2022-09-29T16:58:38.123Z"
   },
   {
    "duration": 0,
    "start_time": "2022-09-29T16:58:38.124Z"
   },
   {
    "duration": 12,
    "start_time": "2022-09-29T17:00:28.762Z"
   },
   {
    "duration": 13,
    "start_time": "2022-09-29T17:02:52.090Z"
   },
   {
    "duration": 1567,
    "start_time": "2022-09-29T17:03:02.002Z"
   },
   {
    "duration": 103,
    "start_time": "2022-09-29T17:03:03.571Z"
   },
   {
    "duration": 13,
    "start_time": "2022-09-29T17:03:03.676Z"
   },
   {
    "duration": 12,
    "start_time": "2022-09-29T17:03:03.691Z"
   },
   {
    "duration": 6,
    "start_time": "2022-09-29T17:03:03.706Z"
   },
   {
    "duration": 11,
    "start_time": "2022-09-29T17:03:03.714Z"
   },
   {
    "duration": 7,
    "start_time": "2022-09-29T17:03:03.727Z"
   },
   {
    "duration": 42,
    "start_time": "2022-09-29T17:03:03.736Z"
   },
   {
    "duration": 8,
    "start_time": "2022-09-29T17:03:03.780Z"
   },
   {
    "duration": 7,
    "start_time": "2022-09-29T17:03:03.790Z"
   },
   {
    "duration": 18,
    "start_time": "2022-09-29T17:03:03.798Z"
   },
   {
    "duration": 15,
    "start_time": "2022-09-29T17:03:03.818Z"
   },
   {
    "duration": 10,
    "start_time": "2022-09-29T17:03:03.834Z"
   },
   {
    "duration": 21,
    "start_time": "2022-09-29T17:03:03.846Z"
   },
   {
    "duration": 186,
    "start_time": "2022-09-29T17:03:03.868Z"
   },
   {
    "duration": 7,
    "start_time": "2022-09-29T17:03:04.056Z"
   },
   {
    "duration": 13,
    "start_time": "2022-09-29T17:03:04.065Z"
   },
   {
    "duration": 404,
    "start_time": "2022-09-29T17:03:04.079Z"
   },
   {
    "duration": 3,
    "start_time": "2022-09-29T17:03:04.485Z"
   },
   {
    "duration": 18,
    "start_time": "2022-09-29T17:03:04.490Z"
   },
   {
    "duration": 23,
    "start_time": "2022-09-29T17:03:04.510Z"
   },
   {
    "duration": 643,
    "start_time": "2022-09-29T17:03:04.535Z"
   },
   {
    "duration": 9,
    "start_time": "2022-09-29T17:03:05.180Z"
   },
   {
    "duration": 12,
    "start_time": "2022-09-29T17:03:05.191Z"
   },
   {
    "duration": 21,
    "start_time": "2022-09-29T17:03:05.205Z"
   },
   {
    "duration": 29,
    "start_time": "2022-09-29T17:03:05.228Z"
   },
   {
    "duration": 18,
    "start_time": "2022-09-29T17:03:05.259Z"
   },
   {
    "duration": 19,
    "start_time": "2022-09-29T17:03:05.279Z"
   },
   {
    "duration": 14,
    "start_time": "2022-09-29T17:03:05.300Z"
   },
   {
    "duration": 11,
    "start_time": "2022-09-29T17:03:05.333Z"
   },
   {
    "duration": 7,
    "start_time": "2022-09-29T17:03:05.346Z"
   },
   {
    "duration": 13,
    "start_time": "2022-09-29T17:03:05.355Z"
   },
   {
    "duration": 8,
    "start_time": "2022-09-29T17:03:05.369Z"
   },
   {
    "duration": 5,
    "start_time": "2022-09-29T17:03:08.757Z"
   },
   {
    "duration": 6,
    "start_time": "2022-09-29T17:03:15.374Z"
   },
   {
    "duration": 114,
    "start_time": "2022-09-29T17:03:23.566Z"
   },
   {
    "duration": 12,
    "start_time": "2022-09-29T17:03:34.440Z"
   },
   {
    "duration": 5,
    "start_time": "2022-09-29T17:03:53.756Z"
   },
   {
    "duration": 6,
    "start_time": "2022-09-29T17:03:54.864Z"
   },
   {
    "duration": 7,
    "start_time": "2022-09-29T17:05:57.084Z"
   },
   {
    "duration": 6,
    "start_time": "2022-09-29T17:05:57.950Z"
   },
   {
    "duration": 4,
    "start_time": "2022-09-29T17:06:06.764Z"
   },
   {
    "duration": 3,
    "start_time": "2022-09-29T17:06:07.028Z"
   },
   {
    "duration": 40,
    "start_time": "2022-09-29T17:06:07.339Z"
   },
   {
    "duration": 13,
    "start_time": "2022-09-29T17:06:07.586Z"
   },
   {
    "duration": 9,
    "start_time": "2022-09-29T17:06:30.428Z"
   },
   {
    "duration": 15,
    "start_time": "2022-09-29T17:06:30.924Z"
   },
   {
    "duration": 4,
    "start_time": "2022-09-29T17:06:31.529Z"
   },
   {
    "duration": 3,
    "start_time": "2022-09-29T17:06:34.783Z"
   },
   {
    "duration": 2083,
    "start_time": "2022-09-29T17:06:35.052Z"
   },
   {
    "duration": 2676,
    "start_time": "2022-09-29T17:06:44.865Z"
   },
   {
    "duration": 3,
    "start_time": "2022-09-29T17:08:02.929Z"
   },
   {
    "duration": 2029,
    "start_time": "2022-09-29T17:08:12.208Z"
   },
   {
    "duration": 1546,
    "start_time": "2022-09-29T17:10:35.076Z"
   },
   {
    "duration": 99,
    "start_time": "2022-09-29T17:10:36.624Z"
   },
   {
    "duration": 14,
    "start_time": "2022-09-29T17:10:36.725Z"
   },
   {
    "duration": 13,
    "start_time": "2022-09-29T17:10:36.741Z"
   },
   {
    "duration": 6,
    "start_time": "2022-09-29T17:10:36.755Z"
   },
   {
    "duration": 11,
    "start_time": "2022-09-29T17:10:36.762Z"
   },
   {
    "duration": 4,
    "start_time": "2022-09-29T17:10:36.774Z"
   },
   {
    "duration": 16,
    "start_time": "2022-09-29T17:10:36.780Z"
   },
   {
    "duration": 12,
    "start_time": "2022-09-29T17:10:36.797Z"
   },
   {
    "duration": 11,
    "start_time": "2022-09-29T17:10:36.811Z"
   },
   {
    "duration": 20,
    "start_time": "2022-09-29T17:10:36.823Z"
   },
   {
    "duration": 12,
    "start_time": "2022-09-29T17:10:36.845Z"
   },
   {
    "duration": 8,
    "start_time": "2022-09-29T17:10:36.858Z"
   },
   {
    "duration": 18,
    "start_time": "2022-09-29T17:10:36.868Z"
   },
   {
    "duration": 189,
    "start_time": "2022-09-29T17:10:36.888Z"
   },
   {
    "duration": 8,
    "start_time": "2022-09-29T17:10:37.079Z"
   },
   {
    "duration": 25,
    "start_time": "2022-09-29T17:10:37.088Z"
   },
   {
    "duration": 383,
    "start_time": "2022-09-29T17:10:37.115Z"
   },
   {
    "duration": 3,
    "start_time": "2022-09-29T17:10:37.500Z"
   },
   {
    "duration": 16,
    "start_time": "2022-09-29T17:10:37.505Z"
   },
   {
    "duration": 18,
    "start_time": "2022-09-29T17:10:37.523Z"
   },
   {
    "duration": 651,
    "start_time": "2022-09-29T17:10:37.543Z"
   },
   {
    "duration": 8,
    "start_time": "2022-09-29T17:10:38.204Z"
   },
   {
    "duration": 24,
    "start_time": "2022-09-29T17:10:38.214Z"
   },
   {
    "duration": 10,
    "start_time": "2022-09-29T17:10:38.239Z"
   },
   {
    "duration": 24,
    "start_time": "2022-09-29T17:10:38.250Z"
   },
   {
    "duration": 16,
    "start_time": "2022-09-29T17:10:38.275Z"
   },
   {
    "duration": 22,
    "start_time": "2022-09-29T17:10:38.295Z"
   },
   {
    "duration": 20,
    "start_time": "2022-09-29T17:10:38.319Z"
   },
   {
    "duration": 10,
    "start_time": "2022-09-29T17:10:38.340Z"
   },
   {
    "duration": 9,
    "start_time": "2022-09-29T17:10:38.352Z"
   },
   {
    "duration": 14,
    "start_time": "2022-09-29T17:10:38.362Z"
   },
   {
    "duration": 14,
    "start_time": "2022-09-29T17:10:38.377Z"
   },
   {
    "duration": 13,
    "start_time": "2022-09-29T17:10:38.392Z"
   },
   {
    "duration": 12,
    "start_time": "2022-09-29T17:10:38.406Z"
   },
   {
    "duration": 17,
    "start_time": "2022-09-29T17:10:38.419Z"
   },
   {
    "duration": 9,
    "start_time": "2022-09-29T17:10:38.438Z"
   },
   {
    "duration": 15,
    "start_time": "2022-09-29T17:10:38.449Z"
   },
   {
    "duration": 35,
    "start_time": "2022-09-29T17:10:38.465Z"
   },
   {
    "duration": 10,
    "start_time": "2022-09-29T17:10:38.502Z"
   },
   {
    "duration": 7,
    "start_time": "2022-09-29T17:10:38.514Z"
   },
   {
    "duration": 15,
    "start_time": "2022-09-29T17:10:38.522Z"
   },
   {
    "duration": 3,
    "start_time": "2022-09-29T17:10:38.539Z"
   },
   {
    "duration": 6,
    "start_time": "2022-09-29T17:10:38.544Z"
   },
   {
    "duration": 2684,
    "start_time": "2022-09-29T17:10:38.551Z"
   },
   {
    "duration": 2499,
    "start_time": "2022-09-29T17:10:41.236Z"
   },
   {
    "duration": 3,
    "start_time": "2022-09-29T17:10:43.737Z"
   },
   {
    "duration": 2193,
    "start_time": "2022-09-29T17:10:43.742Z"
   },
   {
    "duration": 6,
    "start_time": "2022-09-29T17:10:45.937Z"
   },
   {
    "duration": 140,
    "start_time": "2022-09-29T17:10:46.033Z"
   },
   {
    "duration": 7,
    "start_time": "2022-09-29T17:10:46.175Z"
   },
   {
    "duration": 5,
    "start_time": "2022-09-29T17:10:46.184Z"
   },
   {
    "duration": 7,
    "start_time": "2022-09-29T17:10:46.190Z"
   },
   {
    "duration": 9,
    "start_time": "2022-09-29T17:10:46.198Z"
   },
   {
    "duration": 6,
    "start_time": "2022-09-29T17:10:46.208Z"
   },
   {
    "duration": 20,
    "start_time": "2022-09-29T17:10:46.216Z"
   },
   {
    "duration": 6,
    "start_time": "2022-09-29T17:10:46.238Z"
   },
   {
    "duration": 45502,
    "start_time": "2022-09-29T17:10:46.246Z"
   },
   {
    "duration": 4,
    "start_time": "2022-09-29T17:11:31.750Z"
   },
   {
    "duration": 1159,
    "start_time": "2022-09-29T17:11:31.756Z"
   },
   {
    "duration": 0,
    "start_time": "2022-09-29T17:11:32.917Z"
   },
   {
    "duration": 0,
    "start_time": "2022-09-29T17:11:32.918Z"
   },
   {
    "duration": 0,
    "start_time": "2022-09-29T17:11:32.919Z"
   },
   {
    "duration": 0,
    "start_time": "2022-09-29T17:11:32.920Z"
   },
   {
    "duration": 0,
    "start_time": "2022-09-29T17:11:32.921Z"
   },
   {
    "duration": 0,
    "start_time": "2022-09-29T17:11:32.922Z"
   },
   {
    "duration": 1,
    "start_time": "2022-09-29T17:11:32.923Z"
   },
   {
    "duration": 0,
    "start_time": "2022-09-29T17:11:32.925Z"
   },
   {
    "duration": 0,
    "start_time": "2022-09-29T17:11:32.926Z"
   },
   {
    "duration": 0,
    "start_time": "2022-09-29T17:11:32.927Z"
   },
   {
    "duration": 0,
    "start_time": "2022-09-29T17:11:32.928Z"
   },
   {
    "duration": 0,
    "start_time": "2022-09-29T17:11:32.929Z"
   },
   {
    "duration": 0,
    "start_time": "2022-09-29T17:11:32.930Z"
   },
   {
    "duration": 0,
    "start_time": "2022-09-29T17:11:32.931Z"
   },
   {
    "duration": 0,
    "start_time": "2022-09-29T17:11:32.932Z"
   },
   {
    "duration": 0,
    "start_time": "2022-09-29T17:11:32.933Z"
   },
   {
    "duration": 0,
    "start_time": "2022-09-29T17:11:32.934Z"
   },
   {
    "duration": 0,
    "start_time": "2022-09-29T17:11:32.935Z"
   },
   {
    "duration": 0,
    "start_time": "2022-09-29T17:11:32.936Z"
   },
   {
    "duration": 0,
    "start_time": "2022-09-29T17:11:32.937Z"
   },
   {
    "duration": 0,
    "start_time": "2022-09-29T17:11:32.938Z"
   },
   {
    "duration": 0,
    "start_time": "2022-09-29T17:11:32.939Z"
   },
   {
    "duration": 0,
    "start_time": "2022-09-29T17:11:32.940Z"
   },
   {
    "duration": 0,
    "start_time": "2022-09-29T17:11:32.941Z"
   },
   {
    "duration": 3,
    "start_time": "2022-09-29T17:12:28.709Z"
   },
   {
    "duration": 6,
    "start_time": "2022-09-29T17:13:26.599Z"
   },
   {
    "duration": 13,
    "start_time": "2022-09-29T17:13:31.445Z"
   },
   {
    "duration": 7,
    "start_time": "2022-09-29T17:13:31.697Z"
   },
   {
    "duration": 44401,
    "start_time": "2022-09-29T17:13:32.047Z"
   },
   {
    "duration": 6,
    "start_time": "2022-09-29T17:14:16.450Z"
   },
   {
    "duration": 15,
    "start_time": "2022-09-29T17:14:16.458Z"
   },
   {
    "duration": 8,
    "start_time": "2022-09-29T17:14:16.476Z"
   },
   {
    "duration": 11,
    "start_time": "2022-09-29T17:14:16.486Z"
   },
   {
    "duration": 6,
    "start_time": "2022-09-29T17:14:16.499Z"
   },
   {
    "duration": 91107,
    "start_time": "2022-09-29T17:14:16.507Z"
   },
   {
    "duration": 0,
    "start_time": "2022-09-29T17:15:47.616Z"
   },
   {
    "duration": 0,
    "start_time": "2022-09-29T17:15:47.617Z"
   },
   {
    "duration": 0,
    "start_time": "2022-09-29T17:15:47.618Z"
   },
   {
    "duration": 0,
    "start_time": "2022-09-29T17:15:47.619Z"
   },
   {
    "duration": 0,
    "start_time": "2022-09-29T17:15:47.620Z"
   },
   {
    "duration": 0,
    "start_time": "2022-09-29T17:15:47.621Z"
   },
   {
    "duration": 0,
    "start_time": "2022-09-29T17:15:47.622Z"
   },
   {
    "duration": 0,
    "start_time": "2022-09-29T17:15:47.623Z"
   },
   {
    "duration": 0,
    "start_time": "2022-09-29T17:15:47.624Z"
   },
   {
    "duration": 0,
    "start_time": "2022-09-29T17:15:47.625Z"
   },
   {
    "duration": 0,
    "start_time": "2022-09-29T17:15:47.626Z"
   },
   {
    "duration": 0,
    "start_time": "2022-09-29T17:15:47.627Z"
   },
   {
    "duration": 0,
    "start_time": "2022-09-29T17:15:47.628Z"
   },
   {
    "duration": 0,
    "start_time": "2022-09-29T17:15:47.629Z"
   },
   {
    "duration": 0,
    "start_time": "2022-09-29T17:15:47.630Z"
   },
   {
    "duration": 0,
    "start_time": "2022-09-29T17:15:47.631Z"
   },
   {
    "duration": 0,
    "start_time": "2022-09-29T17:15:47.633Z"
   },
   {
    "duration": 0,
    "start_time": "2022-09-29T17:15:47.633Z"
   },
   {
    "duration": 19,
    "start_time": "2022-09-29T17:15:54.498Z"
   },
   {
    "duration": 11137127,
    "start_time": "2022-09-29T17:16:04.398Z"
   },
   {
    "duration": 4,
    "start_time": "2022-09-29T20:21:41.527Z"
   },
   {
    "duration": 858,
    "start_time": "2022-09-29T20:23:27.655Z"
   },
   {
    "duration": 8,
    "start_time": "2022-09-29T20:23:35.646Z"
   },
   {
    "duration": 118,
    "start_time": "2022-09-29T20:23:45.864Z"
   },
   {
    "duration": 289,
    "start_time": "2022-09-29T20:23:56.741Z"
   },
   {
    "duration": 5,
    "start_time": "2022-09-29T20:24:11.934Z"
   },
   {
    "duration": 268,
    "start_time": "2022-09-29T20:24:12.246Z"
   },
   {
    "duration": 129,
    "start_time": "2022-09-30T08:48:09.973Z"
   },
   {
    "duration": 333,
    "start_time": "2022-09-30T08:52:12.560Z"
   },
   {
    "duration": 1803,
    "start_time": "2022-09-30T11:49:23.811Z"
   },
   {
    "duration": 331,
    "start_time": "2022-09-30T11:49:25.616Z"
   },
   {
    "duration": 17,
    "start_time": "2022-09-30T11:49:25.950Z"
   },
   {
    "duration": 14,
    "start_time": "2022-09-30T11:49:25.969Z"
   },
   {
    "duration": 9,
    "start_time": "2022-09-30T11:49:25.985Z"
   },
   {
    "duration": 8,
    "start_time": "2022-09-30T11:49:25.996Z"
   },
   {
    "duration": 2,
    "start_time": "2022-09-30T11:49:26.006Z"
   },
   {
    "duration": 24,
    "start_time": "2022-09-30T11:49:26.010Z"
   },
   {
    "duration": 11,
    "start_time": "2022-09-30T11:49:26.036Z"
   },
   {
    "duration": 17,
    "start_time": "2022-09-30T11:49:26.049Z"
   },
   {
    "duration": 24,
    "start_time": "2022-09-30T11:49:26.067Z"
   },
   {
    "duration": 13,
    "start_time": "2022-09-30T11:49:26.092Z"
   },
   {
    "duration": 16,
    "start_time": "2022-09-30T11:49:26.107Z"
   },
   {
    "duration": 29,
    "start_time": "2022-09-30T11:49:26.125Z"
   },
   {
    "duration": 227,
    "start_time": "2022-09-30T11:49:26.156Z"
   },
   {
    "duration": 8,
    "start_time": "2022-09-30T11:49:26.385Z"
   },
   {
    "duration": 27,
    "start_time": "2022-09-30T11:49:26.395Z"
   },
   {
    "duration": 511,
    "start_time": "2022-09-30T11:49:26.423Z"
   },
   {
    "duration": 4,
    "start_time": "2022-09-30T11:49:26.936Z"
   },
   {
    "duration": 20,
    "start_time": "2022-09-30T11:49:26.942Z"
   },
   {
    "duration": 15,
    "start_time": "2022-09-30T11:49:26.963Z"
   },
   {
    "duration": 779,
    "start_time": "2022-09-30T11:49:26.980Z"
   },
   {
    "duration": 7,
    "start_time": "2022-09-30T11:49:27.762Z"
   },
   {
    "duration": 26,
    "start_time": "2022-09-30T11:49:27.771Z"
   },
   {
    "duration": 16,
    "start_time": "2022-09-30T11:49:27.799Z"
   },
   {
    "duration": 34,
    "start_time": "2022-09-30T11:49:27.817Z"
   },
   {
    "duration": 20,
    "start_time": "2022-09-30T11:49:27.853Z"
   },
   {
    "duration": 24,
    "start_time": "2022-09-30T11:49:27.877Z"
   },
   {
    "duration": 16,
    "start_time": "2022-09-30T11:49:27.922Z"
   },
   {
    "duration": 12,
    "start_time": "2022-09-30T11:49:27.939Z"
   },
   {
    "duration": 7,
    "start_time": "2022-09-30T11:49:27.953Z"
   },
   {
    "duration": 15,
    "start_time": "2022-09-30T11:49:27.962Z"
   },
   {
    "duration": 10,
    "start_time": "2022-09-30T11:49:27.978Z"
   },
   {
    "duration": 5,
    "start_time": "2022-09-30T11:49:27.990Z"
   },
   {
    "duration": 33,
    "start_time": "2022-09-30T11:49:27.997Z"
   },
   {
    "duration": 18,
    "start_time": "2022-09-30T11:49:28.033Z"
   },
   {
    "duration": 11,
    "start_time": "2022-09-30T11:49:28.053Z"
   },
   {
    "duration": 10,
    "start_time": "2022-09-30T11:49:28.065Z"
   },
   {
    "duration": 41,
    "start_time": "2022-09-30T11:49:28.077Z"
   },
   {
    "duration": 16,
    "start_time": "2022-09-30T11:49:28.120Z"
   },
   {
    "duration": 20,
    "start_time": "2022-09-30T11:49:28.137Z"
   },
   {
    "duration": 24,
    "start_time": "2022-09-30T11:49:28.159Z"
   },
   {
    "duration": 9,
    "start_time": "2022-09-30T11:49:28.185Z"
   },
   {
    "duration": 9,
    "start_time": "2022-09-30T11:49:28.195Z"
   },
   {
    "duration": 1316,
    "start_time": "2022-09-30T11:49:28.206Z"
   },
   {
    "duration": 1303,
    "start_time": "2022-09-30T11:49:29.523Z"
   },
   {
    "duration": 7,
    "start_time": "2022-09-30T11:49:30.828Z"
   },
   {
    "duration": 1701,
    "start_time": "2022-09-30T11:49:30.920Z"
   },
   {
    "duration": 5,
    "start_time": "2022-09-30T11:49:32.623Z"
   },
   {
    "duration": 265,
    "start_time": "2022-09-30T11:49:32.631Z"
   },
   {
    "duration": 8,
    "start_time": "2022-09-30T11:49:32.898Z"
   },
   {
    "duration": 22,
    "start_time": "2022-09-30T11:49:32.908Z"
   },
   {
    "duration": 1258,
    "start_time": "2022-09-30T11:49:41.077Z"
   },
   {
    "duration": 7,
    "start_time": "2022-09-30T11:49:42.337Z"
   },
   {
    "duration": 136,
    "start_time": "2022-09-30T11:49:46.370Z"
   },
   {
    "duration": 338,
    "start_time": "2022-09-30T11:49:52.941Z"
   },
   {
    "duration": 9,
    "start_time": "2022-09-30T12:16:34.468Z"
   },
   {
    "duration": 2,
    "start_time": "2022-09-30T12:18:01.216Z"
   },
   {
    "duration": 3,
    "start_time": "2022-09-30T12:18:01.552Z"
   },
   {
    "duration": 8,
    "start_time": "2022-09-30T12:18:01.862Z"
   },
   {
    "duration": 10157,
    "start_time": "2022-09-30T12:18:02.213Z"
   },
   {
    "duration": 4,
    "start_time": "2022-09-30T12:18:12.372Z"
   },
   {
    "duration": 4,
    "start_time": "2022-09-30T12:21:08.841Z"
   },
   {
    "duration": 3,
    "start_time": "2022-09-30T12:21:09.133Z"
   },
   {
    "duration": 7,
    "start_time": "2022-09-30T12:21:09.426Z"
   },
   {
    "duration": 20423,
    "start_time": "2022-09-30T12:21:09.726Z"
   },
   {
    "duration": 4,
    "start_time": "2022-09-30T12:21:30.151Z"
   },
   {
    "duration": 4,
    "start_time": "2022-09-30T12:23:42.231Z"
   },
   {
    "duration": 7,
    "start_time": "2022-09-30T12:23:45.250Z"
   },
   {
    "duration": 9,
    "start_time": "2022-09-30T12:24:59.272Z"
   },
   {
    "duration": 5,
    "start_time": "2022-09-30T12:28:50.510Z"
   },
   {
    "duration": 7,
    "start_time": "2022-09-30T12:35:48.955Z"
   },
   {
    "duration": 7,
    "start_time": "2022-09-30T12:37:02.441Z"
   },
   {
    "duration": 3,
    "start_time": "2022-09-30T12:42:45.976Z"
   },
   {
    "duration": 8,
    "start_time": "2022-09-30T12:42:48.126Z"
   },
   {
    "duration": 145,
    "start_time": "2022-09-30T18:20:25.656Z"
   },
   {
    "duration": 80,
    "start_time": "2022-09-30T18:20:27.856Z"
   },
   {
    "duration": 1724,
    "start_time": "2022-09-30T18:59:34.299Z"
   },
   {
    "duration": 329,
    "start_time": "2022-09-30T18:59:36.025Z"
   },
   {
    "duration": 14,
    "start_time": "2022-09-30T18:59:36.356Z"
   },
   {
    "duration": 12,
    "start_time": "2022-09-30T18:59:36.372Z"
   },
   {
    "duration": 7,
    "start_time": "2022-09-30T18:59:36.386Z"
   },
   {
    "duration": 8,
    "start_time": "2022-09-30T18:59:36.394Z"
   },
   {
    "duration": 3,
    "start_time": "2022-09-30T18:59:36.403Z"
   },
   {
    "duration": 15,
    "start_time": "2022-09-30T18:59:36.407Z"
   },
   {
    "duration": 8,
    "start_time": "2022-09-30T18:59:36.423Z"
   },
   {
    "duration": 7,
    "start_time": "2022-09-30T18:59:36.433Z"
   },
   {
    "duration": 15,
    "start_time": "2022-09-30T18:59:36.441Z"
   },
   {
    "duration": 34,
    "start_time": "2022-09-30T18:59:36.458Z"
   },
   {
    "duration": 8,
    "start_time": "2022-09-30T18:59:36.493Z"
   },
   {
    "duration": 14,
    "start_time": "2022-09-30T18:59:36.504Z"
   },
   {
    "duration": 214,
    "start_time": "2022-09-30T18:59:36.520Z"
   },
   {
    "duration": 9,
    "start_time": "2022-09-30T18:59:36.736Z"
   },
   {
    "duration": 14,
    "start_time": "2022-09-30T18:59:36.746Z"
   },
   {
    "duration": 396,
    "start_time": "2022-09-30T18:59:36.761Z"
   },
   {
    "duration": 3,
    "start_time": "2022-09-30T18:59:37.159Z"
   },
   {
    "duration": 15,
    "start_time": "2022-09-30T18:59:37.164Z"
   },
   {
    "duration": 12,
    "start_time": "2022-09-30T18:59:37.188Z"
   },
   {
    "duration": 673,
    "start_time": "2022-09-30T18:59:37.201Z"
   },
   {
    "duration": 6,
    "start_time": "2022-09-30T18:59:37.876Z"
   },
   {
    "duration": 12,
    "start_time": "2022-09-30T18:59:37.884Z"
   },
   {
    "duration": 5,
    "start_time": "2022-09-30T18:59:37.897Z"
   },
   {
    "duration": 26,
    "start_time": "2022-09-30T18:59:37.904Z"
   },
   {
    "duration": 18,
    "start_time": "2022-09-30T18:59:37.931Z"
   },
   {
    "duration": 40,
    "start_time": "2022-09-30T18:59:37.950Z"
   },
   {
    "duration": 12,
    "start_time": "2022-09-30T18:59:37.991Z"
   },
   {
    "duration": 11,
    "start_time": "2022-09-30T18:59:38.004Z"
   },
   {
    "duration": 5,
    "start_time": "2022-09-30T18:59:38.017Z"
   },
   {
    "duration": 8,
    "start_time": "2022-09-30T18:59:38.024Z"
   },
   {
    "duration": 6,
    "start_time": "2022-09-30T18:59:38.034Z"
   },
   {
    "duration": 6,
    "start_time": "2022-09-30T18:59:38.041Z"
   },
   {
    "duration": 9,
    "start_time": "2022-09-30T18:59:38.048Z"
   },
   {
    "duration": 35,
    "start_time": "2022-09-30T18:59:38.058Z"
   },
   {
    "duration": 5,
    "start_time": "2022-09-30T18:59:38.094Z"
   },
   {
    "duration": 7,
    "start_time": "2022-09-30T18:59:38.100Z"
   },
   {
    "duration": 38,
    "start_time": "2022-09-30T18:59:38.108Z"
   },
   {
    "duration": 14,
    "start_time": "2022-09-30T18:59:38.148Z"
   },
   {
    "duration": 8,
    "start_time": "2022-09-30T18:59:38.189Z"
   },
   {
    "duration": 22,
    "start_time": "2022-09-30T18:59:38.200Z"
   },
   {
    "duration": 12,
    "start_time": "2022-09-30T18:59:38.226Z"
   },
   {
    "duration": 5,
    "start_time": "2022-09-30T18:59:38.240Z"
   },
   {
    "duration": 2451,
    "start_time": "2022-09-30T18:59:38.247Z"
   },
   {
    "duration": 1902,
    "start_time": "2022-09-30T18:59:40.789Z"
   },
   {
    "duration": 3,
    "start_time": "2022-09-30T18:59:42.692Z"
   },
   {
    "duration": 2192,
    "start_time": "2022-09-30T18:59:42.697Z"
   },
   {
    "duration": 4,
    "start_time": "2022-09-30T18:59:44.891Z"
   },
   {
    "duration": 152,
    "start_time": "2022-09-30T18:59:44.897Z"
   },
   {
    "duration": 8,
    "start_time": "2022-09-30T18:59:45.051Z"
   },
   {
    "duration": 19,
    "start_time": "2022-09-30T18:59:45.060Z"
   },
   {
    "duration": 1009,
    "start_time": "2022-09-30T19:00:13.352Z"
   },
   {
    "duration": 8,
    "start_time": "2022-09-30T19:00:14.362Z"
   },
   {
    "duration": 5,
    "start_time": "2022-09-30T19:00:17.121Z"
   },
   {
    "duration": 117,
    "start_time": "2022-09-30T19:00:17.926Z"
   },
   {
    "duration": 136,
    "start_time": "2022-09-30T19:01:14.122Z"
   },
   {
    "duration": 338,
    "start_time": "2022-09-30T19:01:22.942Z"
   },
   {
    "duration": 288,
    "start_time": "2022-09-30T19:01:30.063Z"
   },
   {
    "duration": 6,
    "start_time": "2022-09-30T19:06:11.831Z"
   },
   {
    "duration": 7,
    "start_time": "2022-09-30T19:06:21.077Z"
   },
   {
    "duration": 137,
    "start_time": "2022-09-30T19:14:23.354Z"
   }
  ],
  "kernelspec": {
   "display_name": "Python 3 (ipykernel)",
   "language": "python",
   "name": "python3"
  },
  "language_info": {
   "codemirror_mode": {
    "name": "ipython",
    "version": 3
   },
   "file_extension": ".py",
   "mimetype": "text/x-python",
   "name": "python",
   "nbconvert_exporter": "python",
   "pygments_lexer": "ipython3",
   "version": "3.9.5"
  },
  "toc": {
   "base_numbering": 1,
   "nav_menu": {},
   "number_sections": true,
   "sideBar": true,
   "skip_h1_title": true,
   "title_cell": "Table of Contents",
   "title_sidebar": "Contents",
   "toc_cell": false,
   "toc_position": {},
   "toc_section_display": true,
   "toc_window_display": false
  }
 },
 "nbformat": 4,
 "nbformat_minor": 2
}
